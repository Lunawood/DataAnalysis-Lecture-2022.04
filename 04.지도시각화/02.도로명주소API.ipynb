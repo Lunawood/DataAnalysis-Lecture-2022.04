{
 "cells": [
  {
   "cell_type": "markdown",
   "metadata": {},
   "source": [
    "# 행안부 도로명주소 API 활용"
   ]
  },
  {
   "cell_type": "code",
   "execution_count": 60,
   "metadata": {},
   "outputs": [],
   "source": [
    "import requests\n",
    "from urllib.parse import quote"
   ]
  },
  {
   "cell_type": "markdown",
   "metadata": {},
   "source": [
    "- API key 가져오기"
   ]
  },
  {
   "cell_type": "code",
   "execution_count": 61,
   "metadata": {},
   "outputs": [],
   "source": [
    "with open('roadapikey.txt') as file:\n",
    "    road_key = file.read()"
   ]
  },
  {
   "cell_type": "code",
   "execution_count": 62,
   "metadata": {},
   "outputs": [
    {
     "data": {
      "text/plain": [
       "43"
      ]
     },
     "execution_count": 62,
     "metadata": {},
     "output_type": "execute_result"
    }
   ],
   "source": [
    "len(road_key)"
   ]
  },
  {
   "cell_type": "markdown",
   "metadata": {},
   "source": [
    "- URL 만들기\n",
    "<pre>\n",
    "GET방식: 주소창으로 server에 전달\n",
    "Post방식: 암호화로 server에 전달\n",
    "Rest API: 자원을 이름(자원의 표현)으로 구분하여 해당 \n",
    "자원의 상태(정보)를 주고 받는 모든 것을 의미한다.\n",
    "</pre>"
   ]
  },
  {
   "cell_type": "code",
   "execution_count": 63,
   "metadata": {},
   "outputs": [
    {
     "data": {
      "text/plain": [
       "'%EC%84%9C%EC%B4%88%EA%B5%AC%EC%B2%AD'"
      ]
     },
     "execution_count": 63,
     "metadata": {},
     "output_type": "execute_result"
    }
   ],
   "source": [
    "# 한글은 반드시 인코딩해서 보내야 함(한글은 주소창을 통과할 수 없음)\n",
    "quote('서초구청')"
   ]
  },
  {
   "cell_type": "code",
   "execution_count": 64,
   "metadata": {},
   "outputs": [],
   "source": [
    "road_url = 'https://www.juso.go.kr/addrlink/addrLinkApiJsonp.do'\n",
    "params1 = f'confmKey={road_key}&currentPage=1&countPerPage=10'\n",
    "params2 = f\"keyword={quote('서초구청')}&resultType=json\"\n",
    "url = f'{road_url}?{params1}&{params2}'"
   ]
  },
  {
   "cell_type": "markdown",
   "metadata": {},
   "source": [
    "- 정상적인 경우의 코딩\n",
    "<pre>\n",
    "result = requests.get(url).json()\n",
    "</pre>"
   ]
  },
  {
   "cell_type": "code",
   "execution_count": 65,
   "metadata": {},
   "outputs": [
    {
     "data": {
      "text/plain": [
       "200"
      ]
     },
     "execution_count": 65,
     "metadata": {},
     "output_type": "execute_result"
    }
   ],
   "source": [
    "result = requests.get(url)\n",
    "result.status_code          # client와 server가 서로 연결되면 200을 반환"
   ]
  },
  {
   "cell_type": "code",
   "execution_count": 66,
   "metadata": {},
   "outputs": [
    {
     "data": {
      "text/plain": [
       "{'results': {'common': {'errorMessage': '정상',\n",
       "   'countPerPage': '10',\n",
       "   'totalCount': '3',\n",
       "   'errorCode': '0',\n",
       "   'currentPage': '1'},\n",
       "  'juso': [{'detBdNmList': '본관동,보건소,여권민원실',\n",
       "    'engAddr': '2584, Nambusunhwan-ro, Seocho-gu, Seoul',\n",
       "    'rn': '남부순환로',\n",
       "    'emdNm': '서초동',\n",
       "    'zipNo': '06750',\n",
       "    'roadAddrPart2': '(서초동)',\n",
       "    'emdNo': '03',\n",
       "    'sggNm': '서초구',\n",
       "    'jibunAddr': '서울특별시 서초구 서초동 1376-3 서초구청, 서초구의회',\n",
       "    'siNm': '서울특별시',\n",
       "    'roadAddrPart1': '서울특별시 서초구 남부순환로 2584',\n",
       "    'bdNm': '서초구청, 서초구의회',\n",
       "    'admCd': '1165010800',\n",
       "    'udrtYn': '0',\n",
       "    'lnbrMnnm': '1376',\n",
       "    'roadAddr': '서울특별시 서초구 남부순환로 2584(서초동)',\n",
       "    'lnbrSlno': '3',\n",
       "    'buldMnnm': '2584',\n",
       "    'bdKdcd': '0',\n",
       "    'liNm': '',\n",
       "    'rnMgtSn': '116502000003',\n",
       "    'mtYn': '0',\n",
       "    'bdMgtSn': '1165010800113760003000001',\n",
       "    'buldSlno': '0'},\n",
       "   {'detBdNmList': '',\n",
       "    'engAddr': '46, Nambusunhwan-ro 347-gil, Seocho-gu, Seoul',\n",
       "    'rn': '남부순환로347길',\n",
       "    'emdNm': '서초동',\n",
       "    'zipNo': '06730',\n",
       "    'roadAddrPart2': '(서초동)',\n",
       "    'emdNo': '01',\n",
       "    'sggNm': '서초구',\n",
       "    'jibunAddr': '서울특별시 서초구 서초동 1360-26 서초구청 직장어린이집',\n",
       "    'siNm': '서울특별시',\n",
       "    'roadAddrPart1': '서울특별시 서초구 남부순환로347길 46',\n",
       "    'bdNm': '서초구청 직장어린이집',\n",
       "    'admCd': '1165010800',\n",
       "    'udrtYn': '0',\n",
       "    'lnbrMnnm': '1360',\n",
       "    'roadAddr': '서울특별시 서초구 남부순환로347길 46(서초동)',\n",
       "    'lnbrSlno': '26',\n",
       "    'buldMnnm': '46',\n",
       "    'bdKdcd': '0',\n",
       "    'liNm': '',\n",
       "    'rnMgtSn': '116504163084',\n",
       "    'mtYn': '0',\n",
       "    'bdMgtSn': '1165010800113600026000001',\n",
       "    'buldSlno': '0'},\n",
       "   {'detBdNmList': '세차장,적환장,탈취실,옥외변전실',\n",
       "    'engAddr': '73-19, Yangjae-daero 12-gil, Seocho-gu, Seoul',\n",
       "    'rn': '양재대로12길',\n",
       "    'emdNm': '원지동',\n",
       "    'zipNo': '06803',\n",
       "    'roadAddrPart2': '(원지동)',\n",
       "    'emdNo': '02',\n",
       "    'sggNm': '서초구',\n",
       "    'jibunAddr': '서울특별시 서초구 원지동 23 서초구청소종합시설',\n",
       "    'siNm': '서울특별시',\n",
       "    'roadAddrPart1': '서울특별시 서초구 양재대로12길 73-19',\n",
       "    'bdNm': '서초구청소종합시설',\n",
       "    'admCd': '1165010400',\n",
       "    'udrtYn': '0',\n",
       "    'lnbrMnnm': '23',\n",
       "    'roadAddr': '서울특별시 서초구 양재대로12길 73-19(원지동)',\n",
       "    'lnbrSlno': '0',\n",
       "    'buldMnnm': '73',\n",
       "    'bdKdcd': '0',\n",
       "    'liNm': '',\n",
       "    'rnMgtSn': '116504163470',\n",
       "    'mtYn': '0',\n",
       "    'bdMgtSn': '1165010400100230000004528',\n",
       "    'buldSlno': '19'}]}}"
      ]
     },
     "execution_count": 66,
     "metadata": {},
     "output_type": "execute_result"
    }
   ],
   "source": [
    "import json\n",
    "res = json.loads(result.text[1:-1])\n",
    "res"
   ]
  },
  {
   "cell_type": "markdown",
   "metadata": {},
   "source": [
    "- res 에서 세건의 주소(roadAddr) 가져오기"
   ]
  },
  {
   "cell_type": "code",
   "execution_count": 72,
   "metadata": {},
   "outputs": [
    {
     "data": {
      "text/plain": [
       "dict_keys(['results'])"
      ]
     },
     "execution_count": 72,
     "metadata": {},
     "output_type": "execute_result"
    }
   ],
   "source": [
    "add_list = []\n",
    "res.keys()"
   ]
  },
  {
   "cell_type": "code",
   "execution_count": 74,
   "metadata": {},
   "outputs": [
    {
     "data": {
      "text/plain": [
       "dict_keys(['common', 'juso'])"
      ]
     },
     "execution_count": 74,
     "metadata": {},
     "output_type": "execute_result"
    }
   ],
   "source": [
    "res['results'].keys()"
   ]
  },
  {
   "cell_type": "code",
   "execution_count": 77,
   "metadata": {},
   "outputs": [
    {
     "data": {
      "text/plain": [
       "3"
      ]
     },
     "execution_count": 77,
     "metadata": {},
     "output_type": "execute_result"
    }
   ],
   "source": [
    "len(res['results']['juso'])"
   ]
  },
  {
   "cell_type": "code",
   "execution_count": 81,
   "metadata": {},
   "outputs": [
    {
     "name": "stdout",
     "output_type": "stream",
     "text": [
      "서울특별시 서초구 남부순환로 2584(서초동)\n",
      "서울특별시 서초구 남부순환로347길 46(서초동)\n",
      "서울특별시 서초구 양재대로12길 73-19(원지동)\n"
     ]
    }
   ],
   "source": [
    "for i in range(3):\n",
    "    print(res['results']['juso'][i]['roadAddr'])"
   ]
  },
  {
   "cell_type": "markdown",
   "metadata": {},
   "source": [
    "- 서초구청, 강남구청, 동작구청, 용산구청, 성동구청 도로명 주소 가져오기"
   ]
  },
  {
   "cell_type": "code",
   "execution_count": 82,
   "metadata": {},
   "outputs": [],
   "source": [
    "road_url = 'https://www.juso.go.kr/addrlink/addrLinkApiJsonp.do'\n",
    "params1 = f'confmKey={road_key}&currentPage=1&countPerPage=10'\n",
    "params2 = f\"keyword={quote('서초구청')}&resultType=json\"\n",
    "url = f'{road_url}?{params1}&{params2}'"
   ]
  },
  {
   "cell_type": "code",
   "execution_count": 87,
   "metadata": {},
   "outputs": [],
   "source": [
    "places = '서초구청, 강남구청, 동작구청, 용산구청, 성동구청'.split(', ')\n",
    "addr_list = []\n",
    "for place in places:\n",
    "    url = f'{road_url}?{params1}&keyword={quote(place)}&resultType=json'\n",
    "    result = requests.get(url)\n",
    "    res = json.loads(result.text[1:-1])\n",
    "    addr = res['results']['juso'][0]['roadAddr']\n",
    "    add_list.append(addr)"
   ]
  },
  {
   "cell_type": "code",
   "execution_count": 88,
   "metadata": {},
   "outputs": [
    {
     "data": {
      "text/plain": [
       "['서울특별시 서초구 남부순환로 2584(서초동)',\n",
       " '서울특별시 강남구 도곡로18길 7(도곡동)',\n",
       " '서울특별시 동작구 장승배기로 161(노량진동)',\n",
       " '서울특별시 용산구 백범로79길 64(청파동3가)',\n",
       " '서울특별시 성동구 고산자로 270(행당동)']"
      ]
     },
     "execution_count": 88,
     "metadata": {},
     "output_type": "execute_result"
    }
   ],
   "source": [
    "add_list"
   ]
  },
  {
   "cell_type": "code",
   "execution_count": 93,
   "metadata": {},
   "outputs": [
    {
     "data": {
      "text/html": [
       "<div>\n",
       "<style scoped>\n",
       "    .dataframe tbody tr th:only-of-type {\n",
       "        vertical-align: middle;\n",
       "    }\n",
       "\n",
       "    .dataframe tbody tr th {\n",
       "        vertical-align: top;\n",
       "    }\n",
       "\n",
       "    .dataframe thead th {\n",
       "        text-align: right;\n",
       "    }\n",
       "</style>\n",
       "<table border=\"1\" class=\"dataframe\">\n",
       "  <thead>\n",
       "    <tr style=\"text-align: right;\">\n",
       "      <th></th>\n",
       "      <th>장소</th>\n",
       "      <th>도로명주소</th>\n",
       "    </tr>\n",
       "  </thead>\n",
       "  <tbody>\n",
       "    <tr>\n",
       "      <td>0</td>\n",
       "      <td>서초구청</td>\n",
       "      <td>서울특별시 서초구 남부순환로 2584(서초동)</td>\n",
       "    </tr>\n",
       "    <tr>\n",
       "      <td>1</td>\n",
       "      <td>강남구청</td>\n",
       "      <td>서울특별시 강남구 도곡로18길 7(도곡동)</td>\n",
       "    </tr>\n",
       "    <tr>\n",
       "      <td>2</td>\n",
       "      <td>동작구청</td>\n",
       "      <td>서울특별시 동작구 장승배기로 161(노량진동)</td>\n",
       "    </tr>\n",
       "    <tr>\n",
       "      <td>3</td>\n",
       "      <td>용산구청</td>\n",
       "      <td>서울특별시 용산구 백범로79길 64(청파동3가)</td>\n",
       "    </tr>\n",
       "    <tr>\n",
       "      <td>4</td>\n",
       "      <td>성동구청</td>\n",
       "      <td>서울특별시 성동구 고산자로 270(행당동)</td>\n",
       "    </tr>\n",
       "  </tbody>\n",
       "</table>\n",
       "</div>"
      ],
      "text/plain": [
       "     장소                       도로명주소\n",
       "0  서초구청   서울특별시 서초구 남부순환로 2584(서초동)\n",
       "1  강남구청     서울특별시 강남구 도곡로18길 7(도곡동)\n",
       "2  동작구청   서울특별시 동작구 장승배기로 161(노량진동)\n",
       "3  용산구청  서울특별시 용산구 백범로79길 64(청파동3가)\n",
       "4  성동구청     서울특별시 성동구 고산자로 270(행당동)"
      ]
     },
     "execution_count": 93,
     "metadata": {},
     "output_type": "execute_result"
    }
   ],
   "source": [
    "import pandas as pd\n",
    "\n",
    "df = pd.DataFrame({'장소':places, '도로명주소': add_list})\n",
    "df"
   ]
  },
  {
   "cell_type": "code",
   "execution_count": 94,
   "metadata": {},
   "outputs": [],
   "source": [
    "df.to_csv('Seoul government office.csv', index=False)"
   ]
  },
  {
   "cell_type": "code",
   "execution_count": 95,
   "metadata": {},
   "outputs": [
    {
     "data": {
      "text/html": [
       "<div>\n",
       "<style scoped>\n",
       "    .dataframe tbody tr th:only-of-type {\n",
       "        vertical-align: middle;\n",
       "    }\n",
       "\n",
       "    .dataframe tbody tr th {\n",
       "        vertical-align: top;\n",
       "    }\n",
       "\n",
       "    .dataframe thead th {\n",
       "        text-align: right;\n",
       "    }\n",
       "</style>\n",
       "<table border=\"1\" class=\"dataframe\">\n",
       "  <thead>\n",
       "    <tr style=\"text-align: right;\">\n",
       "      <th></th>\n",
       "      <th>장소</th>\n",
       "      <th>도로명주소</th>\n",
       "    </tr>\n",
       "  </thead>\n",
       "  <tbody>\n",
       "    <tr>\n",
       "      <td>0</td>\n",
       "      <td>서초구청</td>\n",
       "      <td>서울특별시 서초구 남부순환로 2584(서초동)</td>\n",
       "    </tr>\n",
       "    <tr>\n",
       "      <td>1</td>\n",
       "      <td>강남구청</td>\n",
       "      <td>서울특별시 강남구 도곡로18길 7(도곡동)</td>\n",
       "    </tr>\n",
       "    <tr>\n",
       "      <td>2</td>\n",
       "      <td>동작구청</td>\n",
       "      <td>서울특별시 동작구 장승배기로 161(노량진동)</td>\n",
       "    </tr>\n",
       "    <tr>\n",
       "      <td>3</td>\n",
       "      <td>용산구청</td>\n",
       "      <td>서울특별시 용산구 백범로79길 64(청파동3가)</td>\n",
       "    </tr>\n",
       "    <tr>\n",
       "      <td>4</td>\n",
       "      <td>성동구청</td>\n",
       "      <td>서울특별시 성동구 고산자로 270(행당동)</td>\n",
       "    </tr>\n",
       "  </tbody>\n",
       "</table>\n",
       "</div>"
      ],
      "text/plain": [
       "     장소                       도로명주소\n",
       "0  서초구청   서울특별시 서초구 남부순환로 2584(서초동)\n",
       "1  강남구청     서울특별시 강남구 도곡로18길 7(도곡동)\n",
       "2  동작구청   서울특별시 동작구 장승배기로 161(노량진동)\n",
       "3  용산구청  서울특별시 용산구 백범로79길 64(청파동3가)\n",
       "4  성동구청     서울특별시 성동구 고산자로 270(행당동)"
      ]
     },
     "execution_count": 95,
     "metadata": {},
     "output_type": "execute_result"
    }
   ],
   "source": [
    "df = pd.read_csv('Seoul government office.csv')\n",
    "df"
   ]
  }
 ],
 "metadata": {
  "interpreter": {
   "hash": "2416f014eda44098b06ac223510cfbf712f6c3c49a2a2784b81e5eb971c53cd7"
  },
  "kernelspec": {
   "display_name": "Python 3.7.1 ('base')",
   "language": "python",
   "name": "python3"
  },
  "language_info": {
   "codemirror_mode": {
    "name": "ipython",
    "version": 3
   },
   "file_extension": ".py",
   "mimetype": "text/x-python",
   "name": "python",
   "nbconvert_exporter": "python",
   "pygments_lexer": "ipython3",
   "version": "3.7.1"
  },
  "orig_nbformat": 4
 },
 "nbformat": 4,
 "nbformat_minor": 2
}
