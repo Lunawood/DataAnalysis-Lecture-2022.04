{
 "cells": [
  {
   "cell_type": "markdown",
   "metadata": {},
   "source": [
    "# 네이버 지식인 크롤링"
   ]
  },
  {
   "cell_type": "code",
   "execution_count": 27,
   "metadata": {},
   "outputs": [],
   "source": [
    "from selenium import webdriver\n",
    "from bs4 import BeautifulSoup\n",
    "import time\n",
    "from tqdm.notebook import tqdm\n",
    "from urllib.parse import quote"
   ]
  },
  {
   "cell_type": "code",
   "execution_count": 28,
   "metadata": {},
   "outputs": [],
   "source": [
    "chromedriver = '../05.Crawling/chromedriver.exe'\n",
    "driver = webdriver.Chrome(chromedriver)"
   ]
  },
  {
   "cell_type": "code",
   "execution_count": 29,
   "metadata": {},
   "outputs": [],
   "source": [
    "base_url = 'https://kin.naver.com/search/list.naver?query='\n",
    "url = base_url + quote('여친선물')\n",
    "driver.get(url)\n",
    "soup = BeautifulSoup(driver.page_source, 'html.parser')"
   ]
  },
  {
   "cell_type": "code",
   "execution_count": 30,
   "metadata": {},
   "outputs": [
    {
     "data": {
      "text/plain": [
       "10"
      ]
     },
     "execution_count": 30,
     "metadata": {},
     "output_type": "execute_result"
    }
   ],
   "source": [
    "lis = soup.select('ul.basic1 > li')\n",
    "len(lis)"
   ]
  },
  {
   "cell_type": "code",
   "execution_count": 31,
   "metadata": {},
   "outputs": [
    {
     "data": {
      "text/plain": [
       "'https://kin.naver.com/qna/detail.naver?d1id=8&dirId=80101&docId=395035694&qb=7Jes7Lmc7ISg66y8&enc=utf8&section=kin&rank=1&search_sort=0&spq=0'"
      ]
     },
     "execution_count": 31,
     "metadata": {},
     "output_type": "execute_result"
    }
   ],
   "source": [
    "li = lis[0]\n",
    "sub_url = li.select_one('a._searchListTitleAnchor')['href']\n",
    "sub_url"
   ]
  },
  {
   "cell_type": "code",
   "execution_count": 32,
   "metadata": {},
   "outputs": [],
   "source": [
    "driver.get(sub_url)\n",
    "time.sleep(2)"
   ]
  },
  {
   "cell_type": "code",
   "execution_count": 33,
   "metadata": {},
   "outputs": [
    {
     "name": "stdout",
     "output_type": "stream",
     "text": [
      "8 1\n"
     ]
    }
   ],
   "source": [
    "count = int(driver.find_element_by_css_selector('._answerCount.num').text)\n",
    "answer_page = (count - 1) // 5\n",
    "print(count, answer_page)"
   ]
  },
  {
   "cell_type": "code",
   "execution_count": 34,
   "metadata": {},
   "outputs": [],
   "source": [
    "for i in range(answer_page):\n",
    "    driver.find_element_by_id('nextPageButton').click()\n",
    "    time.sleep(2)"
   ]
  },
  {
   "cell_type": "code",
   "execution_count": 35,
   "metadata": {},
   "outputs": [
    {
     "data": {
      "text/plain": [
       "8"
      ]
     },
     "execution_count": 35,
     "metadata": {},
     "output_type": "execute_result"
    }
   ],
   "source": [
    "soup = BeautifulSoup(driver.page_source, 'html.parser')\n",
    "divs = soup.select('div.answer-content__item._contentWrap._answer')\n",
    "len(divs)"
   ]
  },
  {
   "cell_type": "code",
   "execution_count": 36,
   "metadata": {},
   "outputs": [
    {
     "name": "stdout",
     "output_type": "stream",
     "text": [
      "혹시 여친분이 생리통이 있으시다면..여친선물로 복부온열기 어떠세요?\n",
      "저 생리통 너무 심해서 이번에 남자친구가 복부온열기 선물줬는데..\n",
      "뭔가 감동이더라구요. 절 많이 생각해서 준 선물 같이 느껴지더라구요.\n",
      "하고있으면 배가 뜨듯하고 진동마사지도 해줘서 생리통 거의 안느껴지고 좋아요!!\n",
      "​\n",
      "제가 쓰는건 배뜨끈 복부온열기이예요. 아래에 링크알려드릴게요.\n",
      "좋은 여친선물이 되셨으면 좋겠네요.\n"
     ]
    }
   ],
   "source": [
    "div = divs[0]\n",
    "ps = div.select('p.se-text-paragraph')\n",
    "for p in ps:\n",
    "    print(p.get_text())"
   ]
  },
  {
   "cell_type": "code",
   "execution_count": 37,
   "metadata": {},
   "outputs": [
    {
     "data": {
      "text/plain": [
       "<bound method Tag.select of <div class=\"answer-content__item _contentWrap _answer\" id=\"answer_3\">\n",
       "<a href=\"#answer3\" name=\"answer3\"><span class=\"blind\">3번째 답변</span></a>\n",
       "<div class=\"c-heading-answer\">\n",
       "<div class=\"c-heading-answer__profile\">\n",
       "<div class=\"profile-default\">\n",
       "<span class=\"profile-default--inner\">\n",
       "<span class=\"profile-default__thumbnail\" style=\"background-image: url(https://ssl.pstatic.net/static/kin/09renewal/avatar/200x200_m_gray/answer.png);\"><span class=\"blind\">삭제 답변 프로필 이미지</span></span>\n",
       "</span>\n",
       "</div>\n",
       "</div>\n",
       "<div class=\"c-heading-answer__body\">\n",
       "<div class=\"c-heading-answer__title\">\n",
       "<p class=\"title\">\n",
       "\t\t\t\t\n",
       "\t\t\t\t\t\n",
       "\t\t\t\t\t\t작성자가 직접 삭제한 답변입니다.\n",
       "\t\t\t\t\t\n",
       "\t\t\t\t\n",
       "\t\t\t</p>\n",
       "<div class=\"c-userinfo\">\n",
       "<span class=\"c-userinfo__item\">삭제일 <em>2021.07.19.</em></span>\n",
       "</div>\n",
       "</div>\n",
       "</div>\n",
       "</div>\n",
       "</div>>"
      ]
     },
     "execution_count": 37,
     "metadata": {},
     "output_type": "execute_result"
    }
   ],
   "source": [
    "divs[6].select"
   ]
  },
  {
   "cell_type": "code",
   "execution_count": 38,
   "metadata": {},
   "outputs": [],
   "source": [
    "driver.back()\n",
    "time.sleep(2)"
   ]
  },
  {
   "cell_type": "code",
   "execution_count": 39,
   "metadata": {},
   "outputs": [
    {
     "data": {
      "application/vnd.jupyter.widget-view+json": {
       "model_id": "be9139bc3c32487ca357bab688795b10",
       "version_major": 2,
       "version_minor": 0
      },
      "text/plain": [
       "  0%|          | 0/10 [00:00<?, ?it/s]"
      ]
     },
     "metadata": {},
     "output_type": "display_data"
    },
    {
     "name": "stdout",
     "output_type": "stream",
     "text": [
      "8\n",
      "10\n",
      "7\n",
      "12\n",
      "14\n",
      "9\n",
      "1\n",
      "4\n",
      "1\n",
      "8\n",
      "3\n",
      "7\n",
      "15\n",
      "9\n",
      "10\n",
      "2\n",
      "12\n",
      "15\n",
      "5\n",
      "12\n",
      "2\n",
      "1\n",
      "5\n",
      "13\n",
      "4\n",
      "1\n",
      "5\n",
      "5\n",
      "14\n",
      "8\n",
      "1\n",
      "12\n",
      "5\n",
      "13\n",
      "5\n",
      "1\n",
      "2\n",
      "1\n",
      "20\n",
      "13\n",
      "11\n",
      "11\n",
      "7\n",
      "9\n",
      "1\n",
      "1\n",
      "5\n",
      "1\n",
      "4\n",
      "18\n",
      "3\n",
      "5\n",
      "8\n",
      "2\n",
      "1\n",
      "6\n",
      "12\n",
      "1\n",
      "11\n",
      "1\n",
      "15\n",
      "5\n",
      "7\n",
      "1\n",
      "4\n",
      "16\n",
      "6\n",
      "14\n",
      "16\n",
      "2\n",
      "7\n",
      "2\n",
      "11\n",
      "6\n",
      "1\n",
      "7\n",
      "9\n",
      "4\n",
      "8\n",
      "21\n",
      "3\n",
      "4\n",
      "3\n",
      "11\n",
      "1\n",
      "6\n",
      "1\n",
      "6\n",
      "1\n",
      "2\n",
      "1\n",
      "7\n",
      "1\n",
      "5\n",
      "6\n",
      "2\n",
      "8\n",
      "1\n",
      "9\n",
      "26\n"
     ]
    }
   ],
   "source": [
    "answer_list = []\n",
    "for page in tqdm(range(1, 11)):\n",
    "    url = f'{base_url}{quote(\"여친선물\")}&page={page}'\n",
    "    driver.get(url)\n",
    "    time.sleep(2)\n",
    "    \n",
    "    html = driver.page_source\n",
    "    soup = BeautifulSoup(html, 'html.parser')\n",
    "    lis = soup.select('ul.basic1 > li')\n",
    "    for li in lis:\n",
    "        sub_url = li.select_one('a._searchListTitleAnchor')['href']\n",
    "        driver.get(sub_url)\n",
    "        time.sleep(2)\n",
    "\n",
    "        count = int(driver.find_element_by_css_selector('._answerCount.num').text)\n",
    "        answer_page = (count - 1) // 5\n",
    "        for i in range(answer_page):\n",
    "            driver.find_element_by_id('nextPageButton').click()\n",
    "            time.sleep(2)\n",
    "\n",
    "        html = driver.page_source\n",
    "        soup = BeautifulSoup(driver.page_source, 'html.parser')\n",
    "        divs = soup.select('div.answer-content__item._contentWrap._answer')\n",
    "        print(len(divs))\n",
    "        for div in divs:\n",
    "            ps = div.select('p.se-text-paragraph')\n",
    "            paragraph = ''\n",
    "            for p in ps:\n",
    "                text = p.get_text()\n",
    "                if text == ' ' or text == '\\u200b':\n",
    "                    continue\n",
    "                paragraph += text + '\\n'\n",
    "            answer_list.append(paragraph)\n",
    "        driver.back()\n",
    "        time.sleep(2)"
   ]
  },
  {
   "cell_type": "code",
   "execution_count": 40,
   "metadata": {},
   "outputs": [],
   "source": [
    "driver.close()"
   ]
  },
  {
   "cell_type": "code",
   "execution_count": 41,
   "metadata": {},
   "outputs": [
    {
     "data": {
      "text/plain": [
       "679"
      ]
     },
     "execution_count": 41,
     "metadata": {},
     "output_type": "execute_result"
    }
   ],
   "source": [
    "len(answer_list)"
   ]
  },
  {
   "cell_type": "code",
   "execution_count": 42,
   "metadata": {},
   "outputs": [
    {
     "data": {
      "text/plain": [
       "'혹시 여친분이 생리통이 있으시다면..여친선물로 복부온열기 어떠세요?\\n저 생리통 너무 심해서 이번에 남자친구가 복부온열기 선물줬는데..\\n뭔가 감동이더라구요. 절 많이 생각해서 준 선물 같이 느껴지더라구요.\\n하고있으면 배가 뜨듯하고 진동마사지도 해줘서 생리통 거의 안느껴지고 좋아요!!\\n제가 쓰는건 배뜨끈 복부온열기이예요. 아래에 링크알려드릴게요.\\n좋은 여친선물이 되셨으면 좋겠네요.\\n'"
      ]
     },
     "execution_count": 42,
     "metadata": {},
     "output_type": "execute_result"
    }
   ],
   "source": [
    "answer_list[0]"
   ]
  },
  {
   "cell_type": "code",
   "execution_count": 43,
   "metadata": {},
   "outputs": [],
   "source": [
    "with open('data/new_gift.txt', 'w', encoding='utf-8') as fp:\n",
    "    for answer in answer_list:\n",
    "        fp.write(answer+'\\n')"
   ]
  }
 ],
 "metadata": {
  "interpreter": {
   "hash": "2416f014eda44098b06ac223510cfbf712f6c3c49a2a2784b81e5eb971c53cd7"
  },
  "kernelspec": {
   "display_name": "Python 3.7.1 ('base')",
   "language": "python",
   "name": "python3"
  },
  "language_info": {
   "codemirror_mode": {
    "name": "ipython",
    "version": 3
   },
   "file_extension": ".py",
   "mimetype": "text/x-python",
   "name": "python",
   "nbconvert_exporter": "python",
   "pygments_lexer": "ipython3",
   "version": "3.7.1"
  },
  "orig_nbformat": 4
 },
 "nbformat": 4,
 "nbformat_minor": 2
}
