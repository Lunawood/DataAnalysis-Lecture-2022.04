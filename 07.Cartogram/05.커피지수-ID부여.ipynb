{
 "cells": [
  {
   "cell_type": "code",
   "execution_count": 184,
   "metadata": {},
   "outputs": [],
   "source": [
    "import numpy as np\n",
    "import pandas as pd\n",
    "import warnings\n",
    "warnings.filterwarnings('ignore')\n"
   ]
  },
  {
   "cell_type": "code",
   "execution_count": 185,
   "metadata": {},
   "outputs": [
    {
     "name": "stdout",
     "output_type": "stream",
     "text": [
      "(247, 6)\n"
     ]
    },
    {
     "data": {
      "text/html": [
       "<div>\n",
       "<style scoped>\n",
       "    .dataframe tbody tr th:only-of-type {\n",
       "        vertical-align: middle;\n",
       "    }\n",
       "\n",
       "    .dataframe tbody tr th {\n",
       "        vertical-align: top;\n",
       "    }\n",
       "\n",
       "    .dataframe thead th {\n",
       "        text-align: right;\n",
       "    }\n",
       "</style>\n",
       "<table border=\"1\" class=\"dataframe\">\n",
       "  <thead>\n",
       "    <tr style=\"text-align: right;\">\n",
       "      <th></th>\n",
       "      <th>시도명</th>\n",
       "      <th>시군구명</th>\n",
       "      <th>빽다방</th>\n",
       "      <th>스타벅스</th>\n",
       "      <th>이디야</th>\n",
       "      <th>커피빈</th>\n",
       "    </tr>\n",
       "  </thead>\n",
       "  <tbody>\n",
       "    <tr>\n",
       "      <td>0</td>\n",
       "      <td>강원도</td>\n",
       "      <td>강릉시</td>\n",
       "      <td>2.0</td>\n",
       "      <td>4.0</td>\n",
       "      <td>17.0</td>\n",
       "      <td>0.0</td>\n",
       "    </tr>\n",
       "    <tr>\n",
       "      <td>1</td>\n",
       "      <td>강원도</td>\n",
       "      <td>고성군</td>\n",
       "      <td>0.0</td>\n",
       "      <td>1.0</td>\n",
       "      <td>0.0</td>\n",
       "      <td>0.0</td>\n",
       "    </tr>\n",
       "    <tr>\n",
       "      <td>2</td>\n",
       "      <td>강원도</td>\n",
       "      <td>동해시</td>\n",
       "      <td>1.0</td>\n",
       "      <td>1.0</td>\n",
       "      <td>1.0</td>\n",
       "      <td>1.0</td>\n",
       "    </tr>\n",
       "    <tr>\n",
       "      <td>3</td>\n",
       "      <td>강원도</td>\n",
       "      <td>삼척시</td>\n",
       "      <td>1.0</td>\n",
       "      <td>0.0</td>\n",
       "      <td>5.0</td>\n",
       "      <td>0.0</td>\n",
       "    </tr>\n",
       "    <tr>\n",
       "      <td>4</td>\n",
       "      <td>강원도</td>\n",
       "      <td>속초시</td>\n",
       "      <td>0.0</td>\n",
       "      <td>4.0</td>\n",
       "      <td>9.0</td>\n",
       "      <td>0.0</td>\n",
       "    </tr>\n",
       "  </tbody>\n",
       "</table>\n",
       "</div>"
      ],
      "text/plain": [
       "   시도명 시군구명  빽다방  스타벅스   이디야  커피빈\n",
       "0  강원도  강릉시  2.0   4.0  17.0  0.0\n",
       "1  강원도  고성군  0.0   1.0   0.0  0.0\n",
       "2  강원도  동해시  1.0   1.0   1.0  1.0\n",
       "3  강원도  삼척시  1.0   0.0   5.0  0.0\n",
       "4  강원도  속초시  0.0   4.0   9.0  0.0"
      ]
     },
     "execution_count": 185,
     "metadata": {},
     "output_type": "execute_result"
    }
   ],
   "source": [
    "pop = pd.read_csv('data/각 지역별 커피 매장수_전처리완료.csv')\n",
    "print(pop.shape)\n",
    "pop.head()"
   ]
  },
  {
   "cell_type": "code",
   "execution_count": 186,
   "metadata": {},
   "outputs": [
    {
     "data": {
      "text/plain": [
       "223"
      ]
     },
     "execution_count": 186,
     "metadata": {},
     "output_type": "execute_result"
    }
   ],
   "source": [
    "len(pop.시군구명.unique())      # 이름이 같은 다른 지역이 있군요..."
   ]
  },
  {
   "cell_type": "code",
   "execution_count": 187,
   "metadata": {},
   "outputs": [],
   "source": [
    "tmp_gu_dict = {\n",
    "    '수원': ['장안구', '권선구', '팔달구', '영통구'],\n",
    "    '성남': ['수정구', '중원구', '분당구'],\n",
    "    '안양': ['만안구', '동안구'],\n",
    "    '안산': ['상록구', '단원구'],\n",
    "    '고양': ['덕양구', '일산동구', '일산서구'],\n",
    "    '용인': ['처인구', '기흥구', '수지구'],\n",
    "    '청주': ['상당구', '서원구', '흥덕구', '청원구'],\n",
    "    '천안': ['동남구', '서북구'],\n",
    "    '전주': ['완산구', '덕진구'],\n",
    "    '포항': ['남구', '북구'],\n",
    "    '창원': ['의창구', '성산구', '진해구', '마산합포구', '마산회원구']\n",
    "}"
   ]
  },
  {
   "cell_type": "code",
   "execution_count": 188,
   "metadata": {},
   "outputs": [],
   "source": [
    "metro_list = ['서울특별시', '부산광역시', '대구광역시', '인천광역시', '대전광역시', '광주광역시', '울산광역시']\n",
    "si_name = [None] * len(pop)"
   ]
  },
  {
   "cell_type": "code",
   "execution_count": 189,
   "metadata": {},
   "outputs": [],
   "source": [
    "for i in pop.index:\n",
    "    if pop.시도명[i] in metro_list:\n",
    "        if len(pop.시군구명[i]) == 2:\n",
    "            si_name[i] = pop.시도명[i][:2] + ' ' + pop.시군구명[i]      # 서울 중구, 대전 서구\n",
    "        else:\n",
    "            si_name[i] = pop.시도명[i][:2] + ' ' + \\\n",
    "                pop.시군구명[i][:-1]      # 서울 용산, 서울 서대문\n",
    "    else:\n",
    "        if pop.시군구명[i][:-1] == '고성':\n",
    "            if pop.시도명[i] == '강원도':\n",
    "                si_name[i] = '고성(강원)'\n",
    "            else:\n",
    "                si_name[i] = '고성(경남)'\n",
    "        else:\n",
    "            if pop.시도명[i] == '세종특별자치시':\n",
    "                si_name[i] = '세종'\n",
    "            else:\n",
    "                si_name[i] = pop.시군구명[i][:-1]         # 세종, 광명, 김포, 강릉\n",
    "\n",
    "        for key, value in tmp_gu_dict.items():\n",
    "            if pop.시군구명[i] in value:\n",
    "                if len(pop.시군구명[i]) == 2:\n",
    "                    si_name[i] = key + ' ' + pop.시군구명[i]      # 포항 북구, 포항 남구\n",
    "                elif len(pop.시군구명[i]) == 5:\n",
    "                    si_name[i] = key + ' ' + pop.시군구명[i][2:-1]    # 창원 합포, 창원 회원\n",
    "                else:\n",
    "                    si_name[i] = key + ' ' + pop.시군구명[i][:-1]     # 수원 팔달, 용인 수지"
   ]
  },
  {
   "cell_type": "code",
   "execution_count": 190,
   "metadata": {},
   "outputs": [],
   "source": [
    "# 용인시 기흥\n",
    "# 포항시 남,경상북도,포항시 남구"
   ]
  },
  {
   "cell_type": "code",
   "execution_count": 191,
   "metadata": {},
   "outputs": [
    {
     "data": {
      "text/plain": [
       "(247, 7)"
      ]
     },
     "execution_count": 191,
     "metadata": {},
     "output_type": "execute_result"
    }
   ],
   "source": [
    "pop['ID'] = si_name\n",
    "pop.shape"
   ]
  },
  {
   "cell_type": "code",
   "execution_count": 192,
   "metadata": {},
   "outputs": [
    {
     "data": {
      "text/html": [
       "<div>\n",
       "<style scoped>\n",
       "    .dataframe tbody tr th:only-of-type {\n",
       "        vertical-align: middle;\n",
       "    }\n",
       "\n",
       "    .dataframe tbody tr th {\n",
       "        vertical-align: top;\n",
       "    }\n",
       "\n",
       "    .dataframe thead th {\n",
       "        text-align: right;\n",
       "    }\n",
       "</style>\n",
       "<table border=\"1\" class=\"dataframe\">\n",
       "  <thead>\n",
       "    <tr style=\"text-align: right;\">\n",
       "      <th></th>\n",
       "      <th>시도명</th>\n",
       "      <th>시군구명</th>\n",
       "      <th>빽다방</th>\n",
       "      <th>스타벅스</th>\n",
       "      <th>이디야</th>\n",
       "      <th>커피빈</th>\n",
       "    </tr>\n",
       "    <tr>\n",
       "      <th>ID</th>\n",
       "      <th></th>\n",
       "      <th></th>\n",
       "      <th></th>\n",
       "      <th></th>\n",
       "      <th></th>\n",
       "      <th></th>\n",
       "    </tr>\n",
       "  </thead>\n",
       "  <tbody>\n",
       "    <tr>\n",
       "      <td>강릉</td>\n",
       "      <td>강원도</td>\n",
       "      <td>강릉시</td>\n",
       "      <td>2.0</td>\n",
       "      <td>4.0</td>\n",
       "      <td>17.0</td>\n",
       "      <td>0.0</td>\n",
       "    </tr>\n",
       "    <tr>\n",
       "      <td>고성(강원)</td>\n",
       "      <td>강원도</td>\n",
       "      <td>고성군</td>\n",
       "      <td>0.0</td>\n",
       "      <td>1.0</td>\n",
       "      <td>0.0</td>\n",
       "      <td>0.0</td>\n",
       "    </tr>\n",
       "    <tr>\n",
       "      <td>동해</td>\n",
       "      <td>강원도</td>\n",
       "      <td>동해시</td>\n",
       "      <td>1.0</td>\n",
       "      <td>1.0</td>\n",
       "      <td>1.0</td>\n",
       "      <td>1.0</td>\n",
       "    </tr>\n",
       "  </tbody>\n",
       "</table>\n",
       "</div>"
      ],
      "text/plain": [
       "        시도명 시군구명  빽다방  스타벅스   이디야  커피빈\n",
       "ID                                    \n",
       "강릉      강원도  강릉시  2.0   4.0  17.0  0.0\n",
       "고성(강원)  강원도  고성군  0.0   1.0   0.0  0.0\n",
       "동해      강원도  동해시  1.0   1.0   1.0  1.0"
      ]
     },
     "execution_count": 192,
     "metadata": {},
     "output_type": "execute_result"
    }
   ],
   "source": [
    "# ID를 인덱스로 변환\n",
    "pop.set_index('ID', inplace=True)\n",
    "pop.head(3)"
   ]
  },
  {
   "cell_type": "code",
   "execution_count": 193,
   "metadata": {},
   "outputs": [],
   "source": [
    "pop.to_csv('data/각 지역별 커피 매장수_ID부여.csv')"
   ]
  }
 ],
 "metadata": {
  "interpreter": {
   "hash": "2416f014eda44098b06ac223510cfbf712f6c3c49a2a2784b81e5eb971c53cd7"
  },
  "kernelspec": {
   "display_name": "Python 3.7.1 ('base')",
   "language": "python",
   "name": "python3"
  },
  "language_info": {
   "codemirror_mode": {
    "name": "ipython",
    "version": 3
   },
   "file_extension": ".py",
   "mimetype": "text/x-python",
   "name": "python",
   "nbconvert_exporter": "python",
   "pygments_lexer": "ipython3",
   "version": "3.7.1"
  },
  "orig_nbformat": 4
 },
 "nbformat": 4,
 "nbformat_minor": 2
}
