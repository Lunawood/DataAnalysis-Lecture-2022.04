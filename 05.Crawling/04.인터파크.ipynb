{
 "cells": [
  {
   "cell_type": "markdown",
   "metadata": {},
   "source": [
    "# 인터파크 베스트셀러 크롤링"
   ]
  },
  {
   "cell_type": "code",
   "execution_count": 8,
   "metadata": {},
   "outputs": [],
   "source": [
    "import requests, re\n",
    "import pandas as pd\n",
    "from bs4 import BeautifulSoup\n",
    "from urllib.parse import quote"
   ]
  },
  {
   "cell_type": "markdown",
   "metadata": {},
   "source": [
    "#### 1. 데이터 가져오기"
   ]
  },
  {
   "cell_type": "code",
   "execution_count": 9,
   "metadata": {},
   "outputs": [],
   "source": [
    "site = 'http://book.interpark.com'\n",
    "url = site + '/display/collectlist.do?_method=BestsellerHourNew201605&bestTp=1&dispNo=028&smid1=s_menu&smid2=bestseller'\n",
    "res = requests.get(url)"
   ]
  },
  {
   "cell_type": "code",
   "execution_count": 10,
   "metadata": {},
   "outputs": [],
   "source": [
    "soup = BeautifulSoup(res.text, 'html.parser')"
   ]
  },
  {
   "cell_type": "markdown",
   "metadata": {},
   "source": [
    "#### 2. 원하는 데이터 찾기"
   ]
  },
  {
   "cell_type": "code",
   "execution_count": 11,
   "metadata": {},
   "outputs": [
    {
     "data": {
      "text/plain": [
       "15"
      ]
     },
     "execution_count": 11,
     "metadata": {},
     "output_type": "execute_result"
    }
   ],
   "source": [
    "lis = soup.select('.rankBestContentList > ol > li')\n",
    "len(lis)"
   ]
  },
  {
   "cell_type": "markdown",
   "metadata": {},
   "source": [
    "#### 3. 하나의 데이터로 원하는 정보 찾기"
   ]
  },
  {
   "cell_type": "code",
   "execution_count": 12,
   "metadata": {},
   "outputs": [
    {
     "data": {
      "text/plain": [
       "'/product/BookDisplay.do?_method=detail&sc.shopNo=0000400000&sc.prdNo=354628618&sc.saNo=003003001&bid1=Best_zone&bid2=LiveRanking&bid3=PRD&bid4=001'"
      ]
     },
     "execution_count": 12,
     "metadata": {},
     "output_type": "execute_result"
    }
   ],
   "source": [
    "li = lis[9]\n",
    "href = li.select_one('.coverImage').find('a')['href']\n",
    "href"
   ]
  },
  {
   "cell_type": "code",
   "execution_count": 13,
   "metadata": {},
   "outputs": [
    {
     "data": {
      "text/plain": [
       "'머니 체인저'"
      ]
     },
     "execution_count": 13,
     "metadata": {},
     "output_type": "execute_result"
    }
   ],
   "source": [
    "# 책 제목\n",
    "title = li.select_one('.itemName').get_text().strip()\n",
    "title"
   ]
  },
  {
   "cell_type": "code",
   "execution_count": 14,
   "metadata": {},
   "outputs": [
    {
     "data": {
      "text/plain": [
       "'문준희'"
      ]
     },
     "execution_count": 14,
     "metadata": {},
     "output_type": "execute_result"
    }
   ],
   "source": [
    "# 저자\n",
    "author = li.select_one('.author').get_text().strip()\n",
    "author"
   ]
  },
  {
   "cell_type": "code",
   "execution_count": 15,
   "metadata": {},
   "outputs": [
    {
     "data": {
      "text/plain": [
       "'마인드셋(Mindset)'"
      ]
     },
     "execution_count": 15,
     "metadata": {},
     "output_type": "execute_result"
    }
   ],
   "source": [
    "# 출판사\n",
    "company = li.select_one('.company').get_text().strip()\n",
    "company"
   ]
  },
  {
   "cell_type": "code",
   "execution_count": 16,
   "metadata": {},
   "outputs": [
    {
     "data": {
      "text/plain": [
       "14400"
      ]
     },
     "execution_count": 16,
     "metadata": {},
     "output_type": "execute_result"
    }
   ],
   "source": [
    "# 가격\n",
    "price = li.select_one('.price > em').get_text()\n",
    "price = int(price.replace(',',''))\n",
    "price"
   ]
  },
  {
   "cell_type": "code",
   "execution_count": 17,
   "metadata": {},
   "outputs": [
    {
     "data": {
      "text/plain": [
       "<span class=\"rankBtn_ctrl rkNum_M01\"></span>"
      ]
     },
     "execution_count": 17,
     "metadata": {},
     "output_type": "execute_result"
    }
   ],
   "source": [
    "# 순위: 1위 ~ 9위\n",
    "li.select_one('.rankBtn_ctrl')"
   ]
  },
  {
   "cell_type": "code",
   "execution_count": 18,
   "metadata": {},
   "outputs": [
    {
     "data": {
      "text/plain": [
       "['rankBtn_ctrl', 'rkNum_M01']"
      ]
     },
     "execution_count": 18,
     "metadata": {},
     "output_type": "execute_result"
    }
   ],
   "source": [
    "li.select_one('.rankBtn_ctrl')['class']"
   ]
  },
  {
   "cell_type": "code",
   "execution_count": 19,
   "metadata": {},
   "outputs": [
    {
     "data": {
      "text/plain": [
       "'rkNum_M01'"
      ]
     },
     "execution_count": 19,
     "metadata": {},
     "output_type": "execute_result"
    }
   ],
   "source": [
    "li.select_one('.rankBtn_ctrl')['class'][1]"
   ]
  },
  {
   "cell_type": "code",
   "execution_count": 20,
   "metadata": {},
   "outputs": [
    {
     "data": {
      "text/plain": [
       "'1'"
      ]
     },
     "execution_count": 20,
     "metadata": {},
     "output_type": "execute_result"
    }
   ],
   "source": [
    "li.select_one('.rankBtn_ctrl')['class'][1][-1]"
   ]
  },
  {
   "cell_type": "code",
   "execution_count": 21,
   "metadata": {},
   "outputs": [
    {
     "data": {
      "text/plain": [
       "'1'"
      ]
     },
     "execution_count": 21,
     "metadata": {},
     "output_type": "execute_result"
    }
   ],
   "source": [
    "rank = li.select_one('.rankBtn_ctrl')['class'][1][-1]\n",
    "rank"
   ]
  },
  {
   "cell_type": "markdown",
   "metadata": {},
   "source": [
    "- 10위 ~ 15위"
   ]
  },
  {
   "cell_type": "code",
   "execution_count": 22,
   "metadata": {},
   "outputs": [],
   "source": [
    "element = '<div class=\"rankNumber digit2\"><span class=\"rankBtn_ctrl rkNum_M01 \"></span><span class=\"rankBtn_ctrl rkNum_M00 \"></span>           </div>'\n",
    "mini_soup = BeautifulSoup(element, 'html.parser')"
   ]
  },
  {
   "cell_type": "code",
   "execution_count": 23,
   "metadata": {},
   "outputs": [
    {
     "data": {
      "text/plain": [
       "[<span class=\"rankBtn_ctrl rkNum_M01\"></span>,\n",
       " <span class=\"rankBtn_ctrl rkNum_M00\"></span>]"
      ]
     },
     "execution_count": 23,
     "metadata": {},
     "output_type": "execute_result"
    }
   ],
   "source": [
    "mini_soup.select('.rankBtn_ctrl')"
   ]
  },
  {
   "cell_type": "markdown",
   "metadata": {},
   "source": [
    "- 모든 경우에 대처"
   ]
  },
  {
   "cell_type": "code",
   "execution_count": 24,
   "metadata": {},
   "outputs": [
    {
     "data": {
      "text/plain": [
       "10"
      ]
     },
     "execution_count": 24,
     "metadata": {},
     "output_type": "execute_result"
    }
   ],
   "source": [
    "rank_data = li.select('.rankBtn_ctrl')\n",
    "if len(li.select('.rankBtn_ctrl')) == 1:\n",
    "    rank = int(rank_data[0]['class'][1][-1])\n",
    "else:\n",
    "    rank = rank_data[0]['class'][1][-1] + rank_data[1]['class'][1][-1]\n",
    "    rank = int(rank)\n",
    "rank"
   ]
  },
  {
   "cell_type": "markdown",
   "metadata": {},
   "source": [
    "- Sub page"
   ]
  },
  {
   "cell_type": "code",
   "execution_count": 25,
   "metadata": {},
   "outputs": [],
   "source": [
    "url = site + href\n",
    "res = requests.get(url)\n",
    "sub_soup = BeautifulSoup(res.text, 'html.parser')"
   ]
  },
  {
   "cell_type": "code",
   "execution_count": 26,
   "metadata": {},
   "outputs": [
    {
     "data": {
      "text/plain": [
       "5"
      ]
     },
     "execution_count": 26,
     "metadata": {},
     "output_type": "execute_result"
    }
   ],
   "source": [
    "sub_lis = sub_soup.select('.bInfo_txt > li')\n",
    "len(sub_lis)"
   ]
  },
  {
   "cell_type": "code",
   "execution_count": 27,
   "metadata": {},
   "outputs": [
    {
     "name": "stdout",
     "output_type": "stream",
     "text": [
      "저 : 문준희\n",
      "출판사 : 마인드셋(Mindset)\n",
      "발행 : 2022년 04월 11일\n",
      "쪽수 : 284\n",
      "ISBN : 9791191043716\n"
     ]
    }
   ],
   "source": [
    "for li in sub_lis:\n",
    "    print(li.get_text())"
   ]
  },
  {
   "cell_type": "code",
   "execution_count": 33,
   "metadata": {},
   "outputs": [
    {
     "name": "stdout",
     "output_type": "stream",
     "text": [
      "20211221 392 - 최태성\n"
     ]
    }
   ],
   "source": [
    "trans = '-'\n",
    "for li in sub_lis:\n",
    "    text = li.get_text().strip()\n",
    "    if '발행 :' in text:\n",
    "        date = text.split(':')[1].strip()\n",
    "        date = re.sub('[^0-9]','', date)            # 정규표현식\n",
    "    elif '쪽수 :' in text:\n",
    "        page = int(text.split(':')[1].strip())\n",
    "    elif '역 :' in text:\n",
    "        trans = text.split(':')[1].strip()\n",
    "    elif '저 :' in text:\n",
    "        author = text.split(':')[1].strip()\n",
    "print(date, page, trans, author)"
   ]
  },
  {
   "cell_type": "markdown",
   "metadata": {},
   "source": [
    "#### 4. 페이지에 있는 모든 데이터 추출"
   ]
  },
  {
   "cell_type": "code",
   "execution_count": 29,
   "metadata": {},
   "outputs": [],
   "source": [
    "from tqdm.notebook import tqdm"
   ]
  },
  {
   "cell_type": "code",
   "execution_count": 30,
   "metadata": {},
   "outputs": [
    {
     "data": {
      "application/vnd.jupyter.widget-view+json": {
       "model_id": "48fa8945c7b74beeb7f3807d8b58d5ba",
       "version_major": 2,
       "version_minor": 0
      },
      "text/plain": [
       "  0%|          | 0/15 [00:00<?, ?it/s]"
      ]
     },
     "metadata": {},
     "output_type": "display_data"
    }
   ],
   "source": [
    "lines = []\n",
    "for li in tqdm(lis):\n",
    "    href = li.select_one('.coverImage').find('a')['href']\n",
    "    title = li.select_one('.itemName').get_text().strip()\n",
    "    company = li.select_one('.company').get_text().strip()\n",
    "    price = li.select_one('.price > em').get_text()\n",
    "    price = int(price.replace(',',''))\n",
    "    rank_data = li.select('.rankBtn_ctrl')\n",
    "    if len(li.select('.rankBtn_ctrl')) == 1:\n",
    "        rank = int(rank_data[0]['class'][1][-1])\n",
    "    else:\n",
    "        rank = rank_data[0]['class'][1][-1] + rank_data[1]['class'][1][-1]\n",
    "        rank = int(rank)\n",
    "\n",
    "    url = site + href\n",
    "    res = requests.get(url)\n",
    "    sub_soup = BeautifulSoup(res.text, 'html.parser')\n",
    "    sub_lis = sub_soup.select('.bInfo_txt > li')\n",
    "    trans = '-'\n",
    "    for li in sub_lis:\n",
    "        text = li.get_text().strip()\n",
    "        if '발행 :' in text:\n",
    "            date = text.split(':')[1].strip()\n",
    "            date = re.sub('[^0-9]','', date)            # 정규표현식\n",
    "        elif '쪽수 :' in text:\n",
    "            page = int(text.split(':')[1].strip())\n",
    "        elif '역 :' in text:\n",
    "            trans = text.split(':')[1].strip()\n",
    "        elif '저 :' in text:\n",
    "            author = text.split(':')[1].strip()\n",
    "\n",
    "    lines.append([rank, title, author, trans, company, page, date, price])\n"
   ]
  },
  {
   "cell_type": "markdown",
   "metadata": {},
   "source": [
    "#### 5. 데이터프레임 만들고 저장하기"
   ]
  },
  {
   "cell_type": "code",
   "execution_count": 31,
   "metadata": {},
   "outputs": [
    {
     "data": {
      "text/html": [
       "<div>\n",
       "<style scoped>\n",
       "    .dataframe tbody tr th:only-of-type {\n",
       "        vertical-align: middle;\n",
       "    }\n",
       "\n",
       "    .dataframe tbody tr th {\n",
       "        vertical-align: top;\n",
       "    }\n",
       "\n",
       "    .dataframe thead th {\n",
       "        text-align: right;\n",
       "    }\n",
       "</style>\n",
       "<table border=\"1\" class=\"dataframe\">\n",
       "  <thead>\n",
       "    <tr style=\"text-align: right;\">\n",
       "      <th></th>\n",
       "      <th>순위</th>\n",
       "      <th>제목</th>\n",
       "      <th>저자</th>\n",
       "      <th>역자</th>\n",
       "      <th>출판사</th>\n",
       "      <th>쪽수</th>\n",
       "      <th>발행일</th>\n",
       "      <th>가격</th>\n",
       "    </tr>\n",
       "  </thead>\n",
       "  <tbody>\n",
       "    <tr>\n",
       "      <td>0</td>\n",
       "      <td>1</td>\n",
       "      <td>저주토끼</td>\n",
       "      <td>정보라</td>\n",
       "      <td>-</td>\n",
       "      <td>아작</td>\n",
       "      <td>328</td>\n",
       "      <td>20220401</td>\n",
       "      <td>13320</td>\n",
       "    </tr>\n",
       "    <tr>\n",
       "      <td>1</td>\n",
       "      <td>2</td>\n",
       "      <td>긴긴밤</td>\n",
       "      <td>루리</td>\n",
       "      <td>-</td>\n",
       "      <td>문학동네</td>\n",
       "      <td>144</td>\n",
       "      <td>20210203</td>\n",
       "      <td>10350</td>\n",
       "    </tr>\n",
       "    <tr>\n",
       "      <td>2</td>\n",
       "      <td>3</td>\n",
       "      <td>웰씽킹(10만 부 기념 한정판 골드 에디션)</td>\n",
       "      <td>켈리 최</td>\n",
       "      <td>-</td>\n",
       "      <td>다산북스</td>\n",
       "      <td>316</td>\n",
       "      <td>20211110</td>\n",
       "      <td>14400</td>\n",
       "    </tr>\n",
       "    <tr>\n",
       "      <td>3</td>\n",
       "      <td>3</td>\n",
       "      <td>럭키(10만부 기념 황금열쇠 양장 특별판)</td>\n",
       "      <td>김도윤</td>\n",
       "      <td>-</td>\n",
       "      <td>북로망스</td>\n",
       "      <td>280</td>\n",
       "      <td>20210825</td>\n",
       "      <td>14400</td>\n",
       "    </tr>\n",
       "    <tr>\n",
       "      <td>4</td>\n",
       "      <td>5</td>\n",
       "      <td>꽃샘바람에 흔들린다면 너는 꽃</td>\n",
       "      <td>류시화</td>\n",
       "      <td>-</td>\n",
       "      <td>수오서재</td>\n",
       "      <td>160</td>\n",
       "      <td>20220411</td>\n",
       "      <td>12150</td>\n",
       "    </tr>\n",
       "    <tr>\n",
       "      <td>5</td>\n",
       "      <td>5</td>\n",
       "      <td>불편한 편의점(40만부 기념 벚꽃 에디션)</td>\n",
       "      <td>김호연</td>\n",
       "      <td>-</td>\n",
       "      <td>나무옆의자</td>\n",
       "      <td>268</td>\n",
       "      <td>20210420</td>\n",
       "      <td>12600</td>\n",
       "    </tr>\n",
       "    <tr>\n",
       "      <td>6</td>\n",
       "      <td>7</td>\n",
       "      <td>김학렬의 부동산 투자 절대 원칙</td>\n",
       "      <td>김학렬(빠숑)</td>\n",
       "      <td>-</td>\n",
       "      <td>에프엔미디어</td>\n",
       "      <td>540</td>\n",
       "      <td>20220412</td>\n",
       "      <td>22500</td>\n",
       "    </tr>\n",
       "    <tr>\n",
       "      <td>7</td>\n",
       "      <td>7</td>\n",
       "      <td>파이어 FIRE</td>\n",
       "      <td>강환국</td>\n",
       "      <td>-</td>\n",
       "      <td>페이지2북스</td>\n",
       "      <td>428</td>\n",
       "      <td>20220408</td>\n",
       "      <td>16200</td>\n",
       "    </tr>\n",
       "    <tr>\n",
       "      <td>8</td>\n",
       "      <td>7</td>\n",
       "      <td>파이어족 강환국의 하면 된다! 퀀트 투자</td>\n",
       "      <td>강환국</td>\n",
       "      <td>-</td>\n",
       "      <td>에프엔미디어</td>\n",
       "      <td>392</td>\n",
       "      <td>20210915</td>\n",
       "      <td>16830</td>\n",
       "    </tr>\n",
       "    <tr>\n",
       "      <td>9</td>\n",
       "      <td>10</td>\n",
       "      <td>머니 체인저</td>\n",
       "      <td>문준희</td>\n",
       "      <td>-</td>\n",
       "      <td>마인드셋(Mindset)</td>\n",
       "      <td>284</td>\n",
       "      <td>20220411</td>\n",
       "      <td>14400</td>\n",
       "    </tr>\n",
       "    <tr>\n",
       "      <td>10</td>\n",
       "      <td>10</td>\n",
       "      <td>세계 헤어웨어 이야기</td>\n",
       "      <td>원종훈, 김영휴</td>\n",
       "      <td>-</td>\n",
       "      <td>아마존북스</td>\n",
       "      <td>328</td>\n",
       "      <td>20220110</td>\n",
       "      <td>15300</td>\n",
       "    </tr>\n",
       "    <tr>\n",
       "      <td>11</td>\n",
       "      <td>10</td>\n",
       "      <td>2022 큰별쌤 최태성의 별별한국사 한국사능력검정시험 심화(1, 2, 3급)(하)</td>\n",
       "      <td>최태성</td>\n",
       "      <td>-</td>\n",
       "      <td>이투스북</td>\n",
       "      <td>304</td>\n",
       "      <td>20211209</td>\n",
       "      <td>13050</td>\n",
       "    </tr>\n",
       "    <tr>\n",
       "      <td>12</td>\n",
       "      <td>10</td>\n",
       "      <td>2022 큰별쌤 최태성의 별별한국사 한국사능력검정시험 심화(1, 2, 3급)(상)</td>\n",
       "      <td>최태성</td>\n",
       "      <td>-</td>\n",
       "      <td>이투스북</td>\n",
       "      <td>320</td>\n",
       "      <td>20211209</td>\n",
       "      <td>13500</td>\n",
       "    </tr>\n",
       "    <tr>\n",
       "      <td>13</td>\n",
       "      <td>14</td>\n",
       "      <td>진짜 쓰는 실무 엑셀</td>\n",
       "      <td>오빠두(전진권)</td>\n",
       "      <td>-</td>\n",
       "      <td>제이펍</td>\n",
       "      <td>508</td>\n",
       "      <td>20220215</td>\n",
       "      <td>18900</td>\n",
       "    </tr>\n",
       "    <tr>\n",
       "      <td>14</td>\n",
       "      <td>14</td>\n",
       "      <td>2022 큰별쌤 최태성의 별별한국사 기출 500제 한국사능력검정시험 심화(1.2.3급)</td>\n",
       "      <td>최태성</td>\n",
       "      <td>-</td>\n",
       "      <td>이투스북</td>\n",
       "      <td>392</td>\n",
       "      <td>20211221</td>\n",
       "      <td>17550</td>\n",
       "    </tr>\n",
       "  </tbody>\n",
       "</table>\n",
       "</div>"
      ],
      "text/plain": [
       "    순위                                                제목        저자 역자  \\\n",
       "0    1                                              저주토끼       정보라  -   \n",
       "1    2                                               긴긴밤        루리  -   \n",
       "2    3                          웰씽킹(10만 부 기념 한정판 골드 에디션)      켈리 최  -   \n",
       "3    3                           럭키(10만부 기념 황금열쇠 양장 특별판)       김도윤  -   \n",
       "4    5                                  꽃샘바람에 흔들린다면 너는 꽃       류시화  -   \n",
       "5    5                           불편한 편의점(40만부 기념 벚꽃 에디션)       김호연  -   \n",
       "6    7                                 김학렬의 부동산 투자 절대 원칙   김학렬(빠숑)  -   \n",
       "7    7                                          파이어 FIRE       강환국  -   \n",
       "8    7                            파이어족 강환국의 하면 된다! 퀀트 투자       강환국  -   \n",
       "9   10                                            머니 체인저       문준희  -   \n",
       "10  10                                       세계 헤어웨어 이야기  원종훈, 김영휴  -   \n",
       "11  10     2022 큰별쌤 최태성의 별별한국사 한국사능력검정시험 심화(1, 2, 3급)(하)       최태성  -   \n",
       "12  10     2022 큰별쌤 최태성의 별별한국사 한국사능력검정시험 심화(1, 2, 3급)(상)       최태성  -   \n",
       "13  14                                       진짜 쓰는 실무 엑셀  오빠두(전진권)  -   \n",
       "14  14  2022 큰별쌤 최태성의 별별한국사 기출 500제 한국사능력검정시험 심화(1.2.3급)       최태성  -   \n",
       "\n",
       "              출판사   쪽수       발행일     가격  \n",
       "0              아작  328  20220401  13320  \n",
       "1            문학동네  144  20210203  10350  \n",
       "2            다산북스  316  20211110  14400  \n",
       "3            북로망스  280  20210825  14400  \n",
       "4            수오서재  160  20220411  12150  \n",
       "5           나무옆의자  268  20210420  12600  \n",
       "6          에프엔미디어  540  20220412  22500  \n",
       "7          페이지2북스  428  20220408  16200  \n",
       "8          에프엔미디어  392  20210915  16830  \n",
       "9   마인드셋(Mindset)  284  20220411  14400  \n",
       "10          아마존북스  328  20220110  15300  \n",
       "11           이투스북  304  20211209  13050  \n",
       "12           이투스북  320  20211209  13500  \n",
       "13            제이펍  508  20220215  18900  \n",
       "14           이투스북  392  20211221  17550  "
      ]
     },
     "execution_count": 31,
     "metadata": {},
     "output_type": "execute_result"
    }
   ],
   "source": [
    "df = pd.DataFrame(lines, columns='순위 제목 저자 역자 출판사 쪽수 발행일 가격'.split())\n",
    "df"
   ]
  },
  {
   "cell_type": "code",
   "execution_count": 32,
   "metadata": {},
   "outputs": [],
   "source": [
    "df.to_csv('인터파크.csv', index=False)"
   ]
  }
 ],
 "metadata": {
  "interpreter": {
   "hash": "2416f014eda44098b06ac223510cfbf712f6c3c49a2a2784b81e5eb971c53cd7"
  },
  "kernelspec": {
   "display_name": "Python 3.7.1 ('base')",
   "language": "python",
   "name": "python3"
  },
  "language_info": {
   "codemirror_mode": {
    "name": "ipython",
    "version": 3
   },
   "file_extension": ".py",
   "mimetype": "text/x-python",
   "name": "python",
   "nbconvert_exporter": "python",
   "pygments_lexer": "ipython3",
   "version": "3.7.1"
  },
  "orig_nbformat": 4
 },
 "nbformat": 4,
 "nbformat_minor": 2
}
