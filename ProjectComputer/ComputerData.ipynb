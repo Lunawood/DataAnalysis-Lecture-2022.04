{
 "cells": [
  {
   "cell_type": "code",
   "execution_count": 6,
   "metadata": {},
   "outputs": [],
   "source": [
    "from selenium import webdriver\n",
    "from bs4 import BeautifulSoup\n",
    "import time\n",
    "import pandas as pd\n",
    "import requests\n",
    "\n",
    "# 1. 다나와 조립PC 사이트 -> PC주요부품 -> CPU\n",
    "url = \"http://prod.danawa.com/list/?cate=112747\"\n",
    "# 2. Oversystem (Youtube 추천 사이트)\n",
    "\n",
    "# 3. 네이버에서 낮은 가격\n",
    "\n",
    "# 4. 그외 사이트들 검색"
   ]
  },
  {
   "cell_type": "code",
   "execution_count": 7,
   "metadata": {},
   "outputs": [],
   "source": [
    "# 1. 다나와 조립PC 사이트 -> PC주요부품\n",
    "class Danawa:\n",
    "    url = \"http://prod.danawa.com/list/?cate=112747\"\n",
    "\n",
    "    def __init__(self):\n",
    "        self.driver = webdriver.Chrome('../chromedriver')\n",
    "        self.driver.get(url)\n",
    "        time.sleep(2)\n",
    "    # CPU : 라이젠 5 5600X\n",
    "\n",
    "    def CPU(self):\n",
    "        # 검색창 클릭\n",
    "        self.driver.find_element_by_css_selector(\n",
    "            \"div.prod_search_set > input\").click()\n",
    "        # 검색 입력\n",
    "        element = self.driver.find_element_by_css_selector(\n",
    "            \"div.prod_search_set > input\")\n",
    "        element.send_keys(\"AMD 라이젠5-4세대 5600X\")\n",
    "        # 검색 클릭\n",
    "        self.driver.find_element_by_css_selector(\n",
    "            \"div.prod_search_set > button\").click()\n",
    "        time.sleep(2)\n",
    "        # 낮은가격순\n",
    "        self.driver.find_elements_by_css_selector(\n",
    "            \"ul.order_list > li\")[2].click()\n",
    "        # 가격 가져오기\n",
    "        price = self.driver.find_element_by_css_selector(\n",
    "            \"li.rank_one > p.price_sect > a > strong\").text\n",
    "        return price"
   ]
  },
  {
   "cell_type": "code",
   "execution_count": 8,
   "metadata": {},
   "outputs": [
    {
     "name": "stdout",
     "output_type": "stream",
     "text": [
      "212,280\n"
     ]
    }
   ],
   "source": [
    "danawa = Danawa()\n",
    "print(danawa.CPU())"
   ]
  },
  {
   "cell_type": "code",
   "execution_count": 34,
   "metadata": {},
   "outputs": [],
   "source": [
    "# 메인보드 : MSI MAG B550M 박격포 WIFI\n",
    "# 메모리 : 삼성전자 DDR4-3200 (8GB) PCR-25600 * 4\n",
    "# 그래픽 카드 : INNO3D 지포스 RTX 3060 D6 12GB TWIN X2 그래픽카드\n",
    "# SSD : SK하이닉스 GOLD P31 NVMe SSD\n",
    "# 케이스 : 마이크로닉스 Master M60 메쉬 블랙\n",
    "# 파워 : 시소닉 A12 STANDARD 230V EU SSR-600RA LLC 정품벌크(600W)"
   ]
  },
  {
   "cell_type": "code",
   "execution_count": null,
   "metadata": {},
   "outputs": [],
   "source": []
  }
 ],
 "metadata": {
  "interpreter": {
   "hash": "2276d34d8406ba1cfef020614354d7c02b36ca5a2ec700c2667e91593e0bec3f"
  },
  "kernelspec": {
   "display_name": "Python 3.7.1 ('base')",
   "language": "python",
   "name": "python3"
  },
  "language_info": {
   "codemirror_mode": {
    "name": "ipython",
    "version": 3
   },
   "file_extension": ".py",
   "mimetype": "text/x-python",
   "name": "python",
   "nbconvert_exporter": "python",
   "pygments_lexer": "ipython3",
   "version": "3.7.1"
  },
  "orig_nbformat": 4
 },
 "nbformat": 4,
 "nbformat_minor": 2
}
