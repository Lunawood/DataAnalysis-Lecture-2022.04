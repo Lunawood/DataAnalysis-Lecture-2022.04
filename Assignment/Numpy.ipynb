{
 "cells": [
  {
   "cell_type": "markdown",
   "metadata": {},
   "source": [
    "##### 1. 넘파이를 사용하여 다음과 같은 행렬을 만드시오.\n",
    "<pre>\n",
    "10 20 30 40 50 60 70 80\n",
    "</pre>"
   ]
  },
  {
   "cell_type": "code",
   "execution_count": 4,
   "metadata": {},
   "outputs": [
    {
     "name": "stdout",
     "output_type": "stream",
     "text": [
      "[10 20 30 40 50 60 70 80]\n"
     ]
    }
   ],
   "source": [
    "import numpy as np\n",
    "print(np.arange(10, 81, 10))"
   ]
  },
  {
   "cell_type": "markdown",
   "metadata": {},
   "source": [
    "##### 2. 다음 행렬과 같은 행렬이 있다.\n",
    "<pre>\n",
    "m = np.array([[ 0,  1,  2,  3,  4],\n",
    "              [ 5,  6,  7,  8,  9], \n",
    "              [10, 11, 12, 13, 14]])\n",
    "1) 이 행렬에서 값 7 을 인덱싱한다.\n",
    "2) 이 행렬에서 값 14 을 인덱싱한다.\n",
    "3) 이 행렬에서 배열 [6, 7] 을 슬라이싱한다.\n",
    "4) 이 행렬에서 배열 [7, 12] 을 슬라이싱한다.\n",
    "5) 이 행렬에서 배열 [[3, 4], [8, 9]] 을 슬라이싱한다.\n",
    "</pre>"
   ]
  },
  {
   "cell_type": "code",
   "execution_count": 100,
   "metadata": {},
   "outputs": [
    {
     "name": "stdout",
     "output_type": "stream",
     "text": [
      "1번: 7\n",
      "2번: 14\n",
      "3번:[6 7]\n",
      "4번:\n",
      "[[ 7]\n",
      " [12]]\n",
      "5번:\n",
      "[[3 4]\n",
      " [8 9]]\n",
      "\n"
     ]
    }
   ],
   "source": [
    "m = np.array([[ 0,  1,  2,  3,  4],\n",
    "[ 5,  6,  7,  8,  9], [10, 11, 12, 13, 14]])\n",
    "print(f'1번: {m[1,2]}\\n2번: {m[2,4]}\\n3번:{m[1,1:3]}\\n4번:\\n{m[1:,2:3]}\\n5번:\\n{m[:2,3:]}\\n')"
   ]
  },
  {
   "cell_type": "markdown",
   "metadata": {},
   "source": [
    "##### 3. 2번의 행렬 m을 1차원 벡터 f 로 변환한 후 다음의 문제를 푸시오.\n",
    "<pre>\n",
    "1) 이 배열에서 3의 배수를 찾아라.\n",
    "2) 이 배열에서 4로 나누면 1이 남는 수를 찾아라.\n",
    "3) 이 배열에서 3으로 나누면 나누어지고 4로 나누면 1이 남는 수를 찾아라.\n",
    "</pre>"
   ]
  },
  {
   "cell_type": "code",
   "execution_count": 17,
   "metadata": {},
   "outputs": [
    {
     "name": "stdout",
     "output_type": "stream",
     "text": [
      "[ 0  3  6  9 12]\n",
      "[ 1  5  9 13]\n",
      "[9]\n"
     ]
    }
   ],
   "source": [
    "f = m.flatten()\n",
    "print(f[f % 3 == 0])\n",
    "print(f[f % 4 == 1])\n",
    "print(f[np.logical_and(f % 3 == 0, f % 4 == 1)])"
   ]
  },
  {
   "cell_type": "markdown",
   "metadata": {},
   "source": [
    "##### 4. 값을 직접 입력하지 말고 우측의 행렬을 만드시오.\n",
    "<pre>\n",
    "2, 1, 0, 0, 0 \n",
    "3, 2, 1, 0, 0 \n",
    "0, 3, 2, 1, 0 \n",
    "0, 0, 3, 2, 1 \n",
    "0, 0, 0, 3, 2\n",
    "</pre>"
   ]
  },
  {
   "cell_type": "code",
   "execution_count": 34,
   "metadata": {},
   "outputs": [
    {
     "name": "stdout",
     "output_type": "stream",
     "text": [
      "[[2. 1. 0. 0. 0.]\n",
      " [3. 2. 1. 0. 0.]\n",
      " [0. 3. 2. 1. 0.]\n",
      " [0. 0. 3. 2. 1.]\n",
      " [0. 0. 0. 3. 2.]]\n"
     ]
    }
   ],
   "source": [
    "m = np.zeros((5,5))\n",
    "for i in range(-1,2):\n",
    "    m += np.eye(5,5,k=i)*(2-i)\n",
    "print(m)"
   ]
  },
  {
   "cell_type": "markdown",
   "metadata": {},
   "source": [
    "##### 5. 0에서 10까지 랜덤 실수값으로 이루어진 5 x 6 형태의 데이터 행렬을 만들고 \n",
    "#####   이 데이터에 대해 다음과 같은 값을 구하시오.\n",
    "<pre>\n",
    "1) 전체의 최댓값\n",
    "2) 각 행의 합\n",
    "3) 각 행의 최댓값\n",
    "4) 각 열의 평균\n",
    "5) 각 열의 최솟값\n",
    "</pre>"
   ]
  },
  {
   "cell_type": "code",
   "execution_count": 44,
   "metadata": {},
   "outputs": [
    {
     "name": "stdout",
     "output_type": "stream",
     "text": [
      "[[ 6  5  8  1  1  7]\n",
      " [10 10  5  2  6  1]\n",
      " [ 0  3  6  1  3  0]\n",
      " [ 5  5  5  3  6 10]\n",
      " [ 8  0  3  9  0  2]]\n",
      "1번:10\n",
      "2번:[28 34 13 34 22]\n",
      "3번:[ 8 10  6 10  9]\n",
      "4번:[5.8 4.6 5.4 3.2 3.2 4. ]\n",
      "5번:[0 0 3 1 0 0]\n"
     ]
    }
   ],
   "source": [
    "m = np.random.randint(0, 11, 30).reshape(5,6)\n",
    "print(m)\n",
    "print(f'1번:{m.max()}\\n2번:{m.sum(axis=1)}\\n3번:{m.max(axis=1)}\\n4번:{m.mean(axis=0)}\\n5번:{m.min(axis=0)}')"
   ]
  },
  {
   "cell_type": "markdown",
   "metadata": {},
   "source": [
    "##### 6. 다음 배열은 첫번째 행(row)에 학번, 두번째 행에 영어 성적, 세번째 행에 수학 성적을 적은 배열이다. \n",
    "#####     영어 성적을 기준으로 각 열(column)을 재정렬하시오.\n",
    "<pre>\n",
    "array([[  1,    2,    3,    4], \n",
    "       [ 46,   99,  100,   71], \n",
    "       [ 81,   59,   90,  100]])\n",
    "</pre>"
   ]
  },
  {
   "cell_type": "code",
   "execution_count": 105,
   "metadata": {},
   "outputs": [
    {
     "name": "stdout",
     "output_type": "stream",
     "text": [
      "[[  1   4   2   3]\n",
      " [ 46  71  99 100]\n",
      " [ 81 100  59  90]]\n"
     ]
    },
    {
     "data": {
      "text/html": [
       "<div>\n",
       "<style scoped>\n",
       "    .dataframe tbody tr th:only-of-type {\n",
       "        vertical-align: middle;\n",
       "    }\n",
       "\n",
       "    .dataframe tbody tr th {\n",
       "        vertical-align: top;\n",
       "    }\n",
       "\n",
       "    .dataframe thead th {\n",
       "        text-align: right;\n",
       "    }\n",
       "</style>\n",
       "<table border=\"1\" class=\"dataframe\">\n",
       "  <thead>\n",
       "    <tr style=\"text-align: right;\">\n",
       "      <th></th>\n",
       "      <th>학번</th>\n",
       "      <th>영어</th>\n",
       "      <th>수학</th>\n",
       "    </tr>\n",
       "  </thead>\n",
       "  <tbody>\n",
       "    <tr>\n",
       "      <th>0</th>\n",
       "      <td>1</td>\n",
       "      <td>46</td>\n",
       "      <td>81</td>\n",
       "    </tr>\n",
       "    <tr>\n",
       "      <th>1</th>\n",
       "      <td>4</td>\n",
       "      <td>71</td>\n",
       "      <td>100</td>\n",
       "    </tr>\n",
       "    <tr>\n",
       "      <th>2</th>\n",
       "      <td>2</td>\n",
       "      <td>99</td>\n",
       "      <td>59</td>\n",
       "    </tr>\n",
       "    <tr>\n",
       "      <th>3</th>\n",
       "      <td>3</td>\n",
       "      <td>100</td>\n",
       "      <td>90</td>\n",
       "    </tr>\n",
       "  </tbody>\n",
       "</table>\n",
       "</div>"
      ],
      "text/plain": [
       "   학번   영어   수학\n",
       "0   1   46   81\n",
       "1   4   71  100\n",
       "2   2   99   59\n",
       "3   3  100   90"
      ]
     },
     "execution_count": 105,
     "metadata": {},
     "output_type": "execute_result"
    }
   ],
   "source": [
    "score = np.array([[1, 2, 3, 4], [46, 99, 100, 71], [81, 59, 90, 100]])\n",
    "print(score[:,score[1].argsort()])\n",
    "import pandas as pd\n",
    "pd.DataFrame(score[:,score[1].argsort()].T, columns=('학번', '영어','수학'))"
   ]
  },
  {
   "cell_type": "markdown",
   "metadata": {},
   "source": [
    "##### 7. 주사위를 100번 던지는 가상 실험을 파이썬으로 작성하고, 던져서 나오는 숫자의 평균을 구하시오.\n"
   ]
  },
  {
   "cell_type": "code",
   "execution_count": 86,
   "metadata": {},
   "outputs": [
    {
     "name": "stdout",
     "output_type": "stream",
     "text": [
      "3.37\n"
     ]
    }
   ],
   "source": [
    "dice = np.random.randint(1, 7, 100)\n",
    "print(dice.mean())"
   ]
  },
  {
   "cell_type": "markdown",
   "metadata": {},
   "source": [
    "##### 8. 가격이 10,000원인 주식이 있다. \n",
    "#####     이 주식의 일간 수익률(%)은 기댓값이 0%이고 표준편차가 1% 인 표준 정규 분포를 따른다고 하자. \n",
    "#####     250일 동안의 주가를 무작위로 생성하시오"
   ]
  },
  {
   "cell_type": "code",
   "execution_count": 113,
   "metadata": {},
   "outputs": [
    {
     "name": "stdout",
     "output_type": "stream",
     "text": [
      "[10000, 9985.627631958156, 9971.275920412625, 9956.94483567513, 9942.634348100064, 9928.344428084427, 9914.075046067765, 9899.82617253211, 9885.597778001918, 9871.38983304401, 9857.202308267508, 9843.035174323773, 9828.888401906353, 9814.761961750912, 9800.655824635174, 9786.569961378864, 9772.504342843644, 9758.458939933056, 9744.433723592461, 9730.428664808978, 9716.443734611425, 9702.478904070254, 9688.534144297502, 9674.609426446721, 9660.704721712922, 9646.820001332519, 9632.95523658326, 9619.110398784182, 9605.285459295535, 9591.480389518738, 9577.695160896308, 9563.92974491181, 9550.184113089788, 9536.458236995719, 9522.75208823594, 9509.065638457603, 9495.398859348606, 9481.75172263754, 9468.124200093627, 9454.516263526664, 9440.927884786963, 9427.359035765296, 9413.809688392834, 9400.279814641088, 9386.769386521853, 9373.278376087153, 9359.806755429176, 9346.354496680218, 9332.921572012634, 9319.507953638771, 9306.113613810912, 9292.738524821221, 9279.382659001685, 9266.045988724058, 9252.728486399797, 9239.430124480017, 9226.150875455423, 9212.89071185626, 9199.649606252251, 9186.427531252544, 9173.224459505655, 9160.040363699409, 9146.875216560886, 9133.728990856362, 9120.601659391257, 9107.493195010074, 9094.403570596347, 9081.33275907258, 9068.280733400195, 9055.247466579476, 9042.23293164951, 9029.237101688135, 9016.259949811882, 9003.301449175919, 8990.361572973996, 8977.440294438393, 8964.537586839857, 8951.653423487556, 8938.787777729016, 8925.94062295007, 8913.1119325748, 8900.301680065488, 8887.509838922553, 8874.736382684503, 8861.981284927875, 8849.244519267184, 8836.526059354866, 8823.825878881227, 8811.143951574384, 8798.480251200215, 8785.8347515623, 8773.207426501873, 8760.598249897761, 8748.007195666334, 8735.434237761452, 8722.87935017441, 8710.34250693388, 8697.823682105862, 8685.322849793632, 8672.839984137685, 8660.37505931568, 8647.92804954239, 8635.498929069649, 8623.087672186295, 8610.69425321812, 8598.318646527816, 8585.96082651492, 8573.620767615766, 8561.29844430343, 8548.99383108767, 8536.706902514885, 8524.437633168056, 8512.185997666693, 8499.951970666783, 8487.73552686074, 8475.536640977352, 8463.355287781726, 8451.191442075236, 8439.045078695477, 8426.916172516205, 8414.804698447288, 8402.710631434655, 8390.633946460244, 8378.574618541952, 8366.532622733577, 8354.507934124775, 8342.500527840999, 8330.510379043459, 8318.537462929056, 8306.581754730349, 8294.643229715482, 8282.721863188157, 8270.81763048756, 8258.930506988325, 8247.060468100479, 8235.20748926939, 8223.371545975717, 8211.552613735357, 8199.7506680994, 8187.965684654071, 8176.197639020687, 8164.446506855601, 8152.712263850153, 8140.994885730622, 8129.294348258172, 8117.610627228807, 8105.943698473316, 8094.293537857223, 8082.660121280743, 8071.0434246787245, 8059.443424020606, 8047.860095310361, 8036.293414586454, 8024.743357921785, 8013.2099014236455, 8001.693021233665, 7990.192693527762, 7978.708894516098, 7967.241600443025, 7955.79078758704, 7944.356432260728, 7932.9385108107235, 7921.536999617654, 7910.151875096095, 7898.783113694519, 7887.430691895246, 7876.094586214401, 7864.774773201856, 7853.471229441189, 7842.183931549633, 7830.912856178026, 7819.657980010767, 7808.419279765761, 7797.1967321943785, 7785.990314081402, 7774.8000022449805, 7763.625773536581, 7752.467604840939, 7741.3254730760145, 7730.199355192939, 7719.089228175973, 7707.995069042456, 7696.916854842756, 7685.854562660229, 7674.808169611165, 7663.777652844745, 7652.76298954299, 7641.764156920718, 7630.781132225494, 7619.813892737583, 7608.862415769905, 7597.926678667985, 7587.006658809908, 7576.102333606274, 7565.213680500148, 7554.340676967014, 7543.483300514729, 7532.641528683479, 7521.815339045727, 7511.004709206172, 7500.209616801699, 7489.430039501333, 7478.665955006198, 7467.917341049461, 7457.184175396298, 7446.466435843837, 7435.764100221118, 7425.077146389047, 7414.405552240348, 7403.749295699518, 7393.1083547227845, 7382.482707298053, 7371.87233144487, 7361.277205214368, 7350.697306689231, 7340.132613983637, 7329.583105243226, 7319.048758645042, 7308.529552397496, 7298.025464740321, 7287.536473944521, 7277.062558312332, 7266.603696177173, 7256.159865903605, 7245.731045887283, 7235.3172145549115, 7224.918350364204, 7214.534431803833, 7204.165437393389, 7193.8113456833335, 7183.472135254958, 7173.147784720336, 7162.8382727222815, 7152.543577934304, 7142.263679060564, 7131.998554835828, 7121.748184025428, 7111.512545425213, 7101.291617861509, 7091.085380191072, 7080.893811301047, 7070.7168901089235, 7060.55459556249, 7050.406906639794, 7040.273802349096, 7030.155261728824, 7020.051263847537, 7009.961787803873, 6999.886812726515, 6989.826317774139, 6979.780282135377]\n"
     ]
    }
   ],
   "source": [
    "l = []\n",
    "def invest(x, y, day):\n",
    "    l.append(x)\n",
    "    if(day == 0):\n",
    "        return l\n",
    "    x += x * (y[i] / 100)\n",
    "    invest(x, y, day-1)\n",
    "y = np.random.randn(250)\n",
    "invest(10000, y, 250)\n",
    "print(l)"
   ]
  },
  {
   "cell_type": "code",
   "execution_count": 130,
   "metadata": {},
   "outputs": [
    {
     "name": "stdout",
     "output_type": "stream",
     "text": [
      "[9967.964660110352, 19935.929320220705]\n"
     ]
    }
   ],
   "source": [
    "y = np.random.randn(250)\n",
    "l = list(map(lambda x: x + x * (y[0] / 100), [10000, 20000]))\n",
    "print(l)"
   ]
  },
  {
   "cell_type": "code",
   "execution_count": 107,
   "metadata": {},
   "outputs": [
    {
     "data": {
      "image/png": "[encoded data removed]",
      "text/plain": [
       "<Figure size 432x288 with 1 Axes>"
      ]
     },
     "metadata": {
      "needs_background": "light"
     },
     "output_type": "display_data"
    }
   ],
   "source": [
    "import matplotlib.pyplot as plt\n",
    "y = np.random.randn(250)\n",
    "x = 10000\n",
    "l = []\n",
    "for i in range(250):\n",
    "    l.append(x)\n",
    "    x += x * (y[i] / 100)\n",
    "\n",
    "plt.plot(l)\n",
    "plt.grid()\n",
    "plt.show()"
   ]
  },
  {
   "cell_type": "code",
   "execution_count": 108,
   "metadata": {},
   "outputs": [
    {
     "name": "stdout",
     "output_type": "stream",
     "text": [
      "[10000, 10052.457384332996, 10046.923708032336, 10053.611446880766, 10116.470500906662, 10202.969304486074, 10188.87604580248, 10294.936596300839, 10204.106881515729, 10104.460580592708, 10137.613313959866, 10192.661693052407, 10017.445984625521, 9986.332620811807, 9937.879932530945, 10044.483304230347, 10142.18377967882, 10019.301938576307, 10023.17181807429, 10174.32673837466, 10277.157032740351, 10049.932859220806, 9936.327025602182, 10234.659064874777, 10330.51868338915, 10536.56883081747, 10267.689567876467, 10182.390320280994, 10167.985250362415, 10024.215305174892, 10103.789637234602, 10029.553048086582, 10058.89351624842, 10047.99166333455, 10133.66821436247, 10301.631426527909, 10419.738502811337, 10247.793065857615, 10049.344533404063, 10044.14829059393, 10129.788318563991, 10067.639170551936, 10086.170694349588, 10226.248799982024, 10378.426786183165, 10409.263252016783, 10449.562369879539, 10364.938614408746, 10399.436270313146, 10477.805612067865, 10448.132518115617, 10055.008097078942, 9999.981516604264, 9970.553416111665, 10118.730773675245, 10149.038171867383, 10175.123465787745, 10227.248084585779, 10101.91350109394, 10099.615703863423, 10054.882270133869, 10035.334156698327, 9830.419227851482, 9881.931598368095, 9864.729732423037, 9890.161380368958, 9889.607766728397, 9917.703325521985, 9902.249524361054, 9964.465076688519, 9955.333164412044, 9881.245863179824, 9929.209371598103, 9886.961862947606, 9861.273305838136, 9969.467311338642, 10077.839034535753, 10012.18455723405, 10079.86952090316, 10185.08722642142, 10183.710364959952, 10179.044932963161, 10165.621031565048, 10136.569519563427, 10060.696274716727, 10171.425298500095, 10070.012866091984, 10215.344405714337, 10255.965361551667, 10195.000447994813, 10104.885334122788, 9921.64327286119, 9975.3076354381, 9998.32525934319, 9941.107863657866, 9830.974325972684, 9783.512434417602, 9935.408904817932, 10040.329346978418, 10069.380422490107, 9964.901479377237, 9925.23613690321, 9872.9399100253, 9658.18559447775, 9739.988062160037, 9779.85558195372, 9651.003528960571, 9699.848411429282, 9675.021957351371, 9720.8725824833, 9665.113407077415, 9799.819405981294, 9690.065984297446, 9722.868230888766, 9834.34861772333, 9955.493116441947, 10041.620827790917, 9838.393616425546, 9787.606455500176, 9728.861222799598, 9685.234209321157, 9485.089752925682, 9345.414410436513, 9332.367017082202, 9220.575643594586, 9455.860355823821, 9520.937899870658, 9576.707814239562, 9566.155593736376, 9662.14325429594, 9795.391742328527, 9821.985352821865, 9772.776653004768, 9768.241681411333, 9648.689483754175, 9607.669633095957, 9666.629334806392, 9759.79282413413, 9789.391087119253, 9798.150228105898, 9863.168669893543, 9807.107923546171, 9773.227448990514, 9794.142373892972, 9916.748010986219, 9966.028360711158, 10033.997176641535, 10233.165272295662, 10152.5124717345, 10014.827658404849, 9937.639548382343, 9852.04954075078, 9856.25189559803, 9716.131596099807, 9780.1739239871, 9739.693992837194, 9904.50557240657, 9762.505690957767, 9761.79098346341, 9747.708171612354, 9723.315097473964, 9868.996050978225, 9991.657203455972, 9930.247133749774, 9899.601094890037, 9961.748785809556, 9916.059799928578, 9996.792251667935, 9884.193532133175, 9831.548143735228, 9822.995543997695, 9916.433825378232, 10044.882476171697, 10033.298221317416, 10179.904149353531, 10141.80857914279, 10125.32177810351, 10146.436796247917, 10223.692975274256, 10224.787413359436, 10341.477773235627, 10267.120908403784, 10344.143385630405, 10353.109964565363, 10215.613164731782, 10087.166977651616, 9929.733188966033, 10013.26004065292, 9973.646956425266, 9842.441885555843, 9697.060900521577, 9610.070842630501, 9577.742749141094, 9481.254814224769, 9339.382348675499, 9444.614801598862, 9399.442170830574, 9396.117545551508, 9374.026754024624, 9362.288452937302, 9375.074818155354, 9378.409841967907, 9422.30878434989, 9458.088821947304, 9577.458596533575, 9561.145006904908, 9548.815419704453, 9527.840382449476, 9755.447746626756, 9769.21689755851, 9727.819780464379, 9635.618703113345, 9597.16653933084, 9509.393795305965, 9316.06250819423, 9478.372750133436, 9471.18694545965, 9356.741786018689, 9134.539541296277, 8941.312480892431, 8895.40357637745, 8874.639420403928, 8875.1505228547, 8767.162122057636, 8849.884650559712, 8947.736181296745, 9000.370031220438, 9014.09818794279, 8895.851926947485, 9002.744539385098, 8960.794174638137, 8949.756320102513, 9052.304976507672, 8949.08332000492, 9069.026280355127, 9159.660083264404, 9251.10191884648, 9290.87512782821, 9401.195300274407, 9311.065436877141, 9266.89358415185, 9374.023551022216, 9225.696763711578, 9219.168270515584, 9157.23862212652, 9022.691072549347, 8926.168362068469, 8915.588246559635, 8927.548224436267, 9042.364272958062]\n"
     ]
    }
   ],
   "source": [
    "print(l)"
   ]
  },
  {
   "cell_type": "code",
   "execution_count": null,
   "metadata": {},
   "outputs": [],
   "source": []
  }
 ],
 "metadata": {
  "interpreter": {
   "hash": "2416f014eda44098b06ac223510cfbf712f6c3c49a2a2784b81e5eb971c53cd7"
  },
  "kernelspec": {
   "display_name": "Python 3.7.1 ('base')",
   "language": "python",
   "name": "python3"
  },
  "language_info": {
   "codemirror_mode": {
    "name": "ipython",
    "version": 3
   },
   "file_extension": ".py",
   "mimetype": "text/x-python",
   "name": "python",
   "nbconvert_exporter": "python",
   "pygments_lexer": "ipython3",
   "version": "3.7.1"
  },
  "orig_nbformat": 4
 },
 "nbformat": 4,
 "nbformat_minor": 2
}
