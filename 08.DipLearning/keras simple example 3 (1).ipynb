{
 "cells": [
  {
   "cell_type": "code",
   "execution_count": 1,
   "id": "df4b667c",
   "metadata": {},
   "outputs": [
    {
     "name": "stderr",
     "output_type": "stream",
     "text": [
      "Using TensorFlow backend.\n",
      "c:\\Users\\lunaw\\Anaconda3\\lib\\site-packages\\tensorflow\\python\\framework\\dtypes.py:526: FutureWarning: Passing (type, 1) or '1type' as a synonym of type is deprecated; in a future version of numpy, it will be understood as (type, (1,)) / '(1,)type'.\n",
      "  _np_qint8 = np.dtype([(\"qint8\", np.int8, 1)])\n",
      "c:\\Users\\lunaw\\Anaconda3\\lib\\site-packages\\tensorflow\\python\\framework\\dtypes.py:527: FutureWarning: Passing (type, 1) or '1type' as a synonym of type is deprecated; in a future version of numpy, it will be understood as (type, (1,)) / '(1,)type'.\n",
      "  _np_quint8 = np.dtype([(\"quint8\", np.uint8, 1)])\n",
      "c:\\Users\\lunaw\\Anaconda3\\lib\\site-packages\\tensorflow\\python\\framework\\dtypes.py:528: FutureWarning: Passing (type, 1) or '1type' as a synonym of type is deprecated; in a future version of numpy, it will be understood as (type, (1,)) / '(1,)type'.\n",
      "  _np_qint16 = np.dtype([(\"qint16\", np.int16, 1)])\n",
      "c:\\Users\\lunaw\\Anaconda3\\lib\\site-packages\\tensorflow\\python\\framework\\dtypes.py:529: FutureWarning: Passing (type, 1) or '1type' as a synonym of type is deprecated; in a future version of numpy, it will be understood as (type, (1,)) / '(1,)type'.\n",
      "  _np_quint16 = np.dtype([(\"quint16\", np.uint16, 1)])\n",
      "c:\\Users\\lunaw\\Anaconda3\\lib\\site-packages\\tensorflow\\python\\framework\\dtypes.py:530: FutureWarning: Passing (type, 1) or '1type' as a synonym of type is deprecated; in a future version of numpy, it will be understood as (type, (1,)) / '(1,)type'.\n",
      "  _np_qint32 = np.dtype([(\"qint32\", np.int32, 1)])\n",
      "c:\\Users\\lunaw\\Anaconda3\\lib\\site-packages\\tensorflow\\python\\framework\\dtypes.py:535: FutureWarning: Passing (type, 1) or '1type' as a synonym of type is deprecated; in a future version of numpy, it will be understood as (type, (1,)) / '(1,)type'.\n",
      "  np_resource = np.dtype([(\"resource\", np.ubyte, 1)])\n"
     ]
    }
   ],
   "source": [
    "from keras import layers, models\n",
    "from sklearn import preprocessing\n",
    "\n",
    "from keras.models import Model\n",
    "from keras.utils import np_utils \n",
    "import tensorflow.keras as tk\n",
    "import matplotlib.pyplot as plt\n",
    "from sklearn.metrics import r2_score"
   ]
  },
  {
   "cell_type": "code",
   "execution_count": 2,
   "id": "3a6ffebd",
   "metadata": {},
   "outputs": [],
   "source": [
    "def plot_loss(history, title=None):\n",
    "    # summarize history for loss\n",
    "    if not isinstance(history, dict):\n",
    "        history = history.history\n",
    "\n",
    "    plt.plot(history['loss'])\n",
    "    plt.plot(history['val_loss'])\n",
    "    if title is not None:\n",
    "        plt.title(title)\n",
    "    plt.ylabel('Loss')\n",
    "    plt.xlabel('Epoch')\n",
    "    plt.legend(['Training', 'Validation'], loc=0)"
   ]
  },
  {
   "cell_type": "code",
   "execution_count": 3,
   "id": "179c95ef",
   "metadata": {},
   "outputs": [
    {
     "name": "stdout",
     "output_type": "stream",
     "text": [
      "Downloading data from https://storage.googleapis.com/tensorflow/tf-keras-datasets/boston_housing.npz\n",
      "57344/57026 [==============================] - 0s 0us/step\n"
     ]
    }
   ],
   "source": [
    "(X_train, y_train), (X_test, y_test) = tk.datasets.boston_housing.load_data()\n",
    "scaler = preprocessing.MinMaxScaler() \n",
    "\n",
    "# X_std = (X - X.min(axis=0)) / (X.max(axis=0) - X.min(axis=0))\n",
    "# X_scaled = X_std * (max - min) + min \n",
    "# 위와 같은 식을 통해 연속형 변수를 0~1로 변환\n",
    "\n"
   ]
  },
  {
   "cell_type": "code",
   "execution_count": 4,
   "id": "4d8a4405",
   "metadata": {},
   "outputs": [
    {
     "data": {
      "text/plain": [
       "array([  1.23247,   0.     ,   8.14   ,   0.     ,   0.538  ,   6.142  ,\n",
       "        91.7    ,   3.9769 ,   4.     , 307.     ,  21.     , 396.9    ,\n",
       "        18.72   ])"
      ]
     },
     "execution_count": 4,
     "metadata": {},
     "output_type": "execute_result"
    }
   ],
   "source": [
    "X_train[0]"
   ]
  },
  {
   "cell_type": "code",
   "execution_count": 5,
   "id": "242709e7",
   "metadata": {},
   "outputs": [],
   "source": [
    "X_train = scaler.fit_transform(X_train)\n",
    "X_test = scaler.transform(X_test)"
   ]
  },
  {
   "cell_type": "code",
   "execution_count": 6,
   "id": "87979746",
   "metadata": {},
   "outputs": [
    {
     "data": {
      "text/plain": [
       "array([0.01378163, 0.        , 0.28152493, 0.        , 0.31481481,\n",
       "       0.49980635, 0.91452111, 0.29719123, 0.13043478, 0.22753346,\n",
       "       0.89361702, 1.        , 0.46881898])"
      ]
     },
     "execution_count": 6,
     "metadata": {},
     "output_type": "execute_result"
    }
   ],
   "source": [
    "X_train[0]"
   ]
  },
  {
   "cell_type": "code",
   "execution_count": 7,
   "id": "0d58f773",
   "metadata": {},
   "outputs": [
    {
     "name": "stdout",
     "output_type": "stream",
     "text": [
      "WARNING:tensorflow:From c:\\Users\\lunaw\\Anaconda3\\lib\\site-packages\\tensorflow\\python\\ops\\resource_variable_ops.py:435: colocate_with (from tensorflow.python.framework.ops) is deprecated and will be removed in a future version.\n",
      "Instructions for updating:\n",
      "Colocations handled automatically by placer.\n",
      "Model: \"model_1\"\n",
      "_________________________________________________________________\n",
      "Layer (type)                 Output Shape              Param #   \n",
      "=================================================================\n",
      "input_x (InputLayer)         (None, 13)                0         \n",
      "_________________________________________________________________\n",
      "dense_1 (Dense)              (None, 5)                 70        \n",
      "_________________________________________________________________\n",
      "dense_2 (Dense)              (None, 1)                 6         \n",
      "=================================================================\n",
      "Total params: 76\n",
      "Trainable params: 76\n",
      "Non-trainable params: 0\n",
      "_________________________________________________________________\n"
     ]
    }
   ],
   "source": [
    "Nin = 13\n",
    "Nh = 5\n",
    "Nout = 1\n",
    "\n",
    "x = layers.Input(shape=(Nin,), name='input_x')\n",
    "hidden = layers.Dense(Nh,activation='relu')(x)\n",
    "output = layers.Dense(Nout)(hidden)\n",
    "\n",
    "model = Model(inputs=x, outputs=output)\n",
    "\n",
    "model.compile(loss='mse', optimizer='sgd')\n",
    "model.summary()"
   ]
  },
  {
   "cell_type": "code",
   "execution_count": 8,
   "id": "3dd329f7",
   "metadata": {
    "scrolled": true
   },
   "outputs": [
    {
     "name": "stdout",
     "output_type": "stream",
     "text": [
      "WARNING:tensorflow:From c:\\Users\\lunaw\\Anaconda3\\lib\\site-packages\\tensorflow\\python\\ops\\math_ops.py:3066: to_int32 (from tensorflow.python.ops.math_ops) is deprecated and will be removed in a future version.\n",
      "Instructions for updating:\n",
      "Use tf.cast instead.\n",
      "Train on 323 samples, validate on 81 samples\n",
      "Epoch 1/300\n",
      " - 0s - loss: 562.4421 - val_loss: 528.2964\n",
      "Epoch 2/300\n",
      " - 0s - loss: 352.0743 - val_loss: 119.0624\n",
      "Epoch 3/300\n",
      " - 0s - loss: 115.7065 - val_loss: 100.3349\n",
      "Epoch 4/300\n",
      " - 0s - loss: 80.1197 - val_loss: 75.9387\n",
      "Epoch 5/300\n",
      " - 0s - loss: 65.8550 - val_loss: 109.7837\n",
      "Epoch 6/300\n",
      " - 0s - loss: 62.1185 - val_loss: 61.8643\n",
      "Epoch 7/300\n",
      " - 0s - loss: 49.9151 - val_loss: 57.4886\n",
      "Epoch 8/300\n",
      " - 0s - loss: 46.5787 - val_loss: 49.4439\n",
      "Epoch 9/300\n",
      " - 0s - loss: 47.8503 - val_loss: 95.2650\n",
      "Epoch 10/300\n",
      " - 0s - loss: 48.0018 - val_loss: 44.7178\n",
      "Epoch 11/300\n",
      " - 0s - loss: 51.5317 - val_loss: 43.9653\n",
      "Epoch 12/300\n",
      " - 0s - loss: 40.4862 - val_loss: 42.7198\n",
      "Epoch 13/300\n",
      " - 0s - loss: 37.1856 - val_loss: 43.9126\n",
      "Epoch 14/300\n",
      " - 0s - loss: 43.1767 - val_loss: 43.4631\n",
      "Epoch 15/300\n",
      " - 0s - loss: 48.6177 - val_loss: 36.0165\n",
      "Epoch 16/300\n",
      " - 0s - loss: 44.2389 - val_loss: 36.3721\n",
      "Epoch 17/300\n",
      " - 0s - loss: 39.4736 - val_loss: 34.1962\n",
      "Epoch 18/300\n",
      " - 0s - loss: 35.8849 - val_loss: 32.6667\n",
      "Epoch 19/300\n",
      " - 0s - loss: 38.7165 - val_loss: 32.0597\n",
      "Epoch 20/300\n",
      " - 0s - loss: 38.8272 - val_loss: 33.2102\n",
      "Epoch 21/300\n",
      " - 0s - loss: 32.8305 - val_loss: 37.4519\n",
      "Epoch 22/300\n",
      " - 0s - loss: 36.1267 - val_loss: 31.3412\n",
      "Epoch 23/300\n",
      " - 0s - loss: 37.1741 - val_loss: 36.6013\n",
      "Epoch 24/300\n",
      " - 0s - loss: 37.3532 - val_loss: 32.5508\n",
      "Epoch 25/300\n",
      " - 0s - loss: 36.0340 - val_loss: 29.1690\n",
      "Epoch 26/300\n",
      " - 0s - loss: 34.6171 - val_loss: 30.1099\n",
      "Epoch 27/300\n",
      " - 0s - loss: 34.3202 - val_loss: 37.5609\n",
      "Epoch 28/300\n",
      " - 0s - loss: 34.4893 - val_loss: 28.2596\n",
      "Epoch 29/300\n",
      " - 0s - loss: 32.1522 - val_loss: 27.3570\n",
      "Epoch 30/300\n",
      " - 0s - loss: 27.4128 - val_loss: 26.2995\n",
      "Epoch 31/300\n",
      " - 0s - loss: 26.4103 - val_loss: 38.2800\n",
      "Epoch 32/300\n",
      " - 0s - loss: 27.0708 - val_loss: 25.4425\n",
      "Epoch 33/300\n",
      " - 0s - loss: 25.2418 - val_loss: 24.8749\n",
      "Epoch 34/300\n",
      " - 0s - loss: 27.4765 - val_loss: 35.4542\n",
      "Epoch 35/300\n",
      " - 0s - loss: 45.5587 - val_loss: 28.1650\n",
      "Epoch 36/300\n",
      " - 0s - loss: 31.9241 - val_loss: 26.0455\n",
      "Epoch 37/300\n",
      " - 0s - loss: 25.2173 - val_loss: 27.3117\n",
      "Epoch 38/300\n",
      " - 0s - loss: 28.1212 - val_loss: 24.5908\n",
      "Epoch 39/300\n",
      " - 0s - loss: 25.9555 - val_loss: 27.8864\n",
      "Epoch 40/300\n",
      " - 0s - loss: 44.0919 - val_loss: 130.4199\n",
      "Epoch 41/300\n",
      " - 0s - loss: 91.8806 - val_loss: 24.9050\n",
      "Epoch 42/300\n",
      " - 0s - loss: 25.6511 - val_loss: 29.4880\n",
      "Epoch 43/300\n",
      " - 0s - loss: 27.8038 - val_loss: 26.1932\n",
      "Epoch 44/300\n",
      " - 0s - loss: 26.2538 - val_loss: 38.8624\n",
      "Epoch 45/300\n",
      " - 0s - loss: 37.2444 - val_loss: 23.5691\n",
      "Epoch 46/300\n",
      " - 0s - loss: 25.1567 - val_loss: 23.7950\n",
      "Epoch 47/300\n",
      " - 0s - loss: 24.7306 - val_loss: 38.5854\n",
      "Epoch 48/300\n",
      " - 0s - loss: 28.8854 - val_loss: 38.8467\n",
      "Epoch 49/300\n",
      " - 0s - loss: 31.2824 - val_loss: 34.7684\n",
      "Epoch 50/300\n",
      " - 0s - loss: 27.7558 - val_loss: 32.1341\n",
      "Epoch 51/300\n",
      " - 0s - loss: 25.7800 - val_loss: 22.9790\n",
      "Epoch 52/300\n",
      " - 0s - loss: 23.7676 - val_loss: 22.9710\n",
      "Epoch 53/300\n",
      " - 0s - loss: 24.9778 - val_loss: 47.8172\n",
      "Epoch 54/300\n",
      " - 0s - loss: 53.3036 - val_loss: 41.0630\n",
      "Epoch 55/300\n",
      " - 0s - loss: 33.8127 - val_loss: 39.5624\n",
      "Epoch 56/300\n",
      " - 0s - loss: 45.1355 - val_loss: 30.4226\n",
      "Epoch 57/300\n",
      " - 0s - loss: 24.8461 - val_loss: 27.7557\n",
      "Epoch 58/300\n",
      " - 0s - loss: 25.9530 - val_loss: 25.8256\n",
      "Epoch 59/300\n",
      " - 0s - loss: 24.7518 - val_loss: 25.0082\n",
      "Epoch 60/300\n",
      " - 0s - loss: 28.7116 - val_loss: 60.8706\n",
      "Epoch 61/300\n",
      " - 0s - loss: 57.0002 - val_loss: 25.2644\n",
      "Epoch 62/300\n",
      " - 0s - loss: 24.9273 - val_loss: 28.3335\n",
      "Epoch 63/300\n",
      " - 0s - loss: 25.0413 - val_loss: 30.9457\n",
      "Epoch 64/300\n",
      " - 0s - loss: 37.0308 - val_loss: 55.5475\n",
      "Epoch 65/300\n",
      " - 0s - loss: 52.0851 - val_loss: 24.0834\n",
      "Epoch 66/300\n",
      " - 0s - loss: 24.0510 - val_loss: 25.8835\n",
      "Epoch 67/300\n",
      " - 0s - loss: 24.1614 - val_loss: 24.0648\n",
      "Epoch 68/300\n",
      " - 0s - loss: 24.5409 - val_loss: 22.4061\n",
      "Epoch 69/300\n",
      " - 0s - loss: 23.0767 - val_loss: 22.5741\n",
      "Epoch 70/300\n",
      " - 0s - loss: 24.0335 - val_loss: 23.0040\n",
      "Epoch 71/300\n",
      " - 0s - loss: 26.8040 - val_loss: 22.0383\n",
      "Epoch 72/300\n",
      " - 0s - loss: 23.2128 - val_loss: 23.5352\n",
      "Epoch 73/300\n",
      " - 0s - loss: 28.5789 - val_loss: 26.7394\n",
      "Epoch 74/300\n",
      " - 0s - loss: 23.8331 - val_loss: 26.2668\n",
      "Epoch 75/300\n",
      " - 0s - loss: 25.8550 - val_loss: 31.8037\n",
      "Epoch 76/300\n",
      " - 0s - loss: 26.8274 - val_loss: 22.4905\n",
      "Epoch 77/300\n",
      " - 0s - loss: 23.9169 - val_loss: 21.6269\n",
      "Epoch 78/300\n",
      " - 0s - loss: 23.5582 - val_loss: 32.9543\n",
      "Epoch 79/300\n",
      " - 0s - loss: 26.2126 - val_loss: 23.9472\n",
      "Epoch 80/300\n",
      " - 0s - loss: 23.6866 - val_loss: 21.5291\n",
      "Epoch 81/300\n",
      " - 0s - loss: 22.6804 - val_loss: 21.5987\n",
      "Epoch 82/300\n",
      " - 0s - loss: 23.1196 - val_loss: 21.6870\n",
      "Epoch 83/300\n",
      " - 0s - loss: 23.5607 - val_loss: 32.3725\n",
      "Epoch 84/300\n",
      " - 0s - loss: 28.6213 - val_loss: 26.6604\n",
      "Epoch 85/300\n",
      " - 0s - loss: 23.3730 - val_loss: 27.6718\n",
      "Epoch 86/300\n",
      " - 0s - loss: 31.0921 - val_loss: 33.3830\n",
      "Epoch 87/300\n",
      " - 0s - loss: 30.7755 - val_loss: 48.9864\n",
      "Epoch 88/300\n",
      " - 0s - loss: 34.7602 - val_loss: 35.5334\n",
      "Epoch 89/300\n",
      " - 0s - loss: 28.2311 - val_loss: 32.9658\n",
      "Epoch 90/300\n",
      " - 0s - loss: 26.2266 - val_loss: 25.8529\n",
      "Epoch 91/300\n",
      " - 0s - loss: 25.2812 - val_loss: 22.0884\n",
      "Epoch 92/300\n",
      " - 0s - loss: 23.6548 - val_loss: 24.8972\n",
      "Epoch 93/300\n",
      " - 0s - loss: 26.5186 - val_loss: 30.9164\n",
      "Epoch 94/300\n",
      " - 0s - loss: 35.3405 - val_loss: 21.4283\n",
      "Epoch 95/300\n",
      " - 0s - loss: 23.9571 - val_loss: 21.0198\n",
      "Epoch 96/300\n",
      " - 0s - loss: 22.9837 - val_loss: 25.4971\n",
      "Epoch 97/300\n",
      " - 0s - loss: 26.5177 - val_loss: 22.0538\n",
      "Epoch 98/300\n",
      " - 0s - loss: 25.1420 - val_loss: 20.9871\n",
      "Epoch 99/300\n",
      " - 0s - loss: 22.3665 - val_loss: 22.0556\n",
      "Epoch 100/300\n",
      " - 0s - loss: 23.2478 - val_loss: 21.7240\n",
      "Epoch 101/300\n",
      " - 0s - loss: 22.4770 - val_loss: 21.1829\n",
      "Epoch 102/300\n",
      " - 0s - loss: 22.2631 - val_loss: 24.7187\n",
      "Epoch 103/300\n",
      " - 0s - loss: 23.1396 - val_loss: 20.8200\n",
      "Epoch 104/300\n",
      " - 0s - loss: 22.4156 - val_loss: 26.1209\n",
      "Epoch 105/300\n",
      " - 0s - loss: 24.1875 - val_loss: 24.5707\n",
      "Epoch 106/300\n",
      " - 0s - loss: 23.3114 - val_loss: 21.3426\n",
      "Epoch 107/300\n",
      " - 0s - loss: 23.0376 - val_loss: 20.9508\n",
      "Epoch 108/300\n",
      " - 0s - loss: 25.0955 - val_loss: 25.5821\n",
      "Epoch 109/300\n",
      " - 0s - loss: 24.6868 - val_loss: 37.2576\n",
      "Epoch 110/300\n",
      " - 0s - loss: 29.3977 - val_loss: 23.1154\n",
      "Epoch 111/300\n",
      " - 0s - loss: 24.7173 - val_loss: 20.8113\n",
      "Epoch 112/300\n",
      " - 0s - loss: 22.7162 - val_loss: 21.7245\n",
      "Epoch 113/300\n",
      " - 0s - loss: 23.5256 - val_loss: 30.0582\n",
      "Epoch 114/300\n",
      " - 0s - loss: 25.2243 - val_loss: 26.4503\n",
      "Epoch 115/300\n",
      " - 0s - loss: 25.6471 - val_loss: 28.7250\n",
      "Epoch 116/300\n",
      " - 0s - loss: 33.5499 - val_loss: 23.2406\n",
      "Epoch 117/300\n",
      " - 0s - loss: 23.6865 - val_loss: 20.8809\n",
      "Epoch 118/300\n",
      " - 0s - loss: 22.3821 - val_loss: 37.0655\n",
      "Epoch 119/300\n",
      " - 0s - loss: 33.2328 - val_loss: 20.7944\n",
      "Epoch 120/300\n",
      " - 0s - loss: 22.4665 - val_loss: 22.2978\n",
      "Epoch 121/300\n",
      " - 0s - loss: 22.8766 - val_loss: 21.3750\n",
      "Epoch 122/300\n",
      " - 0s - loss: 22.5675 - val_loss: 35.3143\n",
      "Epoch 123/300\n",
      " - 0s - loss: 31.5131 - val_loss: 23.9353\n",
      "Epoch 124/300\n",
      " - 0s - loss: 22.7070 - val_loss: 22.3452\n",
      "Epoch 125/300\n",
      " - 0s - loss: 22.9631 - val_loss: 26.2746\n",
      "Epoch 126/300\n",
      " - 0s - loss: 22.4011 - val_loss: 26.0109\n",
      "Epoch 127/300\n",
      " - 0s - loss: 30.6559 - val_loss: 29.3757\n",
      "Epoch 128/300\n",
      " - 0s - loss: 24.3185 - val_loss: 21.3478\n",
      "Epoch 129/300\n",
      " - 0s - loss: 24.1287 - val_loss: 20.7279\n",
      "Epoch 130/300\n",
      " - 0s - loss: 22.1172 - val_loss: 24.0914\n",
      "Epoch 131/300\n",
      " - 0s - loss: 22.0627 - val_loss: 22.8260\n",
      "Epoch 132/300\n",
      " - 0s - loss: 22.3767 - val_loss: 22.6561\n",
      "Epoch 133/300\n",
      " - 0s - loss: 22.2035 - val_loss: 21.6444\n",
      "Epoch 134/300\n",
      " - 0s - loss: 22.9428 - val_loss: 21.7203\n",
      "Epoch 135/300\n",
      " - 0s - loss: 22.3134 - val_loss: 22.1744\n",
      "Epoch 136/300\n",
      " - 0s - loss: 22.1164 - val_loss: 21.3068\n",
      "Epoch 137/300\n",
      " - 0s - loss: 22.4998 - val_loss: 20.7382\n",
      "Epoch 138/300\n",
      " - 0s - loss: 21.9397 - val_loss: 23.1617\n",
      "Epoch 139/300\n",
      " - 0s - loss: 21.6787 - val_loss: 20.6715\n",
      "Epoch 140/300\n",
      " - 0s - loss: 22.7276 - val_loss: 36.8797\n",
      "Epoch 141/300\n",
      " - 0s - loss: 26.4273 - val_loss: 32.9913\n",
      "Epoch 142/300\n",
      " - 0s - loss: 26.3180 - val_loss: 20.7314\n",
      "Epoch 143/300\n",
      " - 0s - loss: 21.8630 - val_loss: 20.4849\n",
      "Epoch 144/300\n",
      " - 0s - loss: 21.7415 - val_loss: 20.5895\n",
      "Epoch 145/300\n",
      " - 0s - loss: 23.0854 - val_loss: 20.4607\n",
      "Epoch 146/300\n",
      " - 0s - loss: 22.3881 - val_loss: 20.4362\n",
      "Epoch 147/300\n",
      " - 0s - loss: 21.7521 - val_loss: 20.4279\n",
      "Epoch 148/300\n",
      " - 0s - loss: 22.2063 - val_loss: 27.8954\n",
      "Epoch 149/300\n",
      " - 0s - loss: 27.9370 - val_loss: 20.2368\n",
      "Epoch 150/300\n",
      " - 0s - loss: 22.2887 - val_loss: 20.4242\n",
      "Epoch 151/300\n",
      " - 0s - loss: 22.4585 - val_loss: 20.8104\n",
      "Epoch 152/300\n",
      " - 0s - loss: 22.6891 - val_loss: 20.9701\n",
      "Epoch 153/300\n",
      " - 0s - loss: 21.8114 - val_loss: 33.2879\n",
      "Epoch 154/300\n",
      " - 0s - loss: 29.6970 - val_loss: 21.1071\n",
      "Epoch 155/300\n",
      " - 0s - loss: 22.4732 - val_loss: 22.4580\n",
      "Epoch 156/300\n",
      " - 0s - loss: 21.9654 - val_loss: 20.4466\n",
      "Epoch 157/300\n",
      " - 0s - loss: 22.0855 - val_loss: 25.2486\n",
      "Epoch 158/300\n",
      " - 0s - loss: 30.6476 - val_loss: 20.9588\n",
      "Epoch 159/300\n",
      " - 0s - loss: 22.8983 - val_loss: 20.7076\n",
      "Epoch 160/300\n",
      " - 0s - loss: 22.1291 - val_loss: 20.1996\n",
      "Epoch 161/300\n",
      " - 0s - loss: 21.7748 - val_loss: 34.7313\n",
      "Epoch 162/300\n",
      " - 0s - loss: 34.4973 - val_loss: 28.4973\n",
      "Epoch 163/300\n",
      " - 0s - loss: 26.5306 - val_loss: 20.6042\n",
      "Epoch 164/300\n",
      " - 0s - loss: 22.1534 - val_loss: 24.5101\n",
      "Epoch 165/300\n",
      " - 0s - loss: 25.0657 - val_loss: 20.8690\n",
      "Epoch 166/300\n",
      " - 0s - loss: 21.6054 - val_loss: 22.9912\n",
      "Epoch 167/300\n",
      " - 0s - loss: 22.1089 - val_loss: 21.4502\n",
      "Epoch 168/300\n",
      " - 0s - loss: 21.5423 - val_loss: 40.7990\n",
      "Epoch 169/300\n",
      " - 0s - loss: 36.7830 - val_loss: 20.5701\n",
      "Epoch 170/300\n",
      " - 0s - loss: 21.6590 - val_loss: 20.3991\n",
      "Epoch 171/300\n",
      " - 0s - loss: 23.8002 - val_loss: 27.5000\n",
      "Epoch 172/300\n",
      " - 0s - loss: 23.6576 - val_loss: 22.9676\n",
      "Epoch 173/300\n",
      " - 0s - loss: 22.6276 - val_loss: 20.1665\n",
      "Epoch 174/300\n",
      " - 0s - loss: 21.6885 - val_loss: 23.4571\n",
      "Epoch 175/300\n",
      " - 0s - loss: 26.0624 - val_loss: 31.5676\n",
      "Epoch 176/300\n",
      " - 0s - loss: 29.7648 - val_loss: 22.1895\n",
      "Epoch 177/300\n",
      " - 0s - loss: 22.0791 - val_loss: 23.9058\n",
      "Epoch 178/300\n",
      " - 0s - loss: 23.1619 - val_loss: 21.7015\n",
      "Epoch 179/300\n",
      " - 0s - loss: 24.1385 - val_loss: 25.1446\n",
      "Epoch 180/300\n",
      " - 0s - loss: 24.6113 - val_loss: 22.1218\n",
      "Epoch 181/300\n",
      " - 0s - loss: 23.0630 - val_loss: 22.0666\n",
      "Epoch 182/300\n",
      " - 0s - loss: 21.5269 - val_loss: 23.8168\n",
      "Epoch 183/300\n",
      " - 0s - loss: 25.1454 - val_loss: 22.5462\n",
      "Epoch 184/300\n",
      " - 0s - loss: 21.8612 - val_loss: 26.4720\n",
      "Epoch 185/300\n",
      " - 0s - loss: 24.7237 - val_loss: 20.1321\n",
      "Epoch 186/300\n",
      " - 0s - loss: 21.4605 - val_loss: 20.3081\n",
      "Epoch 187/300\n",
      " - 0s - loss: 21.4219 - val_loss: 20.3228\n",
      "Epoch 188/300\n",
      " - 0s - loss: 23.5638 - val_loss: 25.8531\n",
      "Epoch 189/300\n",
      " - 0s - loss: 23.2805 - val_loss: 19.7853\n",
      "Epoch 190/300\n",
      " - 0s - loss: 21.8359 - val_loss: 24.6103\n",
      "Epoch 191/300\n",
      " - 0s - loss: 22.9582 - val_loss: 27.2817\n",
      "Epoch 192/300\n",
      " - 0s - loss: 24.1197 - val_loss: 32.1947\n",
      "Epoch 193/300\n",
      " - 0s - loss: 24.3191 - val_loss: 20.5910\n",
      "Epoch 194/300\n",
      " - 0s - loss: 21.8886 - val_loss: 22.4854\n",
      "Epoch 195/300\n",
      " - 0s - loss: 24.6078 - val_loss: 20.2804\n",
      "Epoch 196/300\n",
      " - 0s - loss: 22.6957 - val_loss: 19.7399\n",
      "Epoch 197/300\n",
      " - 0s - loss: 21.5911 - val_loss: 19.8697\n",
      "Epoch 198/300\n",
      " - 0s - loss: 21.3454 - val_loss: 20.6202\n",
      "Epoch 199/300\n",
      " - 0s - loss: 22.3545 - val_loss: 24.1019\n",
      "Epoch 200/300\n",
      " - 0s - loss: 24.8216 - val_loss: 22.5152\n",
      "Epoch 201/300\n",
      " - 0s - loss: 22.6609 - val_loss: 22.2628\n",
      "Epoch 202/300\n",
      " - 0s - loss: 21.7287 - val_loss: 23.8172\n",
      "Epoch 203/300\n",
      " - 0s - loss: 22.1267 - val_loss: 20.1964\n",
      "Epoch 204/300\n",
      " - 0s - loss: 22.9803 - val_loss: 22.3223\n",
      "Epoch 205/300\n",
      " - 0s - loss: 21.2688 - val_loss: 23.1709\n",
      "Epoch 206/300\n",
      " - 0s - loss: 25.2815 - val_loss: 21.1454\n",
      "Epoch 207/300\n",
      " - 0s - loss: 21.8728 - val_loss: 19.9843\n",
      "Epoch 208/300\n",
      " - 0s - loss: 21.2587 - val_loss: 20.5860\n",
      "Epoch 209/300\n",
      " - 0s - loss: 22.9788 - val_loss: 28.4612\n",
      "Epoch 210/300\n",
      " - 0s - loss: 26.6414 - val_loss: 24.4974\n",
      "Epoch 211/300\n",
      " - 0s - loss: 26.1173 - val_loss: 21.1697\n",
      "Epoch 212/300\n",
      " - 0s - loss: 21.4468 - val_loss: 25.1147\n",
      "Epoch 213/300\n",
      " - 0s - loss: 27.7734 - val_loss: 19.8191\n",
      "Epoch 214/300\n",
      " - 0s - loss: 21.1966 - val_loss: 22.1399\n",
      "Epoch 215/300\n",
      " - 0s - loss: 22.4279 - val_loss: 23.9491\n",
      "Epoch 216/300\n",
      " - 0s - loss: 22.0175 - val_loss: 22.3534\n",
      "Epoch 217/300\n",
      " - 0s - loss: 22.2940 - val_loss: 27.0573\n",
      "Epoch 218/300\n",
      " - 0s - loss: 26.5646 - val_loss: 24.8818\n",
      "Epoch 219/300\n",
      " - 0s - loss: 24.0147 - val_loss: 25.5230\n",
      "Epoch 220/300\n",
      " - 0s - loss: 22.7714 - val_loss: 19.5495\n",
      "Epoch 221/300\n",
      " - 0s - loss: 21.3066 - val_loss: 19.7493\n",
      "Epoch 222/300\n",
      " - 0s - loss: 21.5129 - val_loss: 20.9783\n",
      "Epoch 223/300\n",
      " - 0s - loss: 24.5190 - val_loss: 19.5425\n",
      "Epoch 224/300\n",
      " - 0s - loss: 21.8704 - val_loss: 19.9587\n",
      "Epoch 225/300\n",
      " - 0s - loss: 21.5254 - val_loss: 20.3657\n",
      "Epoch 226/300\n",
      " - 0s - loss: 23.8082 - val_loss: 19.9048\n",
      "Epoch 227/300\n",
      " - 0s - loss: 21.3069 - val_loss: 19.4940\n",
      "Epoch 228/300\n",
      " - 0s - loss: 21.4954 - val_loss: 23.2790\n",
      "Epoch 229/300\n",
      " - 0s - loss: 22.8796 - val_loss: 27.8258\n",
      "Epoch 230/300\n",
      " - 0s - loss: 25.6273 - val_loss: 19.5273\n",
      "Epoch 231/300\n",
      " - 0s - loss: 21.0449 - val_loss: 19.9564\n",
      "Epoch 232/300\n",
      " - 0s - loss: 21.0497 - val_loss: 21.2847\n",
      "Epoch 233/300\n",
      " - 0s - loss: 22.7462 - val_loss: 24.6589\n",
      "Epoch 234/300\n",
      " - 0s - loss: 24.3798 - val_loss: 19.7312\n",
      "Epoch 235/300\n",
      " - 0s - loss: 20.9759 - val_loss: 26.6287\n",
      "Epoch 236/300\n",
      " - 0s - loss: 23.7844 - val_loss: 19.5898\n",
      "Epoch 237/300\n",
      " - 0s - loss: 21.1488 - val_loss: 19.6633\n",
      "Epoch 238/300\n",
      " - 0s - loss: 26.4788 - val_loss: 20.6732\n",
      "Epoch 239/300\n",
      " - 0s - loss: 22.9248 - val_loss: 19.7157\n",
      "Epoch 240/300\n",
      " - 0s - loss: 20.8655 - val_loss: 19.5052\n",
      "Epoch 241/300\n",
      " - 0s - loss: 21.1099 - val_loss: 20.1263\n",
      "Epoch 242/300\n",
      " - 0s - loss: 20.7216 - val_loss: 26.9780\n",
      "Epoch 243/300\n",
      " - 0s - loss: 24.9691 - val_loss: 19.0783\n",
      "Epoch 244/300\n",
      " - 0s - loss: 21.0494 - val_loss: 26.2615\n",
      "Epoch 245/300\n",
      " - 0s - loss: 26.1297 - val_loss: 22.4486\n",
      "Epoch 246/300\n",
      " - 0s - loss: 24.0169 - val_loss: 18.8457\n",
      "Epoch 247/300\n",
      " - 0s - loss: 21.8259 - val_loss: 20.4017\n",
      "Epoch 248/300\n",
      " - 0s - loss: 21.3893 - val_loss: 18.9071\n",
      "Epoch 249/300\n",
      " - 0s - loss: 20.8422 - val_loss: 18.9848\n",
      "Epoch 250/300\n",
      " - 0s - loss: 20.7577 - val_loss: 20.6774\n",
      "Epoch 251/300\n",
      " - 0s - loss: 21.7833 - val_loss: 22.4121\n",
      "Epoch 252/300\n",
      " - 0s - loss: 23.4985 - val_loss: 20.7606\n",
      "Epoch 253/300\n",
      " - 0s - loss: 26.0808 - val_loss: 27.5350\n",
      "Epoch 254/300\n",
      " - 0s - loss: 25.7932 - val_loss: 19.0878\n",
      "Epoch 255/300\n",
      " - 0s - loss: 21.5943 - val_loss: 22.1196\n",
      "Epoch 256/300\n",
      " - 0s - loss: 23.5119 - val_loss: 22.2863\n",
      "Epoch 257/300\n",
      " - 0s - loss: 21.4948 - val_loss: 19.8994\n",
      "Epoch 258/300\n",
      " - 0s - loss: 21.8170 - val_loss: 19.4278\n",
      "Epoch 259/300\n",
      " - 0s - loss: 21.1569 - val_loss: 18.8525\n",
      "Epoch 260/300\n",
      " - 0s - loss: 22.1719 - val_loss: 20.8245\n",
      "Epoch 261/300\n",
      " - 0s - loss: 21.0238 - val_loss: 23.0127\n",
      "Epoch 262/300\n",
      " - 0s - loss: 24.6500 - val_loss: 22.9848\n",
      "Epoch 263/300\n",
      " - 0s - loss: 27.6428 - val_loss: 18.8972\n",
      "Epoch 264/300\n",
      " - 0s - loss: 20.7110 - val_loss: 21.4753\n",
      "Epoch 265/300\n",
      " - 0s - loss: 21.5554 - val_loss: 19.2932\n",
      "Epoch 266/300\n",
      " - 0s - loss: 22.4313 - val_loss: 20.3202\n",
      "Epoch 267/300\n",
      " - 0s - loss: 21.0882 - val_loss: 19.5846\n",
      "Epoch 268/300\n",
      " - 0s - loss: 22.1847 - val_loss: 19.2478\n",
      "Epoch 269/300\n",
      " - 0s - loss: 20.7818 - val_loss: 18.7476\n",
      "Epoch 270/300\n",
      " - 0s - loss: 21.1468 - val_loss: 18.7458\n",
      "Epoch 271/300\n",
      " - 0s - loss: 20.5112 - val_loss: 19.4974\n",
      "Epoch 272/300\n",
      " - 0s - loss: 21.0953 - val_loss: 31.0039\n",
      "Epoch 273/300\n",
      " - 0s - loss: 23.3879 - val_loss: 19.1716\n",
      "Epoch 274/300\n",
      " - 0s - loss: 20.5350 - val_loss: 20.4594\n",
      "Epoch 275/300\n",
      " - 0s - loss: 20.8266 - val_loss: 24.1200\n",
      "Epoch 276/300\n",
      " - 0s - loss: 24.1660 - val_loss: 19.3071\n",
      "Epoch 277/300\n",
      " - 0s - loss: 21.2015 - val_loss: 24.5337\n",
      "Epoch 278/300\n",
      " - 0s - loss: 24.2494 - val_loss: 18.6971\n",
      "Epoch 279/300\n",
      " - 0s - loss: 21.3171 - val_loss: 25.1068\n",
      "Epoch 280/300\n",
      " - 0s - loss: 26.2344 - val_loss: 18.9125\n",
      "Epoch 281/300\n",
      " - 0s - loss: 20.3160 - val_loss: 22.9191\n",
      "Epoch 282/300\n",
      " - 0s - loss: 22.3807 - val_loss: 22.4642\n",
      "Epoch 283/300\n",
      " - 0s - loss: 21.3323 - val_loss: 21.8102\n",
      "Epoch 284/300\n",
      " - 0s - loss: 21.4734 - val_loss: 18.8682\n",
      "Epoch 285/300\n",
      " - 0s - loss: 20.9713 - val_loss: 19.4229\n",
      "Epoch 286/300\n",
      " - 0s - loss: 23.2451 - val_loss: 23.5405\n",
      "Epoch 287/300\n",
      " - 0s - loss: 21.6373 - val_loss: 18.3629\n",
      "Epoch 288/300\n",
      " - 0s - loss: 20.8605 - val_loss: 18.8251\n",
      "Epoch 289/300\n",
      " - 0s - loss: 20.4744 - val_loss: 19.4556\n",
      "Epoch 290/300\n",
      " - 0s - loss: 21.3332 - val_loss: 18.5867\n",
      "Epoch 291/300\n",
      " - 0s - loss: 21.0662 - val_loss: 17.9901\n",
      "Epoch 292/300\n",
      " - 0s - loss: 20.6418 - val_loss: 17.9700\n",
      "Epoch 293/300\n",
      " - 0s - loss: 20.4540 - val_loss: 18.8349\n",
      "Epoch 294/300\n",
      " - 0s - loss: 21.8418 - val_loss: 23.7886\n",
      "Epoch 295/300\n",
      " - 0s - loss: 21.8158 - val_loss: 21.8920\n",
      "Epoch 296/300\n",
      " - 0s - loss: 21.0469 - val_loss: 19.7775\n",
      "Epoch 297/300\n",
      " - 0s - loss: 21.8595 - val_loss: 18.7484\n",
      "Epoch 298/300\n",
      " - 0s - loss: 20.2398 - val_loss: 18.5931\n",
      "Epoch 299/300\n",
      " - 0s - loss: 20.8493 - val_loss: 18.1430\n",
      "Epoch 300/300\n",
      " - 0s - loss: 20.6472 - val_loss: 21.2319\n",
      "102/102 [==============================] - 0s 29us/step\n",
      "\n",
      "Test Loss -> 25.76\n"
     ]
    }
   ],
   "source": [
    "\n",
    "history = model.fit(X_train, y_train, epochs=300, batch_size=100, validation_split=0.2, verbose=2)\n",
    "\n",
    "performace_test = model.evaluate(X_test, y_test, batch_size=100)\n",
    "print('\\nTest Loss -> {:.2f}'.format(performace_test))\n",
    "\n"
   ]
  },
  {
   "cell_type": "code",
   "execution_count": 9,
   "id": "6f2a5e88",
   "metadata": {},
   "outputs": [
    {
     "data": {
      "image/png": "[encoded data removed]",
      "text/plain": [
       "<Figure size 432x288 with 1 Axes>"
      ]
     },
     "metadata": {
      "needs_background": "light"
     },
     "output_type": "display_data"
    }
   ],
   "source": [
    "plot_loss(history)\n",
    "plt.show()"
   ]
  },
  {
   "cell_type": "code",
   "execution_count": 10,
   "id": "796090f0",
   "metadata": {},
   "outputs": [],
   "source": [
    "predicted_y = model.predict(X_test)"
   ]
  },
  {
   "cell_type": "code",
   "execution_count": 11,
   "id": "a5a549b4",
   "metadata": {},
   "outputs": [
    {
     "data": {
      "text/plain": [
       "<matplotlib.legend.Legend at 0x1f92b8a3a20>"
      ]
     },
     "execution_count": 11,
     "metadata": {},
     "output_type": "execute_result"
    },
    {
     "data": {
      "image/png": "[encoded data removed]",
      "text/plain": [
       "<Figure size 432x288 with 1 Axes>"
      ]
     },
     "metadata": {
      "needs_background": "light"
     },
     "output_type": "display_data"
    }
   ],
   "source": [
    "plt.plot(predicted_y)\n",
    "plt.plot(y_test)\n",
    "plt.ylabel('Price')\n",
    "plt.xlabel('observation')\n",
    "plt.legend(['Predicted', 'Actual'], loc=0)"
   ]
  },
  {
   "cell_type": "code",
   "execution_count": 12,
   "id": "ec920870",
   "metadata": {},
   "outputs": [
    {
     "data": {
      "text/plain": [
       "0.5934720331276648"
      ]
     },
     "execution_count": 12,
     "metadata": {},
     "output_type": "execute_result"
    }
   ],
   "source": [
    "r2_score(predicted_y, y_test)"
   ]
  },
  {
   "cell_type": "code",
   "execution_count": 13,
   "id": "a2d87d4a",
   "metadata": {},
   "outputs": [
    {
     "data": {
      "text/plain": [
       "array([15.2, 42.3, 50. , 21.1, 17.7, 18.5, 11.3, 15.6, 15.6, 14.4, 12.1,\n",
       "       17.9, 23.1, 19.9, 15.7,  8.8, 50. , 22.5, 24.1, 27.5, 10.9, 30.8,\n",
       "       32.9, 24. , 18.5, 13.3, 22.9, 34.7, 16.6, 17.5, 22.3, 16.1, 14.9,\n",
       "       23.1, 34.9, 25. , 13.9, 13.1, 20.4, 20. , 15.2, 24.7, 22.2, 16.7,\n",
       "       12.7, 15.6, 18.4, 21. , 30.1, 15.1, 18.7,  9.6, 31.5, 24.8, 19.1,\n",
       "       22. , 14.5, 11. , 32. , 29.4, 20.3, 24.4, 14.6, 19.5, 14.1, 14.3,\n",
       "       15.6, 10.5,  6.3, 19.3, 19.3, 13.4, 36.4, 17.8, 13.5, 16.5,  8.3,\n",
       "       14.3, 16. , 13.4, 28.6, 43.5, 20.2, 22. , 23. , 20.7, 12.5, 48.5,\n",
       "       14.6, 13.4, 23.7, 50. , 21.7, 39.8, 38.7, 22.2, 34.9, 22.5, 31.1,\n",
       "       28.7, 46. , 41.7, 21. , 26.6, 15. , 24.4, 13.3, 21.2, 11.7, 21.7,\n",
       "       19.4, 50. , 22.8, 19.7, 24.7, 36.2, 14.2, 18.9, 18.3, 20.6, 24.6,\n",
       "       18.2,  8.7, 44. , 10.4, 13.2, 21.2, 37. , 30.7, 22.9, 20. , 19.3,\n",
       "       31.7, 32. , 23.1, 18.8, 10.9, 50. , 19.6,  5. , 14.4, 19.8, 13.8,\n",
       "       19.6, 23.9, 24.5, 25. , 19.9, 17.2, 24.6, 13.5, 26.6, 21.4, 11.9,\n",
       "       22.6, 19.6,  8.5, 23.7, 23.1, 22.4, 20.5, 23.6, 18.4, 35.2, 23.1,\n",
       "       27.9, 20.6, 23.7, 28. , 13.6, 27.1, 23.6, 20.6, 18.2, 21.7, 17.1,\n",
       "        8.4, 25.3, 13.8, 22.2, 18.4, 20.7, 31.6, 30.5, 20.3,  8.8, 19.2,\n",
       "       19.4, 23.1, 23. , 14.8, 48.8, 22.6, 33.4, 21.1, 13.6, 32.2, 13.1,\n",
       "       23.4, 18.9, 23.9, 11.8, 23.3, 22.8, 19.6, 16.7, 13.4, 22.2, 20.4,\n",
       "       21.8, 26.4, 14.9, 24.1, 23.8, 12.3, 29.1, 21. , 19.5, 23.3, 23.8,\n",
       "       17.8, 11.5, 21.7, 19.9, 25. , 33.4, 28.5, 21.4, 24.3, 27.5, 33.1,\n",
       "       16.2, 23.3, 48.3, 22.9, 22.8, 13.1, 12.7, 22.6, 15. , 15.3, 10.5,\n",
       "       24. , 18.5, 21.7, 19.5, 33.2, 23.2,  5. , 19.1, 12.7, 22.3, 10.2,\n",
       "       13.9, 16.3, 17. , 20.1, 29.9, 17.2, 37.3, 45.4, 17.8, 23.2, 29. ,\n",
       "       22. , 18. , 17.4, 34.6, 20.1, 25. , 15.6, 24.8, 28.2, 21.2, 21.4,\n",
       "       23.8, 31. , 26.2, 17.4, 37.9, 17.5, 20. ,  8.3, 23.9,  8.4, 13.8,\n",
       "        7.2, 11.7, 17.1, 21.6, 50. , 16.1, 20.4, 20.6, 21.4, 20.6, 36.5,\n",
       "        8.5, 24.8, 10.8, 21.9, 17.3, 18.9, 36.2, 14.9, 18.2, 33.3, 21.8,\n",
       "       19.7, 31.6, 24.8, 19.4, 22.8,  7.5, 44.8, 16.8, 18.7, 50. , 50. ,\n",
       "       19.5, 20.1, 50. , 17.2, 20.8, 19.3, 41.3, 20.4, 20.5, 13.8, 16.5,\n",
       "       23.9, 20.6, 31.5, 23.3, 16.8, 14. , 33.8, 36.1, 12.8, 18.3, 18.7,\n",
       "       19.1, 29. , 30.1, 50. , 50. , 22. , 11.9, 37.6, 50. , 22.7, 20.8,\n",
       "       23.5, 27.9, 50. , 19.3, 23.9, 22.6, 15.2, 21.7, 19.2, 43.8, 20.3,\n",
       "       33.2, 19.9, 22.5, 32.7, 22. , 17.1, 19. , 15. , 16.1, 25.1, 23.7,\n",
       "       28.7, 37.2, 22.6, 16.4, 25. , 29.8, 22.1, 17.4, 18.1, 30.3, 17.5,\n",
       "       24.7, 12.6, 26.5, 28.7, 13.3, 10.4, 24.4, 23. , 20. , 17.8,  7. ,\n",
       "       11.8, 24.4, 13.8, 19.4, 25.2, 19.4, 19.4, 29.1])"
      ]
     },
     "execution_count": 13,
     "metadata": {},
     "output_type": "execute_result"
    }
   ],
   "source": [
    "y_train"
   ]
  },
  {
   "cell_type": "code",
   "execution_count": null,
   "id": "ff5fa402",
   "metadata": {},
   "outputs": [],
   "source": []
  },
  {
   "cell_type": "code",
   "execution_count": 14,
   "id": "28cf527e",
   "metadata": {},
   "outputs": [],
   "source": [
    "from sklearn import model_selection, metrics\n",
    "from sklearn.preprocessing import MinMaxScaler\n",
    "import numpy as np\n",
    "import matplotlib.pyplot as plt\n",
    "import os\n",
    "\n",
    "from keras import backend as K\n",
    "from keras.utils import np_utils\n",
    "from keras.models import Model\n",
    "from keras.layers import Input, Conv2D, MaxPooling2D, Flatten, Dense, Dropout"
   ]
  },
  {
   "cell_type": "markdown",
   "id": "19ce122c",
   "metadata": {},
   "source": [
    "https://www.cs.toronto.edu/~kriz/cifar.html\n",
    "\n"
   ]
  },
  {
   "cell_type": "code",
   "execution_count": 15,
   "id": "67a84f4e",
   "metadata": {},
   "outputs": [
    {
     "name": "stdout",
     "output_type": "stream",
     "text": [
      "Downloading data from https://www.cs.toronto.edu/~kriz/cifar-10-python.tar.gz\n",
      "170500096/170498071 [==============================] - 25s 0us/step\n"
     ]
    }
   ],
   "source": [
    "(X, y), (x_test, y_test_o) = tk.datasets.cifar10.load_data()\n",
    "nb_classes=10\n",
    "in_shape = X.shape[1:]"
   ]
  },
  {
   "cell_type": "code",
   "execution_count": 16,
   "id": "bd209bee",
   "metadata": {},
   "outputs": [
    {
     "data": {
      "text/plain": [
       "(50000, 32, 32, 3)"
      ]
     },
     "execution_count": 16,
     "metadata": {},
     "output_type": "execute_result"
    }
   ],
   "source": [
    "X.shape"
   ]
  },
  {
   "cell_type": "code",
   "execution_count": 17,
   "id": "4c5a459e",
   "metadata": {},
   "outputs": [],
   "source": [
    "X_train, X_val, y_train, y_val = model_selection.train_test_split(X, y, test_size=0.2, random_state=True)"
   ]
  },
  {
   "cell_type": "code",
   "execution_count": 18,
   "id": "2e57eade",
   "metadata": {},
   "outputs": [
    {
     "data": {
      "text/plain": [
       "array([[[[ 18,  18,  17],\n",
       "         [ 22,  23,  19],\n",
       "         [ 37,  38,  33],\n",
       "         ...,\n",
       "         [193, 215, 228],\n",
       "         [189, 210, 223],\n",
       "         [191, 213, 226]],\n",
       "\n",
       "        [[ 23,  25,  21],\n",
       "         [ 26,  27,  21],\n",
       "         [ 32,  31,  23],\n",
       "         ...,\n",
       "         [120, 144, 128],\n",
       "         [106, 130, 114],\n",
       "         [122, 146, 130]],\n",
       "\n",
       "        [[ 24,  30,  22],\n",
       "         [ 23,  23,  15],\n",
       "         [ 42,  38,  29],\n",
       "         ...,\n",
       "         [ 85, 106,  65],\n",
       "         [ 85, 106,  65],\n",
       "         [ 86, 107,  66]],\n",
       "\n",
       "        ...,\n",
       "\n",
       "        [[179, 149, 119],\n",
       "         [176, 145, 116],\n",
       "         [179, 149, 119],\n",
       "         ...,\n",
       "         [172, 150, 121],\n",
       "         [186, 161, 130],\n",
       "         [192, 164, 131]],\n",
       "\n",
       "        [[178, 150, 120],\n",
       "         [172, 145, 115],\n",
       "         [176, 149, 119],\n",
       "         ...,\n",
       "         [197, 168, 134],\n",
       "         [194, 164, 131],\n",
       "         [192, 163, 128]],\n",
       "\n",
       "        [[174, 147, 116],\n",
       "         [174, 147, 116],\n",
       "         [177, 150, 119],\n",
       "         ...,\n",
       "         [195, 163, 133],\n",
       "         [192, 162, 132],\n",
       "         [192, 162, 132]]],\n",
       "\n",
       "\n",
       "       [[[ 17,  21,  16],\n",
       "         [ 67,  66,  62],\n",
       "         [ 77,  71,  67],\n",
       "         ...,\n",
       "         [ 11,  11,  11],\n",
       "         [ 10,  10,  10],\n",
       "         [ 11,  11,  11]],\n",
       "\n",
       "        [[ 42,  44,  40],\n",
       "         [205, 199, 195],\n",
       "         [239, 225, 219],\n",
       "         ...,\n",
       "         [ 18,  18,  18],\n",
       "         [ 18,  18,  18],\n",
       "         [ 18,  18,  18]],\n",
       "\n",
       "        [[ 52,  52,  49],\n",
       "         [216, 199, 196],\n",
       "         [254, 223, 219],\n",
       "         ...,\n",
       "         [ 26,  26,  26],\n",
       "         [ 26,  26,  26],\n",
       "         [ 26,  26,  26]],\n",
       "\n",
       "        ...,\n",
       "\n",
       "        [[229, 228, 226],\n",
       "         [225, 224, 222],\n",
       "         [225, 224, 222],\n",
       "         ...,\n",
       "         [135, 120, 123],\n",
       "         [165, 150, 153],\n",
       "         [216, 203, 205]],\n",
       "\n",
       "        [[236, 235, 233],\n",
       "         [231, 230, 228],\n",
       "         [232, 231, 229],\n",
       "         ...,\n",
       "         [219, 219, 217],\n",
       "         [227, 231, 228],\n",
       "         [231, 237, 233]],\n",
       "\n",
       "        [[241, 240, 238],\n",
       "         [237, 236, 234],\n",
       "         [237, 236, 234],\n",
       "         ...,\n",
       "         [241, 237, 236],\n",
       "         [237, 237, 235],\n",
       "         [241, 242, 239]]],\n",
       "\n",
       "\n",
       "       [[[214, 214, 214],\n",
       "         [209, 209, 209],\n",
       "         [210, 210, 210],\n",
       "         ...,\n",
       "         [216, 214, 217],\n",
       "         [223, 221, 223],\n",
       "         [231, 229, 232]],\n",
       "\n",
       "        [[210, 210, 210],\n",
       "         [209, 209, 209],\n",
       "         [208, 208, 208],\n",
       "         ...,\n",
       "         [222, 218, 219],\n",
       "         [231, 226, 227],\n",
       "         [241, 236, 237]],\n",
       "\n",
       "        [[214, 214, 214],\n",
       "         [215, 215, 215],\n",
       "         [214, 214, 214],\n",
       "         ...,\n",
       "         [243, 236, 234],\n",
       "         [245, 238, 236],\n",
       "         [248, 241, 239]],\n",
       "\n",
       "        ...,\n",
       "\n",
       "        [[126, 110,  90],\n",
       "         [115,  87,  65],\n",
       "         [107,  67,  43],\n",
       "         ...,\n",
       "         [183, 159, 135],\n",
       "         [181, 158, 135],\n",
       "         [178, 159, 139]],\n",
       "\n",
       "        [[116, 101,  80],\n",
       "         [100,  79,  56],\n",
       "         [ 95,  67,  42],\n",
       "         ...,\n",
       "         [180, 158, 134],\n",
       "         [177, 157, 135],\n",
       "         [175, 157, 138]],\n",
       "\n",
       "        [[140, 125, 104],\n",
       "         [126, 111,  87],\n",
       "         [119, 103,  77],\n",
       "         ...,\n",
       "         [183, 161, 139],\n",
       "         [181, 161, 141],\n",
       "         [183, 165, 148]]],\n",
       "\n",
       "\n",
       "       ...,\n",
       "\n",
       "\n",
       "       [[[245, 241, 235],\n",
       "         [243, 239, 231],\n",
       "         [237, 234, 223],\n",
       "         ...,\n",
       "         [182, 175, 172],\n",
       "         [174, 167, 163],\n",
       "         [167, 159, 154]],\n",
       "\n",
       "        [[249, 244, 238],\n",
       "         [245, 241, 232],\n",
       "         [238, 234, 223],\n",
       "         ...,\n",
       "         [203, 200, 200],\n",
       "         [200, 198, 198],\n",
       "         [197, 195, 196]],\n",
       "\n",
       "        [[246, 242, 236],\n",
       "         [243, 239, 230],\n",
       "         [238, 234, 223],\n",
       "         ...,\n",
       "         [193, 194, 198],\n",
       "         [192, 193, 197],\n",
       "         [193, 193, 197]],\n",
       "\n",
       "        ...,\n",
       "\n",
       "        [[ 74,  70,  75],\n",
       "         [ 82,  78,  83],\n",
       "         [ 90,  86,  91],\n",
       "         ...,\n",
       "         [ 57,  66,  71],\n",
       "         [ 62,  74,  77],\n",
       "         [ 67,  78,  82]],\n",
       "\n",
       "        [[ 92,  90,  95],\n",
       "         [ 95,  93,  98],\n",
       "         [ 92,  90,  95],\n",
       "         ...,\n",
       "         [ 66,  74,  79],\n",
       "         [ 71,  80,  85],\n",
       "         [ 77,  85,  90]],\n",
       "\n",
       "        [[ 80,  78,  84],\n",
       "         [ 80,  79,  85],\n",
       "         [ 80,  79,  85],\n",
       "         ...,\n",
       "         [ 75,  82,  88],\n",
       "         [ 80,  87,  93],\n",
       "         [ 72,  79,  85]]],\n",
       "\n",
       "\n",
       "       [[[176, 183, 193],\n",
       "         [175, 182, 192],\n",
       "         [179, 185, 195],\n",
       "         ...,\n",
       "         [185, 194, 203],\n",
       "         [183, 192, 201],\n",
       "         [185, 194, 202]],\n",
       "\n",
       "        [[180, 187, 197],\n",
       "         [177, 184, 194],\n",
       "         [179, 187, 197],\n",
       "         ...,\n",
       "         [185, 194, 203],\n",
       "         [186, 195, 204],\n",
       "         [189, 198, 206]],\n",
       "\n",
       "        [[177, 184, 194],\n",
       "         [178, 185, 195],\n",
       "         [179, 186, 196],\n",
       "         ...,\n",
       "         [183, 192, 201],\n",
       "         [186, 195, 204],\n",
       "         [189, 197, 205]],\n",
       "\n",
       "        ...,\n",
       "\n",
       "        [[128, 134, 135],\n",
       "         [128, 134, 134],\n",
       "         [127, 133, 133],\n",
       "         ...,\n",
       "         [139, 146, 151],\n",
       "         [137, 144, 150],\n",
       "         [137, 145, 150]],\n",
       "\n",
       "        [[123, 129, 129],\n",
       "         [121, 127, 127],\n",
       "         [120, 126, 126],\n",
       "         ...,\n",
       "         [140, 147, 153],\n",
       "         [140, 147, 153],\n",
       "         [140, 148, 153]],\n",
       "\n",
       "        [[118, 124, 124],\n",
       "         [117, 123, 123],\n",
       "         [116, 122, 122],\n",
       "         ...,\n",
       "         [143, 150, 156],\n",
       "         [144, 150, 157],\n",
       "         [145, 153, 158]]],\n",
       "\n",
       "\n",
       "       [[[ 85, 122, 168],\n",
       "         [ 86, 124, 170],\n",
       "         [ 83, 122, 170],\n",
       "         ...,\n",
       "         [ 88, 124, 171],\n",
       "         [ 79, 118, 169],\n",
       "         [ 77, 118, 168]],\n",
       "\n",
       "        [[ 90, 128, 173],\n",
       "         [ 89, 126, 171],\n",
       "         [ 87, 125, 172],\n",
       "         ...,\n",
       "         [ 85, 124, 173],\n",
       "         [ 80, 121, 171],\n",
       "         [ 82, 121, 170]],\n",
       "\n",
       "        [[100, 135, 175],\n",
       "         [101, 136, 176],\n",
       "         [ 95, 132, 177],\n",
       "         ...,\n",
       "         [109, 142, 182],\n",
       "         [110, 141, 180],\n",
       "         [115, 143, 178]],\n",
       "\n",
       "        ...,\n",
       "\n",
       "        [[ 44,  44,  42],\n",
       "         [ 39,  39,  39],\n",
       "         [ 26,  26,  22],\n",
       "         ...,\n",
       "         [131, 122, 112],\n",
       "         [ 51,  45,  39],\n",
       "         [  9,  10,   9]],\n",
       "\n",
       "        [[ 40,  42,  38],\n",
       "         [ 27,  32,  22],\n",
       "         [ 28,  33,  17],\n",
       "         ...,\n",
       "         [ 42,  37,  34],\n",
       "         [ 25,  23,  21],\n",
       "         [ 10,  12,  14]],\n",
       "\n",
       "        [[ 49,  48,  44],\n",
       "         [ 37,  38,  29],\n",
       "         [ 39,  40,  31],\n",
       "         ...,\n",
       "         [ 11,  12,   8],\n",
       "         [ 17,  17,  13],\n",
       "         [ 36,  35,  31]]]], dtype=uint8)"
      ]
     },
     "execution_count": 18,
     "metadata": {},
     "output_type": "execute_result"
    }
   ],
   "source": [
    "X_train # y= ax1 + bx2 + cx3"
   ]
  },
  {
   "cell_type": "code",
   "execution_count": 19,
   "id": "535c2a98",
   "metadata": {},
   "outputs": [],
   "source": [
    "X_train = X_train.astype('float32')\n",
    "X_val = X_val.astype('float32')"
   ]
  },
  {
   "cell_type": "code",
   "execution_count": 20,
   "id": "f237d5e5",
   "metadata": {},
   "outputs": [
    {
     "name": "stdout",
     "output_type": "stream",
     "text": [
      "X_train shape: (40000, 32, 32, 3)\n",
      "40000 train samples\n",
      "10000 test samples\n"
     ]
    }
   ],
   "source": [
    "scaler = MinMaxScaler()\n",
    "n = X_train.shape[0]\n",
    "X_train = scaler.fit_transform(X_train.reshape(n, -1)).reshape(X_train.shape)\n",
    "\n",
    "n = X_val.shape[0]\n",
    "X_val = scaler.transform(X_val.reshape(n, -1)).reshape(X_val.shape)\n",
    "\n",
    "\n",
    "n = x_test.shape[0]\n",
    "x_test = scaler.transform(x_test.reshape(n, -1)).reshape(x_test.shape)\n",
    "\n",
    "print('X_train shape:', X_train.shape)\n",
    "print(X_train.shape[0], 'train samples')\n",
    "print(x_test.shape[0], 'test samples')"
   ]
  },
  {
   "cell_type": "code",
   "execution_count": 21,
   "id": "2eb058db",
   "metadata": {},
   "outputs": [],
   "source": [
    "y_train = np_utils.to_categorical(y_train, nb_classes)\n",
    "y_val = np_utils.to_categorical(y_val, nb_classes)\n",
    "y_test = np_utils.to_categorical(y_test_o, nb_classes)"
   ]
  },
  {
   "cell_type": "code",
   "execution_count": 22,
   "id": "8d317638",
   "metadata": {},
   "outputs": [
    {
     "data": {
      "text/plain": [
       "array([0., 0., 0., 0., 0., 0., 1., 0., 0., 0.], dtype=float32)"
      ]
     },
     "execution_count": 22,
     "metadata": {},
     "output_type": "execute_result"
    }
   ],
   "source": [
    "y_val[0]"
   ]
  },
  {
   "cell_type": "code",
   "execution_count": 23,
   "id": "5aa27c80",
   "metadata": {},
   "outputs": [
    {
     "name": "stdout",
     "output_type": "stream",
     "text": [
      "Model: \"model_4\"\n",
      "_________________________________________________________________\n",
      "Layer (type)                 Output Shape              Param #   \n",
      "=================================================================\n",
      "input_1 (InputLayer)         (None, 32, 32, 3)         0         \n",
      "_________________________________________________________________\n",
      "conv2d_1 (Conv2D)            (None, 30, 30, 32)        896       \n",
      "_________________________________________________________________\n",
      "conv2d_2 (Conv2D)            (None, 28, 28, 64)        18496     \n",
      "_________________________________________________________________\n",
      "max_pooling2d_1 (MaxPooling2 (None, 14, 14, 64)        0         \n",
      "_________________________________________________________________\n",
      "dropout_1 (Dropout)          (None, 14, 14, 64)        0         \n",
      "_________________________________________________________________\n",
      "flatten_1 (Flatten)          (None, 12544)             0         \n",
      "_________________________________________________________________\n",
      "dense_3 (Dense)              (None, 128)               1605760   \n",
      "_________________________________________________________________\n",
      "dropout_2 (Dropout)          (None, 128)               0         \n",
      "_________________________________________________________________\n",
      "preds (Dense)                (None, 10)                1290      \n",
      "=================================================================\n",
      "Total params: 1,626,442\n",
      "Trainable params: 1,626,442\n",
      "Non-trainable params: 0\n",
      "_________________________________________________________________\n"
     ]
    }
   ],
   "source": [
    "x = Input(in_shape)\n",
    "h = Conv2D(32, kernel_size=(3, 3), activation='relu',\n",
    "                   input_shape=in_shape)(x)\n",
    "h = Conv2D(64, kernel_size=(3, 3), activation='relu')(h)\n",
    "h = MaxPooling2D(pool_size=(2, 2))(h)\n",
    "h = Dropout(0.25)(h)\n",
    "z_cl = Flatten()(h)\n",
    "\n",
    "\n",
    "h = Dense(128, activation='relu')(z_cl)\n",
    "z_fl = Dropout(0.5)(h)\n",
    "y = Dense(nb_classes, activation='softmax', name='preds')(z_fl)\n",
    "\n",
    "cl_part = Model(x, z_cl)\n",
    "fl_part = Model(x, z_fl)\n",
    "\n",
    "model=Model(inputs=x, outputs=y)\n",
    "model.compile(loss='categorical_crossentropy',optimizer='adam', metrics=['accuracy'])\n",
    "model.summary()"
   ]
  },
  {
   "cell_type": "code",
   "execution_count": 24,
   "id": "52cef211",
   "metadata": {
    "scrolled": true
   },
   "outputs": [
    {
     "name": "stdout",
     "output_type": "stream",
     "text": [
      "Train on 40000 samples, validate on 10000 samples\n",
      "Epoch 1/100\n",
      "40000/40000 [==============================] - 194s 5ms/step - loss: 1.7047 - accuracy: 0.3765 - val_loss: 1.2985 - val_accuracy: 0.5400\n",
      "Epoch 2/100\n",
      " 1664/40000 [>.............................] - ETA: 3:10 - loss: 1.4443 - accuracy: 0.4802"
     ]
    },
    {
     "ename": "KeyboardInterrupt",
     "evalue": "",
     "output_type": "error",
     "traceback": [
      "\u001b[1;31m---------------------------------------------------------------------------\u001b[0m",
      "\u001b[1;31mKeyboardInterrupt\u001b[0m                         Traceback (most recent call last)",
      "\u001b[1;32m<ipython-input-24-05435bc83ff4>\u001b[0m in \u001b[0;36m<module>\u001b[1;34m\u001b[0m\n\u001b[1;32m----> 1\u001b[1;33m \u001b[0mhistory\u001b[0m \u001b[1;33m=\u001b[0m \u001b[0mmodel\u001b[0m\u001b[1;33m.\u001b[0m\u001b[0mfit\u001b[0m\u001b[1;33m(\u001b[0m\u001b[0mx\u001b[0m\u001b[1;33m=\u001b[0m\u001b[0mX_train\u001b[0m\u001b[1;33m,\u001b[0m \u001b[0my\u001b[0m\u001b[1;33m=\u001b[0m\u001b[0my_train\u001b[0m\u001b[1;33m,\u001b[0m \u001b[0mepochs\u001b[0m\u001b[1;33m=\u001b[0m\u001b[1;36m100\u001b[0m\u001b[1;33m,\u001b[0m \u001b[0mbatch_size\u001b[0m\u001b[1;33m=\u001b[0m\u001b[1;36m128\u001b[0m\u001b[1;33m,\u001b[0m \u001b[0mverbose\u001b[0m\u001b[1;33m=\u001b[0m\u001b[1;36m1\u001b[0m\u001b[1;33m,\u001b[0m \u001b[0mvalidation_data\u001b[0m\u001b[1;33m=\u001b[0m\u001b[1;33m[\u001b[0m\u001b[0mX_val\u001b[0m\u001b[1;33m,\u001b[0m \u001b[0my_val\u001b[0m\u001b[1;33m]\u001b[0m\u001b[1;33m)\u001b[0m\u001b[1;33m\u001b[0m\u001b[1;33m\u001b[0m\u001b[0m\n\u001b[0m",
      "\u001b[1;32mc:\\Users\\lunaw\\Anaconda3\\lib\\site-packages\\keras\\engine\\training.py\u001b[0m in \u001b[0;36mfit\u001b[1;34m(self, x, y, batch_size, epochs, verbose, callbacks, validation_split, validation_data, shuffle, class_weight, sample_weight, initial_epoch, steps_per_epoch, validation_steps, validation_freq, max_queue_size, workers, use_multiprocessing, **kwargs)\u001b[0m\n\u001b[0;32m   1237\u001b[0m                                         \u001b[0msteps_per_epoch\u001b[0m\u001b[1;33m=\u001b[0m\u001b[0msteps_per_epoch\u001b[0m\u001b[1;33m,\u001b[0m\u001b[1;33m\u001b[0m\u001b[1;33m\u001b[0m\u001b[0m\n\u001b[0;32m   1238\u001b[0m                                         \u001b[0mvalidation_steps\u001b[0m\u001b[1;33m=\u001b[0m\u001b[0mvalidation_steps\u001b[0m\u001b[1;33m,\u001b[0m\u001b[1;33m\u001b[0m\u001b[1;33m\u001b[0m\u001b[0m\n\u001b[1;32m-> 1239\u001b[1;33m                                         validation_freq=validation_freq)\n\u001b[0m\u001b[0;32m   1240\u001b[0m \u001b[1;33m\u001b[0m\u001b[0m\n\u001b[0;32m   1241\u001b[0m     def evaluate(self,\n",
      "\u001b[1;32mc:\\Users\\lunaw\\Anaconda3\\lib\\site-packages\\keras\\engine\\training_arrays.py\u001b[0m in \u001b[0;36mfit_loop\u001b[1;34m(model, fit_function, fit_inputs, out_labels, batch_size, epochs, verbose, callbacks, val_function, val_inputs, shuffle, initial_epoch, steps_per_epoch, validation_steps, validation_freq)\u001b[0m\n\u001b[0;32m    194\u001b[0m                     \u001b[0mins_batch\u001b[0m\u001b[1;33m[\u001b[0m\u001b[0mi\u001b[0m\u001b[1;33m]\u001b[0m \u001b[1;33m=\u001b[0m \u001b[0mins_batch\u001b[0m\u001b[1;33m[\u001b[0m\u001b[0mi\u001b[0m\u001b[1;33m]\u001b[0m\u001b[1;33m.\u001b[0m\u001b[0mtoarray\u001b[0m\u001b[1;33m(\u001b[0m\u001b[1;33m)\u001b[0m\u001b[1;33m\u001b[0m\u001b[1;33m\u001b[0m\u001b[0m\n\u001b[0;32m    195\u001b[0m \u001b[1;33m\u001b[0m\u001b[0m\n\u001b[1;32m--> 196\u001b[1;33m                 \u001b[0mouts\u001b[0m \u001b[1;33m=\u001b[0m \u001b[0mfit_function\u001b[0m\u001b[1;33m(\u001b[0m\u001b[0mins_batch\u001b[0m\u001b[1;33m)\u001b[0m\u001b[1;33m\u001b[0m\u001b[1;33m\u001b[0m\u001b[0m\n\u001b[0m\u001b[0;32m    197\u001b[0m                 \u001b[0mouts\u001b[0m \u001b[1;33m=\u001b[0m \u001b[0mto_list\u001b[0m\u001b[1;33m(\u001b[0m\u001b[0mouts\u001b[0m\u001b[1;33m)\u001b[0m\u001b[1;33m\u001b[0m\u001b[1;33m\u001b[0m\u001b[0m\n\u001b[0;32m    198\u001b[0m                 \u001b[1;32mfor\u001b[0m \u001b[0ml\u001b[0m\u001b[1;33m,\u001b[0m \u001b[0mo\u001b[0m \u001b[1;32min\u001b[0m \u001b[0mzip\u001b[0m\u001b[1;33m(\u001b[0m\u001b[0mout_labels\u001b[0m\u001b[1;33m,\u001b[0m \u001b[0mouts\u001b[0m\u001b[1;33m)\u001b[0m\u001b[1;33m:\u001b[0m\u001b[1;33m\u001b[0m\u001b[1;33m\u001b[0m\u001b[0m\n",
      "\u001b[1;32mc:\\Users\\lunaw\\Anaconda3\\lib\\site-packages\\tensorflow\\python\\keras\\backend.py\u001b[0m in \u001b[0;36m__call__\u001b[1;34m(self, inputs)\u001b[0m\n\u001b[0;32m   3074\u001b[0m \u001b[1;33m\u001b[0m\u001b[0m\n\u001b[0;32m   3075\u001b[0m     fetched = self._callable_fn(*array_vals,\n\u001b[1;32m-> 3076\u001b[1;33m                                 run_metadata=self.run_metadata)\n\u001b[0m\u001b[0;32m   3077\u001b[0m     \u001b[0mself\u001b[0m\u001b[1;33m.\u001b[0m\u001b[0m_call_fetch_callbacks\u001b[0m\u001b[1;33m(\u001b[0m\u001b[0mfetched\u001b[0m\u001b[1;33m[\u001b[0m\u001b[1;33m-\u001b[0m\u001b[0mlen\u001b[0m\u001b[1;33m(\u001b[0m\u001b[0mself\u001b[0m\u001b[1;33m.\u001b[0m\u001b[0m_fetches\u001b[0m\u001b[1;33m)\u001b[0m\u001b[1;33m:\u001b[0m\u001b[1;33m]\u001b[0m\u001b[1;33m)\u001b[0m\u001b[1;33m\u001b[0m\u001b[1;33m\u001b[0m\u001b[0m\n\u001b[0;32m   3078\u001b[0m     return nest.pack_sequence_as(self._outputs_structure,\n",
      "\u001b[1;32mc:\\Users\\lunaw\\Anaconda3\\lib\\site-packages\\tensorflow\\python\\client\\session.py\u001b[0m in \u001b[0;36m__call__\u001b[1;34m(self, *args, **kwargs)\u001b[0m\n\u001b[0;32m   1437\u001b[0m           ret = tf_session.TF_SessionRunCallable(\n\u001b[0;32m   1438\u001b[0m               \u001b[0mself\u001b[0m\u001b[1;33m.\u001b[0m\u001b[0m_session\u001b[0m\u001b[1;33m.\u001b[0m\u001b[0m_session\u001b[0m\u001b[1;33m,\u001b[0m \u001b[0mself\u001b[0m\u001b[1;33m.\u001b[0m\u001b[0m_handle\u001b[0m\u001b[1;33m,\u001b[0m \u001b[0margs\u001b[0m\u001b[1;33m,\u001b[0m \u001b[0mstatus\u001b[0m\u001b[1;33m,\u001b[0m\u001b[1;33m\u001b[0m\u001b[1;33m\u001b[0m\u001b[0m\n\u001b[1;32m-> 1439\u001b[1;33m               run_metadata_ptr)\n\u001b[0m\u001b[0;32m   1440\u001b[0m         \u001b[1;32mif\u001b[0m \u001b[0mrun_metadata\u001b[0m\u001b[1;33m:\u001b[0m\u001b[1;33m\u001b[0m\u001b[1;33m\u001b[0m\u001b[0m\n\u001b[0;32m   1441\u001b[0m           \u001b[0mproto_data\u001b[0m \u001b[1;33m=\u001b[0m \u001b[0mtf_session\u001b[0m\u001b[1;33m.\u001b[0m\u001b[0mTF_GetBuffer\u001b[0m\u001b[1;33m(\u001b[0m\u001b[0mrun_metadata_ptr\u001b[0m\u001b[1;33m)\u001b[0m\u001b[1;33m\u001b[0m\u001b[1;33m\u001b[0m\u001b[0m\n",
      "\u001b[1;31mKeyboardInterrupt\u001b[0m: "
     ]
    }
   ],
   "source": [
    "history = model.fit(x=X_train, y=y_train, epochs=100, batch_size=128, verbose=1, validation_data=[X_val, y_val])"
   ]
  },
  {
   "cell_type": "code",
   "execution_count": null,
   "id": "d3c74648",
   "metadata": {},
   "outputs": [
    {
     "data": {
      "text/plain": [
       "<matplotlib.legend.Legend at 0x1de10846f10>"
      ]
     },
     "execution_count": 25,
     "metadata": {},
     "output_type": "execute_result"
    },
    {
     "data": {
      "image/png": "[encoded data removed]",
      "text/plain": [
       "<Figure size 432x288 with 1 Axes>"
      ]
     },
     "metadata": {
      "needs_background": "light"
     },
     "output_type": "display_data"
    }
   ],
   "source": [
    "plt.plot(history.history['accuracy'])\n",
    "plt.plot(history.history['val_accuracy'])\n",
    "plt.ylabel('Accracy')\n",
    "plt.xlabel('Epoch')\n",
    "plt.legend(['Training data', 'Validation data'], loc=0)"
   ]
  },
  {
   "cell_type": "code",
   "execution_count": null,
   "id": "479e03fd",
   "metadata": {},
   "outputs": [
    {
     "data": {
      "text/plain": [
       "<matplotlib.legend.Legend at 0x1e0a2b53d90>"
      ]
     },
     "execution_count": 26,
     "metadata": {},
     "output_type": "execute_result"
    },
    {
     "data": {
      "image/png": "[encoded data removed]",
      "text/plain": [
       "<Figure size 432x288 with 1 Axes>"
      ]
     },
     "metadata": {
      "needs_background": "light"
     },
     "output_type": "display_data"
    }
   ],
   "source": [
    "plt.plot(history.history['loss'])\n",
    "plt.plot(history.history['val_loss'])\n",
    "plt.ylabel('Accracy')\n",
    "plt.xlabel('Epoch')\n",
    "plt.legend(['Training data', 'Validation data'], loc=0)"
   ]
  },
  {
   "cell_type": "code",
   "execution_count": null,
   "id": "a53e1a5a",
   "metadata": {},
   "outputs": [
    {
     "name": "stdout",
     "output_type": "stream",
     "text": [
      "313/313 [==============================] - 2s 5ms/step - loss: 1.3564 - accuracy: 0.7013\n",
      "Confusion matrix\n",
      "[[742  29  49  20  17   4   9  11  81  38]\n",
      " [ 26 837   8   5   2   4   7   2  16  93]\n",
      " [ 71   8 519  82 102  79  67  38  18  16]\n",
      " [ 19  16  72 538  46 161  60  44  23  21]\n",
      " [ 29   4  61  69 664  32  46  70  16   9]\n",
      " [ 15   8  42 191  47 602  24  52   9  10]\n",
      " [  4  15  53  78  58  19 749   9   6   9]\n",
      " [ 18   3  42  41  58  61   8 742   3  24]\n",
      " [ 65  56   9  12   0   5   4   4 807  38]\n",
      " [ 29  85   8  11   6   7   5   9  27 813]]\n",
      "Test score: 1.3564255237579346\n",
      "Test accuracy: 0.7013000249862671\n"
     ]
    }
   ],
   "source": [
    "score = model.evaluate(x_test, y_test, verbose=1)\n",
    "\n",
    "print('Confusion matrix')\n",
    "y_pred = model.predict(x_test, verbose=0)\n",
    "y_pred_1 = np.argmax(y_pred, axis=1)\n",
    "print(metrics.confusion_matrix(y_test_o, y_pred_1))\n",
    "\n",
    "print('Test score:', score[0])\n",
    "print('Test accuracy:', score[1])"
   ]
  },
  {
   "cell_type": "code",
   "execution_count": null,
   "id": "7d3f17d0",
   "metadata": {},
   "outputs": [],
   "source": [
    "from sklearn.metrics import recall_score, precision_score, f1_score, roc_curve"
   ]
  },
  {
   "cell_type": "code",
   "execution_count": null,
   "id": "18077389",
   "metadata": {},
   "outputs": [
    {
     "data": {
      "text/plain": [
       "array([3, 8, 8, ..., 5, 1, 7], dtype=int64)"
      ]
     },
     "execution_count": 45,
     "metadata": {},
     "output_type": "execute_result"
    }
   ],
   "source": [
    "y_pred_1"
   ]
  },
  {
   "cell_type": "code",
   "execution_count": null,
   "id": "ad1f86c9",
   "metadata": {},
   "outputs": [
    {
     "data": {
      "text/plain": [
       "0.7013"
      ]
     },
     "execution_count": 46,
     "metadata": {},
     "output_type": "execute_result"
    }
   ],
   "source": [
    "recall_score(y_test_o, y_pred_1, average='macro')"
   ]
  },
  {
   "cell_type": "code",
   "execution_count": null,
   "id": "3913fa08",
   "metadata": {},
   "outputs": [
    {
     "data": {
      "text/plain": [
       "0.6997795944274777"
      ]
     },
     "execution_count": 47,
     "metadata": {},
     "output_type": "execute_result"
    }
   ],
   "source": [
    "precision_score(y_test_o, y_pred_1, average='macro')"
   ]
  },
  {
   "cell_type": "code",
   "execution_count": null,
   "id": "ffadc717",
   "metadata": {},
   "outputs": [
    {
     "data": {
      "text/plain": [
       "0.7000129628456058"
      ]
     },
     "execution_count": 48,
     "metadata": {},
     "output_type": "execute_result"
    }
   ],
   "source": [
    "f1_score(y_test_o, y_pred_1, average='macro')"
   ]
  },
  {
   "cell_type": "code",
   "execution_count": null,
   "id": "8c5efb43",
   "metadata": {},
   "outputs": [],
   "source": []
  },
  {
   "cell_type": "code",
   "execution_count": null,
   "id": "b7beb263",
   "metadata": {},
   "outputs": [],
   "source": []
  }
 ],
 "metadata": {
  "kernelspec": {
   "display_name": "Python 3.7.1 ('base')",
   "language": "python",
   "name": "python3"
  },
  "language_info": {
   "codemirror_mode": {
    "name": "ipython",
    "version": 3
   },
   "file_extension": ".py",
   "mimetype": "text/x-python",
   "name": "python",
   "nbconvert_exporter": "python",
   "pygments_lexer": "ipython3",
   "version": "3.7.1"
  },
  "latex_envs": {
   "LaTeX_envs_menu_present": true,
   "autoclose": false,
   "autocomplete": true,
   "bibliofile": "biblio.bib",
   "cite_by": "apalike",
   "current_citInitial": 1,
   "eqLabelWithNumbers": true,
   "eqNumInitial": 1,
   "hotkeys": {
    "equation": "Ctrl-E",
    "itemize": "Ctrl-I"
   },
   "labels_anchors": false,
   "latex_user_defs": false,
   "report_style_numbering": false,
   "user_envs_cfg": false
  },
  "toc": {
   "base_numbering": 1,
   "nav_menu": {},
   "number_sections": true,
   "sideBar": true,
   "skip_h1_title": false,
   "title_cell": "Table of Contents",
   "title_sidebar": "Contents",
   "toc_cell": false,
   "toc_position": {},
   "toc_section_display": true,
   "toc_window_display": false
  },
  "vscode": {
   "interpreter": {
    "hash": "2276d34d8406ba1cfef020614354d7c02b36ca5a2ec700c2667e91593e0bec3f"
   }
  }
 },
 "nbformat": 4,
 "nbformat_minor": 5
}
