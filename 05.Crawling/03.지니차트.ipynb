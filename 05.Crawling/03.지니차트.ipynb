{
 "cells": [
  {
   "cell_type": "markdown",
   "metadata": {},
   "source": [
    "# 지니 Top200 차트"
   ]
  },
  {
   "cell_type": "code",
   "execution_count": 94,
   "metadata": {},
   "outputs": [],
   "source": [
    "import requests\n",
    "from urllib.parse import quote\n",
    "import pandas as pd\n",
    "from bs4 import BeautifulSoup"
   ]
  },
  {
   "cell_type": "markdown",
   "metadata": {},
   "source": [
    "### 1. 인터넷에서 데이터 가져오기"
   ]
  },
  {
   "cell_type": "code",
   "execution_count": 95,
   "metadata": {},
   "outputs": [
    {
     "data": {
      "text/plain": [
       "'<br>\\r\\n<br>\\r\\n<center>\\r\\n<img src=\"http://www.geniemusic.co.kr/images/common/logo_r1.png\"><br>\\r\\n<h2> <meta http-equiv=\"Content-Type\" content=\"text/html;charset=UTF-8\"> ì\\xa0\\x91ì\\x86\\x8dì\\x9a\\x94ì²\\xadì\\x9d´ ë³´ì\\x95\\x88ì\\xa0\\x95ì±\\x85ì\\x97\\x90 ì\\x9d\\x98í\\x95´ ì°¨ë\\x8b¨ë\\x90\\x98ì\\x97\\x88ì\\x8aµë\\x8b\\x88ë\\x8b¤. ë\\x8b¹ì\\x82¬ ê³\\xa0ê°\\x9dì\\x84¼í\\x84°ë¡\\x9c ë¬¸ì\\x9d\\x98í\\x95´ì£¼ì\\x8b\\xadì\\x8b\\x9cì\\x98¤.<br><br>\\r\\nThe security policy of the connection request is blocked. Contact your customer service representative.<br><br>\\r\\nì§\\x80ë\\x8b\\x88ë®¤ì§\\x81 ê³\\xa0ê°\\x9dì\\x84¼í\\x84° 1577-5337<br><br>\\r\\n</h2>\\r\\n</center>\\r\\n<br>'"
      ]
     },
     "execution_count": 95,
     "metadata": {},
     "output_type": "execute_result"
    }
   ],
   "source": [
    "url = 'https://www.genie.co.kr/chart/top200'\n",
    "req = requests.get(url)\n",
    "req.text        # The security policy of the connection request is blocked."
   ]
  },
  {
   "cell_type": "code",
   "execution_count": 96,
   "metadata": {},
   "outputs": [],
   "source": [
    "# Chrome User-Agent : 나는 로봇이 아니예요...\n",
    "header = {'User-Agent': 'Mozilla/5.0 (Windows NT 10.0; Win64; x64) AppleWebKit/537.36 (KHTML, like Gecko) Chrome/100.0.4896.75 Safari/537.36'}\n",
    "req = requests.get(url, headers=header)\n",
    "soup = BeautifulSoup(req.text, 'html.parser')"
   ]
  },
  {
   "cell_type": "markdown",
   "metadata": {},
   "source": [
    "### 2. 찾으려고 하는 데이터의 노드 찾기"
   ]
  },
  {
   "cell_type": "code",
   "execution_count": 97,
   "metadata": {},
   "outputs": [
    {
     "data": {
      "text/plain": [
       "50"
      ]
     },
     "execution_count": 97,
     "metadata": {},
     "output_type": "execute_result"
    }
   ],
   "source": [
    "trs = soup.select('tr.list')        # tag는 tr, class는 list\n",
    "len(trs)"
   ]
  },
  {
   "cell_type": "code",
   "execution_count": 98,
   "metadata": {},
   "outputs": [
    {
     "data": {
      "text/plain": [
       "50"
      ]
     },
     "execution_count": 98,
     "metadata": {},
     "output_type": "execute_result"
    }
   ],
   "source": [
    "# 개발자 도구에서 찾아주는 Selector\n",
    "#body-content > div.newest-list > div > table > tbody > tr:nth-child(1)\n",
    "trs = soup.select('#body-content > div.newest-list > div > table > tbody > tr')\n",
    "len(trs)"
   ]
  },
  {
   "cell_type": "markdown",
   "metadata": {},
   "source": [
    "### 3. 여러개의 데이터 중 하나를 선택해서 원하는 정보를 추출"
   ]
  },
  {
   "cell_type": "code",
   "execution_count": 99,
   "metadata": {},
   "outputs": [],
   "source": [
    "tr = trs[12]"
   ]
  },
  {
   "cell_type": "code",
   "execution_count": 100,
   "metadata": {},
   "outputs": [
    {
     "data": {
      "text/plain": [
       "'13\\n                                        \\n                                    \\n1상승\\n\\n'"
      ]
     },
     "execution_count": 100,
     "metadata": {},
     "output_type": "execute_result"
    }
   ],
   "source": [
    "# rank\n",
    "tr.select_one('.number').get_text()"
   ]
  },
  {
   "cell_type": "code",
   "execution_count": 101,
   "metadata": {},
   "outputs": [
    {
     "data": {
      "text/plain": [
       "'13'"
      ]
     },
     "execution_count": 101,
     "metadata": {},
     "output_type": "execute_result"
    }
   ],
   "source": [
    "rank = tr.select_one('.number').get_text().split('\\n')[0]\n",
    "rank"
   ]
  },
  {
   "cell_type": "code",
   "execution_count": 102,
   "metadata": {},
   "outputs": [
    {
     "data": {
      "text/plain": [
       "13"
      ]
     },
     "execution_count": 102,
     "metadata": {},
     "output_type": "execute_result"
    }
   ],
   "source": [
    "try:\n",
    "    rank = int(tr.select_one('.number').get_text().split('\\n')[0])\n",
    "except:\n",
    "    rank = 0\n",
    "rank"
   ]
  },
  {
   "cell_type": "code",
   "execution_count": 103,
   "metadata": {},
   "outputs": [
    {
     "data": {
      "text/plain": [
       "'신호등'"
      ]
     },
     "execution_count": 103,
     "metadata": {},
     "output_type": "execute_result"
    }
   ],
   "source": [
    "# 제목\n",
    "try:        # 일반적인 노래\n",
    "    title = tr.select_one('.title.ellipsis').string.strip()\n",
    "except:     # 19금 노래\n",
    "    title = tr.select_one('.title.ellipsis').get_text().split('\\n')[-1].strip()\n",
    "title"
   ]
  },
  {
   "cell_type": "code",
   "execution_count": 104,
   "metadata": {},
   "outputs": [
    {
     "data": {
      "text/plain": [
       "'이무진'"
      ]
     },
     "execution_count": 104,
     "metadata": {},
     "output_type": "execute_result"
    }
   ],
   "source": [
    "# artist\n",
    "artist = tr.select_one('.artist.ellipsis').text.strip()\n",
    "artist"
   ]
  },
  {
   "cell_type": "code",
   "execution_count": 105,
   "metadata": {},
   "outputs": [
    {
     "data": {
      "text/plain": [
       "'신호등'"
      ]
     },
     "execution_count": 105,
     "metadata": {},
     "output_type": "execute_result"
    }
   ],
   "source": [
    "# album\n",
    "album = tr.select_one('.albumtitle.ellipsis').text.strip()\n",
    "album"
   ]
  },
  {
   "cell_type": "markdown",
   "metadata": {},
   "source": [
    "### 4. 한 페이지내에 있는 정보"
   ]
  },
  {
   "cell_type": "markdown",
   "metadata": {},
   "source": [
    "- 1) 개별 리스트로 가져오기"
   ]
  },
  {
   "cell_type": "code",
   "execution_count": 107,
   "metadata": {},
   "outputs": [],
   "source": [
    "rank_list, title_list, artist_list, album_list =  [],[],[],[]\n",
    "for i, tr in enumerate(trs):\n",
    "    try:\n",
    "        rank = int(tr.select_one('.number').get_text().split('\\n')[0])\n",
    "    except:\n",
    "        rank = 0\n",
    "        \n",
    "    try:        # 일반적인 노래\n",
    "        title = tr.select_one('.title.ellipsis').string.strip()\n",
    "    except:     # 19금 노래\n",
    "        title = tr.select_one('.title.ellipsis').get_text().split('\\n')[-1].strip()   \n",
    "    artist = tr.select_one('.artist.ellipsis').text.strip()\n",
    "    album = tr.select_one('.albumtitle.ellipsis').text.strip()\n",
    "    \n",
    "    rank_list.append(rank)\n",
    "    title_list.append(title)\n",
    "    artist_list.append(artist)\n",
    "    album_list.append(album)\n",
    "    "
   ]
  },
  {
   "cell_type": "markdown",
   "metadata": {},
   "source": [
    "- 2. 줄단위로 딕셔너리 리스트를 만들기"
   ]
  },
  {
   "cell_type": "code",
   "execution_count": 108,
   "metadata": {},
   "outputs": [],
   "source": [
    "lines = []\n",
    "for i, tr in enumerate(trs):\n",
    "    try:\n",
    "        rank = int(tr.select_one('.number').get_text().split('\\n')[0])\n",
    "    except:\n",
    "        rank = 0\n",
    "        \n",
    "    try:        # 일반적인 노래\n",
    "        title = tr.select_one('.title.ellipsis').string.strip()\n",
    "    except:     # 19금 노래\n",
    "        title = tr.select_one('.title.ellipsis').get_text().split('\\n')[-1].strip()   \n",
    "    artist = tr.select_one('.artist.ellipsis').text.strip()\n",
    "    album = tr.select_one('.albumtitle.ellipsis').text.strip()\n",
    "    line = {'순위':rank, '제목':title, \n",
    "                    '아티스트':artist, '앨범':album}\n",
    "    lines.append(line)"
   ]
  },
  {
   "cell_type": "markdown",
   "metadata": {},
   "source": [
    "### 5. 데이터 프레임으로 만들기"
   ]
  },
  {
   "cell_type": "code",
   "execution_count": 109,
   "metadata": {},
   "outputs": [
    {
     "data": {
      "text/html": [
       "<div>\n",
       "<style scoped>\n",
       "    .dataframe tbody tr th:only-of-type {\n",
       "        vertical-align: middle;\n",
       "    }\n",
       "\n",
       "    .dataframe tbody tr th {\n",
       "        vertical-align: top;\n",
       "    }\n",
       "\n",
       "    .dataframe thead th {\n",
       "        text-align: right;\n",
       "    }\n",
       "</style>\n",
       "<table border=\"1\" class=\"dataframe\">\n",
       "  <thead>\n",
       "    <tr style=\"text-align: right;\">\n",
       "      <th></th>\n",
       "      <th>순위</th>\n",
       "      <th>제목</th>\n",
       "      <th>아티스트</th>\n",
       "      <th>앨범</th>\n",
       "    </tr>\n",
       "  </thead>\n",
       "  <tbody>\n",
       "    <tr>\n",
       "      <td>0</td>\n",
       "      <td>1</td>\n",
       "      <td>봄여름가을겨울 (Still Life)</td>\n",
       "      <td>BIGBANG (빅뱅)</td>\n",
       "      <td>봄여름가을겨울 (Still Life)</td>\n",
       "    </tr>\n",
       "    <tr>\n",
       "      <td>1</td>\n",
       "      <td>2</td>\n",
       "      <td>LOVE DIVE</td>\n",
       "      <td>IVE (아이브)</td>\n",
       "      <td>LOVE DIVE</td>\n",
       "    </tr>\n",
       "    <tr>\n",
       "      <td>2</td>\n",
       "      <td>3</td>\n",
       "      <td>TOMBOY</td>\n",
       "      <td>(여자)아이들</td>\n",
       "      <td>I NEVER DIE</td>\n",
       "    </tr>\n",
       "    <tr>\n",
       "      <td>3</td>\n",
       "      <td>4</td>\n",
       "      <td>Feel My Rhythm</td>\n",
       "      <td>Red Velvet (레드벨벳)</td>\n",
       "      <td>'The ReVe Festival 2022 - Feel My Rhythm'</td>\n",
       "    </tr>\n",
       "    <tr>\n",
       "      <td>4</td>\n",
       "      <td>5</td>\n",
       "      <td>사랑인가 봐</td>\n",
       "      <td>멜로망스 (MeloMance)</td>\n",
       "      <td>사랑인가 봐 (사내맞선 OST 스페셜 트랙)</td>\n",
       "    </tr>\n",
       "  </tbody>\n",
       "</table>\n",
       "</div>"
      ],
      "text/plain": [
       "   순위                    제목               아티스트  \\\n",
       "0   1  봄여름가을겨울 (Still Life)       BIGBANG (빅뱅)   \n",
       "1   2             LOVE DIVE          IVE (아이브)   \n",
       "2   3                TOMBOY            (여자)아이들   \n",
       "3   4        Feel My Rhythm  Red Velvet (레드벨벳)   \n",
       "4   5                사랑인가 봐   멜로망스 (MeloMance)   \n",
       "\n",
       "                                          앨범  \n",
       "0                       봄여름가을겨울 (Still Life)  \n",
       "1                                  LOVE DIVE  \n",
       "2                                I NEVER DIE  \n",
       "3  'The ReVe Festival 2022 - Feel My Rhythm'  \n",
       "4                   사랑인가 봐 (사내맞선 OST 스페셜 트랙)  "
      ]
     },
     "execution_count": 109,
     "metadata": {},
     "output_type": "execute_result"
    }
   ],
   "source": [
    "df = pd.DataFrame({'순위':rank_list, '제목':title_list, \n",
    "                    '아티스트':artist_list, '앨범':album_list})\n",
    "df.head()"
   ]
  },
  {
   "cell_type": "code",
   "execution_count": 110,
   "metadata": {},
   "outputs": [
    {
     "data": {
      "text/html": [
       "<div>\n",
       "<style scoped>\n",
       "    .dataframe tbody tr th:only-of-type {\n",
       "        vertical-align: middle;\n",
       "    }\n",
       "\n",
       "    .dataframe tbody tr th {\n",
       "        vertical-align: top;\n",
       "    }\n",
       "\n",
       "    .dataframe thead th {\n",
       "        text-align: right;\n",
       "    }\n",
       "</style>\n",
       "<table border=\"1\" class=\"dataframe\">\n",
       "  <thead>\n",
       "    <tr style=\"text-align: right;\">\n",
       "      <th></th>\n",
       "      <th>순위</th>\n",
       "      <th>제목</th>\n",
       "      <th>아티스트</th>\n",
       "      <th>앨범</th>\n",
       "    </tr>\n",
       "  </thead>\n",
       "  <tbody>\n",
       "    <tr>\n",
       "      <td>0</td>\n",
       "      <td>1</td>\n",
       "      <td>봄여름가을겨울 (Still Life)</td>\n",
       "      <td>BIGBANG (빅뱅)</td>\n",
       "      <td>봄여름가을겨울 (Still Life)</td>\n",
       "    </tr>\n",
       "    <tr>\n",
       "      <td>1</td>\n",
       "      <td>2</td>\n",
       "      <td>LOVE DIVE</td>\n",
       "      <td>IVE (아이브)</td>\n",
       "      <td>LOVE DIVE</td>\n",
       "    </tr>\n",
       "    <tr>\n",
       "      <td>2</td>\n",
       "      <td>3</td>\n",
       "      <td>TOMBOY</td>\n",
       "      <td>(여자)아이들</td>\n",
       "      <td>I NEVER DIE</td>\n",
       "    </tr>\n",
       "    <tr>\n",
       "      <td>3</td>\n",
       "      <td>4</td>\n",
       "      <td>Feel My Rhythm</td>\n",
       "      <td>Red Velvet (레드벨벳)</td>\n",
       "      <td>'The ReVe Festival 2022 - Feel My Rhythm'</td>\n",
       "    </tr>\n",
       "    <tr>\n",
       "      <td>4</td>\n",
       "      <td>5</td>\n",
       "      <td>사랑인가 봐</td>\n",
       "      <td>멜로망스 (MeloMance)</td>\n",
       "      <td>사랑인가 봐 (사내맞선 OST 스페셜 트랙)</td>\n",
       "    </tr>\n",
       "  </tbody>\n",
       "</table>\n",
       "</div>"
      ],
      "text/plain": [
       "   순위                    제목               아티스트  \\\n",
       "0   1  봄여름가을겨울 (Still Life)       BIGBANG (빅뱅)   \n",
       "1   2             LOVE DIVE          IVE (아이브)   \n",
       "2   3                TOMBOY            (여자)아이들   \n",
       "3   4        Feel My Rhythm  Red Velvet (레드벨벳)   \n",
       "4   5                사랑인가 봐   멜로망스 (MeloMance)   \n",
       "\n",
       "                                          앨범  \n",
       "0                       봄여름가을겨울 (Still Life)  \n",
       "1                                  LOVE DIVE  \n",
       "2                                I NEVER DIE  \n",
       "3  'The ReVe Festival 2022 - Feel My Rhythm'  \n",
       "4                   사랑인가 봐 (사내맞선 OST 스페셜 트랙)  "
      ]
     },
     "execution_count": 110,
     "metadata": {},
     "output_type": "execute_result"
    }
   ],
   "source": [
    "df = pd.DataFrame(lines)\n",
    "df.head()"
   ]
  },
  {
   "cell_type": "markdown",
   "metadata": {},
   "source": [
    "### 6. 모든 페이지에 대해 가져오기"
   ]
  },
  {
   "cell_type": "code",
   "execution_count": 146,
   "metadata": {},
   "outputs": [],
   "source": [
    "lines = []\n",
    "for page in range(1, 5):    # 1~4page\n",
    "    url = f'https://www.genie.co.kr/chart/top200?ditc=D&ymd=20220415&hh=09&rtm=Y&pg={page}'\n",
    "    req = requests.get(url, headers=header)\n",
    "    soup = BeautifulSoup(req.text, 'html.parser')\n",
    "    trs = soup.select('tr.list')\n",
    "\n",
    "    for tr in trs:\n",
    "        try:\n",
    "            rank = int(tr.select_one('.number').get_text().split('\\n')[0])\n",
    "        except:\n",
    "            rank = 0\n",
    "            \n",
    "        try:        # 일반적인 노래\n",
    "            title = tr.select_one('.title.ellipsis').string.strip()\n",
    "        except:     # 19금 노래\n",
    "            title = tr.select_one('.title.ellipsis').get_text().split('\\n')[-1].strip()   \n",
    "        artist = tr.select_one('.artist.ellipsis').text.strip()\n",
    "        album = tr.select_one('.albumtitle.ellipsis').text.strip()\n",
    "        line = {'순위':rank, '제목':title, '아티스트':artist, '앨범':album}\n",
    "        lines.append(line)"
   ]
  },
  {
   "cell_type": "code",
   "execution_count": 147,
   "metadata": {},
   "outputs": [
    {
     "data": {
      "text/html": [
       "<div>\n",
       "<style scoped>\n",
       "    .dataframe tbody tr th:only-of-type {\n",
       "        vertical-align: middle;\n",
       "    }\n",
       "\n",
       "    .dataframe tbody tr th {\n",
       "        vertical-align: top;\n",
       "    }\n",
       "\n",
       "    .dataframe thead th {\n",
       "        text-align: right;\n",
       "    }\n",
       "</style>\n",
       "<table border=\"1\" class=\"dataframe\">\n",
       "  <thead>\n",
       "    <tr style=\"text-align: right;\">\n",
       "      <th></th>\n",
       "      <th>순위</th>\n",
       "      <th>제목</th>\n",
       "      <th>아티스트</th>\n",
       "      <th>앨범</th>\n",
       "    </tr>\n",
       "  </thead>\n",
       "  <tbody>\n",
       "    <tr>\n",
       "      <td>195</td>\n",
       "      <td>196</td>\n",
       "      <td>하루하루</td>\n",
       "      <td>BIGBANG (빅뱅)</td>\n",
       "      <td>Stand Up (2008 빅뱅 3rd Mini Album)</td>\n",
       "    </tr>\n",
       "    <tr>\n",
       "      <td>196</td>\n",
       "      <td>197</td>\n",
       "      <td>붉은 노을</td>\n",
       "      <td>BIGBANG (빅뱅)</td>\n",
       "      <td>REMEMBER</td>\n",
       "    </tr>\n",
       "    <tr>\n",
       "      <td>197</td>\n",
       "      <td>198</td>\n",
       "      <td>Saturday Drip</td>\n",
       "      <td>NCT DREAM</td>\n",
       "      <td>Glitch Mode - The 2nd Album</td>\n",
       "    </tr>\n",
       "    <tr>\n",
       "      <td>198</td>\n",
       "      <td>199</td>\n",
       "      <td>너, 너</td>\n",
       "      <td>스트레이 (The Stray)</td>\n",
       "      <td>her</td>\n",
       "    </tr>\n",
       "    <tr>\n",
       "      <td>199</td>\n",
       "      <td>200</td>\n",
       "      <td>어른</td>\n",
       "      <td>Sondia</td>\n",
       "      <td>나의 아저씨 OST Part. 2 (tvN 수목드라마)</td>\n",
       "    </tr>\n",
       "  </tbody>\n",
       "</table>\n",
       "</div>"
      ],
      "text/plain": [
       "      순위             제목              아티스트                                 앨범\n",
       "195  196           하루하루      BIGBANG (빅뱅)  Stand Up (2008 빅뱅 3rd Mini Album)\n",
       "196  197          붉은 노을      BIGBANG (빅뱅)                           REMEMBER\n",
       "197  198  Saturday Drip         NCT DREAM        Glitch Mode - The 2nd Album\n",
       "198  199           너, 너  스트레이 (The Stray)                                her\n",
       "199  200             어른            Sondia     나의 아저씨 OST Part. 2 (tvN 수목드라마)"
      ]
     },
     "execution_count": 147,
     "metadata": {},
     "output_type": "execute_result"
    }
   ],
   "source": [
    "df = pd.DataFrame(lines)\n",
    "df.tail()"
   ]
  },
  {
   "cell_type": "code",
   "execution_count": 148,
   "metadata": {},
   "outputs": [],
   "source": [
    "df.to_csv('지니차트Top200.csv', index=False)"
   ]
  },
  {
   "cell_type": "code",
   "execution_count": 129,
   "metadata": {},
   "outputs": [],
   "source": [
    "lis = soup.find_all('tr')\n",
    "li = lis[14]     # 1부터 50까지..."
   ]
  },
  {
   "cell_type": "markdown",
   "metadata": {},
   "source": [
    "<pre>\n",
    "순위\n",
    "</pre>"
   ]
  },
  {
   "cell_type": "code",
   "execution_count": 130,
   "metadata": {},
   "outputs": [
    {
     "data": {
      "text/plain": [
       "'14'"
      ]
     },
     "execution_count": 130,
     "metadata": {},
     "output_type": "execute_result"
    }
   ],
   "source": [
    "try:\n",
    "    rank = int(li.select_one('.number').get_text().split('\\n')[0])\n",
    "except:\n",
    "    rank = 0\n",
    "rank"
   ]
  },
  {
   "cell_type": "markdown",
   "metadata": {},
   "source": [
    "<pre>\n",
    "제목\n",
    "</pre>"
   ]
  },
  {
   "cell_type": "code",
   "execution_count": 131,
   "metadata": {},
   "outputs": [
    {
     "data": {
      "text/plain": [
       "'abcdefu'"
      ]
     },
     "execution_count": 131,
     "metadata": {},
     "output_type": "execute_result"
    }
   ],
   "source": [
    "title = li.select_one('.title.ellipsis').get_text().strip('\\n 19금')\n",
    "title"
   ]
  },
  {
   "cell_type": "markdown",
   "metadata": {},
   "source": [
    "<pre>\n",
    "가수\n",
    "</pre>"
   ]
  },
  {
   "cell_type": "code",
   "execution_count": 132,
   "metadata": {},
   "outputs": [
    {
     "data": {
      "text/plain": [
       "'GAYLE'"
      ]
     },
     "execution_count": 132,
     "metadata": {},
     "output_type": "execute_result"
    }
   ],
   "source": [
    "singer = li.select_one('.artist.ellipsis').get_text().strip('\\n ')\n",
    "singer"
   ]
  },
  {
   "cell_type": "markdown",
   "metadata": {},
   "source": [
    "<pre>\n",
    "앨범명\n",
    "</pre>"
   ]
  },
  {
   "cell_type": "code",
   "execution_count": 133,
   "metadata": {},
   "outputs": [
    {
     "data": {
      "text/plain": [
       "'abcdefu'"
      ]
     },
     "execution_count": 133,
     "metadata": {},
     "output_type": "execute_result"
    }
   ],
   "source": [
    "album = li.select_one('.albumtitle.ellipsis').get_text().strip('\\n ')\n",
    "album"
   ]
  },
  {
   "cell_type": "markdown",
   "metadata": {},
   "source": [
    "<pre>\n",
    "반복문\n",
    "</pre>"
   ]
  },
  {
   "cell_type": "code",
   "execution_count": 138,
   "metadata": {},
   "outputs": [],
   "source": [
    "line = []\n",
    "for li in lis:      # lis[0]는 Error, try except로 하나를 건너뜀.\n",
    "    try:\n",
    "        try:\n",
    "            rank = int(li.select_one('.number').get_text().split('\\n')[0])\n",
    "        except:\n",
    "            rank = 0\n",
    "        title = li.select_one('.title.ellipsis').get_text().strip('\\n 19금')\n",
    "        singer = li.select_one('.artist.ellipsis').get_text()\n",
    "        album = li.select_one('.albumtitle.ellipsis').get_text()\n",
    "        line.append({'순위':rank, '제목':title, '가수':singer, '앨범명':album})\n",
    "    except:\n",
    "        continue"
   ]
  },
  {
   "cell_type": "code",
   "execution_count": 139,
   "metadata": {},
   "outputs": [
    {
     "data": {
      "text/html": [
       "<div>\n",
       "<style scoped>\n",
       "    .dataframe tbody tr th:only-of-type {\n",
       "        vertical-align: middle;\n",
       "    }\n",
       "\n",
       "    .dataframe tbody tr th {\n",
       "        vertical-align: top;\n",
       "    }\n",
       "\n",
       "    .dataframe thead th {\n",
       "        text-align: right;\n",
       "    }\n",
       "</style>\n",
       "<table border=\"1\" class=\"dataframe\">\n",
       "  <thead>\n",
       "    <tr style=\"text-align: right;\">\n",
       "      <th></th>\n",
       "      <th>순위</th>\n",
       "      <th>제목</th>\n",
       "      <th>가수</th>\n",
       "      <th>앨범명</th>\n",
       "    </tr>\n",
       "  </thead>\n",
       "  <tbody>\n",
       "    <tr>\n",
       "      <td>0</td>\n",
       "      <td>1</td>\n",
       "      <td>봄여름가을겨울 (Still Life)</td>\n",
       "      <td>BIGBANG (빅뱅)</td>\n",
       "      <td>봄여름가을겨울 (Still Life)</td>\n",
       "    </tr>\n",
       "    <tr>\n",
       "      <td>1</td>\n",
       "      <td>2</td>\n",
       "      <td>LOVE DIVE</td>\n",
       "      <td>IVE (아이브)</td>\n",
       "      <td>LOVE DIVE</td>\n",
       "    </tr>\n",
       "    <tr>\n",
       "      <td>2</td>\n",
       "      <td>3</td>\n",
       "      <td>TOMBOY</td>\n",
       "      <td>(여자)아이들</td>\n",
       "      <td>I NEVER DIE</td>\n",
       "    </tr>\n",
       "    <tr>\n",
       "      <td>3</td>\n",
       "      <td>4</td>\n",
       "      <td>Feel My Rhythm</td>\n",
       "      <td>Red Velvet (레드벨벳)</td>\n",
       "      <td>'The ReVe Festival 2022 - Feel My Rhythm'</td>\n",
       "    </tr>\n",
       "    <tr>\n",
       "      <td>4</td>\n",
       "      <td>5</td>\n",
       "      <td>사랑인가 봐</td>\n",
       "      <td>멜로망스 (MeloMance)</td>\n",
       "      <td>사랑인가 봐 (사내맞선 OST 스페셜 트랙)</td>\n",
       "    </tr>\n",
       "    <tr>\n",
       "      <td>5</td>\n",
       "      <td>6</td>\n",
       "      <td>GANADARA (Feat. 아이유)</td>\n",
       "      <td>박재범</td>\n",
       "      <td>GANADARA</td>\n",
       "    </tr>\n",
       "    <tr>\n",
       "      <td>6</td>\n",
       "      <td>7</td>\n",
       "      <td>듣고 싶을까</td>\n",
       "      <td>MSG워너비 (M.O.M)</td>\n",
       "      <td>듣고 싶을까</td>\n",
       "    </tr>\n",
       "    <tr>\n",
       "      <td>7</td>\n",
       "      <td>8</td>\n",
       "      <td>취중고백</td>\n",
       "      <td>김민석 (멜로망스)</td>\n",
       "      <td>취중고백</td>\n",
       "    </tr>\n",
       "    <tr>\n",
       "      <td>8</td>\n",
       "      <td>9</td>\n",
       "      <td>사랑은 늘 도망가</td>\n",
       "      <td>임영웅</td>\n",
       "      <td>신사와 아가씨 OST Part.2</td>\n",
       "    </tr>\n",
       "    <tr>\n",
       "      <td>9</td>\n",
       "      <td>10</td>\n",
       "      <td>INVU</td>\n",
       "      <td>태연 (TAEYEON)</td>\n",
       "      <td>INVU - The 3rd Album</td>\n",
       "    </tr>\n",
       "    <tr>\n",
       "      <td>10</td>\n",
       "      <td>11</td>\n",
       "      <td>다정히 내 이름을 부르면</td>\n",
       "      <td>경서예지 &amp; 전건호</td>\n",
       "      <td>다정히 내 이름을 부르면 (경서예지 x 전건호)</td>\n",
       "    </tr>\n",
       "    <tr>\n",
       "      <td>11</td>\n",
       "      <td>12</td>\n",
       "      <td>LOVE me</td>\n",
       "      <td>BE'O (비오)</td>\n",
       "      <td>LOVE me</td>\n",
       "    </tr>\n",
       "    <tr>\n",
       "      <td>12</td>\n",
       "      <td>13</td>\n",
       "      <td>신호등</td>\n",
       "      <td>이무진</td>\n",
       "      <td>신호등</td>\n",
       "    </tr>\n",
       "    <tr>\n",
       "      <td>13</td>\n",
       "      <td>14</td>\n",
       "      <td>abcdefu</td>\n",
       "      <td>GAYLE</td>\n",
       "      <td>abcdefu</td>\n",
       "    </tr>\n",
       "    <tr>\n",
       "      <td>14</td>\n",
       "      <td>15</td>\n",
       "      <td>ELEVEN</td>\n",
       "      <td>IVE (아이브)</td>\n",
       "      <td>ELEVEN</td>\n",
       "    </tr>\n",
       "    <tr>\n",
       "      <td>15</td>\n",
       "      <td>16</td>\n",
       "      <td>이제 나만 믿어요</td>\n",
       "      <td>임영웅</td>\n",
       "      <td>내일은 미스터트롯 우승자 특전곡</td>\n",
       "    </tr>\n",
       "    <tr>\n",
       "      <td>16</td>\n",
       "      <td>17</td>\n",
       "      <td>다시 사랑한다면 (김필 Ver.)</td>\n",
       "      <td>임영웅</td>\n",
       "      <td>사랑의 콜센타 PART56</td>\n",
       "    </tr>\n",
       "    <tr>\n",
       "      <td>17</td>\n",
       "      <td>18</td>\n",
       "      <td>스물다섯, 스물하나</td>\n",
       "      <td>자우림</td>\n",
       "      <td>Goodbye, grief.</td>\n",
       "    </tr>\n",
       "    <tr>\n",
       "      <td>18</td>\n",
       "      <td>19</td>\n",
       "      <td>Stay</td>\n",
       "      <td>The Kid LAROI &amp; Justin Bieber</td>\n",
       "      <td>Stay</td>\n",
       "    </tr>\n",
       "    <tr>\n",
       "      <td>19</td>\n",
       "      <td>20</td>\n",
       "      <td>언제나 사랑해</td>\n",
       "      <td>케이시 (Kassy)</td>\n",
       "      <td>조영수 리메이크 프로젝트 Part.2</td>\n",
       "    </tr>\n",
       "    <tr>\n",
       "      <td>20</td>\n",
       "      <td>21</td>\n",
       "      <td>회전목마 (Feat. Zion.T &amp; 원슈타인) (Prod. by Slom)</td>\n",
       "      <td>sokodomo</td>\n",
       "      <td>쇼미더머니 10 Episode 2</td>\n",
       "    </tr>\n",
       "    <tr>\n",
       "      <td>21</td>\n",
       "      <td>22</td>\n",
       "      <td>별빛 같은 나의 사랑아</td>\n",
       "      <td>임영웅</td>\n",
       "      <td>별빛 같은 나의 사랑아</td>\n",
       "    </tr>\n",
       "    <tr>\n",
       "      <td>22</td>\n",
       "      <td>23</td>\n",
       "      <td>Stronger (What Doesn't Kill You)</td>\n",
       "      <td>Kelly Clarkson</td>\n",
       "      <td>Stronger (What Doesn't Kill You) (Digital Audi...</td>\n",
       "    </tr>\n",
       "    <tr>\n",
       "      <td>23</td>\n",
       "      <td>24</td>\n",
       "      <td>어제처럼</td>\n",
       "      <td>폴킴</td>\n",
       "      <td>어제처럼</td>\n",
       "    </tr>\n",
       "    <tr>\n",
       "      <td>24</td>\n",
       "      <td>25</td>\n",
       "      <td>너의 번호를 누르고</td>\n",
       "      <td>김나영</td>\n",
       "      <td>너의 번호를 누르고</td>\n",
       "    </tr>\n",
       "    <tr>\n",
       "      <td>25</td>\n",
       "      <td>26</td>\n",
       "      <td>그대라는 사치</td>\n",
       "      <td>임영웅</td>\n",
       "      <td>사랑의 콜센타 PART62</td>\n",
       "    </tr>\n",
       "    <tr>\n",
       "      <td>26</td>\n",
       "      <td>27</td>\n",
       "      <td>strawberry moon</td>\n",
       "      <td>아이유 (IU)</td>\n",
       "      <td>strawberry moon</td>\n",
       "    </tr>\n",
       "    <tr>\n",
       "      <td>27</td>\n",
       "      <td>28</td>\n",
       "      <td>RUN2U</td>\n",
       "      <td>STAYC (스테이씨)</td>\n",
       "      <td>YOUNG-LUV.COM</td>\n",
       "    </tr>\n",
       "    <tr>\n",
       "      <td>28</td>\n",
       "      <td>29</td>\n",
       "      <td>Celebrity</td>\n",
       "      <td>아이유 (IU)</td>\n",
       "      <td>IU 5th Album 'LILAC'</td>\n",
       "    </tr>\n",
       "    <tr>\n",
       "      <td>29</td>\n",
       "      <td>30</td>\n",
       "      <td>잊었니</td>\n",
       "      <td>임영웅</td>\n",
       "      <td>사랑의 콜센타 PART60</td>\n",
       "    </tr>\n",
       "    <tr>\n",
       "      <td>30</td>\n",
       "      <td>31</td>\n",
       "      <td>끝사랑</td>\n",
       "      <td>임영웅</td>\n",
       "      <td>사랑의 콜센타 PART61</td>\n",
       "    </tr>\n",
       "    <tr>\n",
       "      <td>31</td>\n",
       "      <td>32</td>\n",
       "      <td>라일락</td>\n",
       "      <td>아이유 (IU)</td>\n",
       "      <td>IU 5th Album 'LILAC'</td>\n",
       "    </tr>\n",
       "    <tr>\n",
       "      <td>32</td>\n",
       "      <td>33</td>\n",
       "      <td>HERO</td>\n",
       "      <td>임영웅</td>\n",
       "      <td>HERO</td>\n",
       "    </tr>\n",
       "    <tr>\n",
       "      <td>33</td>\n",
       "      <td>34</td>\n",
       "      <td>흔들리는 꽃들 속에서 네 샴푸향이 느껴진거야</td>\n",
       "      <td>장범준</td>\n",
       "      <td>멜로가 체질 OST Part 3 (JTBC 금토 드라마)</td>\n",
       "    </tr>\n",
       "    <tr>\n",
       "      <td>34</td>\n",
       "      <td>35</td>\n",
       "      <td>리무진 (Feat. MINO) (Prod. by GRAY)</td>\n",
       "      <td>BE'O (비오)</td>\n",
       "      <td>쇼미더머니 10 Episode 3</td>\n",
       "    </tr>\n",
       "    <tr>\n",
       "      <td>35</td>\n",
       "      <td>36</td>\n",
       "      <td>MY BAG</td>\n",
       "      <td>(여자)아이들</td>\n",
       "      <td>I NEVER DIE</td>\n",
       "    </tr>\n",
       "    <tr>\n",
       "      <td>36</td>\n",
       "      <td>37</td>\n",
       "      <td>Bk Love</td>\n",
       "      <td>임영웅</td>\n",
       "      <td>뽕숭아학당 PART23</td>\n",
       "    </tr>\n",
       "    <tr>\n",
       "      <td>37</td>\n",
       "      <td>38</td>\n",
       "      <td>호랑수월가</td>\n",
       "      <td>탑현</td>\n",
       "      <td>호랑수월가</td>\n",
       "    </tr>\n",
       "    <tr>\n",
       "      <td>38</td>\n",
       "      <td>39</td>\n",
       "      <td>Next Level</td>\n",
       "      <td>aespa</td>\n",
       "      <td>Next Level</td>\n",
       "    </tr>\n",
       "    <tr>\n",
       "      <td>39</td>\n",
       "      <td>40</td>\n",
       "      <td>고백</td>\n",
       "      <td>멜로망스 (MeloMance)</td>\n",
       "      <td>세 번째 '고백'</td>\n",
       "    </tr>\n",
       "    <tr>\n",
       "      <td>40</td>\n",
       "      <td>41</td>\n",
       "      <td>Bad Habits</td>\n",
       "      <td>Ed Sheeran</td>\n",
       "      <td>=</td>\n",
       "    </tr>\n",
       "    <tr>\n",
       "      <td>41</td>\n",
       "      <td>42</td>\n",
       "      <td>내가 아니라도</td>\n",
       "      <td>주호</td>\n",
       "      <td>내가 아니라도</td>\n",
       "    </tr>\n",
       "    <tr>\n",
       "      <td>42</td>\n",
       "      <td>43</td>\n",
       "      <td>SMILEY (Feat. BIBI)</td>\n",
       "      <td>YENA (최예나)</td>\n",
       "      <td>SMiLEY</td>\n",
       "    </tr>\n",
       "    <tr>\n",
       "      <td>43</td>\n",
       "      <td>44</td>\n",
       "      <td>너를 생각해</td>\n",
       "      <td>주시크 (Joosiq)</td>\n",
       "      <td>너를 생각해</td>\n",
       "    </tr>\n",
       "    <tr>\n",
       "      <td>44</td>\n",
       "      <td>45</td>\n",
       "      <td>존재만으로</td>\n",
       "      <td>원슈타인</td>\n",
       "      <td>스물다섯 스물하나 OST Part 4</td>\n",
       "    </tr>\n",
       "    <tr>\n",
       "      <td>45</td>\n",
       "      <td>46</td>\n",
       "      <td>Weekend</td>\n",
       "      <td>태연 (TAEYEON)</td>\n",
       "      <td>Weekend</td>\n",
       "    </tr>\n",
       "    <tr>\n",
       "      <td>46</td>\n",
       "      <td>47</td>\n",
       "      <td>바라만 본다</td>\n",
       "      <td>MSG워너비 (M.O.M)</td>\n",
       "      <td>MSG워너비 1집</td>\n",
       "    </tr>\n",
       "    <tr>\n",
       "      <td>47</td>\n",
       "      <td>48</td>\n",
       "      <td>계단말고 엘리베이터</td>\n",
       "      <td>임영웅</td>\n",
       "      <td>계단말고 엘리베이터</td>\n",
       "    </tr>\n",
       "    <tr>\n",
       "      <td>48</td>\n",
       "      <td>49</td>\n",
       "      <td>OHAYO MY NIGHT</td>\n",
       "      <td>디핵 (D-Hack) &amp; PATEKO</td>\n",
       "      <td>OHAYO MY NIGHT</td>\n",
       "    </tr>\n",
       "    <tr>\n",
       "      <td>49</td>\n",
       "      <td>50</td>\n",
       "      <td>서랍</td>\n",
       "      <td>10CM</td>\n",
       "      <td>그 해 우리는 OST Part.1</td>\n",
       "    </tr>\n",
       "  </tbody>\n",
       "</table>\n",
       "</div>"
      ],
      "text/plain": [
       "    순위                                          제목  \\\n",
       "0    1                        봄여름가을겨울 (Still Life)   \n",
       "1    2                                   LOVE DIVE   \n",
       "2    3                                      TOMBOY   \n",
       "3    4                              Feel My Rhythm   \n",
       "4    5                                      사랑인가 봐   \n",
       "5    6                        GANADARA (Feat. 아이유)   \n",
       "6    7                                      듣고 싶을까   \n",
       "7    8                                        취중고백   \n",
       "8    9                                   사랑은 늘 도망가   \n",
       "9   10                                        INVU   \n",
       "10  11                               다정히 내 이름을 부르면   \n",
       "11  12                                     LOVE me   \n",
       "12  13                                         신호등   \n",
       "13  14                                     abcdefu   \n",
       "14  15                                      ELEVEN   \n",
       "15  16                                   이제 나만 믿어요   \n",
       "16  17                          다시 사랑한다면 (김필 Ver.)   \n",
       "17  18                                  스물다섯, 스물하나   \n",
       "18  19                                        Stay   \n",
       "19  20                                     언제나 사랑해   \n",
       "20  21  회전목마 (Feat. Zion.T & 원슈타인) (Prod. by Slom)   \n",
       "21  22                                별빛 같은 나의 사랑아   \n",
       "22  23            Stronger (What Doesn't Kill You)   \n",
       "23  24                                        어제처럼   \n",
       "24  25                                  너의 번호를 누르고   \n",
       "25  26                                     그대라는 사치   \n",
       "26  27                             strawberry moon   \n",
       "27  28                                       RUN2U   \n",
       "28  29                                   Celebrity   \n",
       "29  30                                         잊었니   \n",
       "30  31                                         끝사랑   \n",
       "31  32                                         라일락   \n",
       "32  33                                        HERO   \n",
       "33  34                    흔들리는 꽃들 속에서 네 샴푸향이 느껴진거야   \n",
       "34  35            리무진 (Feat. MINO) (Prod. by GRAY)   \n",
       "35  36                                      MY BAG   \n",
       "36  37                                     Bk Love   \n",
       "37  38                                       호랑수월가   \n",
       "38  39                                  Next Level   \n",
       "39  40                                          고백   \n",
       "40  41                                  Bad Habits   \n",
       "41  42                                     내가 아니라도   \n",
       "42  43                         SMILEY (Feat. BIBI)   \n",
       "43  44                                      너를 생각해   \n",
       "44  45                                       존재만으로   \n",
       "45  46                                     Weekend   \n",
       "46  47                                      바라만 본다   \n",
       "47  48                                  계단말고 엘리베이터   \n",
       "48  49                              OHAYO MY NIGHT   \n",
       "49  50                                          서랍   \n",
       "\n",
       "                               가수  \\\n",
       "0                    BIGBANG (빅뱅)   \n",
       "1                       IVE (아이브)   \n",
       "2                         (여자)아이들   \n",
       "3               Red Velvet (레드벨벳)   \n",
       "4                멜로망스 (MeloMance)   \n",
       "5                             박재범   \n",
       "6                  MSG워너비 (M.O.M)   \n",
       "7                      김민석 (멜로망스)   \n",
       "8                             임영웅   \n",
       "9                    태연 (TAEYEON)   \n",
       "10                     경서예지 & 전건호   \n",
       "11                      BE'O (비오)   \n",
       "12                            이무진   \n",
       "13                          GAYLE   \n",
       "14                      IVE (아이브)   \n",
       "15                            임영웅   \n",
       "16                            임영웅   \n",
       "17                            자우림   \n",
       "18  The Kid LAROI & Justin Bieber   \n",
       "19                    케이시 (Kassy)   \n",
       "20                       sokodomo   \n",
       "21                            임영웅   \n",
       "22                 Kelly Clarkson   \n",
       "23                             폴킴   \n",
       "24                            김나영   \n",
       "25                            임영웅   \n",
       "26                       아이유 (IU)   \n",
       "27                   STAYC (스테이씨)   \n",
       "28                       아이유 (IU)   \n",
       "29                            임영웅   \n",
       "30                            임영웅   \n",
       "31                       아이유 (IU)   \n",
       "32                            임영웅   \n",
       "33                            장범준   \n",
       "34                      BE'O (비오)   \n",
       "35                        (여자)아이들   \n",
       "36                            임영웅   \n",
       "37                             탑현   \n",
       "38                          aespa   \n",
       "39               멜로망스 (MeloMance)   \n",
       "40                     Ed Sheeran   \n",
       "41                             주호   \n",
       "42                     YENA (최예나)   \n",
       "43                   주시크 (Joosiq)   \n",
       "44                           원슈타인   \n",
       "45                   태연 (TAEYEON)   \n",
       "46                 MSG워너비 (M.O.M)   \n",
       "47                            임영웅   \n",
       "48           디핵 (D-Hack) & PATEKO   \n",
       "49                           10CM   \n",
       "\n",
       "                                                  앨범명  \n",
       "0                                봄여름가을겨울 (Still Life)  \n",
       "1                                           LOVE DIVE  \n",
       "2                                         I NEVER DIE  \n",
       "3           'The ReVe Festival 2022 - Feel My Rhythm'  \n",
       "4                            사랑인가 봐 (사내맞선 OST 스페셜 트랙)  \n",
       "5                                            GANADARA  \n",
       "6                                              듣고 싶을까  \n",
       "7                                                취중고백  \n",
       "8                                  신사와 아가씨 OST Part.2  \n",
       "9                                INVU - The 3rd Album  \n",
       "10                         다정히 내 이름을 부르면 (경서예지 x 전건호)  \n",
       "11                                            LOVE me  \n",
       "12                                                신호등  \n",
       "13                                            abcdefu  \n",
       "14                                             ELEVEN  \n",
       "15                                  내일은 미스터트롯 우승자 특전곡  \n",
       "16                                     사랑의 콜센타 PART56  \n",
       "17                                    Goodbye, grief.  \n",
       "18                                               Stay  \n",
       "19                               조영수 리메이크 프로젝트 Part.2  \n",
       "20                                 쇼미더머니 10 Episode 2  \n",
       "21                                       별빛 같은 나의 사랑아  \n",
       "22  Stronger (What Doesn't Kill You) (Digital Audi...  \n",
       "23                                               어제처럼  \n",
       "24                                         너의 번호를 누르고  \n",
       "25                                     사랑의 콜센타 PART62  \n",
       "26                                    strawberry moon  \n",
       "27                                      YOUNG-LUV.COM  \n",
       "28                               IU 5th Album 'LILAC'  \n",
       "29                                     사랑의 콜센타 PART60  \n",
       "30                                     사랑의 콜센타 PART61  \n",
       "31                               IU 5th Album 'LILAC'  \n",
       "32                                               HERO  \n",
       "33                    멜로가 체질 OST Part 3 (JTBC 금토 드라마)  \n",
       "34                                 쇼미더머니 10 Episode 3  \n",
       "35                                        I NEVER DIE  \n",
       "36                                       뽕숭아학당 PART23  \n",
       "37                                              호랑수월가  \n",
       "38                                         Next Level  \n",
       "39                                          세 번째 '고백'  \n",
       "40                                                  =  \n",
       "41                                            내가 아니라도  \n",
       "42                                             SMiLEY  \n",
       "43                                             너를 생각해  \n",
       "44                               스물다섯 스물하나 OST Part 4  \n",
       "45                                            Weekend  \n",
       "46                                          MSG워너비 1집  \n",
       "47                                         계단말고 엘리베이터  \n",
       "48                                     OHAYO MY NIGHT  \n",
       "49                                 그 해 우리는 OST Part.1  "
      ]
     },
     "execution_count": 139,
     "metadata": {},
     "output_type": "execute_result"
    }
   ],
   "source": [
    "df = pd.DataFrame(line)\n",
    "df"
   ]
  },
  {
   "cell_type": "code",
   "execution_count": 140,
   "metadata": {},
   "outputs": [],
   "source": [
    "df.to_csv('지니차트(20220414)Top50.csv', index=False)"
   ]
  }
 ],
 "metadata": {
  "interpreter": {
   "hash": "2416f014eda44098b06ac223510cfbf712f6c3c49a2a2784b81e5eb971c53cd7"
  },
  "kernelspec": {
   "display_name": "Python 3.7.1 ('base')",
   "language": "python",
   "name": "python3"
  },
  "language_info": {
   "codemirror_mode": {
    "name": "ipython",
    "version": 3
   },
   "file_extension": ".py",
   "mimetype": "text/x-python",
   "name": "python",
   "nbconvert_exporter": "python",
   "pygments_lexer": "ipython3",
   "version": "3.7.1"
  },
  "orig_nbformat": 4
 },
 "nbformat": 4,
 "nbformat_minor": 2
}
