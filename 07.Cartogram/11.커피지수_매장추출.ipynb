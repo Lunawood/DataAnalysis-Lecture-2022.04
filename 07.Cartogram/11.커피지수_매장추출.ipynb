{
 "cells": [
  {
   "cell_type": "markdown",
   "metadata": {},
   "source": [
    "# 커피지수 - Part 1\n",
    "### 1. 데이터로부터 4개 커피샵에 대한 정보 추출후 저장"
   ]
  },
  {
   "cell_type": "code",
   "execution_count": 23,
   "metadata": {},
   "outputs": [],
   "source": [
    "import numpy as np\n",
    "import pandas as pd\n",
    "import warnings\n",
    "warnings.filterwarnings('ignore')"
   ]
  },
  {
   "cell_type": "markdown",
   "metadata": {},
   "source": [
    "- 서울 데이터에서 4개 매장정보 추출"
   ]
  },
  {
   "cell_type": "code",
   "execution_count": 24,
   "metadata": {},
   "outputs": [
    {
     "data": {
      "text/html": [
       "<div>\n",
       "<style scoped>\n",
       "    .dataframe tbody tr th:only-of-type {\n",
       "        vertical-align: middle;\n",
       "    }\n",
       "\n",
       "    .dataframe tbody tr th {\n",
       "        vertical-align: top;\n",
       "    }\n",
       "\n",
       "    .dataframe thead th {\n",
       "        text-align: right;\n",
       "    }\n",
       "</style>\n",
       "<table border=\"1\" class=\"dataframe\">\n",
       "  <thead>\n",
       "    <tr style=\"text-align: right;\">\n",
       "      <th></th>\n",
       "      <th>상가업소번호</th>\n",
       "      <th>상호명</th>\n",
       "      <th>지점명</th>\n",
       "      <th>상권업종대분류코드</th>\n",
       "      <th>상권업종대분류명</th>\n",
       "      <th>상권업종중분류코드</th>\n",
       "      <th>상권업종중분류명</th>\n",
       "      <th>상권업종소분류코드</th>\n",
       "      <th>상권업종소분류명</th>\n",
       "      <th>표준산업분류코드</th>\n",
       "      <th>...</th>\n",
       "      <th>건물관리번호</th>\n",
       "      <th>건물명</th>\n",
       "      <th>도로명주소</th>\n",
       "      <th>구우편번호</th>\n",
       "      <th>신우편번호</th>\n",
       "      <th>동정보</th>\n",
       "      <th>층정보</th>\n",
       "      <th>호정보</th>\n",
       "      <th>경도</th>\n",
       "      <th>위도</th>\n",
       "    </tr>\n",
       "  </thead>\n",
       "  <tbody>\n",
       "    <tr>\n",
       "      <td>0</td>\n",
       "      <td>23324279</td>\n",
       "      <td>제중건강원</td>\n",
       "      <td>NaN</td>\n",
       "      <td>D</td>\n",
       "      <td>소매</td>\n",
       "      <td>D10</td>\n",
       "      <td>건강/미용식품</td>\n",
       "      <td>D10A07</td>\n",
       "      <td>건강원</td>\n",
       "      <td>G47216</td>\n",
       "      <td>...</td>\n",
       "      <td>1156010600100410002034626</td>\n",
       "      <td>NaN</td>\n",
       "      <td>서울특별시 영등포구 영중로14길 11-17</td>\n",
       "      <td>150035</td>\n",
       "      <td>7250.0</td>\n",
       "      <td>NaN</td>\n",
       "      <td>1</td>\n",
       "      <td>NaN</td>\n",
       "      <td>126.907168</td>\n",
       "      <td>37.520613</td>\n",
       "    </tr>\n",
       "    <tr>\n",
       "      <td>1</td>\n",
       "      <td>24525909</td>\n",
       "      <td>민속악기사</td>\n",
       "      <td>NaN</td>\n",
       "      <td>D</td>\n",
       "      <td>소매</td>\n",
       "      <td>D04</td>\n",
       "      <td>취미/오락관련소매</td>\n",
       "      <td>D04A09</td>\n",
       "      <td>악기판매</td>\n",
       "      <td>G47593</td>\n",
       "      <td>...</td>\n",
       "      <td>1120012200101420011000227</td>\n",
       "      <td>NaN</td>\n",
       "      <td>서울특별시 성동구 용답5길 2</td>\n",
       "      <td>133849</td>\n",
       "      <td>4803.0</td>\n",
       "      <td>NaN</td>\n",
       "      <td>NaN</td>\n",
       "      <td>NaN</td>\n",
       "      <td>127.049018</td>\n",
       "      <td>37.566857</td>\n",
       "    </tr>\n",
       "    <tr>\n",
       "      <td>2</td>\n",
       "      <td>24715368</td>\n",
       "      <td>태평양진주</td>\n",
       "      <td>NaN</td>\n",
       "      <td>D</td>\n",
       "      <td>소매</td>\n",
       "      <td>D26</td>\n",
       "      <td>시계/귀금속소매</td>\n",
       "      <td>D26A01</td>\n",
       "      <td>시계/귀금속</td>\n",
       "      <td>G47830</td>\n",
       "      <td>...</td>\n",
       "      <td>1111015200100440000000001</td>\n",
       "      <td>금사랑투빌딩</td>\n",
       "      <td>서울특별시 종로구 서순라길 17-10</td>\n",
       "      <td>110390</td>\n",
       "      <td>3138.0</td>\n",
       "      <td>NaN</td>\n",
       "      <td>NaN</td>\n",
       "      <td>NaN</td>\n",
       "      <td>126.993530</td>\n",
       "      <td>37.571848</td>\n",
       "    </tr>\n",
       "  </tbody>\n",
       "</table>\n",
       "<p>3 rows × 39 columns</p>\n",
       "</div>"
      ],
      "text/plain": [
       "     상가업소번호    상호명  지점명 상권업종대분류코드 상권업종대분류명 상권업종중분류코드   상권업종중분류명 상권업종소분류코드  \\\n",
       "0  23324279  제중건강원  NaN         D       소매       D10    건강/미용식품    D10A07   \n",
       "1  24525909  민속악기사  NaN         D       소매       D04  취미/오락관련소매    D04A09   \n",
       "2  24715368  태평양진주  NaN         D       소매       D26   시계/귀금속소매    D26A01   \n",
       "\n",
       "  상권업종소분류명 표준산업분류코드  ...                     건물관리번호     건물명  \\\n",
       "0      건강원   G47216  ...  1156010600100410002034626     NaN   \n",
       "1     악기판매   G47593  ...  1120012200101420011000227     NaN   \n",
       "2   시계/귀금속   G47830  ...  1111015200100440000000001  금사랑투빌딩   \n",
       "\n",
       "                     도로명주소   구우편번호   신우편번호  동정보  층정보  호정보          경도  \\\n",
       "0  서울특별시 영등포구 영중로14길 11-17  150035  7250.0  NaN    1  NaN  126.907168   \n",
       "1         서울특별시 성동구 용답5길 2  133849  4803.0  NaN  NaN  NaN  127.049018   \n",
       "2     서울특별시 종로구 서순라길 17-10  110390  3138.0  NaN  NaN  NaN  126.993530   \n",
       "\n",
       "          위도  \n",
       "0  37.520613  \n",
       "1  37.566857  \n",
       "2  37.571848  \n",
       "\n",
       "[3 rows x 39 columns]"
      ]
     },
     "execution_count": 24,
     "metadata": {},
     "output_type": "execute_result"
    }
   ],
   "source": [
    "data_dir = 'data/소상공인시장진흥공단_상가(상권)정보_20211231'\n",
    "df = pd.read_csv(f'{data_dir}/소상공인시장진흥공단_상가(상권)정보_서울_202112.csv')\n",
    "df.head(3)"
   ]
  },
  {
   "cell_type": "code",
   "execution_count": 25,
   "metadata": {},
   "outputs": [
    {
     "name": "stdout",
     "output_type": "stream",
     "text": [
      "(18628, 4)\n"
     ]
    },
    {
     "data": {
      "text/html": [
       "<div>\n",
       "<style scoped>\n",
       "    .dataframe tbody tr th:only-of-type {\n",
       "        vertical-align: middle;\n",
       "    }\n",
       "\n",
       "    .dataframe tbody tr th {\n",
       "        vertical-align: top;\n",
       "    }\n",
       "\n",
       "    .dataframe thead th {\n",
       "        text-align: right;\n",
       "    }\n",
       "</style>\n",
       "<table border=\"1\" class=\"dataframe\">\n",
       "  <thead>\n",
       "    <tr style=\"text-align: right;\">\n",
       "      <th></th>\n",
       "      <th>상호명</th>\n",
       "      <th>지점명</th>\n",
       "      <th>시도명</th>\n",
       "      <th>시군구명</th>\n",
       "    </tr>\n",
       "  </thead>\n",
       "  <tbody>\n",
       "    <tr>\n",
       "      <td>23</td>\n",
       "      <td>커피빈</td>\n",
       "      <td>코리아대학로대명거리점</td>\n",
       "      <td>서울특별시</td>\n",
       "      <td>종로구</td>\n",
       "    </tr>\n",
       "    <tr>\n",
       "      <td>99</td>\n",
       "      <td>요거프레소</td>\n",
       "      <td>쌍문점</td>\n",
       "      <td>서울특별시</td>\n",
       "      <td>도봉구</td>\n",
       "    </tr>\n",
       "    <tr>\n",
       "      <td>191</td>\n",
       "      <td>우성커피숍</td>\n",
       "      <td>NaN</td>\n",
       "      <td>서울특별시</td>\n",
       "      <td>양천구</td>\n",
       "    </tr>\n",
       "    <tr>\n",
       "      <td>198</td>\n",
       "      <td>버블베어</td>\n",
       "      <td>NaN</td>\n",
       "      <td>서울특별시</td>\n",
       "      <td>강서구</td>\n",
       "    </tr>\n",
       "    <tr>\n",
       "      <td>233</td>\n",
       "      <td>알뤼르</td>\n",
       "      <td>NaN</td>\n",
       "      <td>서울특별시</td>\n",
       "      <td>강남구</td>\n",
       "    </tr>\n",
       "  </tbody>\n",
       "</table>\n",
       "</div>"
      ],
      "text/plain": [
       "       상호명          지점명    시도명 시군구명\n",
       "23     커피빈  코리아대학로대명거리점  서울특별시  종로구\n",
       "99   요거프레소          쌍문점  서울특별시  도봉구\n",
       "191  우성커피숍          NaN  서울특별시  양천구\n",
       "198   버블베어          NaN  서울특별시  강서구\n",
       "233    알뤼르          NaN  서울특별시  강남구"
      ]
     },
     "execution_count": 25,
     "metadata": {},
     "output_type": "execute_result"
    }
   ],
   "source": [
    "# 업종중분류코드: Q12 --> 카페/커피샵\n",
    "df = df[df.상권업종중분류코드 == 'Q12']\n",
    "df = df[['상호명', '지점명', '시도명', '시군구명']]\n",
    "print(df.shape)\n",
    "df.head()\n"
   ]
  },
  {
   "cell_type": "code",
   "execution_count": 26,
   "metadata": {},
   "outputs": [
    {
     "data": {
      "text/html": [
       "<div>\n",
       "<style scoped>\n",
       "    .dataframe tbody tr th:only-of-type {\n",
       "        vertical-align: middle;\n",
       "    }\n",
       "\n",
       "    .dataframe tbody tr th {\n",
       "        vertical-align: top;\n",
       "    }\n",
       "\n",
       "    .dataframe thead th {\n",
       "        text-align: right;\n",
       "    }\n",
       "</style>\n",
       "<table border=\"1\" class=\"dataframe\">\n",
       "  <thead>\n",
       "    <tr style=\"text-align: right;\">\n",
       "      <th></th>\n",
       "      <th>상호명</th>\n",
       "      <th>지점명</th>\n",
       "      <th>시도명</th>\n",
       "      <th>시군구명</th>\n",
       "    </tr>\n",
       "  </thead>\n",
       "  <tbody>\n",
       "    <tr>\n",
       "      <td>1544</td>\n",
       "      <td>스타벅스</td>\n",
       "      <td>동숭로아트점</td>\n",
       "      <td>서울특별시</td>\n",
       "      <td>종로구</td>\n",
       "    </tr>\n",
       "    <tr>\n",
       "      <td>2474</td>\n",
       "      <td>스타벅스남부터미널2점</td>\n",
       "      <td>남부터미널2점</td>\n",
       "      <td>서울특별시</td>\n",
       "      <td>서초구</td>\n",
       "    </tr>\n",
       "    <tr>\n",
       "      <td>2570</td>\n",
       "      <td>스타벅스</td>\n",
       "      <td>현대목동점</td>\n",
       "      <td>서울특별시</td>\n",
       "      <td>양천구</td>\n",
       "    </tr>\n",
       "    <tr>\n",
       "      <td>3589</td>\n",
       "      <td>스타벅스미아사거리역점</td>\n",
       "      <td>미아사거리역점</td>\n",
       "      <td>서울특별시</td>\n",
       "      <td>강북구</td>\n",
       "    </tr>\n",
       "    <tr>\n",
       "      <td>3608</td>\n",
       "      <td>스타벅스</td>\n",
       "      <td>가로수길점</td>\n",
       "      <td>서울특별시</td>\n",
       "      <td>강남구</td>\n",
       "    </tr>\n",
       "  </tbody>\n",
       "</table>\n",
       "</div>"
      ],
      "text/plain": [
       "              상호명      지점명    시도명 시군구명\n",
       "1544         스타벅스   동숭로아트점  서울특별시  종로구\n",
       "2474  스타벅스남부터미널2점  남부터미널2점  서울특별시  서초구\n",
       "2570         스타벅스    현대목동점  서울특별시  양천구\n",
       "3589  스타벅스미아사거리역점  미아사거리역점  서울특별시  강북구\n",
       "3608         스타벅스    가로수길점  서울특별시  강남구"
      ]
     },
     "execution_count": 26,
     "metadata": {},
     "output_type": "execute_result"
    }
   ],
   "source": [
    "# 스타벅스 커피샵\n",
    "sb = df[df.상호명.str.contains('스타벅스|STARBUCKS', case=False)]\n",
    "sb.head()"
   ]
  },
  {
   "cell_type": "code",
   "execution_count": 27,
   "metadata": {},
   "outputs": [
    {
     "data": {
      "text/html": [
       "<div>\n",
       "<style scoped>\n",
       "    .dataframe tbody tr th:only-of-type {\n",
       "        vertical-align: middle;\n",
       "    }\n",
       "\n",
       "    .dataframe tbody tr th {\n",
       "        vertical-align: top;\n",
       "    }\n",
       "\n",
       "    .dataframe thead th {\n",
       "        text-align: right;\n",
       "    }\n",
       "</style>\n",
       "<table border=\"1\" class=\"dataframe\">\n",
       "  <thead>\n",
       "    <tr style=\"text-align: right;\">\n",
       "      <th></th>\n",
       "      <th>상호명</th>\n",
       "      <th>지점명</th>\n",
       "      <th>시도명</th>\n",
       "      <th>시군구명</th>\n",
       "    </tr>\n",
       "  </thead>\n",
       "  <tbody>\n",
       "  </tbody>\n",
       "</table>\n",
       "</div>"
      ],
      "text/plain": [
       "Empty DataFrame\n",
       "Columns: [상호명, 지점명, 시도명, 시군구명]\n",
       "Index: []"
      ]
     },
     "execution_count": 27,
     "metadata": {},
     "output_type": "execute_result"
    }
   ],
   "source": [
    "df[df.지점명.str.contains('스타벅스|STARBUCKS', na=False, case=False)]"
   ]
  },
  {
   "cell_type": "code",
   "execution_count": 28,
   "metadata": {},
   "outputs": [
    {
     "data": {
      "text/html": [
       "<div>\n",
       "<style scoped>\n",
       "    .dataframe tbody tr th:only-of-type {\n",
       "        vertical-align: middle;\n",
       "    }\n",
       "\n",
       "    .dataframe tbody tr th {\n",
       "        vertical-align: top;\n",
       "    }\n",
       "\n",
       "    .dataframe thead th {\n",
       "        text-align: right;\n",
       "    }\n",
       "</style>\n",
       "<table border=\"1\" class=\"dataframe\">\n",
       "  <thead>\n",
       "    <tr style=\"text-align: right;\">\n",
       "      <th></th>\n",
       "      <th>상호명</th>\n",
       "      <th>지점명</th>\n",
       "      <th>시도명</th>\n",
       "      <th>시군구명</th>\n",
       "    </tr>\n",
       "  </thead>\n",
       "  <tbody>\n",
       "    <tr>\n",
       "      <td>23</td>\n",
       "      <td>커피빈</td>\n",
       "      <td>코리아대학로대명거리점</td>\n",
       "      <td>서울특별시</td>\n",
       "      <td>종로구</td>\n",
       "    </tr>\n",
       "    <tr>\n",
       "      <td>390</td>\n",
       "      <td>커피빈코리아낙성대역점</td>\n",
       "      <td>코리아낙성대역점</td>\n",
       "      <td>서울특별시</td>\n",
       "      <td>관악구</td>\n",
       "    </tr>\n",
       "    <tr>\n",
       "      <td>1411</td>\n",
       "      <td>커피빈</td>\n",
       "      <td>코리아청담에스점</td>\n",
       "      <td>서울특별시</td>\n",
       "      <td>강남구</td>\n",
       "    </tr>\n",
       "    <tr>\n",
       "      <td>1426</td>\n",
       "      <td>커피빈</td>\n",
       "      <td>코리아강남역랭기지타워점</td>\n",
       "      <td>서울특별시</td>\n",
       "      <td>강남구</td>\n",
       "    </tr>\n",
       "    <tr>\n",
       "      <td>1460</td>\n",
       "      <td>커피빈</td>\n",
       "      <td>코리아청담성당점</td>\n",
       "      <td>서울특별시</td>\n",
       "      <td>강남구</td>\n",
       "    </tr>\n",
       "  </tbody>\n",
       "</table>\n",
       "</div>"
      ],
      "text/plain": [
       "              상호명           지점명    시도명 시군구명\n",
       "23            커피빈   코리아대학로대명거리점  서울특별시  종로구\n",
       "390   커피빈코리아낙성대역점      코리아낙성대역점  서울특별시  관악구\n",
       "1411          커피빈      코리아청담에스점  서울특별시  강남구\n",
       "1426          커피빈  코리아강남역랭기지타워점  서울특별시  강남구\n",
       "1460          커피빈      코리아청담성당점  서울특별시  강남구"
      ]
     },
     "execution_count": 28,
     "metadata": {},
     "output_type": "execute_result"
    }
   ],
   "source": [
    "# 커피빈\n",
    "cb = df[df.상호명.str.contains('커피빈|COFFEEBEAN', case=False)]\n",
    "cb.head()"
   ]
  },
  {
   "cell_type": "code",
   "execution_count": 29,
   "metadata": {},
   "outputs": [
    {
     "data": {
      "text/html": [
       "<div>\n",
       "<style scoped>\n",
       "    .dataframe tbody tr th:only-of-type {\n",
       "        vertical-align: middle;\n",
       "    }\n",
       "\n",
       "    .dataframe tbody tr th {\n",
       "        vertical-align: top;\n",
       "    }\n",
       "\n",
       "    .dataframe thead th {\n",
       "        text-align: right;\n",
       "    }\n",
       "</style>\n",
       "<table border=\"1\" class=\"dataframe\">\n",
       "  <thead>\n",
       "    <tr style=\"text-align: right;\">\n",
       "      <th></th>\n",
       "      <th>상호명</th>\n",
       "      <th>지점명</th>\n",
       "      <th>시도명</th>\n",
       "      <th>시군구명</th>\n",
       "    </tr>\n",
       "  </thead>\n",
       "  <tbody>\n",
       "    <tr>\n",
       "      <td>1131</td>\n",
       "      <td>이디야커피</td>\n",
       "      <td>신길역점</td>\n",
       "      <td>서울특별시</td>\n",
       "      <td>영등포구</td>\n",
       "    </tr>\n",
       "    <tr>\n",
       "      <td>1495</td>\n",
       "      <td>이디야커피</td>\n",
       "      <td>라이프점</td>\n",
       "      <td>서울특별시</td>\n",
       "      <td>영등포구</td>\n",
       "    </tr>\n",
       "    <tr>\n",
       "      <td>2397</td>\n",
       "      <td>이디야커피양재AT점</td>\n",
       "      <td>양재AT점</td>\n",
       "      <td>서울특별시</td>\n",
       "      <td>서초구</td>\n",
       "    </tr>\n",
       "    <tr>\n",
       "      <td>2463</td>\n",
       "      <td>이디야커피</td>\n",
       "      <td>시흥점</td>\n",
       "      <td>서울특별시</td>\n",
       "      <td>금천구</td>\n",
       "    </tr>\n",
       "    <tr>\n",
       "      <td>4304</td>\n",
       "      <td>이디야커피</td>\n",
       "      <td>개봉중앙점</td>\n",
       "      <td>서울특별시</td>\n",
       "      <td>구로구</td>\n",
       "    </tr>\n",
       "  </tbody>\n",
       "</table>\n",
       "</div>"
      ],
      "text/plain": [
       "             상호명    지점명    시도명  시군구명\n",
       "1131       이디야커피   신길역점  서울특별시  영등포구\n",
       "1495       이디야커피   라이프점  서울특별시  영등포구\n",
       "2397  이디야커피양재AT점  양재AT점  서울특별시   서초구\n",
       "2463       이디야커피    시흥점  서울특별시   금천구\n",
       "4304       이디야커피  개봉중앙점  서울특별시   구로구"
      ]
     },
     "execution_count": 29,
     "metadata": {},
     "output_type": "execute_result"
    }
   ],
   "source": [
    "# 이디야\n",
    "ed = df[df.상호명.str.contains('이디야|EDIYA', case=False)]\n",
    "ed.head()"
   ]
  },
  {
   "cell_type": "code",
   "execution_count": 30,
   "metadata": {},
   "outputs": [
    {
     "data": {
      "text/html": [
       "<div>\n",
       "<style scoped>\n",
       "    .dataframe tbody tr th:only-of-type {\n",
       "        vertical-align: middle;\n",
       "    }\n",
       "\n",
       "    .dataframe tbody tr th {\n",
       "        vertical-align: top;\n",
       "    }\n",
       "\n",
       "    .dataframe thead th {\n",
       "        text-align: right;\n",
       "    }\n",
       "</style>\n",
       "<table border=\"1\" class=\"dataframe\">\n",
       "  <thead>\n",
       "    <tr style=\"text-align: right;\">\n",
       "      <th></th>\n",
       "      <th>상호명</th>\n",
       "      <th>지점명</th>\n",
       "      <th>시도명</th>\n",
       "      <th>시군구명</th>\n",
       "    </tr>\n",
       "  </thead>\n",
       "  <tbody>\n",
       "    <tr>\n",
       "      <td>7179</td>\n",
       "      <td>빽다방공덕새창로점</td>\n",
       "      <td>공덕새창로점</td>\n",
       "      <td>서울특별시</td>\n",
       "      <td>마포구</td>\n",
       "    </tr>\n",
       "    <tr>\n",
       "      <td>7789</td>\n",
       "      <td>빽다방서초우성점</td>\n",
       "      <td>서초우성점</td>\n",
       "      <td>서울특별시</td>\n",
       "      <td>서초구</td>\n",
       "    </tr>\n",
       "    <tr>\n",
       "      <td>18660</td>\n",
       "      <td>빽다방중계은행사거리점</td>\n",
       "      <td>중계은행사거리점</td>\n",
       "      <td>서울특별시</td>\n",
       "      <td>노원구</td>\n",
       "    </tr>\n",
       "    <tr>\n",
       "      <td>24413</td>\n",
       "      <td>빽다방성신여대점</td>\n",
       "      <td>성신여대점</td>\n",
       "      <td>서울특별시</td>\n",
       "      <td>성북구</td>\n",
       "    </tr>\n",
       "    <tr>\n",
       "      <td>24973</td>\n",
       "      <td>빽다방신림역1호점</td>\n",
       "      <td>신림역1호점</td>\n",
       "      <td>서울특별시</td>\n",
       "      <td>관악구</td>\n",
       "    </tr>\n",
       "  </tbody>\n",
       "</table>\n",
       "</div>"
      ],
      "text/plain": [
       "               상호명       지점명    시도명 시군구명\n",
       "7179     빽다방공덕새창로점    공덕새창로점  서울특별시  마포구\n",
       "7789      빽다방서초우성점     서초우성점  서울특별시  서초구\n",
       "18660  빽다방중계은행사거리점  중계은행사거리점  서울특별시  노원구\n",
       "24413     빽다방성신여대점     성신여대점  서울특별시  성북구\n",
       "24973    빽다방신림역1호점    신림역1호점  서울특별시  관악구"
      ]
     },
     "execution_count": 30,
     "metadata": {},
     "output_type": "execute_result"
    }
   ],
   "source": [
    "# 빽다방\n",
    "bd = df[df.상호명.str.contains('빽다방|PAIKSCOFFEE', case=False)]\n",
    "bd.head()"
   ]
  },
  {
   "cell_type": "code",
   "execution_count": 31,
   "metadata": {},
   "outputs": [
    {
     "data": {
      "text/html": [
       "<div>\n",
       "<style scoped>\n",
       "    .dataframe tbody tr th:only-of-type {\n",
       "        vertical-align: middle;\n",
       "    }\n",
       "\n",
       "    .dataframe tbody tr th {\n",
       "        vertical-align: top;\n",
       "    }\n",
       "\n",
       "    .dataframe thead th {\n",
       "        text-align: right;\n",
       "    }\n",
       "</style>\n",
       "<table border=\"1\" class=\"dataframe\">\n",
       "  <thead>\n",
       "    <tr style=\"text-align: right;\">\n",
       "      <th></th>\n",
       "      <th>상호명</th>\n",
       "      <th>지점명</th>\n",
       "      <th>시도명</th>\n",
       "      <th>시군구명</th>\n",
       "    </tr>\n",
       "  </thead>\n",
       "  <tbody>\n",
       "    <tr>\n",
       "      <td>28276</td>\n",
       "      <td>백다방</td>\n",
       "      <td>NaN</td>\n",
       "      <td>서울특별시</td>\n",
       "      <td>서초구</td>\n",
       "    </tr>\n",
       "    <tr>\n",
       "      <td>61560</td>\n",
       "      <td>백다방</td>\n",
       "      <td>NaN</td>\n",
       "      <td>서울특별시</td>\n",
       "      <td>동작구</td>\n",
       "    </tr>\n",
       "    <tr>\n",
       "      <td>100819</td>\n",
       "      <td>백다방</td>\n",
       "      <td>명일역점</td>\n",
       "      <td>서울특별시</td>\n",
       "      <td>강동구</td>\n",
       "    </tr>\n",
       "    <tr>\n",
       "      <td>224597</td>\n",
       "      <td>백다방</td>\n",
       "      <td>NaN</td>\n",
       "      <td>서울특별시</td>\n",
       "      <td>강남구</td>\n",
       "    </tr>\n",
       "    <tr>\n",
       "      <td>250998</td>\n",
       "      <td>백다방</td>\n",
       "      <td>면목역점</td>\n",
       "      <td>서울특별시</td>\n",
       "      <td>중랑구</td>\n",
       "    </tr>\n",
       "  </tbody>\n",
       "</table>\n",
       "</div>"
      ],
      "text/plain": [
       "        상호명   지점명    시도명 시군구명\n",
       "28276   백다방   NaN  서울특별시  서초구\n",
       "61560   백다방   NaN  서울특별시  동작구\n",
       "100819  백다방  명일역점  서울특별시  강동구\n",
       "224597  백다방   NaN  서울특별시  강남구\n",
       "250998  백다방  면목역점  서울특별시  중랑구"
      ]
     },
     "execution_count": 31,
     "metadata": {},
     "output_type": "execute_result"
    }
   ],
   "source": [
    "df[df.상호명.str.contains('백다방')].head()"
   ]
  },
  {
   "cell_type": "code",
   "execution_count": 32,
   "metadata": {},
   "outputs": [
    {
     "data": {
      "text/plain": [
       "(467, 148, 416, 142)"
      ]
     },
     "execution_count": 32,
     "metadata": {},
     "output_type": "execute_result"
    }
   ],
   "source": [
    "len(sb), len(cb), len(ed), len(bd)"
   ]
  },
  {
   "cell_type": "markdown",
   "metadata": {},
   "source": [
    "- 전국 데이터에서 4개 매장 정보 추출하기"
   ]
  },
  {
   "cell_type": "code",
   "execution_count": 33,
   "metadata": {},
   "outputs": [],
   "source": [
    "# 빈 데이터프레임 만들기\n",
    "starbucks = pd.DataFrame(columns=['상호명','시도명','시군구명'])\n",
    "coffeebean = pd.DataFrame(columns=['상호명','시도명','시군구명'])\n",
    "ediya = pd.DataFrame(columns=['상호명','시도명','시군구명'])\n",
    "paik = pd.DataFrame(columns=['상호명','시도명','시군구명'])"
   ]
  },
  {
   "cell_type": "code",
   "execution_count": 38,
   "metadata": {},
   "outputs": [
    {
     "data": {
      "application/vnd.jupyter.widget-view+json": {
       "model_id": "2b095ac0002e41d3bb08f27a81f4b6b8",
       "version_major": 2,
       "version_minor": 0
      },
      "text/plain": [
       "  0%|          | 0/17 [00:00<?, ?it/s]"
      ]
     },
     "metadata": {},
     "output_type": "display_data"
    }
   ],
   "source": [
    "from glob import glob\n",
    "from tqdm.notebook import tqdm\n",
    "\n",
    "for file in tqdm(glob(f'{data_dir}/소상*.csv')):\n",
    "    df = pd.read_csv(file)\n",
    "    df = df[df.상권업종중분류코드 == 'Q12']\n",
    "    df = df[['상호명', '시도명', '시군구명']]\n",
    "\n",
    "    sb = df[df.상호명.str.contains('스타벅스|STARBUCKS', case=False)]\n",
    "    cb = df[df.상호명.str.contains('커피빈|COFFEEBEAN', case=False)]\n",
    "    ed = df[df.상호명.str.contains('이디야|EDIYA', case=False)]\n",
    "    bd = df[df.상호명.str.contains('빽다방|PAIKSCOFFEE', case=False)]\n",
    "\n",
    "    starbucks = pd.concat([starbucks, sb])\n",
    "    coffeebean = pd.concat([coffeebean, cb])\n",
    "    ediya = pd.concat([ediya, ed])\n",
    "    paik = pd.concat([paik, bd])\n"
   ]
  },
  {
   "cell_type": "code",
   "execution_count": 39,
   "metadata": {},
   "outputs": [
    {
     "data": {
      "text/plain": [
       "((1504, 3), (257, 3), (2076, 3), (727, 3))"
      ]
     },
     "execution_count": 39,
     "metadata": {},
     "output_type": "execute_result"
    }
   ],
   "source": [
    "starbucks.shape, coffeebean.shape, ediya.shape, paik.shape"
   ]
  },
  {
   "cell_type": "code",
   "execution_count": 40,
   "metadata": {},
   "outputs": [],
   "source": [
    "starbucks.to_csv('data/스타벅스.csv', index=False)\n",
    "coffeebean.to_csv('data/커피빈.csv', index=False)\n",
    "ediya.to_csv('data/이디야.csv', index=False)\n",
    "paik.to_csv('data/빽다방.csv', index=False)"
   ]
  }
 ],
 "metadata": {
  "interpreter": {
   "hash": "2416f014eda44098b06ac223510cfbf712f6c3c49a2a2784b81e5eb971c53cd7"
  },
  "kernelspec": {
   "display_name": "Python 3.7.1 ('base')",
   "language": "python",
   "name": "python3"
  },
  "language_info": {
   "codemirror_mode": {
    "name": "ipython",
    "version": 3
   },
   "file_extension": ".py",
   "mimetype": "text/x-python",
   "name": "python",
   "nbconvert_exporter": "python",
   "pygments_lexer": "ipython3",
   "version": "3.7.1"
  },
  "orig_nbformat": 4
 },
 "nbformat": 4,
 "nbformat_minor": 2
}
