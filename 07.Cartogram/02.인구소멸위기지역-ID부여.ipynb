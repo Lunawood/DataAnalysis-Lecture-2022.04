{
 "cells": [
  {
   "cell_type": "code",
   "execution_count": 34,
   "metadata": {},
   "outputs": [],
   "source": [
    "import numpy as np\n",
    "import pandas as pd\n",
    "import warnings\n",
    "warnings.filterwarnings('ignore')"
   ]
  },
  {
   "cell_type": "code",
   "execution_count": 35,
   "metadata": {},
   "outputs": [
    {
     "name": "stdout",
     "output_type": "stream",
     "text": [
      "(250, 10)\n"
     ]
    },
    {
     "data": {
      "text/html": [
       "<div>\n",
       "<style scoped>\n",
       "    .dataframe tbody tr th:only-of-type {\n",
       "        vertical-align: middle;\n",
       "    }\n",
       "\n",
       "    .dataframe tbody tr th {\n",
       "        vertical-align: top;\n",
       "    }\n",
       "\n",
       "    .dataframe thead th {\n",
       "        text-align: right;\n",
       "    }\n",
       "</style>\n",
       "<table border=\"1\" class=\"dataframe\">\n",
       "  <thead>\n",
       "    <tr style=\"text-align: right;\">\n",
       "      <th></th>\n",
       "      <th>광역시도</th>\n",
       "      <th>시군구</th>\n",
       "      <th>20-39세계</th>\n",
       "      <th>20-39세남자</th>\n",
       "      <th>20-39세여자</th>\n",
       "      <th>65세이상계</th>\n",
       "      <th>인구수계</th>\n",
       "      <th>소멸비율</th>\n",
       "      <th>소멸위기지역</th>\n",
       "      <th>소멸위기고위험지역</th>\n",
       "    </tr>\n",
       "  </thead>\n",
       "  <tbody>\n",
       "    <tr>\n",
       "      <td>0</td>\n",
       "      <td>강원도</td>\n",
       "      <td>강릉시</td>\n",
       "      <td>47006</td>\n",
       "      <td>25199</td>\n",
       "      <td>21807</td>\n",
       "      <td>43830</td>\n",
       "      <td>211643</td>\n",
       "      <td>0.4975</td>\n",
       "      <td>True</td>\n",
       "      <td>False</td>\n",
       "    </tr>\n",
       "    <tr>\n",
       "      <td>1</td>\n",
       "      <td>강원도</td>\n",
       "      <td>고성군</td>\n",
       "      <td>5217</td>\n",
       "      <td>3175</td>\n",
       "      <td>2042</td>\n",
       "      <td>7755</td>\n",
       "      <td>26792</td>\n",
       "      <td>0.2633</td>\n",
       "      <td>True</td>\n",
       "      <td>False</td>\n",
       "    </tr>\n",
       "    <tr>\n",
       "      <td>2</td>\n",
       "      <td>강원도</td>\n",
       "      <td>동해시</td>\n",
       "      <td>18727</td>\n",
       "      <td>10469</td>\n",
       "      <td>8258</td>\n",
       "      <td>17572</td>\n",
       "      <td>89814</td>\n",
       "      <td>0.4700</td>\n",
       "      <td>True</td>\n",
       "      <td>False</td>\n",
       "    </tr>\n",
       "    <tr>\n",
       "      <td>3</td>\n",
       "      <td>강원도</td>\n",
       "      <td>삼척시</td>\n",
       "      <td>13583</td>\n",
       "      <td>7469</td>\n",
       "      <td>6117</td>\n",
       "      <td>16077</td>\n",
       "      <td>65623</td>\n",
       "      <td>0.3805</td>\n",
       "      <td>True</td>\n",
       "      <td>False</td>\n",
       "    </tr>\n",
       "    <tr>\n",
       "      <td>4</td>\n",
       "      <td>강원도</td>\n",
       "      <td>속초시</td>\n",
       "      <td>18080</td>\n",
       "      <td>9909</td>\n",
       "      <td>8171</td>\n",
       "      <td>15170</td>\n",
       "      <td>81497</td>\n",
       "      <td>0.5386</td>\n",
       "      <td>False</td>\n",
       "      <td>False</td>\n",
       "    </tr>\n",
       "  </tbody>\n",
       "</table>\n",
       "</div>"
      ],
      "text/plain": [
       "  광역시도  시군구  20-39세계  20-39세남자  20-39세여자  65세이상계    인구수계    소멸비율  소멸위기지역  \\\n",
       "0  강원도  강릉시    47006     25199     21807   43830  211643  0.4975    True   \n",
       "1  강원도  고성군     5217      3175      2042    7755   26792  0.2633    True   \n",
       "2  강원도  동해시    18727     10469      8258   17572   89814  0.4700    True   \n",
       "3  강원도  삼척시    13583      7469      6117   16077   65623  0.3805    True   \n",
       "4  강원도  속초시    18080      9909      8171   15170   81497  0.5386   False   \n",
       "\n",
       "   소멸위기고위험지역  \n",
       "0      False  \n",
       "1      False  \n",
       "2      False  \n",
       "3      False  \n",
       "4      False  "
      ]
     },
     "execution_count": 35,
     "metadata": {},
     "output_type": "execute_result"
    }
   ],
   "source": [
    "pop = pd.read_csv('data/시군구_전처리완료.csv', encoding='euc-kr')\n",
    "print(pop.shape)\n",
    "pop.head()"
   ]
  },
  {
   "cell_type": "markdown",
   "metadata": {},
   "source": [
    "- 고유 ID 만들기"
   ]
  },
  {
   "cell_type": "code",
   "execution_count": 36,
   "metadata": {},
   "outputs": [
    {
     "data": {
      "text/plain": [
       "226"
      ]
     },
     "execution_count": 36,
     "metadata": {},
     "output_type": "execute_result"
    }
   ],
   "source": [
    "len(pop.시군구.unique())        # pop.shape와 값이 다르다 즉 중복이 있다. 250 != 226"
   ]
  },
  {
   "cell_type": "code",
   "execution_count": 37,
   "metadata": {},
   "outputs": [],
   "source": [
    "# 시군구 값을 기본값으로 가져가는데\n",
    "# ex) 고성군 - 고성(강원), 고성(경남)\n",
    "# ex) 광역시 - 서울 용산, 서울 서대문, 대전 서구, 대전 유성, 세종\n",
    "# ex) 행정구 - 수원 장안, 용인 수지, 고양 일산동, 창원 합포, 창원 회원\n",
    "tmp_gu_dict = {\n",
    "    '수원': ['장안구', '권선구', '팔달구', '영통구'],\n",
    "    '성남': ['수정구', '중원구', '분당구'],\n",
    "    '안양': ['만안구', '동안구'],\n",
    "    '안산': ['상록구', '단원구'],\n",
    "    '고양': ['덕양구', '일산동구', '일산서구'],\n",
    "    '용인': ['처인구', '기흥구', '수지구'],\n",
    "    '청주': ['상당구', '서원구', '흥덕구', '청원구'],\n",
    "    '천안': ['동남구', '서북구'],\n",
    "    '전주': ['완산구', '덕진구'],\n",
    "    '포항': ['남구', '북구'],\n",
    "    '창원': ['의창구', '성산구', '진해구', '마산합포구', '마산회원구']\n",
    "}"
   ]
  },
  {
   "cell_type": "code",
   "execution_count": 38,
   "metadata": {},
   "outputs": [],
   "source": [
    "metro_list = ['서울특별시', '부산광역시', '대구광역시', '인천광역시', '대전광역시', '광주광역시', '울산광역시']\n",
    "si_name = [None] * len(pop)"
   ]
  },
  {
   "cell_type": "code",
   "execution_count": 39,
   "metadata": {},
   "outputs": [],
   "source": [
    "for i in pop.index:\n",
    "    if pop.광역시도[i] in metro_list:\n",
    "        if len(pop.시군구[i]) == 2:\n",
    "            si_name[i] = pop.광역시도[i][:2] + ' ' + pop.시군구[i]      # 서울 중구, 대전 서구\n",
    "        else:\n",
    "            si_name[i] = pop.광역시도[i][:2] + ' ' + \\\n",
    "                pop.시군구[i][:-1]      # 서울 용산, 서울 서대문\n",
    "    else:\n",
    "        if pop.시군구[i][:-1] == '고성':\n",
    "            if pop.광역시도[i] == '강원도':\n",
    "                si_name[i] = '고성(강원)'\n",
    "            else:\n",
    "                si_name[i] = '고성(경남)'\n",
    "        else:\n",
    "            si_name[i] = pop.시군구[i][:-1]         # 세종, 광명, 김포, 강릉\n",
    "\n",
    "        for key, value in tmp_gu_dict.items():\n",
    "            if pop.시군구[i] in value:\n",
    "                if len(pop.시군구[i]) == 2:\n",
    "                    si_name[i] = key + ' ' + pop.시군구[i]      # 포항 북구, 포항 남구\n",
    "                elif len(pop.시군구[i]) == 5:\n",
    "                    si_name[i] = key + ' ' + pop.시군구[i][2:-1]    # 창원 합포, 창원 회원\n",
    "                else:\n",
    "                    si_name[i] = key + ' ' + pop.시군구[i][:-1]     # 수원 팔달, 용인 수지"
   ]
  },
  {
   "cell_type": "code",
   "execution_count": 40,
   "metadata": {},
   "outputs": [
    {
     "data": {
      "text/plain": [
       "(250, 11)"
      ]
     },
     "execution_count": 40,
     "metadata": {},
     "output_type": "execute_result"
    }
   ],
   "source": [
    "pop['ID'] = si_name\n",
    "pop.shape"
   ]
  },
  {
   "cell_type": "code",
   "execution_count": 41,
   "metadata": {},
   "outputs": [
    {
     "data": {
      "text/html": [
       "<div>\n",
       "<style scoped>\n",
       "    .dataframe tbody tr th:only-of-type {\n",
       "        vertical-align: middle;\n",
       "    }\n",
       "\n",
       "    .dataframe tbody tr th {\n",
       "        vertical-align: top;\n",
       "    }\n",
       "\n",
       "    .dataframe thead th {\n",
       "        text-align: right;\n",
       "    }\n",
       "</style>\n",
       "<table border=\"1\" class=\"dataframe\">\n",
       "  <thead>\n",
       "    <tr style=\"text-align: right;\">\n",
       "      <th></th>\n",
       "      <th>광역시도</th>\n",
       "      <th>시군구</th>\n",
       "      <th>20-39세계</th>\n",
       "      <th>20-39세남자</th>\n",
       "      <th>20-39세여자</th>\n",
       "      <th>65세이상계</th>\n",
       "      <th>인구수계</th>\n",
       "      <th>소멸비율</th>\n",
       "      <th>소멸위기지역</th>\n",
       "      <th>소멸위기고위험지역</th>\n",
       "    </tr>\n",
       "    <tr>\n",
       "      <th>ID</th>\n",
       "      <th></th>\n",
       "      <th></th>\n",
       "      <th></th>\n",
       "      <th></th>\n",
       "      <th></th>\n",
       "      <th></th>\n",
       "      <th></th>\n",
       "      <th></th>\n",
       "      <th></th>\n",
       "      <th></th>\n",
       "    </tr>\n",
       "  </thead>\n",
       "  <tbody>\n",
       "    <tr>\n",
       "      <td>강릉</td>\n",
       "      <td>강원도</td>\n",
       "      <td>강릉시</td>\n",
       "      <td>47006</td>\n",
       "      <td>25199</td>\n",
       "      <td>21807</td>\n",
       "      <td>43830</td>\n",
       "      <td>211643</td>\n",
       "      <td>0.4975</td>\n",
       "      <td>True</td>\n",
       "      <td>False</td>\n",
       "    </tr>\n",
       "    <tr>\n",
       "      <td>고성(강원)</td>\n",
       "      <td>강원도</td>\n",
       "      <td>고성군</td>\n",
       "      <td>5217</td>\n",
       "      <td>3175</td>\n",
       "      <td>2042</td>\n",
       "      <td>7755</td>\n",
       "      <td>26792</td>\n",
       "      <td>0.2633</td>\n",
       "      <td>True</td>\n",
       "      <td>False</td>\n",
       "    </tr>\n",
       "    <tr>\n",
       "      <td>동해</td>\n",
       "      <td>강원도</td>\n",
       "      <td>동해시</td>\n",
       "      <td>18727</td>\n",
       "      <td>10469</td>\n",
       "      <td>8258</td>\n",
       "      <td>17572</td>\n",
       "      <td>89814</td>\n",
       "      <td>0.4700</td>\n",
       "      <td>True</td>\n",
       "      <td>False</td>\n",
       "    </tr>\n",
       "    <tr>\n",
       "      <td>삼척</td>\n",
       "      <td>강원도</td>\n",
       "      <td>삼척시</td>\n",
       "      <td>13583</td>\n",
       "      <td>7469</td>\n",
       "      <td>6117</td>\n",
       "      <td>16077</td>\n",
       "      <td>65623</td>\n",
       "      <td>0.3805</td>\n",
       "      <td>True</td>\n",
       "      <td>False</td>\n",
       "    </tr>\n",
       "    <tr>\n",
       "      <td>속초</td>\n",
       "      <td>강원도</td>\n",
       "      <td>속초시</td>\n",
       "      <td>18080</td>\n",
       "      <td>9909</td>\n",
       "      <td>8171</td>\n",
       "      <td>15170</td>\n",
       "      <td>81497</td>\n",
       "      <td>0.5386</td>\n",
       "      <td>False</td>\n",
       "      <td>False</td>\n",
       "    </tr>\n",
       "  </tbody>\n",
       "</table>\n",
       "</div>"
      ],
      "text/plain": [
       "       광역시도  시군구  20-39세계  20-39세남자  20-39세여자  65세이상계    인구수계    소멸비율  소멸위기지역  \\\n",
       "ID                                                                              \n",
       "강릉      강원도  강릉시    47006     25199     21807   43830  211643  0.4975    True   \n",
       "고성(강원)  강원도  고성군     5217      3175      2042    7755   26792  0.2633    True   \n",
       "동해      강원도  동해시    18727     10469      8258   17572   89814  0.4700    True   \n",
       "삼척      강원도  삼척시    13583      7469      6117   16077   65623  0.3805    True   \n",
       "속초      강원도  속초시    18080      9909      8171   15170   81497  0.5386   False   \n",
       "\n",
       "        소멸위기고위험지역  \n",
       "ID                 \n",
       "강릉          False  \n",
       "고성(강원)      False  \n",
       "동해          False  \n",
       "삼척          False  \n",
       "속초          False  "
      ]
     },
     "execution_count": 41,
     "metadata": {},
     "output_type": "execute_result"
    }
   ],
   "source": [
    "# ID를 인덱스로 변환\n",
    "pop.set_index('ID', inplace=True)\n",
    "pop.head()"
   ]
  },
  {
   "cell_type": "code",
   "execution_count": 42,
   "metadata": {},
   "outputs": [],
   "source": [
    "pop.to_csv('data/시군구_ID부여.csv', encoding='euc-kr')"
   ]
  }
 ],
 "metadata": {
  "interpreter": {
   "hash": "2416f014eda44098b06ac223510cfbf712f6c3c49a2a2784b81e5eb971c53cd7"
  },
  "kernelspec": {
   "display_name": "Python 3.7.1 ('base')",
   "language": "python",
   "name": "python3"
  },
  "language_info": {
   "codemirror_mode": {
    "name": "ipython",
    "version": 3
   },
   "file_extension": ".py",
   "mimetype": "text/x-python",
   "name": "python",
   "nbconvert_exporter": "python",
   "pygments_lexer": "ipython3",
   "version": "3.7.1"
  },
  "orig_nbformat": 4
 },
 "nbformat": 4,
 "nbformat_minor": 2
}
