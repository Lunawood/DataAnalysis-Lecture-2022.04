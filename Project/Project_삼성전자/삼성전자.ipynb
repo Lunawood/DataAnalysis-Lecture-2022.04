{
 "cells": [
  {
   "cell_type": "markdown",
   "metadata": {},
   "source": [
    "<pre>\n",
    "1. 삼성전자의 최근 10일간의 주식 가격을 분석하려고 한다.\n",
    "  - 삼성전자 주식 코드는 “005930” 이다.\n",
    "  - 네이버 주식 일별시세의 삼성전자 url 주소는 다음과 같다.\n",
    "  \t=> https://finance.naver.com/item/sise_day.nhn?code=005930&page=1\n",
    "  - 예시 화면 : @2022.4.22\n",
    "\n",
    "2. 작업 순서\n",
    "  - 이 사이트의 내용을 웹크롤링으로 읽어와서, 전체 내용을 DataFrame으로 저장한다.\n",
    "  - 데이터 전처리를 한다.\n",
    "  - 데이터 시각화를 한다.\n",
    "\n",
    "3. 웹 크롤링 수집 준비를 한다.\n",
    "  - user agent 등을 설정한다.\n",
    "\n",
    "4. 데이터 전처리\n",
    "  - 숫자 데이터의 콤마를 없앤다.\n",
    "  - 숫자 형식의 문자열을 숫자 데이터로 변환한다.\n",
    "\n",
    "5. 데이터 시각화 \n",
    "  - 그래픽 기본 설정을 한다. (한글, 폰트 크기, 그래프창 크기)\n",
    "  - DataFrame 데이터에서 종가만 추출하여 선그래프를 그린다.\n",
    "    => x축에는 “날짜”을 표시한다.\n",
    "    => y축에는 “금액”을 표시한다.\n",
    "    => 타이틀에는 “삼성전자 날짜별 주가 상황”을 표시한다.\n",
    "    => x축 tick문자는 날짜를 표시한다.\n",
    "</pre>"
   ]
  },
  {
   "cell_type": "markdown",
   "metadata": {},
   "source": [
    "<pre>\n",
    "웹 크롤링\n",
    "</pre>"
   ]
  },
  {
   "cell_type": "code",
   "execution_count": 37,
   "metadata": {},
   "outputs": [],
   "source": [
    "# 필요한 모듈을 임포트하였는가?\n",
    "import warnings\n",
    "warnings.filterwarnings('ignore')\n",
    "\n",
    "# 크롤링\n",
    "from selenium import webdriver\n",
    "import pandas as pd\n",
    "from bs4 import BeautifulSoup\n",
    "import re, time\n",
    "from tqdm.notebook import tqdm\n",
    "\n",
    "#데이터 시각화\n",
    "import matplotlib as mpl\n",
    "import matplotlib.pyplot as plt\n",
    "mpl.rcParams['axes.unicode_minus'] = False\n",
    "mpl.rcParams['font.family'] = 'Malgun Gothic'\n",
    "\n",
    "plt.rcParams.update({\n",
    "    'text.color': 'gray',\n",
    "    'axes.labelcolor': 'gray',\n",
    "    'xtick.color': 'gray',\n",
    "    'ytick.color': 'gray'\n",
    "})"
   ]
  },
  {
   "cell_type": "code",
   "execution_count": 38,
   "metadata": {},
   "outputs": [],
   "source": [
    "# user_agent 등의 웹 크롤링을 위한 수집준비를 하였는가?\n",
    "url = 'https://finance.naver.com/item/sise_day.nhn?code=005930&page=1'\n",
    "driver = webdriver.Chrome()\n",
    "driver.get(url)\n",
    "time.sleep(2)"
   ]
  },
  {
   "cell_type": "code",
   "execution_count": 39,
   "metadata": {},
   "outputs": [],
   "source": [
    "# BeautifulSoup으로 본문을 추출하였는가?\n",
    "soup = BeautifulSoup(driver.page_source, 'html.parser')"
   ]
  },
  {
   "cell_type": "code",
   "execution_count": 40,
   "metadata": {},
   "outputs": [],
   "source": [
    "trs = soup.select('.type2 > tbody > tr')\n",
    "trs = trs[2:7] + trs[-6:-1]"
   ]
  },
  {
   "cell_type": "code",
   "execution_count": 41,
   "metadata": {},
   "outputs": [
    {
     "data": {
      "text/plain": [
       "'2022.04.29'"
      ]
     },
     "execution_count": 41,
     "metadata": {},
     "output_type": "execute_result"
    }
   ],
   "source": [
    "tr = trs[0]\n",
    "# 날짜\n",
    "date = tr.select_one('.tah.p10.gray03').get_text()\n",
    "date"
   ]
  },
  {
   "cell_type": "code",
   "execution_count": 42,
   "metadata": {},
   "outputs": [
    {
     "data": {
      "text/plain": [
       "67400"
      ]
     },
     "execution_count": 42,
     "metadata": {},
     "output_type": "execute_result"
    }
   ],
   "source": [
    "# ‘종가’ 데이터만 추출하였는가?\n",
    "\n",
    "# 데이터 전처리로 금액사이의 콤마를 제거하였는가?\n",
    "price = tr.select_one('.tah.p11').get_text()\n",
    "# 데이터 전처리로 DataFrame의 숫자형식의 \n",
    "# 문자열 데이터를 숫자로 변환하였는가?\n",
    "price = int(re.sub('[^0-9]', '', price))\n",
    "price"
   ]
  },
  {
   "cell_type": "code",
   "execution_count": 43,
   "metadata": {},
   "outputs": [
    {
     "data": {
      "application/vnd.jupyter.widget-view+json": {
       "model_id": "374641e63cbc48cb992fe65deaf6e6be",
       "version_major": 2,
       "version_minor": 0
      },
      "text/plain": [
       "  0%|          | 0/10 [00:00<?, ?it/s]"
      ]
     },
     "metadata": {},
     "output_type": "display_data"
    }
   ],
   "source": [
    "lines = []\n",
    "for tr in tqdm(trs):\n",
    "    date = tr.select_one('.tah.p10.gray03').get_text()\n",
    "    price = tr.select_one('.tah.p11').get_text()\n",
    "    price = int(re.sub('[^0-9]', '', price))\n",
    "    lines.append([date, price])\n",
    "driver.close()"
   ]
  },
  {
   "cell_type": "markdown",
   "metadata": {},
   "source": [
    "<pre>\n",
    "사이트의 내용을 DataFrame으로 저장을 하였는가?\n",
    "“날짜” 컬럼을 DataFrame의 인덱스로 변환하였는가?\n",
    "</pre>"
   ]
  },
  {
   "cell_type": "code",
   "execution_count": 47,
   "metadata": {},
   "outputs": [
    {
     "data": {
      "text/html": [
       "<div>\n",
       "<style scoped>\n",
       "    .dataframe tbody tr th:only-of-type {\n",
       "        vertical-align: middle;\n",
       "    }\n",
       "\n",
       "    .dataframe tbody tr th {\n",
       "        vertical-align: top;\n",
       "    }\n",
       "\n",
       "    .dataframe thead th {\n",
       "        text-align: right;\n",
       "    }\n",
       "</style>\n",
       "<table border=\"1\" class=\"dataframe\">\n",
       "  <thead>\n",
       "    <tr style=\"text-align: right;\">\n",
       "      <th></th>\n",
       "      <th>종가</th>\n",
       "    </tr>\n",
       "    <tr>\n",
       "      <th>날짜</th>\n",
       "      <th></th>\n",
       "    </tr>\n",
       "  </thead>\n",
       "  <tbody>\n",
       "    <tr>\n",
       "      <td>2022.04.18</td>\n",
       "      <td>66700</td>\n",
       "    </tr>\n",
       "    <tr>\n",
       "      <td>2022.04.19</td>\n",
       "      <td>67300</td>\n",
       "    </tr>\n",
       "    <tr>\n",
       "      <td>2022.04.20</td>\n",
       "      <td>67400</td>\n",
       "    </tr>\n",
       "    <tr>\n",
       "      <td>2022.04.21</td>\n",
       "      <td>67700</td>\n",
       "    </tr>\n",
       "    <tr>\n",
       "      <td>2022.04.22</td>\n",
       "      <td>67000</td>\n",
       "    </tr>\n",
       "    <tr>\n",
       "      <td>2022.04.25</td>\n",
       "      <td>66300</td>\n",
       "    </tr>\n",
       "    <tr>\n",
       "      <td>2022.04.26</td>\n",
       "      <td>66100</td>\n",
       "    </tr>\n",
       "    <tr>\n",
       "      <td>2022.04.27</td>\n",
       "      <td>65000</td>\n",
       "    </tr>\n",
       "    <tr>\n",
       "      <td>2022.04.28</td>\n",
       "      <td>64800</td>\n",
       "    </tr>\n",
       "    <tr>\n",
       "      <td>2022.04.29</td>\n",
       "      <td>67400</td>\n",
       "    </tr>\n",
       "  </tbody>\n",
       "</table>\n",
       "</div>"
      ],
      "text/plain": [
       "               종가\n",
       "날짜               \n",
       "2022.04.18  66700\n",
       "2022.04.19  67300\n",
       "2022.04.20  67400\n",
       "2022.04.21  67700\n",
       "2022.04.22  67000\n",
       "2022.04.25  66300\n",
       "2022.04.26  66100\n",
       "2022.04.27  65000\n",
       "2022.04.28  64800\n",
       "2022.04.29  67400"
      ]
     },
     "execution_count": 47,
     "metadata": {},
     "output_type": "execute_result"
    }
   ],
   "source": [
    "df = pd.DataFrame(lines, columns=['날짜', '종가'])\n",
    "df.set_index(['날짜'], inplace=True)\n",
    "df.sort_index(ascending=True, inplace=True)\n",
    "df"
   ]
  },
  {
   "cell_type": "markdown",
   "metadata": {},
   "source": [
    "<pre>\n",
    "Dataframe 시각화\n",
    "</pre>"
   ]
  },
  {
   "cell_type": "code",
   "execution_count": 48,
   "metadata": {},
   "outputs": [
    {
     "data": {
      "image/png": "[encoded data removed]",
      "text/plain": [
       "<Figure size 720x432 with 1 Axes>"
      ]
     },
     "metadata": {
      "needs_background": "dark"
     },
     "output_type": "display_data"
    }
   ],
   "source": [
    "# 그래프의 기본 설정은 하였는가?\n",
    "df.plot(figsize=(10,6))\n",
    "\n",
    "# 그래프에 타이틀, x축, y축 라벨 문자와 x축에 날짜를 모두 출력하였는가?\n",
    "plt.title('삼성전자 날짜별 주가 상황')\n",
    "\n",
    "# 날짜와 종가로 선그래프를 그렸는가?\n",
    "plt.xlabel('날짜'), plt.ylabel('금액')\n",
    "plt.show()"
   ]
  }
 ],
 "metadata": {
  "interpreter": {
   "hash": "2416f014eda44098b06ac223510cfbf712f6c3c49a2a2784b81e5eb971c53cd7"
  },
  "kernelspec": {
   "display_name": "Python 3.7.1 ('base')",
   "language": "python",
   "name": "python3"
  },
  "language_info": {
   "codemirror_mode": {
    "name": "ipython",
    "version": 3
   },
   "file_extension": ".py",
   "mimetype": "text/x-python",
   "name": "python",
   "nbconvert_exporter": "python",
   "pygments_lexer": "ipython3",
   "version": "3.7.1"
  },
  "orig_nbformat": 4
 },
 "nbformat": 4,
 "nbformat_minor": 2
}
