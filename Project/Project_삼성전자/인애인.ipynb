{
 "cells": [
  {
   "cell_type": "code",
   "execution_count": 4,
   "metadata": {},
   "outputs": [],
   "source": [
    "import numpy as np\n",
    "import pandas as pd\n",
    "from bs4 import BeautifulSoup\n",
    "from selenium import webdriver\n",
    "from selenium.webdriver.common.keys import Keys\n",
    "import time\n",
    "import warnings\n",
    "warnings.filterwarnings('ignore')"
   ]
  },
  {
   "cell_type": "code",
   "execution_count": 8,
   "metadata": {},
   "outputs": [],
   "source": [
    "url = 'http://inein.syn.co.kr/manager/login.asp'\n",
    "chromedriver = 'chromedriver.exe'\n",
    "driver = webdriver.Chrome(chromedriver)\n",
    "driver.get(url)"
   ]
  },
  {
   "cell_type": "code",
   "execution_count": 9,
   "metadata": {},
   "outputs": [],
   "source": [
    "from selenium.webdriver.common.by import By\n",
    "# 로그인\n",
    "driver.find_element(By.ID, 'mem_id').send_keys('inein')\n",
    "driver.find_element(By.ID, 'mem_pwd').send_keys('inein14!@')\n",
    "driver.find_element(By.ID, 'mem_pwd').send_keys(Keys.ENTER)\n",
    "time.sleep(1)\n",
    "# 강연 클릭\n",
    "menu = driver.find_elements(By.CLASS_NAME, 'text01')\n",
    "menu[6].find_element(By.TAG_NAME, 'a').click()\n",
    "# 1page table\n",
    "tbody = driver.find_elements(By.TAG_NAME, 'tbody')[11]\n",
    "tr = tbody.find_elements(By.TAG_NAME, 'tr')\n",
    "del tr[0]\n",
    "for i in tr:\n",
    "    i.find_elements(By.TAG_NAME, 'td')[-1].find_elements(By.TAG_NAME, 'a')[0].click()\n",
    "    table = driver.find_elements(By.TAG_NAME, 'tbody')\n",
    "    contents = table[10].find_elements(By.TAG_NAME, 'tr')\n",
    "    # Youtube\n",
    "    youtube = contents[4].find_elements(By.TAG_NAME, 'td')[1].find_element(By.TAG_NAME, 'input').get_attribute('value')\n",
    "    title = contents[5].find_elements(By.TAG_NAME, 'td')[1].find_element(By.TAG_NAME, 'input').get_attribute('value')\n",
    "    intro = contents[6].find_elements(By.TAG_NAME, 'td')[1].find_element(By.TAG_NAME, 'input').get_attribute('value')\n",
    "    people = contents[7].find_elements(By.TAG_NAME, 'td')[1].find_element(By.TAG_NAME, 'input').get_attribute('value')\n",
    "    price = contents[8].find_elements(By.TAG_NAME, 'td')[1].find_element(By.TAG_NAME, 'input').get_attribute('value')\n",
    "    pc_picture = contents[10].find_elements(By.TAG_NAME, 'td')[1].find_element(By.TAG_NAME, 'img').get_attribute('src')\n",
    "    mobile_picture = contents[12].find_elements(By.TAG_NAME, 'td')[1].find_element(By.TAG_NAME, 'img').get_attribute('src')\n",
    "    teacher_picture = contents[14].find_elements(By.TAG_NAME, 'td')[1].find_element(By.TAG_NAME, 'img').get_attribute('src')\n",
    "    teacher_name = contents[15].find_elements(By.TAG_NAME, 'td')[1].find_element(By.TAG_NAME, 'input').get_attribute('value')\n",
    "    "
   ]
  },
  {
   "cell_type": "code",
   "execution_count": 88,
   "metadata": {},
   "outputs": [
    {
     "ename": "NoSuchElementException",
     "evalue": "Message: no such element: Unable to locate element: {\"method\":\"css selector\",\"selector\":\"td.pd05 span.author_info\"}\n  (Session info: chrome=107.0.5304.121)\nStacktrace:\nBacktrace:\n\tOrdinal0 [0x00E6ACD3+2075859]\n\tOrdinal0 [0x00DFEE61+1633889]\n\tOrdinal0 [0x00CFB7BD+571325]\n\tOrdinal0 [0x00D2AC2F+764975]\n\tOrdinal0 [0x00D2AE1B+765467]\n\tOrdinal0 [0x00D21681+726657]\n\tOrdinal0 [0x00D47364+881508]\n\tOrdinal0 [0x00D215BF+726463]\n\tOrdinal0 [0x00D47534+881972]\n\tOrdinal0 [0x00D5B56A+963946]\n\tOrdinal0 [0x00D47136+880950]\n\tOrdinal0 [0x00D1FEFD+720637]\n\tOrdinal0 [0x00D20F3F+724799]\n\tGetHandleVerifier [0x0111EED2+2769538]\n\tGetHandleVerifier [0x01110D95+2711877]\n\tGetHandleVerifier [0x00EFA03A+521194]\n\tGetHandleVerifier [0x00EF8DA0+516432]\n\tOrdinal0 [0x00E0682C+1665068]\n\tOrdinal0 [0x00E0B128+1683752]\n\tOrdinal0 [0x00E0B215+1683989]\n\tOrdinal0 [0x00E16484+1729668]\n\tBaseThreadInitThunk [0x7676FEF9+25]\n\tRtlGetAppContainerNamedObjectPath [0x774F7BBE+286]\n\tRtlGetAppContainerNamedObjectPath [0x774F7B8E+238]\n",
     "output_type": "error",
     "traceback": [
      "\u001b[1;31m---------------------------------------------------------------------------\u001b[0m",
      "\u001b[1;31mNoSuchElementException\u001b[0m                    Traceback (most recent call last)",
      "\u001b[1;32md:\\bigdata_pcj\\02.DataAnalysis\\Project\\Project_삼성전자\\인애인.ipynb 셀 4\u001b[0m in \u001b[0;36m<cell line: 1>\u001b[1;34m()\u001b[0m\n\u001b[1;32m----> <a href='vscode-notebook-cell:/d%3A/bigdata_pcj/02.DataAnalysis/Project/Project_%EC%82%BC%EC%84%B1%EC%A0%84%EC%9E%90/%EC%9D%B8%EC%95%A0%EC%9D%B8.ipynb#X15sZmlsZQ%3D%3D?line=0'>1</a>\u001b[0m contents[\u001b[39m16\u001b[39;49m]\u001b[39m.\u001b[39;49mfind_element(By\u001b[39m.\u001b[39;49mCSS_SELECTOR, \u001b[39m'\u001b[39;49m\u001b[39mtd.pd05 span.author_info\u001b[39;49m\u001b[39m'\u001b[39;49m)\n",
      "File \u001b[1;32mc:\\Users\\lunaw\\anaconda3\\lib\\site-packages\\selenium\\webdriver\\remote\\webelement.py:419\u001b[0m, in \u001b[0;36mWebElement.find_element\u001b[1;34m(self, by, value)\u001b[0m\n\u001b[0;32m    416\u001b[0m     by \u001b[39m=\u001b[39m By\u001b[39m.\u001b[39mCSS_SELECTOR\n\u001b[0;32m    417\u001b[0m     value \u001b[39m=\u001b[39m \u001b[39m'\u001b[39m\u001b[39m[name=\u001b[39m\u001b[39m\"\u001b[39m\u001b[39m%s\u001b[39;00m\u001b[39m\"\u001b[39m\u001b[39m]\u001b[39m\u001b[39m'\u001b[39m \u001b[39m%\u001b[39m value\n\u001b[1;32m--> 419\u001b[0m \u001b[39mreturn\u001b[39;00m \u001b[39mself\u001b[39;49m\u001b[39m.\u001b[39;49m_execute(Command\u001b[39m.\u001b[39;49mFIND_CHILD_ELEMENT,\n\u001b[0;32m    420\u001b[0m                      {\u001b[39m\"\u001b[39;49m\u001b[39musing\u001b[39;49m\u001b[39m\"\u001b[39;49m: by, \u001b[39m\"\u001b[39;49m\u001b[39mvalue\u001b[39;49m\u001b[39m\"\u001b[39;49m: value})[\u001b[39m'\u001b[39m\u001b[39mvalue\u001b[39m\u001b[39m'\u001b[39m]\n",
      "File \u001b[1;32mc:\\Users\\lunaw\\anaconda3\\lib\\site-packages\\selenium\\webdriver\\remote\\webelement.py:396\u001b[0m, in \u001b[0;36mWebElement._execute\u001b[1;34m(self, command, params)\u001b[0m\n\u001b[0;32m    394\u001b[0m     params \u001b[39m=\u001b[39m {}\n\u001b[0;32m    395\u001b[0m params[\u001b[39m'\u001b[39m\u001b[39mid\u001b[39m\u001b[39m'\u001b[39m] \u001b[39m=\u001b[39m \u001b[39mself\u001b[39m\u001b[39m.\u001b[39m_id\n\u001b[1;32m--> 396\u001b[0m \u001b[39mreturn\u001b[39;00m \u001b[39mself\u001b[39;49m\u001b[39m.\u001b[39;49m_parent\u001b[39m.\u001b[39;49mexecute(command, params)\n",
      "File \u001b[1;32mc:\\Users\\lunaw\\anaconda3\\lib\\site-packages\\selenium\\webdriver\\remote\\webdriver.py:435\u001b[0m, in \u001b[0;36mWebDriver.execute\u001b[1;34m(self, driver_command, params)\u001b[0m\n\u001b[0;32m    433\u001b[0m response \u001b[39m=\u001b[39m \u001b[39mself\u001b[39m\u001b[39m.\u001b[39mcommand_executor\u001b[39m.\u001b[39mexecute(driver_command, params)\n\u001b[0;32m    434\u001b[0m \u001b[39mif\u001b[39;00m response:\n\u001b[1;32m--> 435\u001b[0m     \u001b[39mself\u001b[39;49m\u001b[39m.\u001b[39;49merror_handler\u001b[39m.\u001b[39;49mcheck_response(response)\n\u001b[0;32m    436\u001b[0m     response[\u001b[39m'\u001b[39m\u001b[39mvalue\u001b[39m\u001b[39m'\u001b[39m] \u001b[39m=\u001b[39m \u001b[39mself\u001b[39m\u001b[39m.\u001b[39m_unwrap_value(\n\u001b[0;32m    437\u001b[0m         response\u001b[39m.\u001b[39mget(\u001b[39m'\u001b[39m\u001b[39mvalue\u001b[39m\u001b[39m'\u001b[39m, \u001b[39mNone\u001b[39;00m))\n\u001b[0;32m    438\u001b[0m     \u001b[39mreturn\u001b[39;00m response\n",
      "File \u001b[1;32mc:\\Users\\lunaw\\anaconda3\\lib\\site-packages\\selenium\\webdriver\\remote\\errorhandler.py:247\u001b[0m, in \u001b[0;36mErrorHandler.check_response\u001b[1;34m(self, response)\u001b[0m\n\u001b[0;32m    245\u001b[0m         alert_text \u001b[39m=\u001b[39m value[\u001b[39m'\u001b[39m\u001b[39malert\u001b[39m\u001b[39m'\u001b[39m]\u001b[39m.\u001b[39mget(\u001b[39m'\u001b[39m\u001b[39mtext\u001b[39m\u001b[39m'\u001b[39m)\n\u001b[0;32m    246\u001b[0m     \u001b[39mraise\u001b[39;00m exception_class(message, screen, stacktrace, alert_text)  \u001b[39m# type: ignore[call-arg]  # mypy is not smart enough here\u001b[39;00m\n\u001b[1;32m--> 247\u001b[0m \u001b[39mraise\u001b[39;00m exception_class(message, screen, stacktrace)\n",
      "\u001b[1;31mNoSuchElementException\u001b[0m: Message: no such element: Unable to locate element: {\"method\":\"css selector\",\"selector\":\"td.pd05 span.author_info\"}\n  (Session info: chrome=107.0.5304.121)\nStacktrace:\nBacktrace:\n\tOrdinal0 [0x00E6ACD3+2075859]\n\tOrdinal0 [0x00DFEE61+1633889]\n\tOrdinal0 [0x00CFB7BD+571325]\n\tOrdinal0 [0x00D2AC2F+764975]\n\tOrdinal0 [0x00D2AE1B+765467]\n\tOrdinal0 [0x00D21681+726657]\n\tOrdinal0 [0x00D47364+881508]\n\tOrdinal0 [0x00D215BF+726463]\n\tOrdinal0 [0x00D47534+881972]\n\tOrdinal0 [0x00D5B56A+963946]\n\tOrdinal0 [0x00D47136+880950]\n\tOrdinal0 [0x00D1FEFD+720637]\n\tOrdinal0 [0x00D20F3F+724799]\n\tGetHandleVerifier [0x0111EED2+2769538]\n\tGetHandleVerifier [0x01110D95+2711877]\n\tGetHandleVerifier [0x00EFA03A+521194]\n\tGetHandleVerifier [0x00EF8DA0+516432]\n\tOrdinal0 [0x00E0682C+1665068]\n\tOrdinal0 [0x00E0B128+1683752]\n\tOrdinal0 [0x00E0B215+1683989]\n\tOrdinal0 [0x00E16484+1729668]\n\tBaseThreadInitThunk [0x7676FEF9+25]\n\tRtlGetAppContainerNamedObjectPath [0x774F7BBE+286]\n\tRtlGetAppContainerNamedObjectPath [0x774F7B8E+238]\n"
     ]
    }
   ],
   "source": [
    "contents[16].find_element(By.CSS_SELECTOR, 'td.pd05 span.author_info')"
   ]
  },
  {
   "cell_type": "code",
   "execution_count": 35,
   "metadata": {},
   "outputs": [],
   "source": []
  },
  {
   "cell_type": "code",
   "execution_count": null,
   "metadata": {},
   "outputs": [],
   "source": []
  }
 ],
 "metadata": {
  "kernelspec": {
   "display_name": "Python 3.9.12 ('base')",
   "language": "python",
   "name": "python3"
  },
  "language_info": {
   "codemirror_mode": {
    "name": "ipython",
    "version": 3
   },
   "file_extension": ".py",
   "mimetype": "text/x-python",
   "name": "python",
   "nbconvert_exporter": "python",
   "pygments_lexer": "ipython3",
   "version": "3.9.12"
  },
  "orig_nbformat": 4,
  "vscode": {
   "interpreter": {
    "hash": "68b27da7ddeb61625eb32b27b233f0587b7aa507dfa408f4f61141179036d5a9"
   }
  }
 },
 "nbformat": 4,
 "nbformat_minor": 2
}
