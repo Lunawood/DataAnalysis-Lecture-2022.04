{
 "cells": [
  {
   "cell_type": "markdown",
   "metadata": {},
   "source": [
    "<pre>\n",
    "각 나라 날씨\n",
    "</pre>"
   ]
  },
  {
   "cell_type": "code",
   "execution_count": 6,
   "metadata": {},
   "outputs": [
    {
     "data": {
      "application/vnd.jupyter.widget-view+json": {
       "model_id": "cbaa95789f884cd5b5b5ea39f49818b2",
       "version_major": 2,
       "version_minor": 0
      },
      "text/plain": [
       "  0%|          | 0/5 [00:00<?, ?it/s]"
      ]
     },
     "metadata": {},
     "output_type": "display_data"
    },
    {
     "data": {
      "application/vnd.jupyter.widget-view+json": {
       "model_id": "14adedb5252d48b8b690d0110bf36c68",
       "version_major": 2,
       "version_minor": 0
      },
      "text/plain": [
       "  0%|          | 0/5 [00:00<?, ?it/s]"
      ]
     },
     "metadata": {},
     "output_type": "display_data"
    },
    {
     "data": {
      "application/vnd.jupyter.widget-view+json": {
       "model_id": "f5c1b744f78a4129b181d3e528447cdd",
       "version_major": 2,
       "version_minor": 0
      },
      "text/plain": [
       "  0%|          | 0/5 [00:00<?, ?it/s]"
      ]
     },
     "metadata": {},
     "output_type": "display_data"
    },
    {
     "data": {
      "application/vnd.jupyter.widget-view+json": {
       "model_id": "09747d39d6574e7c95e0862c78dd7a34",
       "version_major": 2,
       "version_minor": 0
      },
      "text/plain": [
       "  0%|          | 0/5 [00:00<?, ?it/s]"
      ]
     },
     "metadata": {},
     "output_type": "display_data"
    },
    {
     "data": {
      "application/vnd.jupyter.widget-view+json": {
       "model_id": "b9e94da4c38a48828099bf5dc730dea7",
       "version_major": 2,
       "version_minor": 0
      },
      "text/plain": [
       "  0%|          | 0/5 [00:00<?, ?it/s]"
      ]
     },
     "metadata": {},
     "output_type": "display_data"
    },
    {
     "data": {
      "application/vnd.jupyter.widget-view+json": {
       "model_id": "9f8ce3ed6bb74009a278e7e0c4295362",
       "version_major": 2,
       "version_minor": 0
      },
      "text/plain": [
       "  0%|          | 0/5 [00:00<?, ?it/s]"
      ]
     },
     "metadata": {},
     "output_type": "display_data"
    },
    {
     "data": {
      "application/vnd.jupyter.widget-view+json": {
       "model_id": "d963e1bf5bcf44b39476cb9bd985f126",
       "version_major": 2,
       "version_minor": 0
      },
      "text/plain": [
       "  0%|          | 0/5 [00:00<?, ?it/s]"
      ]
     },
     "metadata": {},
     "output_type": "display_data"
    },
    {
     "data": {
      "application/vnd.jupyter.widget-view+json": {
       "model_id": "0461f58c38c14d22814b8556a19e6aeb",
       "version_major": 2,
       "version_minor": 0
      },
      "text/plain": [
       "  0%|          | 0/5 [00:00<?, ?it/s]"
      ]
     },
     "metadata": {},
     "output_type": "display_data"
    },
    {
     "data": {
      "application/vnd.jupyter.widget-view+json": {
       "model_id": "b28d0d0a4fd74d599b6ea8d6d1a71daa",
       "version_major": 2,
       "version_minor": 0
      },
      "text/plain": [
       "  0%|          | 0/5 [00:00<?, ?it/s]"
      ]
     },
     "metadata": {},
     "output_type": "display_data"
    }
   ],
   "source": [
    "from bs4 import BeautifulSoup\n",
    "from tqdm.notebook import tqdm\n",
    "import requests\n",
    "import json\n",
    "\n",
    "startpoint = \"https://api.openweathermap.org/data/2.5/onecall/timemachine?\"\n",
    "SERVICE_KEY = \"&lang=kr&appid=43d25c202c5fa4b14d04359fef02cad1\"\n",
    "\n",
    "lat = ['37', '51', '37', '39', '37', '-15', '30', '55', '-35']\n",
    "lon = ['126', '0', '-77', '116', '-123', '-47', '26', '37', '149']\n",
    "dt = ['1651449600', '1651536000', '1651622400', '1651708800', '1651795200']\n",
    "\n",
    "weathers = []\n",
    "\n",
    "for i in range(9):\n",
    "    for j in tqdm(range(5)):\n",
    "        change = f'lat={lat[i]}&lon={lon[i]}&dt={dt[j]}'\n",
    "        url = startpoint + change + SERVICE_KEY\n",
    "        req = requests.get(url)\n",
    "        soup = BeautifulSoup(req.text, 'html.parser').get_text()\n",
    "        dic = json.loads(soup)\n",
    "        lis = dic['hourly']\n",
    "        place = dic['timezone']\n",
    "        for li in lis:\n",
    "            weather = []\n",
    "            weather.append(place)\n",
    "            weather.append(li['dt'])\n",
    "            weather.append(li['temp'])\n",
    "            weather.append(li['feels_like'])\n",
    "            weather.append(li['humidity'])\n",
    "            weathers.append(weather)\n"
   ]
  },
  {
   "cell_type": "code",
   "execution_count": 8,
   "metadata": {},
   "outputs": [],
   "source": [
    "import pandas as pd\n",
    "df = pd.DataFrame(weathers, columns=['도시', '시간', '온도', '체감온도', '습도'])\n",
    "df.tail()\n",
    "df.to_csv(\"weather.csv\")"
   ]
  },
  {
   "cell_type": "code",
   "execution_count": 18,
   "metadata": {},
   "outputs": [
    {
     "data": {
      "text/plain": [
       "array(['Asia/Seoul', 'Europe/London', 'America/New_York', 'Asia/Shanghai',\n",
       "       'Etc/GMT+8', 'America/Sao_Paulo', 'Africa/Cairo', 'Europe/Moscow',\n",
       "       'Australia/Sydney'], dtype=object)"
      ]
     },
     "execution_count": 18,
     "metadata": {},
     "output_type": "execute_result"
    }
   ],
   "source": [
    "cities = df['도시'].unique()\n",
    "cities"
   ]
  },
  {
   "cell_type": "code",
   "execution_count": null,
   "metadata": {},
   "outputs": [],
   "source": []
  }
 ],
 "metadata": {
  "interpreter": {
   "hash": "2276d34d8406ba1cfef020614354d7c02b36ca5a2ec700c2667e91593e0bec3f"
  },
  "kernelspec": {
   "display_name": "Python 3.7.1 ('base')",
   "language": "python",
   "name": "python3"
  },
  "language_info": {
   "codemirror_mode": {
    "name": "ipython",
    "version": 3
   },
   "file_extension": ".py",
   "mimetype": "text/x-python",
   "name": "python",
   "nbconvert_exporter": "python",
   "pygments_lexer": "ipython3",
   "version": "3.7.1"
  },
  "orig_nbformat": 4
 },
 "nbformat": 4,
 "nbformat_minor": 2
}
