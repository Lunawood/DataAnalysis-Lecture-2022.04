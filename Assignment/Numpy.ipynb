{
 "cells": [
  {
   "cell_type": "markdown",
   "metadata": {},
   "source": [
    "##### 1. 넘파이를 사용하여 다음과 같은 행렬을 만드시오.\n",
    "<pre>\n",
    "10 20 30 40 50 60 70 80\n",
    "</pre>"
   ]
  },
  {
   "cell_type": "code",
   "execution_count": 2,
   "metadata": {},
   "outputs": [
    {
     "name": "stdout",
     "output_type": "stream",
     "text": [
      "[[10 20 30 40]\n",
      " [50 60 70 80]]\n"
     ]
    }
   ],
   "source": [
    "import numpy as np\n",
    "print(np.arange(10, 81, 10).reshape(2,4))"
   ]
  },
  {
   "cell_type": "markdown",
   "metadata": {},
   "source": [
    "##### 2. 다음 행렬과 같은 행렬이 있다.\n",
    "<pre>\n",
    "m = np.array([[ 0,  1,  2,  3,  4],\n",
    "              [ 5,  6,  7,  8,  9], \n",
    "              [10, 11, 12, 13, 14]])\n",
    "1) 이 행렬에서 값 7 을 인덱싱한다.\n",
    "2) 이 행렬에서 값 14 을 인덱싱한다.\n",
    "3) 이 행렬에서 배열 [6, 7] 을 슬라이싱한다.\n",
    "4) 이 행렬에서 배열 [7, 12] 을 슬라이싱한다.\n",
    "5) 이 행렬에서 배열 [[3, 4], [8, 9]] 을 슬라이싱한다.\n",
    "</pre>"
   ]
  },
  {
   "cell_type": "code",
   "execution_count": 3,
   "metadata": {},
   "outputs": [
    {
     "name": "stdout",
     "output_type": "stream",
     "text": [
      "1번: 7\n",
      "2번: 14\n",
      "3번:[6 7]\n",
      "4번:\n",
      "[[ 7]\n",
      " [12]]\n",
      "5번:\n",
      "[[3 4]\n",
      " [8 9]]\n",
      "\n"
     ]
    }
   ],
   "source": [
    "m = np.array([[ 0,  1,  2,  3,  4],\n",
    "[ 5,  6,  7,  8,  9], [10, 11, 12, 13, 14]])\n",
    "print(f'1번: {m[1,2]}\\n2번: {m[2,4]}\\n3번:{m[1,1:3]}\\n4번:\\n{m[1:,2:3]}\\n5번:\\n{m[:2,3:]}\\n')"
   ]
  },
  {
   "cell_type": "code",
   "execution_count": 14,
   "metadata": {},
   "outputs": [
    {
     "data": {
      "text/plain": [
       "array([[ 0,  1,  2,  3,  4],\n",
       "       [ 5,  6,  7,  8,  9],\n",
       "       [10, 11, 12, 13, 14]])"
      ]
     },
     "execution_count": 14,
     "metadata": {},
     "output_type": "execute_result"
    }
   ],
   "source": [
    "m = np.arange(15).reshape(3,5)\n",
    "m"
   ]
  },
  {
   "cell_type": "code",
   "execution_count": 15,
   "metadata": {},
   "outputs": [
    {
     "data": {
      "text/plain": [
       "(7, 14)"
      ]
     },
     "execution_count": 15,
     "metadata": {},
     "output_type": "execute_result"
    }
   ],
   "source": [
    "# 2-1 2-2\n",
    "m[1,2], m[-1, -1]"
   ]
  },
  {
   "cell_type": "code",
   "execution_count": 16,
   "metadata": {},
   "outputs": [
    {
     "data": {
      "text/plain": [
       "array([6, 7])"
      ]
     },
     "execution_count": 16,
     "metadata": {},
     "output_type": "execute_result"
    }
   ],
   "source": [
    "# 2-3\n",
    "m[1,1:3]"
   ]
  },
  {
   "cell_type": "code",
   "execution_count": 17,
   "metadata": {},
   "outputs": [
    {
     "data": {
      "text/plain": [
       "array([[6, 7]])"
      ]
     },
     "execution_count": 17,
     "metadata": {},
     "output_type": "execute_result"
    }
   ],
   "source": [
    "# 2차원으로 만들려면\n",
    "m[1:2, 1:3]"
   ]
  },
  {
   "cell_type": "code",
   "execution_count": 18,
   "metadata": {},
   "outputs": [
    {
     "data": {
      "text/plain": [
       "array([[6, 7]])"
      ]
     },
     "execution_count": 18,
     "metadata": {},
     "output_type": "execute_result"
    }
   ],
   "source": [
    "# slice가 행과 열에 적용되면 결과는 2차원\n",
    "m[1:2, 1:3]"
   ]
  },
  {
   "cell_type": "code",
   "execution_count": 19,
   "metadata": {},
   "outputs": [
    {
     "data": {
      "text/plain": [
       "array([ 7, 12])"
      ]
     },
     "execution_count": 19,
     "metadata": {},
     "output_type": "execute_result"
    }
   ],
   "source": [
    "# 2-4\n",
    "m[1:, 2]"
   ]
  },
  {
   "cell_type": "code",
   "execution_count": 20,
   "metadata": {},
   "outputs": [
    {
     "data": {
      "text/plain": [
       "array([[ 7],\n",
       "       [12]])"
      ]
     },
     "execution_count": 20,
     "metadata": {},
     "output_type": "execute_result"
    }
   ],
   "source": [
    "m[1:, 2:3]"
   ]
  },
  {
   "cell_type": "code",
   "execution_count": 21,
   "metadata": {},
   "outputs": [
    {
     "data": {
      "text/plain": [
       "array([[3, 4],\n",
       "       [8, 9]])"
      ]
     },
     "execution_count": 21,
     "metadata": {},
     "output_type": "execute_result"
    }
   ],
   "source": [
    "# 2-5\n",
    "m[:-1, 3:]"
   ]
  },
  {
   "cell_type": "markdown",
   "metadata": {},
   "source": [
    "##### 3. 2번의 행렬 m을 1차원 벡터 f 로 변환한 후 다음의 문제를 푸시오.\n",
    "<pre>\n",
    "1) 이 배열에서 3의 배수를 찾아라.\n",
    "2) 이 배열에서 4로 나누면 1이 남는 수를 찾아라.\n",
    "3) 이 배열에서 3으로 나누면 나누어지고 4로 나누면 1이 남는 수를 찾아라.\n",
    "</pre>"
   ]
  },
  {
   "cell_type": "code",
   "execution_count": 5,
   "metadata": {},
   "outputs": [
    {
     "name": "stdout",
     "output_type": "stream",
     "text": [
      "[ 0  3  6  9 12]\n",
      "[ 1  5  9 13]\n",
      "[9]\n"
     ]
    }
   ],
   "source": [
    "f = m.flatten()\n",
    "print(f[f % 3 == 0])\n",
    "print(f[f % 4 == 1])\n",
    "print(f[np.logical_and(f % 3 == 0, f % 4 == 1)])"
   ]
  },
  {
   "cell_type": "code",
   "execution_count": 22,
   "metadata": {},
   "outputs": [
    {
     "data": {
      "text/plain": [
       "array([ 0,  1,  2,  3,  4,  5,  6,  7,  8,  9, 10, 11, 12, 13, 14])"
      ]
     },
     "execution_count": 22,
     "metadata": {},
     "output_type": "execute_result"
    }
   ],
   "source": [
    "f = m.flatten()\n",
    "f"
   ]
  },
  {
   "cell_type": "code",
   "execution_count": 23,
   "metadata": {},
   "outputs": [
    {
     "data": {
      "text/plain": [
       "array([ 0,  3,  6,  9, 12])"
      ]
     },
     "execution_count": 23,
     "metadata": {},
     "output_type": "execute_result"
    }
   ],
   "source": [
    "f[f % 3 == 0]"
   ]
  },
  {
   "cell_type": "code",
   "execution_count": 24,
   "metadata": {},
   "outputs": [
    {
     "data": {
      "text/plain": [
       "array([ 1,  5,  9, 13])"
      ]
     },
     "execution_count": 24,
     "metadata": {},
     "output_type": "execute_result"
    }
   ],
   "source": [
    "f[f % 4 == 1]"
   ]
  },
  {
   "cell_type": "code",
   "execution_count": 25,
   "metadata": {},
   "outputs": [
    {
     "data": {
      "text/plain": [
       "array([9])"
      ]
     },
     "execution_count": 25,
     "metadata": {},
     "output_type": "execute_result"
    }
   ],
   "source": [
    "f[np.logical_and(f % 3 == 0, f % 4 == 1)]"
   ]
  },
  {
   "cell_type": "markdown",
   "metadata": {},
   "source": [
    "##### 4. 값을 직접 입력하지 말고 우측의 행렬을 만드시오.\n",
    "<pre>\n",
    "2, 1, 0, 0, 0 \n",
    "3, 2, 1, 0, 0 \n",
    "0, 3, 2, 1, 0 \n",
    "0, 0, 3, 2, 1 \n",
    "0, 0, 0, 3, 2\n",
    "</pre>"
   ]
  },
  {
   "cell_type": "code",
   "execution_count": 6,
   "metadata": {},
   "outputs": [
    {
     "name": "stdout",
     "output_type": "stream",
     "text": [
      "[[2. 1. 0. 0. 0.]\n",
      " [3. 2. 1. 0. 0.]\n",
      " [0. 3. 2. 1. 0.]\n",
      " [0. 0. 3. 2. 1.]\n",
      " [0. 0. 0. 3. 2.]]\n"
     ]
    }
   ],
   "source": [
    "m = np.zeros((5,5))\n",
    "for i in range(-1,2):\n",
    "    m += np.eye(5,5,k=i)*(2-i)\n",
    "print(m)"
   ]
  },
  {
   "cell_type": "code",
   "execution_count": 28,
   "metadata": {},
   "outputs": [
    {
     "data": {
      "text/plain": [
       "array([[2, 3, 0, 0, 0],\n",
       "       [3, 2, 3, 0, 0],\n",
       "       [0, 3, 2, 3, 0],\n",
       "       [0, 0, 3, 2, 3],\n",
       "       [0, 0, 0, 3, 2]])"
      ]
     },
     "execution_count": 28,
     "metadata": {},
     "output_type": "execute_result"
    }
   ],
   "source": [
    "np.eye(5,5,-1, int)*3 + np.eye(5,5,0, int)*2 + np.eye(5,5,1, int)*3"
   ]
  },
  {
   "cell_type": "markdown",
   "metadata": {},
   "source": [
    "##### 5. 0에서 10까지 랜덤 실수값으로 이루어진 5 x 6 형태의 데이터 행렬을 만들고 \n",
    "#####   이 데이터에 대해 다음과 같은 값을 구하시오.\n",
    "<pre>\n",
    "1) 전체의 최댓값\n",
    "2) 각 행의 합\n",
    "3) 각 행의 최댓값\n",
    "4) 각 열의 평균\n",
    "5) 각 열의 최솟값\n",
    "</pre>"
   ]
  },
  {
   "cell_type": "code",
   "execution_count": 7,
   "metadata": {},
   "outputs": [
    {
     "name": "stdout",
     "output_type": "stream",
     "text": [
      "[[ 4  3  2  7  7 10]\n",
      " [ 4  0  7  8  0  8]\n",
      " [ 9  8  5  1  3  5]\n",
      " [ 1  2  3  1  0 10]\n",
      " [ 5 10  6  9  2  6]]\n",
      "1번:10\n",
      "2번:[33 27 31 17 38]\n",
      "3번:[10  8  9 10 10]\n",
      "4번:[4.6 4.6 4.6 5.2 2.4 7.8]\n",
      "5번:[1 0 2 1 0 5]\n"
     ]
    }
   ],
   "source": [
    "m = np.random.randint(0, 11, 30).reshape(5,6)\n",
    "print(m)\n",
    "print(f'1번:{m.max()}\\n2번:{m.sum(axis=1)}\\n3번:{m.max(axis=1)}\\n4번:{m.mean(axis=0)}\\n5번:{m.min(axis=0)}')"
   ]
  },
  {
   "cell_type": "code",
   "execution_count": 29,
   "metadata": {},
   "outputs": [
    {
     "data": {
      "text/plain": [
       "array([[0.0936, 4.9906, 1.1338, 0.4997, 6.8541, 4.8699],\n",
       "       [8.9766, 6.4745, 8.9696, 7.2113, 8.3135, 8.2757],\n",
       "       [8.3358, 9.5704, 3.6804, 4.9484, 3.3951, 6.1943],\n",
       "       [9.7753, 0.9643, 7.4421, 2.925 , 2.9868, 7.5247],\n",
       "       [0.1866, 5.2374, 8.6444, 3.8884, 2.1219, 4.7518]])"
      ]
     },
     "execution_count": 29,
     "metadata": {},
     "output_type": "execute_result"
    }
   ],
   "source": [
    "np.random.seed(2022)\n",
    "m = np.random.uniform(0, 10, 30).reshape(5, 6).round(4)\n",
    "m           # round 소수점 4째자리수"
   ]
  },
  {
   "cell_type": "code",
   "execution_count": 30,
   "metadata": {},
   "outputs": [
    {
     "data": {
      "text/plain": [
       "9.7753"
      ]
     },
     "execution_count": 30,
     "metadata": {},
     "output_type": "execute_result"
    }
   ],
   "source": [
    "# 5-1\n",
    "m.max()"
   ]
  },
  {
   "cell_type": "code",
   "execution_count": 31,
   "metadata": {},
   "outputs": [
    {
     "data": {
      "text/plain": [
       "array([18.4417, 48.2212, 36.1244, 31.6182, 24.8305])"
      ]
     },
     "execution_count": 31,
     "metadata": {},
     "output_type": "execute_result"
    }
   ],
   "source": [
    "# 5-2\n",
    "m.sum(axis=1)"
   ]
  },
  {
   "cell_type": "code",
   "execution_count": 32,
   "metadata": {},
   "outputs": [
    {
     "data": {
      "text/plain": [
       "array([18.4417, 48.2212, 36.1244, 31.6182, 24.8305])"
      ]
     },
     "execution_count": 32,
     "metadata": {},
     "output_type": "execute_result"
    }
   ],
   "source": [
    "np.sum(m, axis=1)"
   ]
  },
  {
   "cell_type": "code",
   "execution_count": 33,
   "metadata": {},
   "outputs": [
    {
     "data": {
      "text/plain": [
       "array([6.8541, 8.9766, 9.5704, 9.7753, 8.6444])"
      ]
     },
     "execution_count": 33,
     "metadata": {},
     "output_type": "execute_result"
    }
   ],
   "source": [
    "# 5-3\n",
    "m.max(axis=1)"
   ]
  },
  {
   "cell_type": "code",
   "execution_count": 34,
   "metadata": {},
   "outputs": [
    {
     "data": {
      "text/plain": [
       "array([5.47358, 5.44744, 5.97406, 3.89456, 4.73428, 6.32328])"
      ]
     },
     "execution_count": 34,
     "metadata": {},
     "output_type": "execute_result"
    }
   ],
   "source": [
    "# 5-4\n",
    "m.mean(axis=0)"
   ]
  },
  {
   "cell_type": "code",
   "execution_count": 35,
   "metadata": {},
   "outputs": [
    {
     "data": {
      "text/plain": [
       "array([0.0936, 0.9643, 1.1338, 0.4997, 2.1219, 4.7518])"
      ]
     },
     "execution_count": 35,
     "metadata": {},
     "output_type": "execute_result"
    }
   ],
   "source": [
    "# 5-5\n",
    "m.min(axis=0)"
   ]
  },
  {
   "cell_type": "markdown",
   "metadata": {},
   "source": [
    "##### 6. 다음 배열은 첫번째 행(row)에 학번, 두번째 행에 영어 성적, 세번째 행에 수학 성적을 적은 배열이다. \n",
    "#####     영어 성적을 기준으로 각 열(column)을 재정렬하시오.\n",
    "<pre>\n",
    "array([[  1,    2,    3,    4], \n",
    "       [ 46,   99,  100,   71], \n",
    "       [ 81,   59,   90,  100]])\n",
    "</pre>"
   ]
  },
  {
   "cell_type": "code",
   "execution_count": 8,
   "metadata": {},
   "outputs": [
    {
     "name": "stdout",
     "output_type": "stream",
     "text": [
      "[[  1   4   2   3]\n",
      " [ 46  71  99 100]\n",
      " [ 81 100  59  90]]\n"
     ]
    },
    {
     "data": {
      "text/html": [
       "<div>\n",
       "<style scoped>\n",
       "    .dataframe tbody tr th:only-of-type {\n",
       "        vertical-align: middle;\n",
       "    }\n",
       "\n",
       "    .dataframe tbody tr th {\n",
       "        vertical-align: top;\n",
       "    }\n",
       "\n",
       "    .dataframe thead th {\n",
       "        text-align: right;\n",
       "    }\n",
       "</style>\n",
       "<table border=\"1\" class=\"dataframe\">\n",
       "  <thead>\n",
       "    <tr style=\"text-align: right;\">\n",
       "      <th></th>\n",
       "      <th>학번</th>\n",
       "      <th>영어</th>\n",
       "      <th>수학</th>\n",
       "    </tr>\n",
       "  </thead>\n",
       "  <tbody>\n",
       "    <tr>\n",
       "      <th>0</th>\n",
       "      <td>1</td>\n",
       "      <td>46</td>\n",
       "      <td>81</td>\n",
       "    </tr>\n",
       "    <tr>\n",
       "      <th>1</th>\n",
       "      <td>4</td>\n",
       "      <td>71</td>\n",
       "      <td>100</td>\n",
       "    </tr>\n",
       "    <tr>\n",
       "      <th>2</th>\n",
       "      <td>2</td>\n",
       "      <td>99</td>\n",
       "      <td>59</td>\n",
       "    </tr>\n",
       "    <tr>\n",
       "      <th>3</th>\n",
       "      <td>3</td>\n",
       "      <td>100</td>\n",
       "      <td>90</td>\n",
       "    </tr>\n",
       "  </tbody>\n",
       "</table>\n",
       "</div>"
      ],
      "text/plain": [
       "   학번   영어   수학\n",
       "0   1   46   81\n",
       "1   4   71  100\n",
       "2   2   99   59\n",
       "3   3  100   90"
      ]
     },
     "execution_count": 8,
     "metadata": {},
     "output_type": "execute_result"
    }
   ],
   "source": [
    "score = np.array([[1, 2, 3, 4], [46, 99, 100, 71], [81, 59, 90, 100]])\n",
    "print(score[:,score[1].argsort()])\n",
    "import pandas as pd\n",
    "pd.DataFrame(score[:,score[1].argsort()].T, columns=('학번', '영어','수학'))"
   ]
  },
  {
   "cell_type": "code",
   "execution_count": 36,
   "metadata": {},
   "outputs": [
    {
     "data": {
      "text/plain": [
       "array([[  1,   2,   3,   4],\n",
       "       [ 46,  99, 100,  71],\n",
       "       [ 81,  59,  90, 100]])"
      ]
     },
     "execution_count": 36,
     "metadata": {},
     "output_type": "execute_result"
    }
   ],
   "source": [
    "score = np.array([[1, 2, 3, 4], [46, 99, 100, 71], [81, 59, 90, 100]])\n",
    "score"
   ]
  },
  {
   "cell_type": "code",
   "execution_count": 38,
   "metadata": {},
   "outputs": [
    {
     "data": {
      "text/plain": [
       "array([0, 3, 1, 2], dtype=int64)"
      ]
     },
     "execution_count": 38,
     "metadata": {},
     "output_type": "execute_result"
    }
   ],
   "source": [
    "# 영어 성적을 argsort()\n",
    "indices = np.argsort(score[1])\n",
    "indices"
   ]
  },
  {
   "cell_type": "code",
   "execution_count": 39,
   "metadata": {},
   "outputs": [
    {
     "data": {
      "text/plain": [
       "array([2, 1, 3, 0], dtype=int64)"
      ]
     },
     "execution_count": 39,
     "metadata": {},
     "output_type": "execute_result"
    }
   ],
   "source": [
    "# 내림차순\n",
    "indices[::-1]"
   ]
  },
  {
   "cell_type": "code",
   "execution_count": 41,
   "metadata": {},
   "outputs": [
    {
     "data": {
      "text/plain": [
       "array([[  3,   2,   4,   1],\n",
       "       [100,  99,  71,  46],\n",
       "       [ 90,  59, 100,  81]])"
      ]
     },
     "execution_count": 41,
     "metadata": {},
     "output_type": "execute_result"
    }
   ],
   "source": [
    "# 모든 행을 영어성적 내림차순 기준으로 정렬\n",
    "score[:, indices[::-1]]"
   ]
  },
  {
   "cell_type": "code",
   "execution_count": 42,
   "metadata": {},
   "outputs": [
    {
     "data": {
      "text/plain": [
       "array([[  3,   2,   4,   1],\n",
       "       [100,  99,  71,  46],\n",
       "       [ 90,  59, 100,  81]])"
      ]
     },
     "execution_count": 42,
     "metadata": {},
     "output_type": "execute_result"
    }
   ],
   "source": [
    "# 한 줄로\n",
    "score[:, np.argsort(score[1])[::-1]]"
   ]
  },
  {
   "cell_type": "markdown",
   "metadata": {},
   "source": [
    "##### 7. 주사위를 100번 던지는 가상 실험을 파이썬으로 작성하고, 던져서 나오는 숫자의 평균을 구하시오.\n"
   ]
  },
  {
   "cell_type": "code",
   "execution_count": 9,
   "metadata": {},
   "outputs": [
    {
     "name": "stdout",
     "output_type": "stream",
     "text": [
      "3.39\n"
     ]
    }
   ],
   "source": [
    "dice = np.random.randint(1, 7, 100)\n",
    "print(dice.mean())"
   ]
  },
  {
   "cell_type": "code",
   "execution_count": 43,
   "metadata": {},
   "outputs": [
    {
     "data": {
      "text/plain": [
       "array([6, 5, 6, 1, 2, 2, 1, 1, 3, 1, 1, 6, 2, 2, 4, 4, 4, 1, 4, 1, 4, 1,\n",
       "       6, 1, 3, 3, 4, 2, 3, 1, 6, 6, 2, 6, 6, 5, 1, 3, 3, 3, 4, 5, 6, 2,\n",
       "       3, 5, 1, 6, 6, 5, 3, 6, 1, 6, 6, 6, 6, 6, 1, 4, 4, 3, 5, 1, 2, 5,\n",
       "       2, 1, 6, 6, 1, 1, 4, 2, 6, 4, 3, 2, 6, 3, 2, 5, 2, 3, 3, 2, 6, 2,\n",
       "       3, 2, 5, 4, 1, 5, 5, 5, 5, 1, 2, 3])"
      ]
     },
     "execution_count": 43,
     "metadata": {},
     "output_type": "execute_result"
    }
   ],
   "source": [
    "np.random.seed(2022)\n",
    "dice = np.random.randint(1,7,100)\n",
    "dice"
   ]
  },
  {
   "cell_type": "code",
   "execution_count": 44,
   "metadata": {},
   "outputs": [
    {
     "data": {
      "text/plain": [
       "3.47"
      ]
     },
     "execution_count": 44,
     "metadata": {},
     "output_type": "execute_result"
    }
   ],
   "source": [
    "np.mean(dice)"
   ]
  },
  {
   "cell_type": "code",
   "execution_count": 45,
   "metadata": {},
   "outputs": [
    {
     "data": {
      "text/plain": [
       "array([1, 2, 3, 4, 5, 6])"
      ]
     },
     "execution_count": 45,
     "metadata": {},
     "output_type": "execute_result"
    }
   ],
   "source": [
    "# dice array에서의 고유값\n",
    "np.unique(dice)"
   ]
  },
  {
   "cell_type": "code",
   "execution_count": 46,
   "metadata": {},
   "outputs": [
    {
     "data": {
      "text/plain": [
       "(array([1, 2, 3, 4, 5, 6]), array([20, 17, 16, 12, 13, 22], dtype=int64))"
      ]
     },
     "execution_count": 46,
     "metadata": {},
     "output_type": "execute_result"
    }
   ],
   "source": [
    "# dice array에서 고유값 및 그 갯수\n",
    "np.unique(dice, return_counts=True)"
   ]
  },
  {
   "cell_type": "code",
   "execution_count": 47,
   "metadata": {},
   "outputs": [
    {
     "data": {
      "text/plain": [
       "{1: 20, 2: 17, 3: 16, 4: 12, 5: 13, 6: 22}"
      ]
     },
     "execution_count": 47,
     "metadata": {},
     "output_type": "execute_result"
    }
   ],
   "source": [
    "unique, counts = np.unique(dice, return_counts=True)\n",
    "dict(zip(unique, counts))"
   ]
  },
  {
   "cell_type": "markdown",
   "metadata": {},
   "source": [
    "##### 8. 가격이 10,000원인 주식이 있다. \n",
    "#####     이 주식의 일간 수익률(%)은 기댓값이 0%이고 표준편차가 1% 인 표준 정규 분포를 따른다고 하자. \n",
    "#####     250일 동안의 주가를 무작위로 생성하시오"
   ]
  },
  {
   "cell_type": "code",
   "execution_count": 59,
   "metadata": {},
   "outputs": [
    {
     "name": "stdout",
     "output_type": "stream",
     "text": [
      "[10000, 9998.953414931611, 9997.906939397253, 9996.860573385462, 9995.814316884776, 9994.768169883733, 9993.722132370873, 9992.676204334737, 9991.630385763869, 9990.58467664681, 9989.539076972105, 9988.493586728302, 9987.448205903946, 9986.402934487585, 9985.35777246777, 9984.312719833053, 9983.267776571984, 9982.222942673116, 9981.178218125004, 9980.133602916203, 9979.08909703527, 9978.044700470764, 9977.000413211243, 9975.956235245265, 9974.912166561395, 9973.868207148194, 9972.824356994228, 9971.78061608806, 9970.736984418256, 9969.693461973384, 9968.650048742013, 9967.606744712713, 9966.563549874056, 9965.520464214613, 9964.477487722956, 9963.434620387661, 9962.391862197306, 9961.349213140466, 9960.306673205718, 9959.264242381643, 9958.221920656822, 9957.179708019838, 9956.13760445927, 9955.095609963706, 9954.05372452173, 9953.011948121928, 9951.970280752888, 9950.928722403201, 9949.887273061455, 9948.845932716242, 9947.804701356154, 9946.763578969785, 9945.722565545731, 9944.68166107259, 9943.640865538953, 9942.600178933424, 9941.559601244602, 9940.519132461088, 9939.478772571481, 9938.438521564389, 9937.398379428412, 9936.35834615216, 9935.318421724236, 9934.27860613325, 9933.23889936781, 9932.19930141653, 9931.159812268017, 9930.120431910887, 9929.081160333753, 9928.041997525232, 9927.002943473937, 9925.963998168489, 9924.925161597504, 9923.886433749605, 9922.847814613411, 9921.809304177545, 9920.77090243063, 9919.732609361292, 9918.694424958156, 9917.656349209848, 9916.618382105, 9915.58052363224, 9914.542773780197, 9913.505132537503, 9912.467599892792, 9911.4301758347, 9910.39286035186, 9909.35565343291, 9908.318555066486, 9907.28156524123, 9906.24468394578, 9905.20791116878, 9904.17124689887, 9903.134691124693, 9902.098243834896, 9901.061905018125, 9900.025674663028, 9898.989552758252, 9897.953539292448, 9896.917634254265, 9895.881837632358, 9894.846149415378, 9893.81056959198, 9892.775098150822, 9891.739735080557, 9890.704480369845, 9889.669334007345, 9888.63429598172, 9887.599366281627, 9886.564544895731, 9885.529831812697, 9884.495227021189, 9883.460730509874, 9882.42634226742, 9881.392062282493, 9880.357890543766, 9879.323827039909, 9878.289871759594, 9877.256024691495, 9876.222285824286, 9875.188655146643, 9874.155132647244, 9873.121718314766, 9872.08841213789, 9871.055214105294, 9870.022124205663, 9868.989142427678, 9867.956268760023, 9866.923503191383, 9865.890845710446, 9864.8582963059, 9863.825854966432, 9862.793521680733, 9861.761296437495, 9860.72917922541, 9859.697170033169, 9858.66526884947, 9857.63347566301, 9856.601790462482, 9855.570213236588, 9854.538743974026, 9853.507382663496, 9852.476129293702, 9851.444983853346, 9850.413946331131, 9849.383016715765, 9848.352194995952, 9847.321481160401, 9846.290875197821, 9845.260377096922, 9844.229986846416, 9843.199704435016, 9842.169529851433, 9841.139463084384, 9840.109504122585, 9839.079652954753, 9838.049909569607, 9837.020273955866, 9835.99074610225, 9834.961325997483, 9833.932013630287, 9832.902808989385, 9831.873712063505, 9830.844722841373, 9829.815841311716, 9828.787067463265, 9827.758401284747, 9826.729842764897, 9825.701391892444, 9824.673048656125, 9823.644813044673, 9822.616685046825, 9821.588664651319, 9820.560751846891, 9819.532946622283, 9818.505248966236, 9817.47765886749, 9816.45017631479, 9815.422801296878, 9814.395533802503, 9813.368373820409, 9812.341321339345, 9811.31437634806, 9810.287538835306, 9809.260808789832, 9808.23418620039, 9807.207671055738, 9806.181263344626, 9805.154963055813, 9804.128770178057, 9803.102684700114, 9802.076706610746, 9801.050835898712, 9800.025072552775, 9798.999416561699, 9797.973867914247, 9796.948426599185, 9795.92309260528, 9794.8978659213, 9793.872746536015, 9792.847734438194, 9791.822829616607, 9790.798032060029, 9789.773341757233, 9788.748758696995, 9787.72428286809, 9786.699914259296, 9785.67565285939, 9784.651498657153, 9783.627451641365, 9782.60351180081, 9781.579679124268, 9780.555953600526, 9779.532335218368, 9778.508823966582, 9777.485419833956, 9776.462122809278, 9775.43893288134, 9774.41585003893, 9773.392874270843, 9772.370005565874, 9771.347243912815, 9770.324589300462, 9769.302041717616, 9768.279601153072, 9767.25726759563, 9766.235041034093, 9765.212921457261, 9764.19090885394, 9763.16900321293, 9762.147204523038, 9761.125512773073, 9760.103927951839, 9759.082450048149, 9758.061079050809, 9757.039814948634, 9756.018657730434, 9754.997607385025, 9753.97666390122, 9752.955827267835, 9751.935097473688, 9750.914474507597, 9749.893958358383, 9748.873549014865, 9747.853246465864, 9746.833050700205, 9745.812961706712, 9744.792979474209, 9743.773103991523, 9742.753335247484, 9741.733673230918]\n"
     ]
    }
   ],
   "source": [
    "l = []\n",
    "def invest(x, y, day):\n",
    "    l.append(x)\n",
    "    if(day == 0):\n",
    "        return l\n",
    "    x += x * (y[i] / 100)\n",
    "    invest(x, y, day-1)\n",
    "y = np.random.normal(0, 0.01, 250)\n",
    "invest(10000, y, 250)\n",
    "print(l)"
   ]
  },
  {
   "cell_type": "code",
   "execution_count": 60,
   "metadata": {},
   "outputs": [
    {
     "data": {
      "image/png": "[encoded data removed]",
      "text/plain": [
       "<Figure size 432x288 with 1 Axes>"
      ]
     },
     "metadata": {
      "needs_background": "light"
     },
     "output_type": "display_data"
    }
   ],
   "source": [
    "import matplotlib.pyplot as plt\n",
    "y = np.random.normal(0, 0.01, 250)\n",
    "x = 10000\n",
    "l = []\n",
    "for i in range(250):\n",
    "    l.append(x)\n",
    "    x += x * (y[i] / 100)\n",
    "\n",
    "plt.plot(l)\n",
    "plt.grid()\n",
    "plt.show()"
   ]
  },
  {
   "cell_type": "code",
   "execution_count": 27,
   "metadata": {},
   "outputs": [
    {
     "name": "stdout",
     "output_type": "stream",
     "text": [
      "[10000, 9859.788203849064, 9778.623134055473, 9899.701245798155, 10033.926477490108, 10007.790364098657, 9809.552592856257, 9779.27353057742, 9708.7008328659, 9808.240041034842, 9695.539827302766, 9699.149805254225, 9748.694045247252, 9881.578870604346, 9844.76483730987, 10002.377821986805, 10026.383173031521, 10041.64325460654, 10186.437762674856, 10065.24635090015, 10077.963627352477, 10119.999008969326, 9999.84776842034, 10172.29910161815, 10258.866102705746, 10404.21358730714, 10438.855216047004, 10652.82919199889, 10566.723210150305, 10512.197959608282, 10466.615407950296, 10488.144753178565, 10436.411727603743, 10282.113847265062, 10230.392458133756, 10305.048285850176, 10282.34172184806, 10333.375058440237, 10150.147397007437, 10017.06744431116, 10052.871182285255, 10196.419904766402, 10276.634643549929, 10143.84239882854, 10107.008471534444, 10195.516034107288, 10402.31912754064, 10417.061290245421, 10501.480464287939, 10622.820621157165, 10796.423353173239, 10872.145287463925, 11052.45606732085, 11203.429194098193, 11208.352502548487, 11063.938863950045, 10979.908888492248, 11023.335964810361, 11163.719018588361, 11208.857963333316, 11298.130049941718, 11243.45949871566, 11360.813873476487, 11454.98806297231, 11674.613026312916, 11799.92853228702, 11678.68274877101, 11626.988147609234, 11561.344938142673, 11681.392032028147, 11643.910583779612, 11368.95280110454, 11676.820198459416, 11614.765653739832, 11751.468468669094, 11722.179528210292, 11922.183293253753, 11643.663998947937, 11517.595498207313, 11303.978919708275, 11306.088694076783, 11319.172849670544, 11417.085907227456, 11516.765687067766, 11365.729784097433, 11332.841790736393, 11332.963605650419, 11344.617858911857, 11204.00715713509, 11121.614802507944, 11165.719565266965, 11398.438852341851, 11364.456252230133, 11447.334848401295, 11327.198280041353, 11451.516258139658, 11301.749207503548, 11140.41416941771, 11303.826349886822, 11364.020377254834, 11352.584084311833, 11323.764178345411, 11350.553147331952, 11362.567139412331, 11310.921973346283, 11265.745130965197, 11223.782131065682, 11255.09357058734, 11325.426640697093, 11479.250169865207, 11645.199376590068, 11621.084563917637, 11578.759766547142, 11714.286525314867, 11680.782264586154, 11883.056106964208, 11817.715679802728, 11613.028327472206, 11633.078354662057, 11732.757810806554, 11901.711469156307, 11803.694073257708, 11949.0043550249, 11810.5078398393, 11761.736226788973, 11718.484951361346, 11564.25390863239, 11588.8099429754, 11546.120565270241, 11653.35785345935, 11719.694483941325, 11818.760747666289, 11897.95821907193, 11964.69301779889, 12135.355671455893, 12157.131542880425, 12024.883118036058, 12220.679774624803, 12288.56187653674, 12143.237473700201, 12184.152755079605, 12243.508144770742, 12422.094069317642, 12359.68104791821, 12343.215235329744, 12211.24721037431, 12235.417933272349, 12302.157561283748, 12141.067220725292, 12173.351852706592, 12268.625637771867, 12276.836777085653, 12245.250763399834, 12303.245530417784, 12219.871118626626, 12231.296216020193, 12366.002811890992, 12416.473816836513, 12242.272485753389, 12291.676698018075, 12447.48556775355, 12398.895417019317, 12550.202354125571, 12508.514996754182, 12452.420925635866, 12517.69266481242, 12541.445095629397, 12773.609866847462, 12585.852652523796, 12648.247056239132, 12489.265284601452, 12473.071420096836, 12334.58954178726, 12323.73378739338, 12262.2382991741, 12453.628246191176, 12445.452891315786, 12385.685527771591, 12198.593088929887, 12204.131437097085, 12280.757851860828, 12280.41001371837, 12121.947734716077, 12317.28947893117, 12449.839636058196, 12429.646622308328, 12313.144875726266, 12419.324531949822, 12432.841228363468, 12436.9391390349, 12552.613728117756, 12769.552224581279, 12906.467418045591, 13083.309311223511, 13210.101271710395, 13225.357664081328, 13293.737350120353, 13530.492390676578, 13500.666325176015, 13435.713789278847, 13404.889685928081, 13442.262288650421, 13460.034053822554, 13261.820573430705, 13351.824284194665, 13410.638374575872, 13292.585921662341, 13524.186498328094, 13457.324762425475, 13502.138710505531, 13476.381103438574, 13650.100936849805, 13642.122186532117, 13595.581198073041, 13596.48480512546, 13627.236366925594, 13706.714191514893, 13700.923507916239, 13556.159898793605, 13809.571862809264, 13832.959231579833, 13756.289619774032, 13753.771751330209, 13795.873466094097, 13774.730648204644, 13735.870492570173, 13567.121406266495, 13677.55714177554, 13435.279793299427, 13394.708946590972, 13287.043138910014, 13390.24589745491, 13369.117561232137, 13546.92186778053, 13214.116044403994, 13270.33618220324, 13051.099428819412, 13197.03240653499, 12976.971673212143, 13134.411685946121, 13448.694931508173, 13586.282635015903, 13263.34539900789, 13313.405481859105, 13360.559750998173, 13281.37459330003, 13246.053674818208, 13263.350986166059, 13277.283984939164, 13226.386591616363]\n"
     ]
    }
   ],
   "source": [
    "print(l)"
   ]
  },
  {
   "cell_type": "code",
   "execution_count": 49,
   "metadata": {},
   "outputs": [
    {
     "name": "stdout",
     "output_type": "stream",
     "text": [
      "10000 9973 9959 10157 10186 "
     ]
    }
   ],
   "source": [
    "# 5개만 먼저 테스트\n",
    "np.random.seed(2022)\n",
    "rate = np.random.normal(0, 0.01, 5)\n",
    "price = 10000\n",
    "for i in range(5):\n",
    "    price = np.round(price * (1 + rate[i]))\n",
    "    print(int(price), end=' ')"
   ]
  },
  {
   "cell_type": "code",
   "execution_count": 55,
   "metadata": {},
   "outputs": [
    {
     "data": {
      "text/plain": [
       "array([-5.27899086e-04, -2.74901425e-01, -1.39285562e-01,  1.98468616e+00,\n",
       "        2.82109326e-01])"
      ]
     },
     "execution_count": 55,
     "metadata": {},
     "output_type": "execute_result"
    }
   ],
   "source": [
    "# 위에서 구한 이자율(%)\n",
    "rate * 100"
   ]
  },
  {
   "cell_type": "code",
   "execution_count": 57,
   "metadata": {},
   "outputs": [
    {
     "data": {
      "text/plain": [
       "array([10916, 10834, 10753, 10838, 10950, 11089, 11006, 11182, 11360,\n",
       "       11658])"
      ]
     },
     "execution_count": 57,
     "metadata": {},
     "output_type": "execute_result"
    }
   ],
   "source": [
    "# 정규분포, 리스트 활용\n",
    "np.random.seed(2022)\n",
    "rate = np.random.normal(0, 0.01, 250)\n",
    "price = 10000\n",
    "price_list = []\n",
    "for i in range(250):\n",
    "    price = price + np.round(price * rate[i])\n",
    "    price_list.append(price)\n",
    "\n",
    "price_array = np.array(price_list, dtype=np.int32)\n",
    "price_array[-10:]"
   ]
  },
  {
   "cell_type": "code",
   "execution_count": 58,
   "metadata": {},
   "outputs": [
    {
     "data": {
      "text/plain": [
       "array([10916, 10834, 10753, 10838, 10950, 11089, 11006, 11182, 11360,\n",
       "       11658])"
      ]
     },
     "execution_count": 58,
     "metadata": {},
     "output_type": "execute_result"
    }
   ],
   "source": [
    "# 정규분포, 어레이 활용\n",
    "np.random.seed(2022)\n",
    "rate = np.random.normal(0, 0.01, 250)\n",
    "price = 10000\n",
    "price_list = []\n",
    "for i in range(250):\n",
    "    price = price + np.round(price * rate[i])\n",
    "    price_array[i] = price\n",
    "\n",
    "price_array[-10:]"
   ]
  },
  {
   "cell_type": "code",
   "execution_count": null,
   "metadata": {},
   "outputs": [],
   "source": []
  }
 ],
 "metadata": {
  "interpreter": {
   "hash": "2416f014eda44098b06ac223510cfbf712f6c3c49a2a2784b81e5eb971c53cd7"
  },
  "kernelspec": {
   "display_name": "Python 3.7.1 ('base')",
   "language": "python",
   "name": "python3"
  },
  "language_info": {
   "codemirror_mode": {
    "name": "ipython",
    "version": 3
   },
   "file_extension": ".py",
   "mimetype": "text/x-python",
   "name": "python",
   "nbconvert_exporter": "python",
   "pygments_lexer": "ipython3",
   "version": "3.7.1"
  },
  "orig_nbformat": 4
 },
 "nbformat": 4,
 "nbformat_minor": 2
}
