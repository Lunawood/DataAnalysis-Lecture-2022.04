{
 "cells": [
  {
   "cell_type": "code",
   "execution_count": 406,
   "metadata": {},
   "outputs": [],
   "source": [
    "import numpy as np\n",
    "import pandas as pd"
   ]
  },
  {
   "cell_type": "code",
   "execution_count": 407,
   "metadata": {},
   "outputs": [],
   "source": [
    "filename = 'data/소상공인시장진흥공단_상가(상권)정보_20211231/소상공인시장진흥공단_상가(상권)정보_서울_202112.csv'\n",
    "df_seoul = pd.read_csv(filename)"
   ]
  },
  {
   "cell_type": "code",
   "execution_count": 408,
   "metadata": {},
   "outputs": [
    {
     "data": {
      "text/html": [
       "<div>\n",
       "<style scoped>\n",
       "    .dataframe tbody tr th:only-of-type {\n",
       "        vertical-align: middle;\n",
       "    }\n",
       "\n",
       "    .dataframe tbody tr th {\n",
       "        vertical-align: top;\n",
       "    }\n",
       "\n",
       "    .dataframe thead th {\n",
       "        text-align: right;\n",
       "    }\n",
       "</style>\n",
       "<table border=\"1\" class=\"dataframe\">\n",
       "  <thead>\n",
       "    <tr style=\"text-align: right;\">\n",
       "      <th></th>\n",
       "      <th>상호명</th>\n",
       "      <th>시도명</th>\n",
       "      <th>시군구명</th>\n",
       "    </tr>\n",
       "  </thead>\n",
       "  <tbody>\n",
       "    <tr>\n",
       "      <td>23</td>\n",
       "      <td>커피빈</td>\n",
       "      <td>서울특별시</td>\n",
       "      <td>종로구</td>\n",
       "    </tr>\n",
       "    <tr>\n",
       "      <td>99</td>\n",
       "      <td>요거프레소</td>\n",
       "      <td>서울특별시</td>\n",
       "      <td>도봉구</td>\n",
       "    </tr>\n",
       "    <tr>\n",
       "      <td>191</td>\n",
       "      <td>우성커피숍</td>\n",
       "      <td>서울특별시</td>\n",
       "      <td>양천구</td>\n",
       "    </tr>\n",
       "    <tr>\n",
       "      <td>198</td>\n",
       "      <td>버블베어</td>\n",
       "      <td>서울특별시</td>\n",
       "      <td>강서구</td>\n",
       "    </tr>\n",
       "    <tr>\n",
       "      <td>233</td>\n",
       "      <td>알뤼르</td>\n",
       "      <td>서울특별시</td>\n",
       "      <td>강남구</td>\n",
       "    </tr>\n",
       "  </tbody>\n",
       "</table>\n",
       "</div>"
      ],
      "text/plain": [
       "       상호명    시도명 시군구명\n",
       "23     커피빈  서울특별시  종로구\n",
       "99   요거프레소  서울특별시  도봉구\n",
       "191  우성커피숍  서울특별시  양천구\n",
       "198   버블베어  서울특별시  강서구\n",
       "233    알뤼르  서울특별시  강남구"
      ]
     },
     "execution_count": 408,
     "metadata": {},
     "output_type": "execute_result"
    }
   ],
   "source": [
    "coffee_seoul = df_seoul[df_seoul.상권업종중분류코드 == 'Q12']\n",
    "coffee_seoul = coffee_seoul[['상호명', '시도명', '시군구명']]\n",
    "coffee_seoul.head()"
   ]
  },
  {
   "cell_type": "code",
   "execution_count": 409,
   "metadata": {},
   "outputs": [
    {
     "data": {
      "text/html": [
       "<div>\n",
       "<style scoped>\n",
       "    .dataframe tbody tr th:only-of-type {\n",
       "        vertical-align: middle;\n",
       "    }\n",
       "\n",
       "    .dataframe tbody tr th {\n",
       "        vertical-align: top;\n",
       "    }\n",
       "\n",
       "    .dataframe thead th {\n",
       "        text-align: right;\n",
       "    }\n",
       "</style>\n",
       "<table border=\"1\" class=\"dataframe\">\n",
       "  <thead>\n",
       "    <tr style=\"text-align: right;\">\n",
       "      <th></th>\n",
       "      <th>상호명</th>\n",
       "      <th>시도명</th>\n",
       "      <th>시군구명</th>\n",
       "    </tr>\n",
       "  </thead>\n",
       "  <tbody>\n",
       "    <tr>\n",
       "      <td>23</td>\n",
       "      <td>커피빈</td>\n",
       "      <td>서울특별시</td>\n",
       "      <td>종로구</td>\n",
       "    </tr>\n",
       "    <tr>\n",
       "      <td>99</td>\n",
       "      <td>요거프레소</td>\n",
       "      <td>서울특별시</td>\n",
       "      <td>도봉구</td>\n",
       "    </tr>\n",
       "    <tr>\n",
       "      <td>191</td>\n",
       "      <td>우성커피숍</td>\n",
       "      <td>서울특별시</td>\n",
       "      <td>양천구</td>\n",
       "    </tr>\n",
       "  </tbody>\n",
       "</table>\n",
       "</div>"
      ],
      "text/plain": [
       "       상호명    시도명 시군구명\n",
       "23     커피빈  서울특별시  종로구\n",
       "99   요거프레소  서울특별시  도봉구\n",
       "191  우성커피숍  서울특별시  양천구"
      ]
     },
     "execution_count": 409,
     "metadata": {},
     "output_type": "execute_result"
    }
   ],
   "source": [
    "# 상호명이 영어인 경우 모두 소문자로 변경 후 영어만 남기기\n",
    "coffee_seoul['상호명'] = coffee_seoul['상호명'].apply(lambda x: x.lower())\n",
    "coffee_seoul.head(3)"
   ]
  },
  {
   "cell_type": "code",
   "execution_count": 410,
   "metadata": {},
   "outputs": [
    {
     "data": {
      "text/plain": [
       "0"
      ]
     },
     "execution_count": 410,
     "metadata": {},
     "output_type": "execute_result"
    }
   ],
   "source": [
    "# 확인\n",
    "coffee_seoul['상호명'].str.isupper().sum()"
   ]
  },
  {
   "cell_type": "code",
   "execution_count": 411,
   "metadata": {},
   "outputs": [],
   "source": [
    "# 커피빈, 이디야, 스타벅스, 빽다방, 한글 영어 포함.\n",
    "coffee_name = '커피빈|이디야|스타벅스|빽다방|coffeebean|ediyacoffee|starbucks|paikdabang'\n",
    "coffee_seoul['상호명'] = coffee_seoul.loc[coffee_seoul['상호명'].str.contains(coffee_name)]\n",
    "coffee_seoul.dropna(inplace=True)"
   ]
  },
  {
   "cell_type": "code",
   "execution_count": 412,
   "metadata": {},
   "outputs": [
    {
     "data": {
      "text/html": [
       "<div>\n",
       "<style scoped>\n",
       "    .dataframe tbody tr th:only-of-type {\n",
       "        vertical-align: middle;\n",
       "    }\n",
       "\n",
       "    .dataframe tbody tr th {\n",
       "        vertical-align: top;\n",
       "    }\n",
       "\n",
       "    .dataframe thead th {\n",
       "        text-align: right;\n",
       "    }\n",
       "</style>\n",
       "<table border=\"1\" class=\"dataframe\">\n",
       "  <thead>\n",
       "    <tr style=\"text-align: right;\">\n",
       "      <th></th>\n",
       "      <th>상호명</th>\n",
       "      <th>시도명</th>\n",
       "      <th>시군구명</th>\n",
       "    </tr>\n",
       "  </thead>\n",
       "  <tbody>\n",
       "    <tr>\n",
       "      <td>23</td>\n",
       "      <td>커피빈</td>\n",
       "      <td>서울특별시</td>\n",
       "      <td>종로구</td>\n",
       "    </tr>\n",
       "    <tr>\n",
       "      <td>390</td>\n",
       "      <td>커피빈코리아낙성대역점</td>\n",
       "      <td>서울특별시</td>\n",
       "      <td>관악구</td>\n",
       "    </tr>\n",
       "    <tr>\n",
       "      <td>1131</td>\n",
       "      <td>이디야커피</td>\n",
       "      <td>서울특별시</td>\n",
       "      <td>영등포구</td>\n",
       "    </tr>\n",
       "    <tr>\n",
       "      <td>1411</td>\n",
       "      <td>커피빈</td>\n",
       "      <td>서울특별시</td>\n",
       "      <td>강남구</td>\n",
       "    </tr>\n",
       "    <tr>\n",
       "      <td>1426</td>\n",
       "      <td>커피빈</td>\n",
       "      <td>서울특별시</td>\n",
       "      <td>강남구</td>\n",
       "    </tr>\n",
       "  </tbody>\n",
       "</table>\n",
       "</div>"
      ],
      "text/plain": [
       "              상호명    시도명  시군구명\n",
       "23            커피빈  서울특별시   종로구\n",
       "390   커피빈코리아낙성대역점  서울특별시   관악구\n",
       "1131        이디야커피  서울특별시  영등포구\n",
       "1411          커피빈  서울특별시   강남구\n",
       "1426          커피빈  서울특별시   강남구"
      ]
     },
     "execution_count": 412,
     "metadata": {},
     "output_type": "execute_result"
    }
   ],
   "source": [
    "coffee_seoul.head()"
   ]
  },
  {
   "cell_type": "code",
   "execution_count": 413,
   "metadata": {},
   "outputs": [],
   "source": [
    "# 상품명으로 변경\n",
    "def change(_df):\n",
    "    for i in _df.index:\n",
    "        if _df.상호명[i].find('커피빈') != -1:\n",
    "            _df.상호명[i] = '커피빈'\n",
    "        elif _df.상호명[i].find('coffeebean') != -1:\n",
    "            _df.상호명[i] = '커피빈'\n",
    "        elif _df.상호명[i].find('이디야') != -1:\n",
    "            _df.상호명[i] = '이디야'\n",
    "        elif _df.상호명[i].find('ediyacoffee') != -1:\n",
    "            _df.상호명[i] = '이디야'\n",
    "        elif _df.상호명[i].find('스타벅스') != -1:\n",
    "            _df.상호명[i] = '스타벅스'\n",
    "        elif _df.상호명[i].find('starbucks') != -1:\n",
    "            _df.상호명[i] = '스타벅스'\n",
    "        elif _df.상호명[i].find('빽다방') != -1:\n",
    "            _df.상호명[i] = '빽다방'\n",
    "        elif _df.상호명[i].find('paikdabang') != -1:\n",
    "            _df.상호명[i] = '빽다방'\n",
    "    return _df\n"
   ]
  },
  {
   "cell_type": "code",
   "execution_count": 414,
   "metadata": {},
   "outputs": [],
   "source": [
    "# 모든 장소를 받을 함수\n",
    "coffee_name = '커피빈|이디야|스타벅스|빽다방|coffeebeans|ediyacoffee|starbucks|paikdabang'\n",
    "def coffee(df):\n",
    "    coffee_df = df[df.상권업종중분류코드 == 'Q12']\n",
    "    coffee_df = coffee_df[['상호명', '시도명', '시군구명']]\n",
    "    coffee_df['상호명'] = coffee_df['상호명'].apply(lambda x: x.lower())\n",
    "    coffee_dfs = coffee_df.loc[coffee_df['상호명'].str.contains(\n",
    "        coffee_name)]\n",
    "    coffee_dfs.dropna(inplace=True)\n",
    "    coffee_dfs.reset_index(inplace=True)\n",
    "    coffee_dfs.drop(columns=['index'], inplace=True)\n",
    "    coffee_dfs = change(coffee_dfs)\n",
    "    return coffee_dfs"
   ]
  },
  {
   "cell_type": "code",
   "execution_count": 415,
   "metadata": {},
   "outputs": [],
   "source": [
    "# 모든 파일을 한번에 불러오자. (glob)\n",
    "import warnings\n",
    "warnings.filterwarnings('ignore')\n",
    "from glob import glob"
   ]
  },
  {
   "cell_type": "code",
   "execution_count": 416,
   "metadata": {},
   "outputs": [
    {
     "data": {
      "text/html": [
       "<div>\n",
       "<style scoped>\n",
       "    .dataframe tbody tr th:only-of-type {\n",
       "        vertical-align: middle;\n",
       "    }\n",
       "\n",
       "    .dataframe tbody tr th {\n",
       "        vertical-align: top;\n",
       "    }\n",
       "\n",
       "    .dataframe thead th {\n",
       "        text-align: right;\n",
       "    }\n",
       "</style>\n",
       "<table border=\"1\" class=\"dataframe\">\n",
       "  <thead>\n",
       "    <tr style=\"text-align: right;\">\n",
       "      <th></th>\n",
       "      <th>상호명</th>\n",
       "      <th>시도명</th>\n",
       "      <th>시군구명</th>\n",
       "    </tr>\n",
       "  </thead>\n",
       "  <tbody>\n",
       "    <tr>\n",
       "      <td>0</td>\n",
       "      <td>스타벅스</td>\n",
       "      <td>강원도</td>\n",
       "      <td>강릉시</td>\n",
       "    </tr>\n",
       "    <tr>\n",
       "      <td>1</td>\n",
       "      <td>이디야</td>\n",
       "      <td>강원도</td>\n",
       "      <td>원주시</td>\n",
       "    </tr>\n",
       "    <tr>\n",
       "      <td>2</td>\n",
       "      <td>스타벅스</td>\n",
       "      <td>강원도</td>\n",
       "      <td>춘천시</td>\n",
       "    </tr>\n",
       "  </tbody>\n",
       "</table>\n",
       "</div>"
      ],
      "text/plain": [
       "    상호명  시도명 시군구명\n",
       "0  스타벅스  강원도  강릉시\n",
       "1   이디야  강원도  원주시\n",
       "2  스타벅스  강원도  춘천시"
      ]
     },
     "execution_count": 416,
     "metadata": {},
     "output_type": "execute_result"
    }
   ],
   "source": [
    "df_list = []\n",
    "for file in glob('../07.Cartogram/data/소상공인시장진흥공단_상가(상권)정보_20211231/소상공인시장진흥공단*.csv'):\n",
    "    gs = pd.read_csv(file)\n",
    "    df_list.append(gs)\n",
    "df = pd.concat(df_list)\n",
    "coffee_df = coffee(df)\n",
    "coffee_df.head(3)"
   ]
  },
  {
   "cell_type": "code",
   "execution_count": 417,
   "metadata": {},
   "outputs": [
    {
     "data": {
      "text/plain": [
       "(4560, 3)"
      ]
     },
     "execution_count": 417,
     "metadata": {},
     "output_type": "execute_result"
    }
   ],
   "source": [
    "coffee_df.shape"
   ]
  },
  {
   "cell_type": "code",
   "execution_count": 418,
   "metadata": {},
   "outputs": [],
   "source": [
    "coffee_df.to_csv('data/각 지역별 커피 매장.csv', index=False)"
   ]
  },
  {
   "cell_type": "code",
   "execution_count": 419,
   "metadata": {},
   "outputs": [
    {
     "data": {
      "text/html": [
       "<div>\n",
       "<style scoped>\n",
       "    .dataframe tbody tr th:only-of-type {\n",
       "        vertical-align: middle;\n",
       "    }\n",
       "\n",
       "    .dataframe tbody tr th {\n",
       "        vertical-align: top;\n",
       "    }\n",
       "\n",
       "    .dataframe thead th {\n",
       "        text-align: right;\n",
       "    }\n",
       "</style>\n",
       "<table border=\"1\" class=\"dataframe\">\n",
       "  <thead>\n",
       "    <tr style=\"text-align: right;\">\n",
       "      <th></th>\n",
       "      <th>상호명</th>\n",
       "      <th>시도명</th>\n",
       "      <th>시군구명</th>\n",
       "      <th>Id</th>\n",
       "    </tr>\n",
       "  </thead>\n",
       "  <tbody>\n",
       "    <tr>\n",
       "      <td>0</td>\n",
       "      <td>스타벅스</td>\n",
       "      <td>강원도</td>\n",
       "      <td>강릉시</td>\n",
       "      <td>1</td>\n",
       "    </tr>\n",
       "    <tr>\n",
       "      <td>1</td>\n",
       "      <td>이디야</td>\n",
       "      <td>강원도</td>\n",
       "      <td>원주시</td>\n",
       "      <td>2</td>\n",
       "    </tr>\n",
       "    <tr>\n",
       "      <td>2</td>\n",
       "      <td>스타벅스</td>\n",
       "      <td>강원도</td>\n",
       "      <td>춘천시</td>\n",
       "      <td>1</td>\n",
       "    </tr>\n",
       "    <tr>\n",
       "      <td>3</td>\n",
       "      <td>이디야</td>\n",
       "      <td>강원도</td>\n",
       "      <td>춘천시</td>\n",
       "      <td>2</td>\n",
       "    </tr>\n",
       "    <tr>\n",
       "      <td>4</td>\n",
       "      <td>스타벅스</td>\n",
       "      <td>강원도</td>\n",
       "      <td>춘천시</td>\n",
       "      <td>1</td>\n",
       "    </tr>\n",
       "  </tbody>\n",
       "</table>\n",
       "</div>"
      ],
      "text/plain": [
       "    상호명  시도명 시군구명  Id\n",
       "0  스타벅스  강원도  강릉시   1\n",
       "1   이디야  강원도  원주시   2\n",
       "2  스타벅스  강원도  춘천시   1\n",
       "3   이디야  강원도  춘천시   2\n",
       "4  스타벅스  강원도  춘천시   1"
      ]
     },
     "execution_count": 419,
     "metadata": {},
     "output_type": "execute_result"
    }
   ],
   "source": [
    "coffee_df = pd.read_csv('data/각 지역별 커피 매장.csv')\n",
    "\n",
    "# 각매장의 ID값이 필요... pivot table에 value가 없다...\n",
    "coffee_df['Id'] = coffee_df.groupby('상호명').ngroup()\n",
    "coffee_df.head()"
   ]
  },
  {
   "cell_type": "code",
   "execution_count": 420,
   "metadata": {},
   "outputs": [
    {
     "data": {
      "text/html": [
       "<div>\n",
       "<style scoped>\n",
       "    .dataframe tbody tr th:only-of-type {\n",
       "        vertical-align: middle;\n",
       "    }\n",
       "\n",
       "    .dataframe tbody tr th {\n",
       "        vertical-align: top;\n",
       "    }\n",
       "\n",
       "    .dataframe thead tr th {\n",
       "        text-align: left;\n",
       "    }\n",
       "\n",
       "    .dataframe thead tr:last-of-type th {\n",
       "        text-align: right;\n",
       "    }\n",
       "</style>\n",
       "<table border=\"1\" class=\"dataframe\">\n",
       "  <thead>\n",
       "    <tr>\n",
       "      <th></th>\n",
       "      <th></th>\n",
       "      <th colspan=\"4\" halign=\"left\">Id</th>\n",
       "    </tr>\n",
       "    <tr>\n",
       "      <th></th>\n",
       "      <th>상호명</th>\n",
       "      <th>빽다방</th>\n",
       "      <th>스타벅스</th>\n",
       "      <th>이디야</th>\n",
       "      <th>커피빈</th>\n",
       "    </tr>\n",
       "    <tr>\n",
       "      <th>시도명</th>\n",
       "      <th>시군구명</th>\n",
       "      <th></th>\n",
       "      <th></th>\n",
       "      <th></th>\n",
       "      <th></th>\n",
       "    </tr>\n",
       "  </thead>\n",
       "  <tbody>\n",
       "    <tr>\n",
       "      <td rowspan=\"5\" valign=\"top\">강원도</td>\n",
       "      <td>강릉시</td>\n",
       "      <td>2.0</td>\n",
       "      <td>4.0</td>\n",
       "      <td>17.0</td>\n",
       "      <td>NaN</td>\n",
       "    </tr>\n",
       "    <tr>\n",
       "      <td>고성군</td>\n",
       "      <td>NaN</td>\n",
       "      <td>1.0</td>\n",
       "      <td>NaN</td>\n",
       "      <td>NaN</td>\n",
       "    </tr>\n",
       "    <tr>\n",
       "      <td>동해시</td>\n",
       "      <td>1.0</td>\n",
       "      <td>1.0</td>\n",
       "      <td>1.0</td>\n",
       "      <td>1.0</td>\n",
       "    </tr>\n",
       "    <tr>\n",
       "      <td>삼척시</td>\n",
       "      <td>1.0</td>\n",
       "      <td>NaN</td>\n",
       "      <td>5.0</td>\n",
       "      <td>NaN</td>\n",
       "    </tr>\n",
       "    <tr>\n",
       "      <td>속초시</td>\n",
       "      <td>NaN</td>\n",
       "      <td>4.0</td>\n",
       "      <td>9.0</td>\n",
       "      <td>NaN</td>\n",
       "    </tr>\n",
       "  </tbody>\n",
       "</table>\n",
       "</div>"
      ],
      "text/plain": [
       "           Id                \n",
       "상호명       빽다방 스타벅스   이디야  커피빈\n",
       "시도명 시군구명                     \n",
       "강원도 강릉시   2.0  4.0  17.0  NaN\n",
       "    고성군   NaN  1.0   NaN  NaN\n",
       "    동해시   1.0  1.0   1.0  1.0\n",
       "    삼척시   1.0  NaN   5.0  NaN\n",
       "    속초시   NaN  4.0   9.0  NaN"
      ]
     },
     "execution_count": 420,
     "metadata": {},
     "output_type": "execute_result"
    }
   ],
   "source": [
    "# 각 지역 매장수\n",
    "pop = pd.pivot_table(coffee_df,\n",
    "                    values = ['Id'],\n",
    "                     index = ['시도명', '시군구명'],\n",
    "                     columns = ['상호명'],\n",
    "                     aggfunc = 'count'\n",
    ")\n",
    "pop.head()"
   ]
  },
  {
   "cell_type": "code",
   "execution_count": 421,
   "metadata": {},
   "outputs": [
    {
     "data": {
      "text/plain": [
       "Index(['Id', 'Id', 'Id', 'Id'], dtype='object')"
      ]
     },
     "execution_count": 421,
     "metadata": {},
     "output_type": "execute_result"
    }
   ],
   "source": [
    "pop.columns.get_level_values(0)"
   ]
  },
  {
   "cell_type": "code",
   "execution_count": 422,
   "metadata": {},
   "outputs": [
    {
     "data": {
      "text/plain": [
       "Index(['빽다방', '스타벅스', '이디야', '커피빈'], dtype='object', name='상호명')"
      ]
     },
     "execution_count": 422,
     "metadata": {},
     "output_type": "execute_result"
    }
   ],
   "source": [
    "pop.columns.get_level_values(1)"
   ]
  },
  {
   "cell_type": "code",
   "execution_count": 423,
   "metadata": {},
   "outputs": [
    {
     "data": {
      "text/html": [
       "<div>\n",
       "<style scoped>\n",
       "    .dataframe tbody tr th:only-of-type {\n",
       "        vertical-align: middle;\n",
       "    }\n",
       "\n",
       "    .dataframe tbody tr th {\n",
       "        vertical-align: top;\n",
       "    }\n",
       "\n",
       "    .dataframe thead th {\n",
       "        text-align: right;\n",
       "    }\n",
       "</style>\n",
       "<table border=\"1\" class=\"dataframe\">\n",
       "  <thead>\n",
       "    <tr style=\"text-align: right;\">\n",
       "      <th></th>\n",
       "      <th></th>\n",
       "      <th>빽다방</th>\n",
       "      <th>스타벅스</th>\n",
       "      <th>이디야</th>\n",
       "      <th>커피빈</th>\n",
       "    </tr>\n",
       "    <tr>\n",
       "      <th>시도명</th>\n",
       "      <th>시군구명</th>\n",
       "      <th></th>\n",
       "      <th></th>\n",
       "      <th></th>\n",
       "      <th></th>\n",
       "    </tr>\n",
       "  </thead>\n",
       "  <tbody>\n",
       "    <tr>\n",
       "      <td rowspan=\"3\" valign=\"top\">강원도</td>\n",
       "      <td>강릉시</td>\n",
       "      <td>2.0</td>\n",
       "      <td>4.0</td>\n",
       "      <td>17.0</td>\n",
       "      <td>NaN</td>\n",
       "    </tr>\n",
       "    <tr>\n",
       "      <td>고성군</td>\n",
       "      <td>NaN</td>\n",
       "      <td>1.0</td>\n",
       "      <td>NaN</td>\n",
       "      <td>NaN</td>\n",
       "    </tr>\n",
       "    <tr>\n",
       "      <td>동해시</td>\n",
       "      <td>1.0</td>\n",
       "      <td>1.0</td>\n",
       "      <td>1.0</td>\n",
       "      <td>1.0</td>\n",
       "    </tr>\n",
       "  </tbody>\n",
       "</table>\n",
       "</div>"
      ],
      "text/plain": [
       "          빽다방  스타벅스   이디야  커피빈\n",
       "시도명 시군구명                      \n",
       "강원도 강릉시   2.0   4.0  17.0  NaN\n",
       "    고성군   NaN   1.0   NaN  NaN\n",
       "    동해시   1.0   1.0   1.0  1.0"
      ]
     },
     "execution_count": 423,
     "metadata": {},
     "output_type": "execute_result"
    }
   ],
   "source": [
    "# 컬럼명 변경: 다중 인덱스 -> 단일 인덱스\n",
    "new_columns = []\n",
    "for i in range(len(pop.columns.get_level_values(0))):\n",
    "    new_columns.append(pop.columns.get_level_values(1)[i])\n",
    "pop.columns = new_columns\n",
    "pop.head(3)"
   ]
  },
  {
   "cell_type": "code",
   "execution_count": 424,
   "metadata": {},
   "outputs": [
    {
     "data": {
      "text/html": [
       "<div>\n",
       "<style scoped>\n",
       "    .dataframe tbody tr th:only-of-type {\n",
       "        vertical-align: middle;\n",
       "    }\n",
       "\n",
       "    .dataframe tbody tr th {\n",
       "        vertical-align: top;\n",
       "    }\n",
       "\n",
       "    .dataframe thead th {\n",
       "        text-align: right;\n",
       "    }\n",
       "</style>\n",
       "<table border=\"1\" class=\"dataframe\">\n",
       "  <thead>\n",
       "    <tr style=\"text-align: right;\">\n",
       "      <th></th>\n",
       "      <th>시도명</th>\n",
       "      <th>시군구명</th>\n",
       "      <th>빽다방</th>\n",
       "      <th>스타벅스</th>\n",
       "      <th>이디야</th>\n",
       "      <th>커피빈</th>\n",
       "    </tr>\n",
       "  </thead>\n",
       "  <tbody>\n",
       "    <tr>\n",
       "      <td>0</td>\n",
       "      <td>강원도</td>\n",
       "      <td>강릉시</td>\n",
       "      <td>2.0</td>\n",
       "      <td>4.0</td>\n",
       "      <td>17.0</td>\n",
       "      <td>NaN</td>\n",
       "    </tr>\n",
       "    <tr>\n",
       "      <td>1</td>\n",
       "      <td>강원도</td>\n",
       "      <td>고성군</td>\n",
       "      <td>NaN</td>\n",
       "      <td>1.0</td>\n",
       "      <td>NaN</td>\n",
       "      <td>NaN</td>\n",
       "    </tr>\n",
       "    <tr>\n",
       "      <td>2</td>\n",
       "      <td>강원도</td>\n",
       "      <td>동해시</td>\n",
       "      <td>1.0</td>\n",
       "      <td>1.0</td>\n",
       "      <td>1.0</td>\n",
       "      <td>1.0</td>\n",
       "    </tr>\n",
       "  </tbody>\n",
       "</table>\n",
       "</div>"
      ],
      "text/plain": [
       "   시도명 시군구명  빽다방  스타벅스   이디야  커피빈\n",
       "0  강원도  강릉시  2.0   4.0  17.0  NaN\n",
       "1  강원도  고성군  NaN   1.0   NaN  NaN\n",
       "2  강원도  동해시  1.0   1.0   1.0  1.0"
      ]
     },
     "execution_count": 424,
     "metadata": {},
     "output_type": "execute_result"
    }
   ],
   "source": [
    "pop.reset_index(inplace=True)\n",
    "pop.head(3)"
   ]
  },
  {
   "cell_type": "code",
   "execution_count": 425,
   "metadata": {},
   "outputs": [
    {
     "data": {
      "text/html": [
       "<div>\n",
       "<style scoped>\n",
       "    .dataframe tbody tr th:only-of-type {\n",
       "        vertical-align: middle;\n",
       "    }\n",
       "\n",
       "    .dataframe tbody tr th {\n",
       "        vertical-align: top;\n",
       "    }\n",
       "\n",
       "    .dataframe thead th {\n",
       "        text-align: right;\n",
       "    }\n",
       "</style>\n",
       "<table border=\"1\" class=\"dataframe\">\n",
       "  <thead>\n",
       "    <tr style=\"text-align: right;\">\n",
       "      <th></th>\n",
       "      <th>시도명</th>\n",
       "      <th>시군구명</th>\n",
       "      <th>빽다방</th>\n",
       "      <th>스타벅스</th>\n",
       "      <th>이디야</th>\n",
       "      <th>커피빈</th>\n",
       "    </tr>\n",
       "  </thead>\n",
       "  <tbody>\n",
       "    <tr>\n",
       "      <td>241</td>\n",
       "      <td>충청북도</td>\n",
       "      <td>청주시 청원구</td>\n",
       "      <td>5.0</td>\n",
       "      <td>3.0</td>\n",
       "      <td>8.0</td>\n",
       "      <td>0.0</td>\n",
       "    </tr>\n",
       "    <tr>\n",
       "      <td>242</td>\n",
       "      <td>충청북도</td>\n",
       "      <td>청주시 흥덕구</td>\n",
       "      <td>6.0</td>\n",
       "      <td>8.0</td>\n",
       "      <td>17.0</td>\n",
       "      <td>0.0</td>\n",
       "    </tr>\n",
       "    <tr>\n",
       "      <td>243</td>\n",
       "      <td>충청북도</td>\n",
       "      <td>충주시</td>\n",
       "      <td>2.0</td>\n",
       "      <td>4.0</td>\n",
       "      <td>8.0</td>\n",
       "      <td>0.0</td>\n",
       "    </tr>\n",
       "  </tbody>\n",
       "</table>\n",
       "</div>"
      ],
      "text/plain": [
       "      시도명     시군구명  빽다방  스타벅스   이디야  커피빈\n",
       "241  충청북도  청주시 청원구  5.0   3.0   8.0  0.0\n",
       "242  충청북도  청주시 흥덕구  6.0   8.0  17.0  0.0\n",
       "243  충청북도      충주시  2.0   4.0   8.0  0.0"
      ]
     },
     "execution_count": 425,
     "metadata": {},
     "output_type": "execute_result"
    }
   ],
   "source": [
    "# NaN의 값을 0으로 바꾸자.\n",
    "pop.fillna(0, inplace=True)\n",
    "pop.tail(3)"
   ]
  },
  {
   "cell_type": "code",
   "execution_count": 426,
   "metadata": {},
   "outputs": [],
   "source": [
    "# 시군구명 단어 2개 --> 1개\n",
    "pop['시군구명'] = pop['시군구명'].apply(lambda x: x.split()[1] if len(x.split()) == 2 else x)"
   ]
  },
  {
   "cell_type": "code",
   "execution_count": 429,
   "metadata": {},
   "outputs": [],
   "source": [
    "# 빠진 데이터 채우기\n",
    "pop.loc[244] = ['경상북도', '의성군', 0, 0, 0, 0]\n",
    "pop.loc[245] = ['경상북도', '군위군', 0, 0, 0, 0]\n",
    "pop.loc[246] = ['경상남도', '의령군', 0, 0, 0, 0]"
   ]
  },
  {
   "cell_type": "code",
   "execution_count": 430,
   "metadata": {},
   "outputs": [],
   "source": [
    "pop.to_csv('data/각 지역별 커피 매장수_전처리완료.csv', index=False)"
   ]
  }
 ],
 "metadata": {
  "interpreter": {
   "hash": "2416f014eda44098b06ac223510cfbf712f6c3c49a2a2784b81e5eb971c53cd7"
  },
  "kernelspec": {
   "display_name": "Python 3.7.1 ('base')",
   "language": "python",
   "name": "python3"
  },
  "language_info": {
   "codemirror_mode": {
    "name": "ipython",
    "version": 3
   },
   "file_extension": ".py",
   "mimetype": "text/x-python",
   "name": "python",
   "nbconvert_exporter": "python",
   "pygments_lexer": "ipython3",
   "version": "3.7.1"
  },
  "orig_nbformat": 4
 },
 "nbformat": 4,
 "nbformat_minor": 2
}
