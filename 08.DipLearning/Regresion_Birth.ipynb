{
 "cells": [
  {
   "cell_type": "code",
   "execution_count": 132,
   "metadata": {},
   "outputs": [],
   "source": [
    "# Q: 주어진 값들을 이용해서 M_10 의 출국 숫자와 F_50의 출국자 숫자를 예측하는\n",
    "#    딥러닝 모형을 만들어라. 평균 오차율=(예측값-실제값)/실제값*100;\n",
    "\n",
    "# 데이터 처리 및 시각화\n",
    "import pandas as pd\n",
    "# 회기분석\n",
    "from statsmodels.formula.api import ols"
   ]
  },
  {
   "cell_type": "code",
   "execution_count": 133,
   "metadata": {},
   "outputs": [
    {
     "data": {
      "text/html": [
       "<div>\n",
       "<style scoped>\n",
       "    .dataframe tbody tr th:only-of-type {\n",
       "        vertical-align: middle;\n",
       "    }\n",
       "\n",
       "    .dataframe tbody tr th {\n",
       "        vertical-align: top;\n",
       "    }\n",
       "\n",
       "    .dataframe thead th {\n",
       "        text-align: right;\n",
       "    }\n",
       "</style>\n",
       "<table border=\"1\" class=\"dataframe\">\n",
       "  <thead>\n",
       "    <tr style=\"text-align: right;\">\n",
       "      <th></th>\n",
       "      <th>YM</th>\n",
       "      <th>M_10</th>\n",
       "      <th>M_20</th>\n",
       "      <th>M_30</th>\n",
       "      <th>M_40</th>\n",
       "      <th>M_50</th>\n",
       "      <th>M_60</th>\n",
       "      <th>M_70</th>\n",
       "      <th>M_80</th>\n",
       "      <th>F_10</th>\n",
       "      <th>F_20</th>\n",
       "      <th>F_30</th>\n",
       "      <th>F_40</th>\n",
       "      <th>F_50</th>\n",
       "      <th>F_60</th>\n",
       "      <th>F_70</th>\n",
       "      <th>F_80</th>\n",
       "    </tr>\n",
       "  </thead>\n",
       "  <tbody>\n",
       "    <tr>\n",
       "      <td>0</td>\n",
       "      <td>201101</td>\n",
       "      <td>20055</td>\n",
       "      <td>57511</td>\n",
       "      <td>63426</td>\n",
       "      <td>109815</td>\n",
       "      <td>123668</td>\n",
       "      <td>80658</td>\n",
       "      <td>26896</td>\n",
       "      <td>6368</td>\n",
       "      <td>18554</td>\n",
       "      <td>56586</td>\n",
       "      <td>90068</td>\n",
       "      <td>75919</td>\n",
       "      <td>75133</td>\n",
       "      <td>55318</td>\n",
       "      <td>19640</td>\n",
       "      <td>5410</td>\n",
       "    </tr>\n",
       "    <tr>\n",
       "      <td>1</td>\n",
       "      <td>201102</td>\n",
       "      <td>18444</td>\n",
       "      <td>33012</td>\n",
       "      <td>54383</td>\n",
       "      <td>103162</td>\n",
       "      <td>109919</td>\n",
       "      <td>73798</td>\n",
       "      <td>26203</td>\n",
       "      <td>5879</td>\n",
       "      <td>17529</td>\n",
       "      <td>34433</td>\n",
       "      <td>79658</td>\n",
       "      <td>66642</td>\n",
       "      <td>59621</td>\n",
       "      <td>52168</td>\n",
       "      <td>20212</td>\n",
       "      <td>5359</td>\n",
       "    </tr>\n",
       "    <tr>\n",
       "      <td>2</td>\n",
       "      <td>201103</td>\n",
       "      <td>8430</td>\n",
       "      <td>8115</td>\n",
       "      <td>41100</td>\n",
       "      <td>103781</td>\n",
       "      <td>96896</td>\n",
       "      <td>63894</td>\n",
       "      <td>27747</td>\n",
       "      <td>6196</td>\n",
       "      <td>8141</td>\n",
       "      <td>7785</td>\n",
       "      <td>53713</td>\n",
       "      <td>48062</td>\n",
       "      <td>39323</td>\n",
       "      <td>56353</td>\n",
       "      <td>26444</td>\n",
       "      <td>5534</td>\n",
       "    </tr>\n",
       "  </tbody>\n",
       "</table>\n",
       "</div>"
      ],
      "text/plain": [
       "       YM   M_10   M_20   M_30    M_40    M_50   M_60   M_70  M_80   F_10  \\\n",
       "0  201101  20055  57511  63426  109815  123668  80658  26896  6368  18554   \n",
       "1  201102  18444  33012  54383  103162  109919  73798  26203  5879  17529   \n",
       "2  201103   8430   8115  41100  103781   96896  63894  27747  6196   8141   \n",
       "\n",
       "    F_20   F_30   F_40   F_50   F_60   F_70  F_80  \n",
       "0  56586  90068  75919  75133  55318  19640  5410  \n",
       "1  34433  79658  66642  59621  52168  20212  5359  \n",
       "2   7785  53713  48062  39323  56353  26444  5534  "
      ]
     },
     "execution_count": 133,
     "metadata": {},
     "output_type": "execute_result"
    }
   ],
   "source": [
    "# 데이터 불러오기\n",
    "df = pd.read_csv('data.csv')\n",
    "df.head(3) # 년도/ 남자 10대~80대 및 여자 10대~80대 출국한 인구수"
   ]
  },
  {
   "cell_type": "code",
   "execution_count": 201,
   "metadata": {},
   "outputs": [
    {
     "data": {
      "text/html": [
       "<table class=\"simpletable\">\n",
       "<caption>OLS Regression Results</caption>\n",
       "<tr>\n",
       "  <th>Dep. Variable:</th>          <td>M_10</td>       <th>  R-squared:         </th> <td>   0.461</td>\n",
       "</tr>\n",
       "<tr>\n",
       "  <th>Model:</th>                   <td>OLS</td>       <th>  Adj. R-squared:    </th> <td>   0.456</td>\n",
       "</tr>\n",
       "<tr>\n",
       "  <th>Method:</th>             <td>Least Squares</td>  <th>  F-statistic:       </th> <td>   90.61</td>\n",
       "</tr>\n",
       "<tr>\n",
       "  <th>Date:</th>             <td>Sat, 11 Jun 2022</td> <th>  Prob (F-statistic):</th> <td>6.78e-16</td>\n",
       "</tr>\n",
       "<tr>\n",
       "  <th>Time:</th>                 <td>22:34:20</td>     <th>  Log-Likelihood:    </th> <td> -1155.7</td>\n",
       "</tr>\n",
       "<tr>\n",
       "  <th>No. Observations:</th>      <td>   108</td>      <th>  AIC:               </th> <td>   2315.</td>\n",
       "</tr>\n",
       "<tr>\n",
       "  <th>Df Residuals:</th>          <td>   106</td>      <th>  BIC:               </th> <td>   2321.</td>\n",
       "</tr>\n",
       "<tr>\n",
       "  <th>Df Model:</th>              <td>     1</td>      <th>                     </th>     <td> </td>   \n",
       "</tr>\n",
       "<tr>\n",
       "  <th>Covariance Type:</th>      <td>nonrobust</td>    <th>                     </th>     <td> </td>   \n",
       "</tr>\n",
       "</table>\n",
       "<table class=\"simpletable\">\n",
       "<tr>\n",
       "      <td></td>         <th>coef</th>     <th>std err</th>      <th>t</th>      <th>P>|t|</th>  <th>[0.025</th>    <th>0.975]</th>  \n",
       "</tr>\n",
       "<tr>\n",
       "  <th>Intercept</th> <td> 1.878e+04</td> <td> 1846.896</td> <td>   10.170</td> <td> 0.000</td> <td> 1.51e+04</td> <td> 2.24e+04</td>\n",
       "</tr>\n",
       "<tr>\n",
       "  <th>M_20</th>      <td>    0.3579</td> <td>    0.038</td> <td>    9.519</td> <td> 0.000</td> <td>    0.283</td> <td>    0.432</td>\n",
       "</tr>\n",
       "</table>\n",
       "<table class=\"simpletable\">\n",
       "<tr>\n",
       "  <th>Omnibus:</th>       <td>14.127</td> <th>  Durbin-Watson:     </th> <td>   0.421</td>\n",
       "</tr>\n",
       "<tr>\n",
       "  <th>Prob(Omnibus):</th> <td> 0.001</td> <th>  Jarque-Bera (JB):  </th> <td>   7.184</td>\n",
       "</tr>\n",
       "<tr>\n",
       "  <th>Skew:</th>          <td> 0.438</td> <th>  Prob(JB):          </th> <td>  0.0275</td>\n",
       "</tr>\n",
       "<tr>\n",
       "  <th>Kurtosis:</th>      <td> 2.089</td> <th>  Cond. No.          </th> <td>8.70e+04</td>\n",
       "</tr>\n",
       "</table><br/><br/>Warnings:<br/>[1] Standard Errors assume that the covariance matrix of the errors is correctly specified.<br/>[2] The condition number is large, 8.7e+04. This might indicate that there are<br/>strong multicollinearity or other numerical problems."
      ],
      "text/plain": [
       "<class 'statsmodels.iolib.summary.Summary'>\n",
       "\"\"\"\n",
       "                            OLS Regression Results                            \n",
       "==============================================================================\n",
       "Dep. Variable:                   M_10   R-squared:                       0.461\n",
       "Model:                            OLS   Adj. R-squared:                  0.456\n",
       "Method:                 Least Squares   F-statistic:                     90.61\n",
       "Date:                Sat, 11 Jun 2022   Prob (F-statistic):           6.78e-16\n",
       "Time:                        22:34:20   Log-Likelihood:                -1155.7\n",
       "No. Observations:                 108   AIC:                             2315.\n",
       "Df Residuals:                     106   BIC:                             2321.\n",
       "Df Model:                           1                                         \n",
       "Covariance Type:            nonrobust                                         \n",
       "==============================================================================\n",
       "                 coef    std err          t      P>|t|      [0.025      0.975]\n",
       "------------------------------------------------------------------------------\n",
       "Intercept   1.878e+04   1846.896     10.170      0.000    1.51e+04    2.24e+04\n",
       "M_20           0.3579      0.038      9.519      0.000       0.283       0.432\n",
       "==============================================================================\n",
       "Omnibus:                       14.127   Durbin-Watson:                   0.421\n",
       "Prob(Omnibus):                  0.001   Jarque-Bera (JB):                7.184\n",
       "Skew:                           0.438   Prob(JB):                       0.0275\n",
       "Kurtosis:                       2.089   Cond. No.                     8.70e+04\n",
       "==============================================================================\n",
       "\n",
       "Warnings:\n",
       "[1] Standard Errors assume that the covariance matrix of the errors is correctly specified.\n",
       "[2] The condition number is large, 8.7e+04. This might indicate that there are\n",
       "strong multicollinearity or other numerical problems.\n",
       "\"\"\""
      ]
     },
     "execution_count": 201,
     "metadata": {},
     "output_type": "execute_result"
    }
   ],
   "source": [
    "# 예시) 종속변수: 남자10대, 독립변수: 남자 20대\n",
    "res = ols('M_10 ~ M_20', data=df).fit()\n",
    "res.summary()"
   ]
  },
  {
   "cell_type": "code",
   "execution_count": 202,
   "metadata": {},
   "outputs": [
    {
     "name": "stdout",
     "output_type": "stream",
     "text": [
      "절편:  18782.607975257146\n",
      "기울기:  0.35787448606888916\n"
     ]
    }
   ],
   "source": [
    "# M_10 = 0.35787448606888916 * M_20 + 18782.607975257146, p=0(p<0.05)=> 통계적 유의미.\n",
    "# Adj. R-squared: 0.456\n",
    "# 독립변수가 여러 개인 다중회귀분석에서 사용\n",
    "# 독립변수의 개수와 표본의 크기를 고려하여 R-squared를 보정\n",
    "# 서로 다른 모형을 비교할 때는 이 지표가 높은 쪽은 선택한다\n",
    "print(\"절편: \", res.params.Intercept)   ## 절편\n",
    "print(\"기울기: \", res.params.M_20)      ## 기울기"
   ]
  },
  {
   "cell_type": "code",
   "execution_count": 136,
   "metadata": {},
   "outputs": [
    {
     "data": {
      "text/plain": [
       "14.335449980905514"
      ]
     },
     "execution_count": 136,
     "metadata": {},
     "output_type": "execute_result"
    }
   ],
   "source": [
    "# M_10 = 0.35787448606888916 * M_20 + 18782.60797525714\n",
    "# 평균 오차율 구하기\n",
    "# 평균 오차율=(예측값-실제값)/실제값*100\n",
    "rateM20 = ((0.35787448606888916 * df['M_20'] + 18782.607975257146- df.M_10)/df.M_10 * 100).mean()\n",
    "rateM20"
   ]
  },
  {
   "cell_type": "markdown",
   "metadata": {},
   "source": [
    "<pre> 조합으로 변형 출력 </pre>"
   ]
  },
  {
   "cell_type": "code",
   "execution_count": 139,
   "metadata": {},
   "outputs": [
    {
     "name": "stdout",
     "output_type": "stream",
     "text": [
      "[('1',), ('2',), ('3',), ('4',), ('5',)] [('1', '2'), ('1', '3'), ('1', '4'), ('1', '5'), ('2', '3'), ('2', '4'), ('2', '5'), ('3', '4'), ('3', '5'), ('4', '5')] [('1', '2', '3'), ('1', '2', '4'), ('1', '2', '5'), ('1', '3', '4'), ('1', '3', '5'), ('1', '4', '5'), ('2', '3', '4'), ('2', '3', '5'), ('2', '4', '5'), ('3', '4', '5')] [('1', '2', '3', '4'), ('1', '2', '3', '5'), ('1', '2', '4', '5'), ('1', '3', '4', '5'), ('2', '3', '4', '5')] [('1', '2', '3', '4', '5')]\n"
     ]
    }
   ],
   "source": [
    "# 자동으로 모든 조합을 구해보자\n",
    "# 예시\n",
    "items = ['1', '2', '3', '4', '5']\n",
    "from itertools import combinations\n",
    "l = []\n",
    "for i in range(1,6):\n",
    "    l.append(list(combinations(items, i)))\n",
    "print(*l)"
   ]
  },
  {
   "cell_type": "code",
   "execution_count": 140,
   "metadata": {},
   "outputs": [
    {
     "name": "stdout",
     "output_type": "stream",
     "text": [
      "1 2/ 1 3/ 1 4/ 1 5/ 2 3/ 2 4/ 2 5/ 3 4/ 3 5/ 4 5/ "
     ]
    }
   ],
   "source": [
    "# 원소 하나씩 꺼내기\n",
    "for i in list(combinations(items, 2)):\n",
    "    print(i[0], i[1], end=\"/ \")"
   ]
  },
  {
   "cell_type": "code",
   "execution_count": 141,
   "metadata": {},
   "outputs": [
    {
     "name": "stdout",
     "output_type": "stream",
     "text": [
      "1+2\n",
      "1+3\n",
      "1+4\n",
      "1+5\n",
      "2+3\n",
      "2+4\n",
      "2+5\n",
      "3+4\n",
      "3+5\n",
      "4+5\n"
     ]
    }
   ],
   "source": [
    "# 꺼낸 조합을 문자열로 변형시키기\n",
    "for li in list(combinations(items, 2)):\n",
    "    print(\"+\".join(li))"
   ]
  },
  {
   "cell_type": "code",
   "execution_count": 142,
   "metadata": {},
   "outputs": [
    {
     "name": "stdout",
     "output_type": "stream",
     "text": [
      "['1', '2', '3', '4', '5', '1+2', '1+3', '1+4', '1+5', '2+3', '2+4', '2+5', '3+4', '3+5', '4+5', '1+2+3', '1+2+4', '1+2+5', '1+3+4', '1+3+5', '1+4+5', '2+3+4', '2+3+5', '2+4+5', '3+4+5', '1+2+3+4', '1+2+3+5', '1+2+4+5', '1+3+4+5', '2+3+4+5', '1+2+3+4+5']\n"
     ]
    }
   ],
   "source": [
    "L = []\n",
    "for i in range(1,6):\n",
    "    for li in list(combinations(items, i)):\n",
    "        L.append((\"+\".join(li)))\n",
    "print(L)"
   ]
  },
  {
   "cell_type": "markdown",
   "metadata": {},
   "source": [
    "<pre> 적용 ?</pre>"
   ]
  },
  {
   "cell_type": "code",
   "execution_count": 153,
   "metadata": {},
   "outputs": [
    {
     "name": "stdout",
     "output_type": "stream",
     "text": [
      "['M_20', 'M_30', 'M_40', 'M_50', 'M_60', 'M_70', 'M_80', 'F_10', 'F_20', 'F_30', 'F_40', 'F_60', 'F_70', 'F_80']\n"
     ]
    }
   ],
   "source": [
    "# items란 list에 남자/여자10대~80대 집어넣기\n",
    "# items에서 년도와 종속변수 제거(M_10)\n",
    "items = []\n",
    "for col in df.columns:\n",
    "    items.append(col)\n",
    "items.remove('YM')\n",
    "items.remove('M_10')\n",
    "items.remove('F_50')\n",
    "print(items)"
   ]
  },
  {
   "cell_type": "code",
   "execution_count": 154,
   "metadata": {},
   "outputs": [],
   "source": [
    "# variable라는 list에 조합을 넣음\n",
    "variable_list = []\n",
    "col = []\n",
    "for i in range(1, len(items) + 1):\n",
    "    for li in list(combinations(items, i)):\n",
    "        variable_list.append((\"+\".join(li)))\n",
    "        col.append(li)"
   ]
  },
  {
   "cell_type": "code",
   "execution_count": 192,
   "metadata": {},
   "outputs": [
    {
     "data": {
      "text/plain": [
       "'M_10 ~ M_60+M_70'"
      ]
     },
     "execution_count": 192,
     "metadata": {},
     "output_type": "execute_result"
    }
   ],
   "source": [
    "# 들어가는 예시\n",
    "'M_10 ~ '+variable_list[60]"
   ]
  },
  {
   "cell_type": "code",
   "execution_count": 190,
   "metadata": {},
   "outputs": [
    {
     "data": {
      "text/plain": [
       "'M_60'"
      ]
     },
     "execution_count": 190,
     "metadata": {},
     "output_type": "execute_result"
    }
   ],
   "source": [
    "col[60][0]"
   ]
  },
  {
   "cell_type": "code",
   "execution_count": 157,
   "metadata": {},
   "outputs": [
    {
     "name": "stderr",
     "output_type": "stream",
     "text": [
      "100%|██████████| 16383/16383 [20:10<00:00, 13.54it/s]\n"
     ]
    }
   ],
   "source": [
    "from tqdm import tqdm\n",
    "rate_M = []\n",
    "rate_F = []\n",
    "elements = []\n",
    "for idx, variable in enumerate(tqdm(variable_list)):\n",
    "    exp_M10 = 0\n",
    "    exp_F50 = 0\n",
    "    res_M = ols('M_10 ~ '+variable, data=df).fit()\n",
    "    res_F = ols('F_50 ~ '+variable, data=df).fit()\n",
    "    # lenear 식 만들어주기 exp = a*x1+b*x2+c*x3+...+y절편\n",
    "    for i in range(len(col[idx])):\n",
    "        exp_M10 += res_M.params[col[idx][i]] * df[col[idx][i]]\n",
    "        exp_F50 += res_F.params[col[idx][i]] * df[col[idx][i]]\n",
    "    exp_M10 += res_M.params.Intercept\n",
    "    exp_F50 += res_F.params.Intercept\n",
    "    rate_M.append(((exp_M10-df.M_10)/df.M_10 * 100).mean())\n",
    "    rate_F.append(((exp_F50-df.F_50)/df.F_50 * 100).mean())\n",
    "    elements.append(variable)"
   ]
  },
  {
   "cell_type": "code",
   "execution_count": 158,
   "metadata": {},
   "outputs": [
    {
     "data": {
      "text/html": [
       "<div>\n",
       "<style scoped>\n",
       "    .dataframe tbody tr th:only-of-type {\n",
       "        vertical-align: middle;\n",
       "    }\n",
       "\n",
       "    .dataframe tbody tr th {\n",
       "        vertical-align: top;\n",
       "    }\n",
       "\n",
       "    .dataframe thead th {\n",
       "        text-align: right;\n",
       "    }\n",
       "</style>\n",
       "<table border=\"1\" class=\"dataframe\">\n",
       "  <thead>\n",
       "    <tr style=\"text-align: right;\">\n",
       "      <th></th>\n",
       "      <th>남자평균오차율</th>\n",
       "      <th>여자평균오차율</th>\n",
       "      <th>변수</th>\n",
       "    </tr>\n",
       "  </thead>\n",
       "  <tbody>\n",
       "    <tr>\n",
       "      <td>0</td>\n",
       "      <td>14.335450</td>\n",
       "      <td>8.065413</td>\n",
       "      <td>M_20</td>\n",
       "    </tr>\n",
       "    <tr>\n",
       "      <td>1</td>\n",
       "      <td>4.363050</td>\n",
       "      <td>3.171624</td>\n",
       "      <td>M_30</td>\n",
       "    </tr>\n",
       "    <tr>\n",
       "      <td>2</td>\n",
       "      <td>7.304076</td>\n",
       "      <td>5.783154</td>\n",
       "      <td>M_40</td>\n",
       "    </tr>\n",
       "    <tr>\n",
       "      <td>3</td>\n",
       "      <td>5.097331</td>\n",
       "      <td>0.992933</td>\n",
       "      <td>M_50</td>\n",
       "    </tr>\n",
       "    <tr>\n",
       "      <td>4</td>\n",
       "      <td>7.855922</td>\n",
       "      <td>1.619785</td>\n",
       "      <td>M_60</td>\n",
       "    </tr>\n",
       "  </tbody>\n",
       "</table>\n",
       "</div>"
      ],
      "text/plain": [
       "     남자평균오차율   여자평균오차율    변수\n",
       "0  14.335450  8.065413  M_20\n",
       "1   4.363050  3.171624  M_30\n",
       "2   7.304076  5.783154  M_40\n",
       "3   5.097331  0.992933  M_50\n",
       "4   7.855922  1.619785  M_60"
      ]
     },
     "execution_count": 158,
     "metadata": {},
     "output_type": "execute_result"
    }
   ],
   "source": [
    "# 데이터프레임화하기\n",
    "result = pd.DataFrame({'남자평균오차율': rate_M, '여자평균오차율':rate_F, '변수':elements})\n",
    "result.head()"
   ]
  },
  {
   "cell_type": "code",
   "execution_count": 159,
   "metadata": {},
   "outputs": [],
   "source": [
    "result.to_csv(\"data_rate.csv\")"
   ]
  },
  {
   "cell_type": "code",
   "execution_count": 160,
   "metadata": {},
   "outputs": [
    {
     "data": {
      "text/html": [
       "<div>\n",
       "<style scoped>\n",
       "    .dataframe tbody tr th:only-of-type {\n",
       "        vertical-align: middle;\n",
       "    }\n",
       "\n",
       "    .dataframe tbody tr th {\n",
       "        vertical-align: top;\n",
       "    }\n",
       "\n",
       "    .dataframe thead th {\n",
       "        text-align: right;\n",
       "    }\n",
       "</style>\n",
       "<table border=\"1\" class=\"dataframe\">\n",
       "  <thead>\n",
       "    <tr style=\"text-align: right;\">\n",
       "      <th></th>\n",
       "      <th>남자평균오차율</th>\n",
       "      <th>여자평균오차율</th>\n",
       "      <th>변수</th>\n",
       "    </tr>\n",
       "  </thead>\n",
       "  <tbody>\n",
       "    <tr>\n",
       "      <td>9398</td>\n",
       "      <td>-0.474286</td>\n",
       "      <td>-0.222099</td>\n",
       "      <td>M_40+M_60+M_70+M_80+F_40+F_60+F_70</td>\n",
       "    </tr>\n",
       "    <tr>\n",
       "      <td>5813</td>\n",
       "      <td>-0.456565</td>\n",
       "      <td>-0.212359</td>\n",
       "      <td>M_40+M_60+M_70+F_40+F_60+F_70</td>\n",
       "    </tr>\n",
       "    <tr>\n",
       "      <td>5814</td>\n",
       "      <td>-0.398900</td>\n",
       "      <td>-0.218746</td>\n",
       "      <td>M_40+M_60+M_70+F_40+F_60+F_80</td>\n",
       "    </tr>\n",
       "  </tbody>\n",
       "</table>\n",
       "</div>"
      ],
      "text/plain": [
       "       남자평균오차율   여자평균오차율                                  변수\n",
       "9398 -0.474286 -0.222099  M_40+M_60+M_70+M_80+F_40+F_60+F_70\n",
       "5813 -0.456565 -0.212359       M_40+M_60+M_70+F_40+F_60+F_70\n",
       "5814 -0.398900 -0.218746       M_40+M_60+M_70+F_40+F_60+F_80"
      ]
     },
     "execution_count": 160,
     "metadata": {},
     "output_type": "execute_result"
    }
   ],
   "source": [
    "# 문제점 발견: 평균오차율이 음수가 나온경우\n",
    "result.sort_values(by=['남자평균오차율'], axis=0).head(3)"
   ]
  },
  {
   "cell_type": "code",
   "execution_count": 161,
   "metadata": {},
   "outputs": [],
   "source": [
    "# 남자/여자평균오차율 절대값으로 넣기\n",
    "result_abs = result\n",
    "result_abs['남자평균오차율'] = result_abs['남자평균오차율'].abs()\n",
    "result_abs['여자평균오차율'] = result_abs['여자평균오차율'].abs()"
   ]
  },
  {
   "cell_type": "code",
   "execution_count": 162,
   "metadata": {},
   "outputs": [
    {
     "data": {
      "text/html": [
       "<div>\n",
       "<style scoped>\n",
       "    .dataframe tbody tr th:only-of-type {\n",
       "        vertical-align: middle;\n",
       "    }\n",
       "\n",
       "    .dataframe tbody tr th {\n",
       "        vertical-align: top;\n",
       "    }\n",
       "\n",
       "    .dataframe thead th {\n",
       "        text-align: right;\n",
       "    }\n",
       "</style>\n",
       "<table border=\"1\" class=\"dataframe\">\n",
       "  <thead>\n",
       "    <tr style=\"text-align: right;\">\n",
       "      <th></th>\n",
       "      <th>남자평균오차율</th>\n",
       "      <th>여자평균오차율</th>\n",
       "      <th>변수</th>\n",
       "    </tr>\n",
       "  </thead>\n",
       "  <tbody>\n",
       "    <tr>\n",
       "      <td>6389</td>\n",
       "      <td>0.000011</td>\n",
       "      <td>0.081636</td>\n",
       "      <td>M_60+F_20+F_40+F_60+F_70+F_80</td>\n",
       "    </tr>\n",
       "  </tbody>\n",
       "</table>\n",
       "</div>"
      ],
      "text/plain": [
       "       남자평균오차율   여자평균오차율                             변수\n",
       "6389  0.000011  0.081636  M_60+F_20+F_40+F_60+F_70+F_80"
      ]
     },
     "execution_count": 162,
     "metadata": {},
     "output_type": "execute_result"
    }
   ],
   "source": [
    "result_abs.sort_values(by=['남자평균오차율'], axis=0).head(1)"
   ]
  },
  {
   "cell_type": "code",
   "execution_count": 163,
   "metadata": {},
   "outputs": [
    {
     "data": {
      "text/html": [
       "<div>\n",
       "<style scoped>\n",
       "    .dataframe tbody tr th:only-of-type {\n",
       "        vertical-align: middle;\n",
       "    }\n",
       "\n",
       "    .dataframe tbody tr th {\n",
       "        vertical-align: top;\n",
       "    }\n",
       "\n",
       "    .dataframe thead th {\n",
       "        text-align: right;\n",
       "    }\n",
       "</style>\n",
       "<table border=\"1\" class=\"dataframe\">\n",
       "  <thead>\n",
       "    <tr style=\"text-align: right;\">\n",
       "      <th></th>\n",
       "      <th>남자평균오차율</th>\n",
       "      <th>여자평균오차율</th>\n",
       "      <th>변수</th>\n",
       "    </tr>\n",
       "  </thead>\n",
       "  <tbody>\n",
       "    <tr>\n",
       "      <td>6044</td>\n",
       "      <td>0.059967</td>\n",
       "      <td>0.000007</td>\n",
       "      <td>M_50+M_60+M_70+F_10+F_40+F_70</td>\n",
       "    </tr>\n",
       "  </tbody>\n",
       "</table>\n",
       "</div>"
      ],
      "text/plain": [
       "       남자평균오차율   여자평균오차율                             변수\n",
       "6044  0.059967  0.000007  M_50+M_60+M_70+F_10+F_40+F_70"
      ]
     },
     "execution_count": 163,
     "metadata": {},
     "output_type": "execute_result"
    }
   ],
   "source": [
    "result_abs.sort_values(by=['여자평균오차율'], axis=0).head(1)"
   ]
  },
  {
   "cell_type": "code",
   "execution_count": 165,
   "metadata": {},
   "outputs": [
    {
     "name": "stdout",
     "output_type": "stream",
     "text": [
      "-6622.76579437303 -0.041794465391758184 0.1695262838788073 0.36838200302226853 -0.12880466399708246 0.027442108486847472 0.5812602087649341\n"
     ]
    }
   ],
   "source": [
    "# 절대값 남자평균오차율이 가장 작은 경우는\n",
    "# 독립변수: M_60+F_20+F_40+F_60+F_70+F_80 가 들어갔을 경우이다.\n",
    "res = ols('M_10 ~ M_60+F_20+F_40+F_60+F_70+F_80', data=df).fit()\n",
    "print(res.params.Intercept, res.params.M_60,\n",
    "      res.params.F_20, res.params.F_40, res.params.F_60,\n",
    "      res.params.F_70, res.params.F_80)"
   ]
  },
  {
   "cell_type": "markdown",
   "metadata": {},
   "source": [
    "<pre> M_10 = -0.041794465391758184*M_60 + 0.1695262838788073*F_20\n",
    "+ 0.36838200302226853*F_40 - 0.12880466399708246*F_60 + \n",
    "0.027442108486847472*F_70 + 0.5812602087649341*F_80 - \n",
    "6622.76579437303 </pre>"
   ]
  },
  {
   "cell_type": "code",
   "execution_count": 166,
   "metadata": {},
   "outputs": [
    {
     "name": "stdout",
     "output_type": "stream",
     "text": [
      "-24365.504586027906 -0.09433764936744815 1.5215552726349033 -1.2525422552285213 1.8835609546403846 -0.4253303657544696 0.3953147871555931\n"
     ]
    }
   ],
   "source": [
    "# 절대값 여자평균오차율이 가장 작은 경우는\n",
    "# 독립변수: M_50+M_60+M_70+F_10+F_40+F_70 가 들어갔을 경우이다.\n",
    "res = ols('F_50 ~ M_50+M_60+M_70+F_10+F_40+F_70', data=df).fit()\n",
    "print(res.params.Intercept, res.params.M_50,\n",
    "      res.params.M_60, res.params.M_70, res.params.F_10,\n",
    "      res.params.F_40, res.params.F_70)"
   ]
  },
  {
   "cell_type": "markdown",
   "metadata": {},
   "source": [
    "<pre> F_50 = -0.09433764936744815*M_50 + 1.5215552726349033*M_60\n",
    "- 1.2525422552285213*M_70 + 1.8835609546403846*F_10 - \n",
    "0.4253303657544696*F_40 + 0.3953147871555931*F_70 - \n",
    "24365.504586027906 </pre>"
   ]
  },
  {
   "cell_type": "code",
   "execution_count": 167,
   "metadata": {},
   "outputs": [],
   "source": [
    "import matplotlib as mpl\n",
    "import matplotlib.pyplot as plt\n",
    "mpl.rcParams['axes.unicode_minus'] = False\n",
    "mpl.rcParams['font.family'] = 'Malgun Gothic'\n",
    "\n",
    "plt.rcParams.update({'text.color': \"white\",\n",
    "                    'axes.labelcolor': \"white\",\n",
    "                     'xtick.color': \"white\",\n",
    "                     'ytick.color': \"white\"\n",
    "                     })"
   ]
  },
  {
   "cell_type": "code",
   "execution_count": 186,
   "metadata": {},
   "outputs": [
    {
     "data": {
      "text/html": [
       "<div>\n",
       "<style scoped>\n",
       "    .dataframe tbody tr th:only-of-type {\n",
       "        vertical-align: middle;\n",
       "    }\n",
       "\n",
       "    .dataframe tbody tr th {\n",
       "        vertical-align: top;\n",
       "    }\n",
       "\n",
       "    .dataframe thead th {\n",
       "        text-align: right;\n",
       "    }\n",
       "</style>\n",
       "<table border=\"1\" class=\"dataframe\">\n",
       "  <thead>\n",
       "    <tr style=\"text-align: right;\">\n",
       "      <th></th>\n",
       "      <th>YM</th>\n",
       "      <th>M_10</th>\n",
       "      <th>M_20</th>\n",
       "      <th>M_30</th>\n",
       "      <th>M_40</th>\n",
       "      <th>M_50</th>\n",
       "      <th>M_60</th>\n",
       "      <th>M_70</th>\n",
       "      <th>M_80</th>\n",
       "      <th>F_10</th>\n",
       "      <th>F_20</th>\n",
       "      <th>F_30</th>\n",
       "      <th>F_40</th>\n",
       "      <th>F_50</th>\n",
       "      <th>F_60</th>\n",
       "      <th>F_70</th>\n",
       "      <th>F_80</th>\n",
       "    </tr>\n",
       "  </thead>\n",
       "  <tbody>\n",
       "    <tr>\n",
       "      <td>0</td>\n",
       "      <td>2011-01-01</td>\n",
       "      <td>20055</td>\n",
       "      <td>57511</td>\n",
       "      <td>63426</td>\n",
       "      <td>109815</td>\n",
       "      <td>123668</td>\n",
       "      <td>80658</td>\n",
       "      <td>26896</td>\n",
       "      <td>6368</td>\n",
       "      <td>18554</td>\n",
       "      <td>56586</td>\n",
       "      <td>90068</td>\n",
       "      <td>75919</td>\n",
       "      <td>75133</td>\n",
       "      <td>55318</td>\n",
       "      <td>19640</td>\n",
       "      <td>5410</td>\n",
       "    </tr>\n",
       "    <tr>\n",
       "      <td>1</td>\n",
       "      <td>2011-02-01</td>\n",
       "      <td>18444</td>\n",
       "      <td>33012</td>\n",
       "      <td>54383</td>\n",
       "      <td>103162</td>\n",
       "      <td>109919</td>\n",
       "      <td>73798</td>\n",
       "      <td>26203</td>\n",
       "      <td>5879</td>\n",
       "      <td>17529</td>\n",
       "      <td>34433</td>\n",
       "      <td>79658</td>\n",
       "      <td>66642</td>\n",
       "      <td>59621</td>\n",
       "      <td>52168</td>\n",
       "      <td>20212</td>\n",
       "      <td>5359</td>\n",
       "    </tr>\n",
       "    <tr>\n",
       "      <td>2</td>\n",
       "      <td>2011-03-01</td>\n",
       "      <td>8430</td>\n",
       "      <td>8115</td>\n",
       "      <td>41100</td>\n",
       "      <td>103781</td>\n",
       "      <td>96896</td>\n",
       "      <td>63894</td>\n",
       "      <td>27747</td>\n",
       "      <td>6196</td>\n",
       "      <td>8141</td>\n",
       "      <td>7785</td>\n",
       "      <td>53713</td>\n",
       "      <td>48062</td>\n",
       "      <td>39323</td>\n",
       "      <td>56353</td>\n",
       "      <td>26444</td>\n",
       "      <td>5534</td>\n",
       "    </tr>\n",
       "  </tbody>\n",
       "</table>\n",
       "</div>"
      ],
      "text/plain": [
       "          YM   M_10   M_20   M_30    M_40    M_50   M_60   M_70  M_80   F_10  \\\n",
       "0 2011-01-01  20055  57511  63426  109815  123668  80658  26896  6368  18554   \n",
       "1 2011-02-01  18444  33012  54383  103162  109919  73798  26203  5879  17529   \n",
       "2 2011-03-01   8430   8115  41100  103781   96896  63894  27747  6196   8141   \n",
       "\n",
       "    F_20   F_30   F_40   F_50   F_60   F_70  F_80  \n",
       "0  56586  90068  75919  75133  55318  19640  5410  \n",
       "1  34433  79658  66642  59621  52168  20212  5359  \n",
       "2   7785  53713  48062  39323  56353  26444  5534  "
      ]
     },
     "execution_count": 186,
     "metadata": {},
     "output_type": "execute_result"
    }
   ],
   "source": [
    "# 숫자형 날짜 다시 넣어주기\n",
    "df['YM'] = df['YM'].astype(str)\n",
    "df['YM'] = pd.to_datetime(df['YM'], format='%Y%m')\n",
    "df.head(3)"
   ]
  },
  {
   "cell_type": "code",
   "execution_count": 187,
   "metadata": {},
   "outputs": [
    {
     "name": "stderr",
     "output_type": "stream",
     "text": [
      "c:\\Users\\lunaw\\Anaconda3\\lib\\site-packages\\pandas\\plotting\\_matplotlib\\converter.py:103: FutureWarning: Using an implicitly registered datetime converter for a matplotlib plotting method. The converter was registered by pandas on import. Future versions of pandas will require you to explicitly register matplotlib converters.\n",
      "\n",
      "To register the converters:\n",
      "\t>>> from pandas.plotting import register_matplotlib_converters\n",
      "\t>>> register_matplotlib_converters()\n",
      "  warnings.warn(msg, FutureWarning)\n"
     ]
    },
    {
     "data": {
      "image/png": "[encoded data removed]",
      "text/plain": [
       "<Figure size 432x288 with 1 Axes>"
      ]
     },
     "metadata": {
      "needs_background": "dark"
     },
     "output_type": "display_data"
    }
   ],
   "source": [
    "plt.scatter(df.YM, df.M_10, marker='o')\n",
    "M_10 = -0.041794465391758184*df.M_60 + 0.1695262838788073*df.F_20 + 0.36838200302226853*df.F_40 - 0.12880466399708246*df.F_60 + 0.027442108486847472*df.F_70 + 0.5812602087649341*df.F_80 - 6622.76579437303\n",
    "plt.plot(df.YM, M_10, 'g-')\n",
    "plt.title('10대 남자')\n",
    "plt.show()"
   ]
  },
  {
   "cell_type": "code",
   "execution_count": 188,
   "metadata": {},
   "outputs": [
    {
     "data": {
      "image/png": "[encoded data removed]",
      "text/plain": [
       "<Figure size 432x288 with 1 Axes>"
      ]
     },
     "metadata": {
      "needs_background": "dark"
     },
     "output_type": "display_data"
    }
   ],
   "source": [
    "plt.scatter(df.YM, df.F_50, marker='o')\n",
    "F_50 = -0.09433764936744815*df.M_50 + 1.5215552726349033*df.M_60 - 1.2525422552285213*df.M_70 + 1.8835609546403846*df.F_10 - 0.4253303657544696*df.F_40 + 0.3953147871555931*df.F_70 - 24365.504586027906\n",
    "plt.plot(df.YM, F_50, 'r-')\n",
    "plt.title('50대 여자')\n",
    "plt.show()"
   ]
  }
 ],
 "metadata": {
  "interpreter": {
   "hash": "2276d34d8406ba1cfef020614354d7c02b36ca5a2ec700c2667e91593e0bec3f"
  },
  "kernelspec": {
   "display_name": "Python 3.7.1 ('base')",
   "language": "python",
   "name": "python3"
  },
  "language_info": {
   "codemirror_mode": {
    "name": "ipython",
    "version": 3
   },
   "file_extension": ".py",
   "mimetype": "text/x-python",
   "name": "python",
   "nbconvert_exporter": "python",
   "pygments_lexer": "ipython3",
   "version": "3.7.1"
  },
  "orig_nbformat": 4
 },
 "nbformat": 4,
 "nbformat_minor": 2
}
